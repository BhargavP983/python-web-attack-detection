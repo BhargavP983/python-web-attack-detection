{
 "cells": [
  {
   "cell_type": "markdown",
   "metadata": {
    "id": "tGLYJuXmFBZI"
   },
   "source": [
    "# Classifier comparison"
   ]
  },
  {
   "cell_type": "markdown",
   "metadata": {
    "id": "sNPL1uYLFF1U"
   },
   "source": [
    "A comparison of a several classifiers on CICIDS2017 webattacks dataset.\n",
    "\n",
    "Sources:\n",
    "\n",
    "* CICIDS2017: https://www.unb.ca/cic/datasets/ids-2017.html\n",
    "* Scikit-learn demo: https://scikit-learn.org/stable/auto_examples/classification/plot_classifier_comparison.html\n",
    "* Overview of classification metrics: http://www.machinelearning.ru/wiki/images/d/de/Voron-ML-Quality-slides.pdf"
   ]
  },
  {
   "cell_type": "markdown",
   "metadata": {
    "id": "SCEkDfpOFPQX"
   },
   "source": [
    "## Reading and preparing data\n",
    "\n",
    "Read undersampled (balanced) and preprocessed data."
   ]
  },
  {
   "cell_type": "code",
   "execution_count": 1,
   "metadata": {
    "id": "hJVAToeYFV2Q"
   },
   "outputs": [],
   "source": [
    "import pandas as pd\n",
    "import numpy as np"
   ]
  },
  {
   "cell_type": "code",
   "execution_count": 2,
   "metadata": {},
   "outputs": [
    {
     "name": "stderr",
     "output_type": "stream",
     "text": [
      "'wget' is not recognized as an internal or external command,\n",
      "operable program or batch file.\n",
      "'unzip' is not recognized as an internal or external command,\n",
      "operable program or batch file.\n"
     ]
    }
   ],
   "source": [
    "!wget https://github.com/fisher85/ml-cybersecurity/blob/master/python-web-attack-detection/datasets/web_attacks_balanced.zip?raw=true -O web_attacks_balanced.zip\n",
    "!unzip -u web_attacks_balanced.zip\n",
    "df = pd.read_csv('web_attacks_balanced.csv')"
   ]
  },
  {
   "cell_type": "markdown",
   "metadata": {
    "id": "mY251UVouePR"
   },
   "source": [
    "The \"Label\" column is encoded as follows: \"BENIGN\" = 0, attack = 1."
   ]
  },
  {
   "cell_type": "code",
   "execution_count": 3,
   "metadata": {
    "colab": {
     "base_uri": "https://localhost:8080/",
     "height": 34
    },
    "id": "a-FDOBmOufo6",
    "outputId": "8ba70aa2-818b-48d5-a74b-9a5ddf0b76f7"
   },
   "outputs": [],
   "source": [
    "df['Label'] = df['Label'].apply(lambda x: 0 if x == 'BENIGN' else 1)\n",
    "y = df['Label'].values"
   ]
  },
  {
   "cell_type": "markdown",
   "metadata": {
    "id": "3P69z9kfupES"
   },
   "source": [
    "Select the features."
   ]
  },
  {
   "cell_type": "code",
   "execution_count": 4,
   "metadata": {},
   "outputs": [],
   "source": [
    "webattack_features = ['Average Packet Size', 'Flow Bytes/s', 'Max Packet Length', 'Packet Length Mean', \n",
    "                      'Fwd Packet Length Mean', 'Subflow Fwd Bytes', 'Fwd IAT Min', 'Avg Fwd Segment Size',\n",
    "                      'Total Length of Fwd Packets', 'Fwd IAT Std', 'Fwd Packet Length Max', 'Flow IAT Mean',\n",
    "                      'Fwd Header Length', 'Flow Duration', 'Flow Packets/s', 'Fwd IAT Mean',\n",
    "                      'Fwd IAT Total', 'Fwd Packets/s', 'Flow IAT Std', 'Fwd IAT Max']"
   ]
  },
  {
   "cell_type": "code",
   "execution_count": 5,
   "metadata": {
    "colab": {
     "base_uri": "https://localhost:8080/",
     "height": 34
    },
    "id": "vrwIysyAhKxI",
    "outputId": "6be7974a-d713-4c89-b147-8b8cebb7fba7"
   },
   "outputs": [
    {
     "name": "stdout",
     "output_type": "stream",
     "text": [
      "(7267, 20) (7267,)\n"
     ]
    }
   ],
   "source": [
    "X = df[webattack_features]\n",
    "print(X.shape, y.shape)"
   ]
  },
  {
   "cell_type": "code",
   "execution_count": 6,
   "metadata": {},
   "outputs": [
    {
     "data": {
      "text/plain": [
       "{0: 3545, 1: 1541}"
      ]
     },
     "execution_count": 6,
     "metadata": {},
     "output_type": "execute_result"
    }
   ],
   "source": [
    "from sklearn.model_selection import train_test_split\n",
    "X_train, X_test, y_train, y_test = train_test_split(X, y, test_size=0.3, random_state=42)\n",
    "\n",
    "unique, counts = np.unique(y_train, return_counts=True)\n",
    "dict(zip(unique, counts))"
   ]
  },
  {
   "cell_type": "code",
   "execution_count": 7,
   "metadata": {},
   "outputs": [
    {
     "data": {
      "text/html": [
       "<div>\n",
       "<style scoped>\n",
       "    .dataframe tbody tr th:only-of-type {\n",
       "        vertical-align: middle;\n",
       "    }\n",
       "\n",
       "    .dataframe tbody tr th {\n",
       "        vertical-align: top;\n",
       "    }\n",
       "\n",
       "    .dataframe thead th {\n",
       "        text-align: right;\n",
       "    }\n",
       "</style>\n",
       "<table border=\"1\" class=\"dataframe\">\n",
       "  <thead>\n",
       "    <tr style=\"text-align: right;\">\n",
       "      <th></th>\n",
       "      <th>Average Packet Size</th>\n",
       "      <th>Flow Bytes/s</th>\n",
       "      <th>Max Packet Length</th>\n",
       "      <th>Packet Length Mean</th>\n",
       "      <th>Fwd Packet Length Mean</th>\n",
       "      <th>Subflow Fwd Bytes</th>\n",
       "      <th>Fwd IAT Min</th>\n",
       "      <th>Avg Fwd Segment Size</th>\n",
       "      <th>Total Length of Fwd Packets</th>\n",
       "      <th>Fwd IAT Std</th>\n",
       "      <th>Fwd Packet Length Max</th>\n",
       "      <th>Flow IAT Mean</th>\n",
       "      <th>Fwd Header Length</th>\n",
       "      <th>Flow Duration</th>\n",
       "      <th>Flow Packets/s</th>\n",
       "      <th>Fwd IAT Mean</th>\n",
       "      <th>Fwd IAT Total</th>\n",
       "      <th>Fwd Packets/s</th>\n",
       "      <th>Flow IAT Std</th>\n",
       "      <th>Fwd IAT Max</th>\n",
       "    </tr>\n",
       "  </thead>\n",
       "  <tbody>\n",
       "    <tr>\n",
       "      <th>0</th>\n",
       "      <td>58.500000</td>\n",
       "      <td>7.835455e+03</td>\n",
       "      <td>66.0</td>\n",
       "      <td>46.800000</td>\n",
       "      <td>34.0</td>\n",
       "      <td>68.0</td>\n",
       "      <td>4.0</td>\n",
       "      <td>34.0</td>\n",
       "      <td>68.0</td>\n",
       "      <td>0.000000</td>\n",
       "      <td>34.0</td>\n",
       "      <td>8508.333333</td>\n",
       "      <td>64.0</td>\n",
       "      <td>25525.0</td>\n",
       "      <td>156.709109</td>\n",
       "      <td>4.0</td>\n",
       "      <td>4.0</td>\n",
       "      <td>78.354554</td>\n",
       "      <td>14730.803450</td>\n",
       "      <td>4.0</td>\n",
       "    </tr>\n",
       "    <tr>\n",
       "      <th>1</th>\n",
       "      <td>80.000000</td>\n",
       "      <td>1.346341e+06</td>\n",
       "      <td>94.0</td>\n",
       "      <td>64.000000</td>\n",
       "      <td>44.0</td>\n",
       "      <td>88.0</td>\n",
       "      <td>49.0</td>\n",
       "      <td>44.0</td>\n",
       "      <td>88.0</td>\n",
       "      <td>0.000000</td>\n",
       "      <td>44.0</td>\n",
       "      <td>68.333333</td>\n",
       "      <td>64.0</td>\n",
       "      <td>205.0</td>\n",
       "      <td>19512.195120</td>\n",
       "      <td>49.0</td>\n",
       "      <td>49.0</td>\n",
       "      <td>9756.097561</td>\n",
       "      <td>34.355980</td>\n",
       "      <td>49.0</td>\n",
       "    </tr>\n",
       "    <tr>\n",
       "      <th>2</th>\n",
       "      <td>63.500000</td>\n",
       "      <td>1.370370e+06</td>\n",
       "      <td>79.0</td>\n",
       "      <td>50.800000</td>\n",
       "      <td>32.0</td>\n",
       "      <td>64.0</td>\n",
       "      <td>1.0</td>\n",
       "      <td>32.0</td>\n",
       "      <td>64.0</td>\n",
       "      <td>0.000000</td>\n",
       "      <td>32.0</td>\n",
       "      <td>54.000000</td>\n",
       "      <td>64.0</td>\n",
       "      <td>162.0</td>\n",
       "      <td>24691.358020</td>\n",
       "      <td>1.0</td>\n",
       "      <td>1.0</td>\n",
       "      <td>12345.679010</td>\n",
       "      <td>91.798693</td>\n",
       "      <td>1.0</td>\n",
       "    </tr>\n",
       "    <tr>\n",
       "      <th>3</th>\n",
       "      <td>35.071429</td>\n",
       "      <td>1.239899e+06</td>\n",
       "      <td>163.0</td>\n",
       "      <td>32.733333</td>\n",
       "      <td>16.5</td>\n",
       "      <td>165.0</td>\n",
       "      <td>1.0</td>\n",
       "      <td>16.5</td>\n",
       "      <td>165.0</td>\n",
       "      <td>49.183331</td>\n",
       "      <td>79.0</td>\n",
       "      <td>30.461538</td>\n",
       "      <td>336.0</td>\n",
       "      <td>396.0</td>\n",
       "      <td>35353.535350</td>\n",
       "      <td>44.0</td>\n",
       "      <td>396.0</td>\n",
       "      <td>25252.525250</td>\n",
       "      <td>27.986948</td>\n",
       "      <td>132.0</td>\n",
       "    </tr>\n",
       "    <tr>\n",
       "      <th>4</th>\n",
       "      <td>102.500000</td>\n",
       "      <td>6.601925e+03</td>\n",
       "      <td>105.0</td>\n",
       "      <td>68.333333</td>\n",
       "      <td>50.0</td>\n",
       "      <td>50.0</td>\n",
       "      <td>0.0</td>\n",
       "      <td>50.0</td>\n",
       "      <td>50.0</td>\n",
       "      <td>0.000000</td>\n",
       "      <td>50.0</td>\n",
       "      <td>23478.000000</td>\n",
       "      <td>32.0</td>\n",
       "      <td>23478.0</td>\n",
       "      <td>85.186132</td>\n",
       "      <td>0.0</td>\n",
       "      <td>0.0</td>\n",
       "      <td>42.593066</td>\n",
       "      <td>0.000000</td>\n",
       "      <td>0.0</td>\n",
       "    </tr>\n",
       "  </tbody>\n",
       "</table>\n",
       "</div>"
      ],
      "text/plain": [
       "   Average Packet Size  Flow Bytes/s  Max Packet Length  Packet Length Mean  \\\n",
       "0            58.500000  7.835455e+03               66.0           46.800000   \n",
       "1            80.000000  1.346341e+06               94.0           64.000000   \n",
       "2            63.500000  1.370370e+06               79.0           50.800000   \n",
       "3            35.071429  1.239899e+06              163.0           32.733333   \n",
       "4           102.500000  6.601925e+03              105.0           68.333333   \n",
       "\n",
       "   Fwd Packet Length Mean  Subflow Fwd Bytes  Fwd IAT Min  \\\n",
       "0                    34.0               68.0          4.0   \n",
       "1                    44.0               88.0         49.0   \n",
       "2                    32.0               64.0          1.0   \n",
       "3                    16.5              165.0          1.0   \n",
       "4                    50.0               50.0          0.0   \n",
       "\n",
       "   Avg Fwd Segment Size  Total Length of Fwd Packets  Fwd IAT Std  \\\n",
       "0                  34.0                         68.0     0.000000   \n",
       "1                  44.0                         88.0     0.000000   \n",
       "2                  32.0                         64.0     0.000000   \n",
       "3                  16.5                        165.0    49.183331   \n",
       "4                  50.0                         50.0     0.000000   \n",
       "\n",
       "   Fwd Packet Length Max  Flow IAT Mean  Fwd Header Length  Flow Duration  \\\n",
       "0                   34.0    8508.333333               64.0        25525.0   \n",
       "1                   44.0      68.333333               64.0          205.0   \n",
       "2                   32.0      54.000000               64.0          162.0   \n",
       "3                   79.0      30.461538              336.0          396.0   \n",
       "4                   50.0   23478.000000               32.0        23478.0   \n",
       "\n",
       "   Flow Packets/s  Fwd IAT Mean  Fwd IAT Total  Fwd Packets/s  Flow IAT Std  \\\n",
       "0      156.709109           4.0            4.0      78.354554  14730.803450   \n",
       "1    19512.195120          49.0           49.0    9756.097561     34.355980   \n",
       "2    24691.358020           1.0            1.0   12345.679010     91.798693   \n",
       "3    35353.535350          44.0          396.0   25252.525250     27.986948   \n",
       "4       85.186132           0.0            0.0      42.593066      0.000000   \n",
       "\n",
       "   Fwd IAT Max  \n",
       "0          4.0  \n",
       "1         49.0  \n",
       "2          1.0  \n",
       "3        132.0  \n",
       "4          0.0  "
      ]
     },
     "execution_count": 7,
     "metadata": {},
     "output_type": "execute_result"
    }
   ],
   "source": [
    "X.head()"
   ]
  },
  {
   "cell_type": "markdown",
   "metadata": {
    "id": "Iiskwr3VmoL5"
   },
   "source": [
    "## Classifier comparison"
   ]
  },
  {
   "cell_type": "markdown",
   "metadata": {},
   "source": [
    "The operation may take a long time, 3-5 minutes depending on the computer performance."
   ]
  },
  {
   "cell_type": "code",
   "execution_count": 8,
   "metadata": {},
   "outputs": [
    {
     "name": "stdout",
     "output_type": "stream",
     "text": [
      "Model\tAcc\tPr\tRecall\tF1\tExecution\n",
      "KNN\t0.968\t0.939\t0.957\t0.967\t5.20 secs\n",
      "SVM\t0.700\t0.629\t0.030\t0.594\t92.75 secs\n",
      "CART\t0.974\t0.988\t0.924\t0.972\t1.17 secs\n",
      "RF\t0.975\t0.987\t0.933\t0.969\t1.22 secs\n",
      "ABoost\t0.978\t0.971\t0.956\t0.974\t18.05 secs\n",
      "LR\t0.954\t0.950\t0.896\t0.948\t6.04 secs\n",
      "NB\t0.729\t0.529\t0.958\t0.730\t0.28 secs\n",
      "LDA\t0.941\t0.919\t0.882\t0.937\t0.78 secs\n",
      "QDA\t0.858\t0.772\t0.548\t0.948\t0.98 secs\n",
      "MLP\t0.907\t0.914\t0.950\t0.953\t25.49 secs\n"
     ]
    }
   ],
   "source": [
    "import time\n",
    "import warnings\n",
    "warnings.filterwarnings(\"ignore\")\n",
    "\n",
    "from sklearn import model_selection\n",
    "from sklearn.model_selection import cross_val_score\n",
    "from sklearn.neighbors import KNeighborsClassifier\n",
    "from sklearn.svm import SVC\n",
    "from sklearn.tree import DecisionTreeClassifier\n",
    "from sklearn.ensemble import RandomForestClassifier\n",
    "from sklearn.ensemble import AdaBoostClassifier\n",
    "from sklearn.linear_model import LogisticRegression\n",
    "from sklearn.naive_bayes import GaussianNB\n",
    "from sklearn.discriminant_analysis import LinearDiscriminantAnalysis\n",
    "from sklearn.discriminant_analysis import QuadraticDiscriminantAnalysis\n",
    "from sklearn.neural_network import MLPClassifier\n",
    "\n",
    "models = []\n",
    "models.append(('KNN', KNeighborsClassifier()))\n",
    "models.append(('SVM', SVC(gamma='auto')))\n",
    "models.append(('CART', DecisionTreeClassifier(max_depth=5)))\n",
    "models.append(('RF', RandomForestClassifier(max_depth=5, n_estimators=5, max_features=3)))    \n",
    "models.append(('ABoost', AdaBoostClassifier()))\n",
    "models.append(('LR', LogisticRegression(solver='lbfgs', max_iter=200)))\n",
    "models.append(('NB', GaussianNB()))\n",
    "models.append(('LDA', LinearDiscriminantAnalysis()))\n",
    "models.append(('QDA', QuadraticDiscriminantAnalysis()))\n",
    "models.append(('MLP', MLPClassifier()))\n",
    "\n",
    "print('Model\\tAcc\\tPr\\tRecall\\tF1\\tExecution')\n",
    "      \n",
    "for name, model in models:\n",
    "    start_time = time.time()\n",
    "    kfold = model_selection.KFold(n_splits=5, shuffle=True, random_state=24)    \n",
    "\n",
    "    accuracy = cross_val_score(model, X_train, y_train, cv=kfold, scoring='accuracy').mean()\n",
    "    precision = cross_val_score(model, X_train, y_train, cv=kfold, scoring='precision').mean()\n",
    "    recall = cross_val_score(model, X_train, y_train, cv=kfold, scoring='recall').mean()\n",
    "    f1_score = cross_val_score(model, X, y, cv=kfold, scoring='f1_weighted').mean()\n",
    "    \n",
    "    delta = time.time() - start_time\n",
    "    print('{}\\t{:.3f}\\t{:.3f}\\t{:.3f}\\t{:.3f}\\t{:.2f} secs'.format(name, accuracy, precision, recall, f1_score, delta))"
   ]
  },
  {
   "cell_type": "code",
   "execution_count": null,
   "metadata": {},
   "outputs": [],
   "source": []
  }
 ],
 "metadata": {
  "kernelspec": {
   "display_name": "Python 3",
   "language": "python",
   "name": "python3"
  },
  "language_info": {
   "codemirror_mode": {
    "name": "ipython",
    "version": 3
   },
   "file_extension": ".py",
   "mimetype": "text/x-python",
   "name": "python",
   "nbconvert_exporter": "python",
   "pygments_lexer": "ipython3",
   "version": "3.10.7"
  }
 },
 "nbformat": 4,
 "nbformat_minor": 1
}
