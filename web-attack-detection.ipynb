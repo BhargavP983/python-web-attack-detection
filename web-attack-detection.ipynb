{
 "cells": [
  {
   "cell_type": "markdown",
   "metadata": {
    "id": "tGLYJuXmFBZI"
   },
   "source": [
    "# Web attack detection using CICIDS2017 dataset"
   ]
  },
  {
   "cell_type": "markdown",
   "metadata": {
    "id": "sNPL1uYLFF1U"
   },
   "source": [
    "Training data: \"Intrusion Detection Evaluation Dataset\" (CICIDS2017). Description page: https://www.unb.ca/cic/datasets/ids-2017.html\n",
    "\n",
    "The data set is public. Download link: http://205.174.165.80/CICDataset/CIC-IDS-2017/Dataset/\n",
    "\n",
    "CICIDS2017 combines 8 files recorded on different days of observation (PCAP + CSV). Used archive: http://205.174.165.80/CICDataset/CIC-IDS-2017/Dataset/GeneratedLabelledFlows.zip\n",
    "\n",
    "In the downloaded archive GeneratedLabelledFlows.zip the file \"Thursday\" Thursday-WorkingHours-Morning-WebAttacks.pcap_ISCX.csv is selected.\n",
    "\n",
    "Sources:\n",
    "\n",
    "* [Sharafaldin2018] Iman Sharafaldin, Arash Habibi Lashkari and Ali A. Ghorbani. Toward Generating a New Intrusion Detection Dataset and Intrusion Traffic Characterization. 2018\n",
    "* [Kostas2018] Kahraman Kostas. Anomaly Detection in Networks Using Machine Learning. 2018 (error was found in assessing the importance of features)\n",
    "* https://github.com/bozbil/Anomaly-Detection-in-Networks-Using-Machine-Learning (error was found in assessing the importance of features)"
   ]
  },
  {
   "cell_type": "markdown",
   "metadata": {
    "id": "SCEkDfpOFPQX"
   },
   "source": [
    "## Data preprocessing\n",
    "\n",
    "Source: https://github.com/bozbil/Anomaly-Detection-in-Networks-Using-Machine-Learning/blob/master/01_preprocessing.ipynb [Kostas2018]."
   ]
  },
  {
   "cell_type": "code",
   "execution_count": 62,
   "metadata": {
    "id": "hJVAToeYFV2Q"
   },
   "outputs": [],
   "source": [
    "import pandas as pd\n",
    "import numpy as np\n",
    "from sklearn import preprocessing\n",
    "import matplotlib.pyplot as plt\n",
    "%matplotlib inline"
   ]
  },
  {
   "cell_type": "markdown",
   "metadata": {},
   "source": [
    "Download the dataset from Github to Google Colab and unzip it."
   ]
  },
  {
   "cell_type": "code",
   "execution_count": 63,
   "metadata": {},
   "outputs": [
    {
     "name": "stderr",
     "output_type": "stream",
     "text": [
      "'wget' is not recognized as an internal or external command,\n",
      "operable program or batch file.\n",
      "'unzip' is not recognized as an internal or external command,\n",
      "operable program or batch file.\n"
     ]
    }
   ],
   "source": [
    "!wget https://github.com/fisher85/ml-cybersecurity/blob/master/python-web-attack-detection/datasets/Thursday-WorkingHours-Morning-WebAttacks.pcap_ISCX.csv.zip?raw=true -O dataset.zip\n",
    "!unzip -u dataset.zip"
   ]
  },
  {
   "cell_type": "markdown",
   "metadata": {
    "id": "i4vnx_OaGAl0"
   },
   "source": [
    "We use \"engine=latin-1\" to avoid the \"UnicodeDecodeError: 'utf-8' codec can't decode byte 0x96 in position 11: invalid start byte\" encoding error."
   ]
  },
  {
   "cell_type": "code",
   "execution_count": 64,
   "metadata": {
    "id": "yIqeKHKYGCoz"
   },
   "outputs": [
    {
     "name": "stderr",
     "output_type": "stream",
     "text": [
      "C:\\Users\\bharg\\AppData\\Local\\Temp\\ipykernel_3280\\3296900850.py:1: DtypeWarning: Columns (0,1,3,6,84) have mixed types. Specify dtype option on import or set low_memory=False.\n",
      "  df = pd.read_csv('/Final Year Proj/Bhargav/ml-cybersecurity/python-web-attack-detection/datasets/Thursday-WorkingHour/Thursday-WorkingHours-Morning-WebAttacks.pcap_ISCX.csv', encoding='latin-1')\n"
     ]
    }
   ],
   "source": [
    "df = pd.read_csv('/Final Year Proj/Bhargav/ml-cybersecurity/python-web-attack-detection/datasets/Thursday-WorkingHour/Thursday-WorkingHours-Morning-WebAttacks.pcap_ISCX.csv', encoding='latin-1')\n"
   ]
  },
  {
   "cell_type": "markdown",
   "metadata": {
    "id": "3U-gQIAmhamL"
   },
   "source": [
    "Thursday-WorkingHours-Morning-WebAttacks.pcap_ISCX.csv file contains 458968 records, 85 columns."
   ]
  },
  {
   "cell_type": "code",
   "execution_count": 65,
   "metadata": {
    "colab": {
     "base_uri": "https://localhost:8080/",
     "height": 34
    },
    "id": "QMkibc_W4hpQ",
    "outputId": "f8965510-6788-45e3-eda8-1d29ff1dd68a"
   },
   "outputs": [
    {
     "data": {
      "text/plain": [
       "(458968, 85)"
      ]
     },
     "execution_count": 65,
     "metadata": {},
     "output_type": "execute_result"
    }
   ],
   "source": [
    "df.shape"
   ]
  },
  {
   "cell_type": "markdown",
   "metadata": {
    "id": "E5kIR-daheeV"
   },
   "source": [
    "The columns \"Fwd Header Length\" and \"Fwd Header Length.1\" are identical, the second one is removed, 84 columns remain."
   ]
  },
  {
   "cell_type": "code",
   "execution_count": 66,
   "metadata": {
    "colab": {
     "base_uri": "https://localhost:8080/",
     "height": 34
    },
    "id": "83UFLCVlhjKF",
    "outputId": "b0c3baf0-9395-48f9-a829-953fb764f634"
   },
   "outputs": [
    {
     "data": {
      "text/plain": [
       "(458968, 84)"
      ]
     },
     "execution_count": 66,
     "metadata": {},
     "output_type": "execute_result"
    }
   ],
   "source": [
    "df.columns = df.columns.str.strip()\n",
    "df = df.drop(columns=['Fwd Header Length.1'])\n",
    "df.shape"
   ]
  },
  {
   "cell_type": "markdown",
   "metadata": {
    "id": "BIQQvtxZhiTZ"
   },
   "source": [
    "When assessing the distribution of labels, it turns out that out of 458968 records there are many blank records (\"BENIGN\" - benign background traffic)."
   ]
  },
  {
   "cell_type": "code",
   "execution_count": 67,
   "metadata": {
    "colab": {
     "base_uri": "https://localhost:8080/",
     "height": 51
    },
    "id": "HrGLjk5nhrGE",
    "outputId": "b5754c62-bc6c-43b3-8c67-032c07ce20e6"
   },
   "outputs": [
    {
     "data": {
      "text/plain": [
       "array(['BENIGN', 'Web Attack \\x96 Brute Force', 'Web Attack \\x96 XSS',\n",
       "       'Web Attack \\x96 Sql Injection', nan], dtype=object)"
      ]
     },
     "execution_count": 67,
     "metadata": {},
     "output_type": "execute_result"
    }
   ],
   "source": [
    "df['Label'].unique()"
   ]
  },
  {
   "cell_type": "code",
   "execution_count": 68,
   "metadata": {
    "colab": {
     "base_uri": "https://localhost:8080/",
     "height": 102
    },
    "id": "HnpQqQ8fhxwN",
    "outputId": "1875b6bf-6f59-466a-a633-8268a9a8b19d"
   },
   "outputs": [
    {
     "data": {
      "text/plain": [
       "Label\n",
       "BENIGN                        168186\n",
       "Web Attack  Brute Force        1507\n",
       "Web Attack  XSS                 652\n",
       "Web Attack  Sql Injection        21\n",
       "Name: count, dtype: int64"
      ]
     },
     "execution_count": 68,
     "metadata": {},
     "output_type": "execute_result"
    }
   ],
   "source": [
    "df['Label'].value_counts()"
   ]
  },
  {
   "cell_type": "markdown",
   "metadata": {
    "id": "l7lpytF7h6D4"
   },
   "source": [
    "Delete blank records."
   ]
  },
  {
   "cell_type": "code",
   "execution_count": 69,
   "metadata": {
    "colab": {
     "base_uri": "https://localhost:8080/",
     "height": 34
    },
    "id": "7ltfHW8dh7Tw",
    "outputId": "d53015b1-03a4-4d7c-9440-ae0f3fcee7b7"
   },
   "outputs": [
    {
     "data": {
      "text/plain": [
       "(170366, 84)"
      ]
     },
     "execution_count": 69,
     "metadata": {},
     "output_type": "execute_result"
    }
   ],
   "source": [
    "df = df.drop(df[pd.isnull(df['Flow ID'])].index)\n",
    "df.shape"
   ]
  },
  {
   "cell_type": "markdown",
   "metadata": {
    "id": "ZN6DKttXiH7J"
   },
   "source": [
    "The \"Flow Bytes/s\" and \"Flow Packets/s\" columns have non-numerical values, replace them."
   ]
  },
  {
   "cell_type": "code",
   "execution_count": 70,
   "metadata": {
    "id": "mZ2ffToLi02x"
   },
   "outputs": [],
   "source": [
    "df.replace('Infinity', -1, inplace=True)\n",
    "df[[\"Flow Bytes/s\", \"Flow Packets/s\"]] = df[[\"Flow Bytes/s\", \"Flow Packets/s\"]].apply(pd.to_numeric)"
   ]
  },
  {
   "cell_type": "markdown",
   "metadata": {},
   "source": [
    "Replace the NaN values and infinity values with -1."
   ]
  },
  {
   "cell_type": "code",
   "execution_count": 71,
   "metadata": {},
   "outputs": [],
   "source": [
    "df.replace([np.inf, -np.inf, np.nan], -1, inplace=True)"
   ]
  },
  {
   "cell_type": "markdown",
   "metadata": {
    "id": "2JMv7gKfi4nI"
   },
   "source": [
    "Convert string characters to numbers, use LabelEncoder, not OneHotEncoder."
   ]
  },
  {
   "cell_type": "code",
   "execution_count": 72,
   "metadata": {
    "colab": {
     "base_uri": "https://localhost:8080/",
     "height": 34
    },
    "id": "XmYOMG0Ti8Wh",
    "outputId": "bf6ffbc1-8b29-482c-fd6e-0c6a46951be5"
   },
   "outputs": [
    {
     "data": {
      "text/plain": [
       "['Flow ID', 'Source IP', 'Destination IP', 'Timestamp']"
      ]
     },
     "execution_count": 72,
     "metadata": {},
     "output_type": "execute_result"
    }
   ],
   "source": [
    "string_features = list(df.select_dtypes(include=['object']).columns)\n",
    "string_features.remove('Label')\n",
    "string_features"
   ]
  },
  {
   "cell_type": "code",
   "execution_count": 73,
   "metadata": {
    "id": "ySZ2eW_2jCfQ"
   },
   "outputs": [],
   "source": [
    "le = preprocessing.LabelEncoder()\n",
    "df[string_features] = df[string_features].apply(lambda col: le.fit_transform(col))"
   ]
  },
  {
   "cell_type": "markdown",
   "metadata": {
    "id": "K94al8HAjJEN"
   },
   "source": [
    "### Undersampling against unbalance\n",
    "\n",
    "Dataset is unbalanced: total records = 170366, \"BENIGN\" records = 168186, records with attacks much less: 1507 + 652 + 21 = 2180."
   ]
  },
  {
   "cell_type": "code",
   "execution_count": 74,
   "metadata": {
    "colab": {
     "base_uri": "https://localhost:8080/",
     "height": 34
    },
    "id": "7K7iWbNMjWrZ",
    "outputId": "7ce9991a-9f78-4ee3-a190-ad8e6e376fc7"
   },
   "outputs": [
    {
     "data": {
      "text/plain": [
       "168186"
      ]
     },
     "execution_count": 74,
     "metadata": {},
     "output_type": "execute_result"
    }
   ],
   "source": [
    "benign_total = len(df[df['Label'] == \"BENIGN\"])\n",
    "benign_total"
   ]
  },
  {
   "cell_type": "code",
   "execution_count": 75,
   "metadata": {
    "colab": {
     "base_uri": "https://localhost:8080/",
     "height": 34
    },
    "id": "nVs_xEHFjY5q",
    "outputId": "f1c5e3e9-5dba-4061-d578-8089dc63c61f"
   },
   "outputs": [
    {
     "data": {
      "text/plain": [
       "2180"
      ]
     },
     "execution_count": 75,
     "metadata": {},
     "output_type": "execute_result"
    }
   ],
   "source": [
    "attack_total = len(df[df['Label'] != \"BENIGN\"])\n",
    "attack_total"
   ]
  },
  {
   "cell_type": "code",
   "execution_count": 76,
   "metadata": {
    "colab": {
     "base_uri": "https://localhost:8080/",
     "height": 102
    },
    "id": "PFvPOea2jhMt",
    "outputId": "c6ca7662-2455-48de-f3aa-41191655a252"
   },
   "outputs": [
    {
     "data": {
      "text/plain": [
       "Label\n",
       "BENIGN                        168186\n",
       "Web Attack  Brute Force        1507\n",
       "Web Attack  XSS                 652\n",
       "Web Attack  Sql Injection        21\n",
       "Name: count, dtype: int64"
      ]
     },
     "execution_count": 76,
     "metadata": {},
     "output_type": "execute_result"
    }
   ],
   "source": [
    "df.to_csv(\"web_attacks_unbalanced.csv\", index=False)\n",
    "df['Label'].value_counts()"
   ]
  },
  {
   "cell_type": "markdown",
   "metadata": {
    "id": "6A9-rS7OjyFl"
   },
   "source": [
    "We use **undersampling** to correct class imbalances: we remove most of the \"BENIGN\" records.\n",
    "\n",
    "Form a balanced dataset web_attacks_balanced.csv in proportion: 30% attack (2180 records), 70% benign data (2180 / 30 * 70 ~ = 5087 records).\n",
    "\n",
    "Algorithm to form a balanced df_balanced dataset:\n",
    "\n",
    "* All the records with the attacks are copied to the new dataset.\n",
    "* There are two conditions for copying \"BENIGN\" records to the new dataset:\n",
    " \n",
    "     1. The next record is copyied with the benign_inc_probability.\n",
    "     2. The total number of \"BENIGN\" records must not exceed the limit of 5087 records."
   ]
  },
  {
   "cell_type": "markdown",
   "metadata": {
    "id": "aVZutNOZj_N9"
   },
   "source": [
    "Сalculate the probability of copying a \"BENIGN\" record. The enlargement multiplier is used to get exactly 70% benign data (5087 records)."
   ]
  },
  {
   "cell_type": "code",
   "execution_count": 77,
   "metadata": {
    "colab": {
     "base_uri": "https://localhost:8080/",
     "height": 34
    },
    "id": "XaW7sEjHkB3K",
    "outputId": "27e0c165-6226-48a5-cab6-9d94ad80566e"
   },
   "outputs": [
    {
     "name": "stdout",
     "output_type": "stream",
     "text": [
      "5086.666666666667 0.03326872232726466\n"
     ]
    }
   ],
   "source": [
    "enlargement = 1.1\n",
    "benign_included_max = attack_total / 30 * 70\n",
    "benign_inc_probability = (benign_included_max / benign_total) * enlargement\n",
    "print(benign_included_max, benign_inc_probability)"
   ]
  },
  {
   "cell_type": "markdown",
   "metadata": {
    "id": "G3ZXh6fTkFK_"
   },
   "source": [
    "Copy records from df to df_balanced, save dataset **web_attacks_balanced.csv**."
   ]
  },
  {
   "cell_type": "code",
   "execution_count": 78,
   "metadata": {
    "id": "0MdiMPmdkICk"
   },
   "outputs": [],
   "source": [
    "import random\n",
    "indexes = []\n",
    "benign_included_count = 0\n",
    "for index, row in df.iterrows():\n",
    "    if (row['Label'] != \"BENIGN\"):\n",
    "        indexes.append(index)\n",
    "    else:\n",
    "        # Copying with benign_inc_probability\n",
    "        if random.random() > benign_inc_probability: continue\n",
    "        # Have we achieved 70% (5087 records)?\n",
    "        if benign_included_count > benign_included_max: continue\n",
    "        benign_included_count += 1\n",
    "        indexes.append(index)\n",
    "df_balanced = df.loc[indexes]"
   ]
  },
  {
   "cell_type": "code",
   "execution_count": 79,
   "metadata": {
    "colab": {
     "base_uri": "https://localhost:8080/",
     "height": 102
    },
    "id": "cqypBDIdkKN4",
    "outputId": "81585c22-c45e-4c60-b35a-c6272a1c263e"
   },
   "outputs": [
    {
     "data": {
      "text/plain": [
       "Label\n",
       "BENIGN                        5087\n",
       "Web Attack  Brute Force      1507\n",
       "Web Attack  XSS               652\n",
       "Web Attack  Sql Injection      21\n",
       "Name: count, dtype: int64"
      ]
     },
     "execution_count": 79,
     "metadata": {},
     "output_type": "execute_result"
    }
   ],
   "source": [
    "df_balanced['Label'].value_counts()"
   ]
  },
  {
   "cell_type": "markdown",
   "metadata": {
    "id": "hDPCkmutkNYD"
   },
   "source": [
    "If necessary, we can keep a single class of attack for experiments."
   ]
  },
  {
   "cell_type": "code",
   "execution_count": 80,
   "metadata": {
    "id": "1_q52wjdkPZ8"
   },
   "outputs": [],
   "source": [
    "# df_balanced = df_balanced[df_balanced['Label'] != \"Web Attack – Brute Force\"]\n",
    "# df_balanced = df_balanced[df_balanced['Label'] != \"Web Attack – Sql Injection\"]\n",
    "# df_balanced['Label'].value_counts()"
   ]
  },
  {
   "cell_type": "code",
   "execution_count": 81,
   "metadata": {
    "id": "qiYFzlGkkSXe"
   },
   "outputs": [],
   "source": [
    "df_balanced.to_csv(\"web_attacks_balanced.csv\", index=False)"
   ]
  },
  {
   "cell_type": "markdown",
   "metadata": {
    "id": "-IEyQxBDt5sG"
   },
   "source": [
    "### Preparing data for training"
   ]
  },
  {
   "cell_type": "code",
   "execution_count": 82,
   "metadata": {},
   "outputs": [],
   "source": [
    "df = pd.read_csv('web_attacks_balanced.csv')"
   ]
  },
  {
   "cell_type": "markdown",
   "metadata": {},
   "source": [
    "The Label column is encoded as follows: \"BENIGN\" = 0, attack = 1."
   ]
  },
  {
   "cell_type": "code",
   "execution_count": 83,
   "metadata": {},
   "outputs": [],
   "source": [
    "df['Label'] = df['Label'].apply(lambda x: 0 if x == 'BENIGN' else 1)"
   ]
  },
  {
   "cell_type": "markdown",
   "metadata": {},
   "source": [
    "If necessary, we will work with our own dataset."
   ]
  },
  {
   "cell_type": "code",
   "execution_count": 84,
   "metadata": {},
   "outputs": [],
   "source": [
    "#!wget https://raw.githubusercontent.com/infosecdemos/ml-2020/master/ml-ids/datasets/mix_labelled.zip -O mix_labelled.zip\n",
    "#!unzip -u mix_labelled.zip"
   ]
  },
  {
   "cell_type": "code",
   "execution_count": 85,
   "metadata": {},
   "outputs": [],
   "source": [
    "#df = pd.read_csv('mix_labelled.csv')\n",
    "#excluded = ['Flow Key', 'Flow Bytes/s', 'Flow MB/s', 'Fwd IAT Min', \n",
    "#            'Flow IAT Min', 'Packet Length Mean', 'Average Fwd Segment Size', 'Subflow Fwd Bytes',\n",
    "#            'Fwd Packets/s', 'Fwd IAT Total', 'Fwd IAT Max', 'Fwd IAT Mean',\n",
    "#            'Average Bwd Segment Size', 'Bwd Packet Length Mean', 'Packet Length List', 'Total Fwd Packets',\n",
    "#            'Packet Length Std', 'Packet Length Variance', 'Total Backword Packets', 'Fwd Packet Length Std',\n",
    "#            'Total Length of Bwd Packets', 'Bwd Header Length']\n",
    "#df = df.drop(columns=excluded, errors='ignore')"
   ]
  },
  {
   "cell_type": "markdown",
   "metadata": {
    "id": "1k2G5UAEt9cw"
   },
   "source": [
    "7 features (Flow ID, Source IP, Source Port, Destination IP, Destination Port, Protocol, Timestamp) are excluded from the dataset. The hypothesis is that the \"shape\" of the data being transmitted is more important than these attributes. In addition, ports and addresses can be substituted by an attacker, so it is better that the ML algorithm does not take these features into account in training [Kostas2018]."
   ]
  },
  {
   "cell_type": "code",
   "execution_count": 86,
   "metadata": {
    "id": "8yza95R2t_1N"
   },
   "outputs": [],
   "source": [
    "excluded = ['Flow ID', 'Source IP', 'Source Port', 'Destination IP', 'Destination Port', 'Protocol', 'Timestamp']\n",
    "df = df.drop(columns=excluded, errors='ignore')"
   ]
  },
  {
   "cell_type": "markdown",
   "metadata": {
    "id": "eCxptOz2uDIV"
   },
   "source": [
    "Below at the stage of importance estimation the \"Init_Win_bytes_backward\" feature has the maximum value. After viewing the source dataset, it seems that an inaccuracy was made in forming the dataset. \n",
    "\n",
    "It turns out that it is possible to make a fairly accurate classification by one feature.\n",
    "\n",
    "Description of features: http://www.netflowmeter.ca/netflowmeter.html\n",
    "\n",
    "     Init_Win_bytes_backward - The total number of bytes sent in initial window in the backward direction\n",
    "     Init_Win_bytes_forward - The total number of bytes sent in initial window in the forward direction"
   ]
  },
  {
   "cell_type": "code",
   "execution_count": 87,
   "metadata": {
    "colab": {
     "base_uri": "https://localhost:8080/",
     "height": 295
    },
    "id": "lYhtGKqJuUQA",
    "outputId": "aade2290-801b-44a9-d1b8-880b3f40d121"
   },
   "outputs": [
    {
     "data": {
      "image/png": "[encoded data removed]",
      "text/plain": [
       "<Figure size 600x400 with 1 Axes>"
      ]
     },
     "metadata": {},
     "output_type": "display_data"
    }
   ],
   "source": [
    "if 'Init_Win_bytes_backward' in df.columns:\n",
    "    df['Init_Win_bytes_backward'].hist(figsize=(6,4), bins=10);\n",
    "    plt.title(\"Init_Win_bytes_backward\")\n",
    "    plt.xlabel(\"Value bins\")\n",
    "    plt.ylabel(\"Density\")\n",
    "    plt.savefig('Init_Win_bytes_backward.png', dpi=300)"
   ]
  },
  {
   "cell_type": "code",
   "execution_count": 88,
   "metadata": {
    "colab": {
     "base_uri": "https://localhost:8080/",
     "height": 295
    },
    "id": "XPbBcbj_uYMV",
    "outputId": "88d26808-c28b-43d1-91d5-9bc2dc6a9d04"
   },
   "outputs": [
    {
     "data": {
      "image/png": "[encoded data removed]",
      "text/plain": [
       "<Figure size 600x400 with 1 Axes>"
      ]
     },
     "metadata": {},
     "output_type": "display_data"
    }
   ],
   "source": [
    "if 'Init_Win_bytes_forward' in df.columns:\n",
    "    df['Init_Win_bytes_forward'].hist(figsize=(6,4), bins=10);\n",
    "    plt.title(\"Init_Win_bytes_forward\")\n",
    "    plt.xlabel(\"Value bins\")\n",
    "    plt.ylabel(\"Density\")\n",
    "    plt.savefig('Init_Win_bytes_forward.png', dpi=300)"
   ]
  },
  {
   "cell_type": "code",
   "execution_count": 89,
   "metadata": {
    "id": "Uw6liMMducM5"
   },
   "outputs": [],
   "source": [
    "excluded2 = ['Init_Win_bytes_backward', 'Init_Win_bytes_forward']\n",
    "df = df.drop(columns=excluded2, errors='ignore')"
   ]
  },
  {
   "cell_type": "code",
   "execution_count": 90,
   "metadata": {
    "colab": {
     "base_uri": "https://localhost:8080/",
     "height": 34
    },
    "id": "a-FDOBmOufo6",
    "outputId": "8ba70aa2-818b-48d5-a74b-9a5ddf0b76f7"
   },
   "outputs": [
    {
     "name": "stdout",
     "output_type": "stream",
     "text": [
      "(7267, 74) (7267,)\n"
     ]
    }
   ],
   "source": [
    "y = df['Label'].values\n",
    "X = df.drop(columns=['Label'])\n",
    "print(X.shape, y.shape)"
   ]
  },
  {
   "cell_type": "markdown",
   "metadata": {
    "id": "3P69z9kfupES"
   },
   "source": [
    "## Feature importance"
   ]
  },
  {
   "cell_type": "code",
   "execution_count": 91,
   "metadata": {
    "colab": {
     "base_uri": "https://localhost:8080/",
     "height": 34
    },
    "id": "4BbvfnjTuzeX",
    "outputId": "55719ff0-84a0-4568-ebda-df2f479bc71c"
   },
   "outputs": [
    {
     "data": {
      "text/plain": [
       "{0: 3545, 1: 1541}"
      ]
     },
     "execution_count": 91,
     "metadata": {},
     "output_type": "execute_result"
    }
   ],
   "source": [
    "from sklearn.model_selection import train_test_split\n",
    "X_train, X_test, y_train, y_test = train_test_split(X, y, test_size=0.3, random_state=42)\n",
    "\n",
    "unique, counts = np.unique(y_train, return_counts=True)\n",
    "dict(zip(unique, counts))"
   ]
  },
  {
   "cell_type": "markdown",
   "metadata": {
    "id": "wE4AwrX1u6Hj"
   },
   "source": [
    "### Visualization of the decision tree, importance evaluation using a single tree (DecisionTreeClassifier)\n",
    " \n",
    "In the beginning we use one tree - for the convenience of visualization of the classifier. High cross-validation scores even with 5 leaves look suspiciously good, we should look at the data carefully. Parameters for change - test_size in the cell above (train_test_split), max_leaf_nodes in the cell below.\n",
    " \n",
    "By changing the **random_state** parameter, we will get different trees and different features with the highest importance. But the forest will already average individual trees below."
   ]
  },
  {
   "cell_type": "code",
   "execution_count": 92,
   "metadata": {
    "colab": {
     "base_uri": "https://localhost:8080/",
     "height": 51
    },
    "id": "JtVUvneuyAeI",
    "outputId": "582feeb2-a10f-4615-d3a7-74b734cddaf2"
   },
   "outputs": [
    {
     "data": {
      "text/plain": [
       "array([0.95874263, 0.97053045, 0.94695481, 0.956778  , 0.95284872,\n",
       "       0.97445972, 0.96062992, 0.95472441, 0.95669291, 0.95472441])"
      ]
     },
     "execution_count": 92,
     "metadata": {},
     "output_type": "execute_result"
    }
   ],
   "source": [
    "from sklearn.model_selection import cross_val_score\n",
    "from sklearn.tree import DecisionTreeClassifier\n",
    "decision_tree = DecisionTreeClassifier(max_leaf_nodes=5, random_state=0)\n",
    "decision_tree = decision_tree.fit(X_train, y_train)\n",
    "cross_val_score(decision_tree, X_train, y_train, cv=10)"
   ]
  },
  {
   "cell_type": "code",
   "execution_count": 93,
   "metadata": {
    "colab": {
     "base_uri": "https://localhost:8080/",
     "height": 255
    },
    "id": "cITpkfwyCqqU",
    "outputId": "d8120dd9-fc45-4746-b25d-cc488863c6e8"
   },
   "outputs": [
    {
     "name": "stdout",
     "output_type": "stream",
     "text": [
      "|--- Packet Length Mean <= 0.86\n",
      "|   |--- Fwd IAT Std <= 2445457.00\n",
      "|   |   |--- Bwd Packets/s <= 9662.06\n",
      "|   |   |   |--- class: 0\n",
      "|   |   |--- Bwd Packets/s >  9662.06\n",
      "|   |   |   |--- class: 0\n",
      "|   |--- Fwd IAT Std >  2445457.00\n",
      "|   |   |--- class: 1\n",
      "|--- Packet Length Mean >  0.86\n",
      "|   |--- Subflow Fwd Bytes <= 34279.00\n",
      "|   |   |--- class: 0\n",
      "|   |--- Subflow Fwd Bytes >  34279.00\n",
      "|   |   |--- class: 1\n",
      "\n"
     ]
    }
   ],
   "source": [
    "from sklearn.tree import export_text\n",
    "r = export_text(decision_tree, feature_names=X_train.columns.to_list())\n",
    "print(r)"
   ]
  },
  {
   "cell_type": "code",
   "execution_count": 94,
   "metadata": {
    "colab": {
     "base_uri": "https://localhost:8080/",
     "height": 518
    },
    "id": "6xpZlcv_-J_W",
    "outputId": "7b256ccd-64c0-4ad4-a34b-14e7275cfeab"
   },
   "outputs": [
    {
     "data": {
      "image/svg+xml": [
       "<?xml version=\"1.0\" encoding=\"UTF-8\" standalone=\"no\"?>\n",
       "<!DOCTYPE svg PUBLIC \"-//W3C//DTD SVG 1.1//EN\"\n",
       " \"http://www.w3.org/Graphics/SVG/1.1/DTD/svg11.dtd\">\n",
       "<!-- Generated by graphviz version 10.0.1 (20240210.2158)\n",
       " -->\n",
       "<!-- Title: Tree Pages: 1 -->\n",
       "<svg width=\"688pt\" height=\"396pt\"\n",
       " viewBox=\"0.00 0.00 687.75 395.50\" xmlns=\"http://www.w3.org/2000/svg\" xmlns:xlink=\"http://www.w3.org/1999/xlink\">\n",
       "<g id=\"graph0\" class=\"graph\" transform=\"scale(1 1) rotate(0) translate(4 391.5)\">\n",
       "<title>Tree</title>\n",
       "<polygon fill=\"white\" stroke=\"none\" points=\"-4,4 -4,-391.5 683.75,-391.5 683.75,4 -4,4\"/>\n",
       "<!-- 0 -->\n",
       "<g id=\"node1\" class=\"node\">\n",
       "<title>0</title>\n",
       "<polygon fill=\"none\" stroke=\"black\" points=\"503.38,-387.5 297.62,-387.5 297.62,-313.5 503.38,-313.5 503.38,-387.5\"/>\n",
       "<text text-anchor=\"middle\" x=\"400.5\" y=\"-370.2\" font-family=\"Helvetica,sans-Serif\" font-size=\"14.00\">Packet Length Mean &lt;= 0.857</text>\n",
       "<text text-anchor=\"middle\" x=\"400.5\" y=\"-353.7\" font-family=\"Helvetica,sans-Serif\" font-size=\"14.00\">gini = 0.422</text>\n",
       "<text text-anchor=\"middle\" x=\"400.5\" y=\"-337.2\" font-family=\"Helvetica,sans-Serif\" font-size=\"14.00\">samples = 5086</text>\n",
       "<text text-anchor=\"middle\" x=\"400.5\" y=\"-320.7\" font-family=\"Helvetica,sans-Serif\" font-size=\"14.00\">value = [3545, 1541]</text>\n",
       "</g>\n",
       "<!-- 1 -->\n",
       "<g id=\"node2\" class=\"node\">\n",
       "<title>1</title>\n",
       "<polygon fill=\"none\" stroke=\"black\" points=\"385.12,-277.5 195.88,-277.5 195.88,-203.5 385.12,-203.5 385.12,-277.5\"/>\n",
       "<text text-anchor=\"middle\" x=\"290.5\" y=\"-260.2\" font-family=\"Helvetica,sans-Serif\" font-size=\"14.00\">Fwd IAT Std &lt;= 2445457.0</text>\n",
       "<text text-anchor=\"middle\" x=\"290.5\" y=\"-243.7\" font-family=\"Helvetica,sans-Serif\" font-size=\"14.00\">gini = 0.311</text>\n",
       "<text text-anchor=\"middle\" x=\"290.5\" y=\"-227.2\" font-family=\"Helvetica,sans-Serif\" font-size=\"14.00\">samples = 1747</text>\n",
       "<text text-anchor=\"middle\" x=\"290.5\" y=\"-210.7\" font-family=\"Helvetica,sans-Serif\" font-size=\"14.00\">value = [336, 1411]</text>\n",
       "</g>\n",
       "<!-- 0&#45;&gt;1 -->\n",
       "<g id=\"edge1\" class=\"edge\">\n",
       "<title>0&#45;&gt;1</title>\n",
       "<path fill=\"none\" stroke=\"black\" d=\"M363.57,-313.24C354.59,-304.42 344.89,-294.9 335.58,-285.76\"/>\n",
       "<polygon fill=\"black\" stroke=\"black\" points=\"338.19,-283.42 328.6,-278.91 333.29,-288.41 338.19,-283.42\"/>\n",
       "<text text-anchor=\"middle\" x=\"327.75\" y=\"-297.8\" font-family=\"Helvetica,sans-Serif\" font-size=\"14.00\">True</text>\n",
       "</g>\n",
       "<!-- 2 -->\n",
       "<g id=\"node7\" class=\"node\">\n",
       "<title>2</title>\n",
       "<polygon fill=\"none\" stroke=\"black\" points=\"617.88,-277.5 403.12,-277.5 403.12,-203.5 617.88,-203.5 617.88,-277.5\"/>\n",
       "<text text-anchor=\"middle\" x=\"510.5\" y=\"-260.2\" font-family=\"Helvetica,sans-Serif\" font-size=\"14.00\">Subflow Fwd Bytes &lt;= 34279.0</text>\n",
       "<text text-anchor=\"middle\" x=\"510.5\" y=\"-243.7\" font-family=\"Helvetica,sans-Serif\" font-size=\"14.00\">gini = 0.075</text>\n",
       "<text text-anchor=\"middle\" x=\"510.5\" y=\"-227.2\" font-family=\"Helvetica,sans-Serif\" font-size=\"14.00\">samples = 3339</text>\n",
       "<text text-anchor=\"middle\" x=\"510.5\" y=\"-210.7\" font-family=\"Helvetica,sans-Serif\" font-size=\"14.00\">value = [3209, 130]</text>\n",
       "</g>\n",
       "<!-- 0&#45;&gt;2 -->\n",
       "<g id=\"edge6\" class=\"edge\">\n",
       "<title>0&#45;&gt;2</title>\n",
       "<path fill=\"none\" stroke=\"black\" d=\"M437.43,-313.24C446.41,-304.42 456.11,-294.9 465.42,-285.76\"/>\n",
       "<polygon fill=\"black\" stroke=\"black\" points=\"467.71,-288.41 472.4,-278.91 462.81,-283.42 467.71,-288.41\"/>\n",
       "<text text-anchor=\"middle\" x=\"473.25\" y=\"-297.8\" font-family=\"Helvetica,sans-Serif\" font-size=\"14.00\">False</text>\n",
       "</g>\n",
       "<!-- 3 -->\n",
       "<g id=\"node3\" class=\"node\">\n",
       "<title>3</title>\n",
       "<polygon fill=\"none\" stroke=\"black\" points=\"227.12,-167.5 31.88,-167.5 31.88,-93.5 227.12,-93.5 227.12,-167.5\"/>\n",
       "<text text-anchor=\"middle\" x=\"129.5\" y=\"-150.2\" font-family=\"Helvetica,sans-Serif\" font-size=\"14.00\">Bwd Packets/s &lt;= 9662.062</text>\n",
       "<text text-anchor=\"middle\" x=\"129.5\" y=\"-133.7\" font-family=\"Helvetica,sans-Serif\" font-size=\"14.00\">gini = 0.388</text>\n",
       "<text text-anchor=\"middle\" x=\"129.5\" y=\"-117.2\" font-family=\"Helvetica,sans-Serif\" font-size=\"14.00\">samples = 440</text>\n",
       "<text text-anchor=\"middle\" x=\"129.5\" y=\"-100.7\" font-family=\"Helvetica,sans-Serif\" font-size=\"14.00\">value = [324.0, 116.0]</text>\n",
       "</g>\n",
       "<!-- 1&#45;&gt;3 -->\n",
       "<g id=\"edge2\" class=\"edge\">\n",
       "<title>1&#45;&gt;3</title>\n",
       "<path fill=\"none\" stroke=\"black\" d=\"M236.44,-203.24C222.5,-193.89 207.38,-183.74 193,-174.1\"/>\n",
       "<polygon fill=\"black\" stroke=\"black\" points=\"195.2,-171.36 184.95,-168.69 191.3,-177.17 195.2,-171.36\"/>\n",
       "</g>\n",
       "<!-- 4 -->\n",
       "<g id=\"node6\" class=\"node\">\n",
       "<title>4</title>\n",
       "<polygon fill=\"none\" stroke=\"black\" points=\"374.12,-159.25 244.88,-159.25 244.88,-101.75 374.12,-101.75 374.12,-159.25\"/>\n",
       "<text text-anchor=\"middle\" x=\"309.5\" y=\"-141.95\" font-family=\"Helvetica,sans-Serif\" font-size=\"14.00\">gini = 0.018</text>\n",
       "<text text-anchor=\"middle\" x=\"309.5\" y=\"-125.45\" font-family=\"Helvetica,sans-Serif\" font-size=\"14.00\">samples = 1307</text>\n",
       "<text text-anchor=\"middle\" x=\"309.5\" y=\"-108.95\" font-family=\"Helvetica,sans-Serif\" font-size=\"14.00\">value = [12, 1295]</text>\n",
       "</g>\n",
       "<!-- 1&#45;&gt;4 -->\n",
       "<g id=\"edge5\" class=\"edge\">\n",
       "<title>1&#45;&gt;4</title>\n",
       "<path fill=\"none\" stroke=\"black\" d=\"M296.88,-203.24C298.72,-192.8 300.73,-181.36 302.6,-170.75\"/>\n",
       "<polygon fill=\"black\" stroke=\"black\" points=\"306,-171.59 304.29,-161.13 299.11,-170.38 306,-171.59\"/>\n",
       "</g>\n",
       "<!-- 7 -->\n",
       "<g id=\"node4\" class=\"node\">\n",
       "<title>7</title>\n",
       "<polygon fill=\"none\" stroke=\"black\" points=\"121,-57.5 0,-57.5 0,0 121,0 121,-57.5\"/>\n",
       "<text text-anchor=\"middle\" x=\"60.5\" y=\"-40.2\" font-family=\"Helvetica,sans-Serif\" font-size=\"14.00\">gini = 0.135</text>\n",
       "<text text-anchor=\"middle\" x=\"60.5\" y=\"-23.7\" font-family=\"Helvetica,sans-Serif\" font-size=\"14.00\">samples = 234</text>\n",
       "<text text-anchor=\"middle\" x=\"60.5\" y=\"-7.2\" font-family=\"Helvetica,sans-Serif\" font-size=\"14.00\">value = [217, 17]</text>\n",
       "</g>\n",
       "<!-- 3&#45;&gt;7 -->\n",
       "<g id=\"edge3\" class=\"edge\">\n",
       "<title>3&#45;&gt;7</title>\n",
       "<path fill=\"none\" stroke=\"black\" d=\"M104.39,-93.21C98.51,-84.71 92.24,-75.64 86.33,-67.09\"/>\n",
       "<polygon fill=\"black\" stroke=\"black\" points=\"89.28,-65.21 80.71,-58.97 83.52,-69.19 89.28,-65.21\"/>\n",
       "</g>\n",
       "<!-- 8 -->\n",
       "<g id=\"node5\" class=\"node\">\n",
       "<title>8</title>\n",
       "<polygon fill=\"none\" stroke=\"black\" points=\"260,-57.5 139,-57.5 139,0 260,0 260,-57.5\"/>\n",
       "<text text-anchor=\"middle\" x=\"199.5\" y=\"-40.2\" font-family=\"Helvetica,sans-Serif\" font-size=\"14.00\">gini = 0.499</text>\n",
       "<text text-anchor=\"middle\" x=\"199.5\" y=\"-23.7\" font-family=\"Helvetica,sans-Serif\" font-size=\"14.00\">samples = 206</text>\n",
       "<text text-anchor=\"middle\" x=\"199.5\" y=\"-7.2\" font-family=\"Helvetica,sans-Serif\" font-size=\"14.00\">value = [107, 99]</text>\n",
       "</g>\n",
       "<!-- 3&#45;&gt;8 -->\n",
       "<g id=\"edge4\" class=\"edge\">\n",
       "<title>3&#45;&gt;8</title>\n",
       "<path fill=\"none\" stroke=\"black\" d=\"M154.97,-93.21C160.93,-84.71 167.3,-75.64 173.29,-67.09\"/>\n",
       "<polygon fill=\"black\" stroke=\"black\" points=\"176.12,-69.16 179,-58.97 170.39,-65.14 176.12,-69.16\"/>\n",
       "</g>\n",
       "<!-- 5 -->\n",
       "<g id=\"node8\" class=\"node\">\n",
       "<title>5</title>\n",
       "<polygon fill=\"none\" stroke=\"black\" points=\"557.12,-159.25 427.88,-159.25 427.88,-101.75 557.12,-101.75 557.12,-159.25\"/>\n",
       "<text text-anchor=\"middle\" x=\"492.5\" y=\"-141.95\" font-family=\"Helvetica,sans-Serif\" font-size=\"14.00\">gini = 0.041</text>\n",
       "<text text-anchor=\"middle\" x=\"492.5\" y=\"-125.45\" font-family=\"Helvetica,sans-Serif\" font-size=\"14.00\">samples = 3274</text>\n",
       "<text text-anchor=\"middle\" x=\"492.5\" y=\"-108.95\" font-family=\"Helvetica,sans-Serif\" font-size=\"14.00\">value = [3206, 68]</text>\n",
       "</g>\n",
       "<!-- 2&#45;&gt;5 -->\n",
       "<g id=\"edge7\" class=\"edge\">\n",
       "<title>2&#45;&gt;5</title>\n",
       "<path fill=\"none\" stroke=\"black\" d=\"M504.46,-203.24C502.72,-192.8 500.81,-181.36 499.04,-170.75\"/>\n",
       "<polygon fill=\"black\" stroke=\"black\" points=\"502.54,-170.42 497.44,-161.14 495.63,-171.57 502.54,-170.42\"/>\n",
       "</g>\n",
       "<!-- 6 -->\n",
       "<g id=\"node9\" class=\"node\">\n",
       "<title>6</title>\n",
       "<polygon fill=\"none\" stroke=\"black\" points=\"679.75,-159.25 575.25,-159.25 575.25,-101.75 679.75,-101.75 679.75,-159.25\"/>\n",
       "<text text-anchor=\"middle\" x=\"627.5\" y=\"-141.95\" font-family=\"Helvetica,sans-Serif\" font-size=\"14.00\">gini = 0.088</text>\n",
       "<text text-anchor=\"middle\" x=\"627.5\" y=\"-125.45\" font-family=\"Helvetica,sans-Serif\" font-size=\"14.00\">samples = 65</text>\n",
       "<text text-anchor=\"middle\" x=\"627.5\" y=\"-108.95\" font-family=\"Helvetica,sans-Serif\" font-size=\"14.00\">value = [3, 62]</text>\n",
       "</g>\n",
       "<!-- 2&#45;&gt;6 -->\n",
       "<g id=\"edge8\" class=\"edge\">\n",
       "<title>2&#45;&gt;6</title>\n",
       "<path fill=\"none\" stroke=\"black\" d=\"M549.78,-203.24C562.3,-191.69 576.13,-178.92 588.62,-167.39\"/>\n",
       "<polygon fill=\"black\" stroke=\"black\" points=\"590.93,-170.02 595.9,-160.67 586.18,-164.88 590.93,-170.02\"/>\n",
       "</g>\n",
       "</g>\n",
       "</svg>\n"
      ],
      "text/plain": [
       "<graphviz.sources.Source at 0x2041fe1a320>"
      ]
     },
     "execution_count": 94,
     "metadata": {},
     "output_type": "execute_result"
    }
   ],
   "source": [
    "from graphviz import Source\n",
    "from sklearn import tree\n",
    "Source(tree.export_graphviz(decision_tree, out_file=None, feature_names=X.columns))"
   ]
  },
  {
   "cell_type": "markdown",
   "metadata": {
    "id": "b99AtZuj-NR8"
   },
   "source": [
    "Analyze the confusion matrix. Which classes are confidently classified by the model?"
   ]
  },
  {
   "cell_type": "code",
   "execution_count": 95,
   "metadata": {
    "colab": {
     "base_uri": "https://localhost:8080/",
     "height": 34
    },
    "id": "-7IrLSAx-PuK",
    "outputId": "e54c7989-2a1b-4054-e384-c42dd3c74d3f"
   },
   "outputs": [
    {
     "data": {
      "text/plain": [
       "{0: 1542, 1: 639}"
      ]
     },
     "execution_count": 95,
     "metadata": {},
     "output_type": "execute_result"
    }
   ],
   "source": [
    "unique, counts = np.unique(y_test, return_counts=True)\n",
    "dict(zip(unique, counts))"
   ]
  },
  {
   "cell_type": "code",
   "execution_count": 96,
   "metadata": {
    "colab": {
     "base_uri": "https://localhost:8080/",
     "height": 51
    },
    "id": "a9iK4zQt-SlP",
    "outputId": "256f6c4d-1123-4a97-dae1-b5a34ca0c29f"
   },
   "outputs": [
    {
     "data": {
      "text/plain": [
       "array([[1530,   12],\n",
       "       [  96,  543]], dtype=int64)"
      ]
     },
     "execution_count": 96,
     "metadata": {},
     "output_type": "execute_result"
    }
   ],
   "source": [
    "from sklearn.metrics import confusion_matrix\n",
    "y_pred = decision_tree.predict(X_test)\n",
    "confusion_matrix(y_test, y_pred)"
   ]
  },
  {
   "cell_type": "markdown",
   "metadata": {
    "id": "suPDWnoYaEPD"
   },
   "source": [
    "### Importance evaluation using SelectFromModel (still one decision tree)\n",
    "\n",
    "Source: https://github.com/oreilly-mlsec/book-resources/blob/master/chapter2/select-from-model-nslkdd.ipynb"
   ]
  },
  {
   "cell_type": "code",
   "execution_count": 97,
   "metadata": {
    "colab": {
     "base_uri": "https://localhost:8080/",
     "height": 272
    },
    "id": "hm7PM7f_aRei",
    "outputId": "c6023813-4233-4b05-d889-98a617b21b55"
   },
   "outputs": [
    {
     "data": {
      "text/plain": [
       "array([0.        , 0.        , 0.        , 0.        , 0.        ,\n",
       "       0.        , 0.        , 0.        , 0.        , 0.        ,\n",
       "       0.        , 0.        , 0.        , 0.        , 0.        ,\n",
       "       0.        , 0.        , 0.        , 0.        , 0.        ,\n",
       "       0.        , 0.1880674 , 0.        , 0.        , 0.        ,\n",
       "       0.        , 0.        , 0.        , 0.        , 0.        ,\n",
       "       0.        , 0.        , 0.        , 0.        , 0.        ,\n",
       "       0.        , 0.01969697, 0.        , 0.        , 0.73228391,\n",
       "       0.        , 0.        , 0.        , 0.        , 0.        ,\n",
       "       0.        , 0.        , 0.        , 0.        , 0.        ,\n",
       "       0.        , 0.        , 0.        , 0.        , 0.        ,\n",
       "       0.        , 0.        , 0.        , 0.        , 0.        ,\n",
       "       0.        , 0.05995172, 0.        , 0.        , 0.        ,\n",
       "       0.        , 0.        , 0.        , 0.        , 0.        ,\n",
       "       0.        , 0.        , 0.        , 0.        ])"
      ]
     },
     "execution_count": 97,
     "metadata": {},
     "output_type": "execute_result"
    }
   ],
   "source": [
    "from sklearn.feature_selection import SelectFromModel\n",
    "sfm = SelectFromModel(estimator=decision_tree).fit(X_train, y_train)\n",
    "sfm.estimator_.feature_importances_"
   ]
  },
  {
   "cell_type": "code",
   "execution_count": 98,
   "metadata": {
    "colab": {
     "base_uri": "https://localhost:8080/",
     "height": 34
    },
    "id": "Y0Sx8yJ_aW33",
    "outputId": "3a4f5abf-92b5-429c-e3c5-a28dbe0be19e"
   },
   "outputs": [
    {
     "data": {
      "text/plain": [
       "0.013513513513513514"
      ]
     },
     "execution_count": 98,
     "metadata": {},
     "output_type": "execute_result"
    }
   ],
   "source": [
    "sfm.threshold_"
   ]
  },
  {
   "cell_type": "code",
   "execution_count": 99,
   "metadata": {
    "colab": {
     "base_uri": "https://localhost:8080/",
     "height": 34
    },
    "id": "4iNlo5jIaaaL",
    "outputId": "d3683bfc-289b-414f-acec-eb6a60c1b09e"
   },
   "outputs": [
    {
     "name": "stdout",
     "output_type": "stream",
     "text": [
      "Original num features: 74, selected num features: 4\n"
     ]
    }
   ],
   "source": [
    "X_train_new = sfm.transform(X_train)\n",
    "print(\"Original num features: {}, selected num features: {}\"\n",
    "      .format(X_train.shape[1], X_train_new.shape[1]))"
   ]
  },
  {
   "cell_type": "code",
   "execution_count": 100,
   "metadata": {
    "colab": {
     "base_uri": "https://localhost:8080/",
     "height": 187
    },
    "id": "aBQxtLAwaegL",
    "outputId": "2c75fc3c-35e2-4532-fe8f-69fe909869df"
   },
   "outputs": [
    {
     "name": "stdout",
     "output_type": "stream",
     "text": [
      "0.\tPacket Length Mean - 0.7322839145124398\n",
      "1.\tFwd IAT Std - 0.18806739511105122\n",
      "2.\tSubflow Fwd Bytes - 0.05995171589905285\n",
      "3.\tBwd Packets/s - 0.019696974477456098\n",
      "4.\tBwd IAT Std - 0.0\n",
      "5.\tFwd IAT Mean - 0.0\n",
      "6.\tFwd IAT Max - 0.0\n",
      "7.\tFwd IAT Min - 0.0\n",
      "8.\tBwd IAT Total - 0.0\n",
      "9.\tBwd IAT Mean - 0.0\n"
     ]
    }
   ],
   "source": [
    "indices = np.argsort(decision_tree.feature_importances_)[::-1]\n",
    "for idx, i in enumerate(indices[:10]):\n",
    "    print(\"{}.\\t{} - {}\".format(idx, X_train.columns[i], decision_tree.feature_importances_[i]))"
   ]
  },
  {
   "cell_type": "markdown",
   "metadata": {
    "id": "duGKUsAzal52"
   },
   "source": [
    "### Evaluation of importance using RandomForestClassifier.feature_importances_ (move from one tree to a random forest, classification quality increases)"
   ]
  },
  {
   "cell_type": "code",
   "execution_count": 101,
   "metadata": {
    "colab": {
     "base_uri": "https://localhost:8080/",
     "height": 68
    },
    "id": "xo4E_wFeaqNd",
    "outputId": "1f00d02b-5dc1-47eb-8c5f-47a76b077109"
   },
   "outputs": [
    {
     "name": "stdout",
     "output_type": "stream",
     "text": [
      "R^2 Training Score: 0.99 \n",
      "R^2 Validation Score: 0.98 \n",
      "Out-of-bag Score: 0.98\n"
     ]
    }
   ],
   "source": [
    "from sklearn.ensemble import RandomForestClassifier\n",
    "\n",
    "rf = RandomForestClassifier(n_estimators=250, random_state=42, oob_score=True)\n",
    "rf.fit(X_train, y_train)\n",
    "# Score = mean accuracy on the given test data and labels\n",
    "print('R^2 Training Score: {:.2f} \\nR^2 Validation Score: {:.2f} \\nOut-of-bag Score: {:.2f}'\n",
    "      .format(rf.score(X_train, y_train), rf.score(X_test, y_test), rf.oob_score_))"
   ]
  },
  {
   "cell_type": "code",
   "execution_count": 102,
   "metadata": {
    "colab": {
     "base_uri": "https://localhost:8080/",
     "height": 357
    },
    "id": "byV6krktawE_",
    "outputId": "b43f9da0-593c-4ec1-f993-d61d78a65706"
   },
   "outputs": [
    {
     "name": "stdout",
     "output_type": "stream",
     "text": [
      "1.\t#51\t0.082\tAverage Packet Size\n",
      "2.\t#13\t0.075\tFlow Bytes/s\n",
      "3.\t#39\t0.061\tPacket Length Mean\n",
      "4.\t#7\t0.060\tFwd Packet Length Mean\n",
      "5.\t#38\t0.058\tMax Packet Length\n",
      "6.\t#23\t0.057\tFwd IAT Min\n",
      "7.\t#61\t0.053\tSubflow Fwd Bytes\n",
      "8.\t#52\t0.052\tAvg Fwd Segment Size\n",
      "9.\t#3\t0.043\tTotal Length of Fwd Packets\n",
      "10.\t#15\t0.032\tFlow IAT Mean\n",
      "11.\t#5\t0.031\tFwd Packet Length Max\n",
      "12.\t#21\t0.030\tFwd IAT Std\n",
      "13.\t#33\t0.027\tFwd Header Length\n",
      "14.\t#14\t0.026\tFlow Packets/s\n",
      "15.\t#35\t0.026\tFwd Packets/s\n",
      "16.\t#0\t0.024\tFlow Duration\n",
      "17.\t#20\t0.020\tFwd IAT Mean\n",
      "18.\t#17\t0.018\tFlow IAT Max\n",
      "19.\t#19\t0.017\tFwd IAT Total\n",
      "20.\t#16\t0.016\tFlow IAT Std\n"
     ]
    }
   ],
   "source": [
    "features = X.columns\n",
    "importances = rf.feature_importances_\n",
    "indices = np.argsort(importances)[::-1]\n",
    "webattack_features = []\n",
    "\n",
    "for index, i in enumerate(indices[:20]):\n",
    "    webattack_features.append(features[i])\n",
    "    print('{}.\\t#{}\\t{:.3f}\\t{}'.format(index + 1, i, importances[i], features[i]))"
   ]
  },
  {
   "cell_type": "markdown",
   "metadata": {
    "id": "3RXQUuqHa11b"
   },
   "source": [
    "For comparison, the results of the study [Sharafaldin2018] (compare relatively, without taking into account the multiplier):\n",
    " \n",
    "* Init Win F.Bytes 0.0200\n",
    "* Subflow F.Bytes 0.0145\n",
    "* Init Win B.Bytes 0.0129\n",
    "* Total Len F.Packets 0.0096\n",
    "\n",
    "And incorrect results [Kostas2018] (error was found in assessing the importance of features, line: *impor_bars = pd.DataFrame({'Features':refclasscol[0:20],'importance':importances[0:20]})*, the importances[0:20] sample does not take into account that the values are not sorted in descending order):\n",
    " \n",
    "* Flow Bytes/s 0.313402\n",
    "* Total Length of Fwd Packets 0.304917\n",
    "* Flow Duration 0.000485\n",
    "* Fwd Packet Length Max 0.00013"
   ]
  },
  {
   "cell_type": "code",
   "execution_count": 103,
   "metadata": {
    "colab": {
     "base_uri": "https://localhost:8080/",
     "height": 513
    },
    "id": "TPxzWeP4bHa5",
    "outputId": "5815f66e-3b0e-4c06-a7d6-6c0b1a49b59d"
   },
   "outputs": [
    {
     "data": {
      "image/png": "[encoded data removed]",
      "text/plain": [
       "<Figure size 1000x600 with 1 Axes>"
      ]
     },
     "metadata": {},
     "output_type": "display_data"
    }
   ],
   "source": [
    "indices = np.argsort(importances)[-20:]\n",
    "plt.rcParams['figure.figsize'] = (10, 6)\n",
    "plt.title('Feature Importances')\n",
    "plt.barh(range(len(indices)), importances[indices], color='#cccccc', align='center')\n",
    "plt.yticks(range(len(indices)), [features[i] for i in indices])\n",
    "plt.xlabel('Relative Importance')\n",
    "plt.grid()\n",
    "plt.savefig('feature_importances.png', dpi=300, bbox_inches='tight')\n",
    "plt.show()"
   ]
  },
  {
   "cell_type": "code",
   "execution_count": 104,
   "metadata": {
    "colab": {
     "base_uri": "https://localhost:8080/",
     "height": 51
    },
    "id": "QaYCrMC4cenU",
    "outputId": "da62ba7e-d7af-41e8-d9a9-0fab415eba7e"
   },
   "outputs": [
    {
     "data": {
      "text/plain": [
       "array([[1524,   18],\n",
       "       [  34,  605]], dtype=int64)"
      ]
     },
     "execution_count": 104,
     "metadata": {},
     "output_type": "execute_result"
    }
   ],
   "source": [
    "y_pred = rf.predict(X_test)\n",
    "confusion_matrix(y_test, y_pred)"
   ]
  },
  {
   "cell_type": "markdown",
   "metadata": {
    "id": "ktl5y47rcsiy"
   },
   "source": [
    "Next, for experiments, we keep the first max_features of features with maximum importance."
   ]
  },
  {
   "cell_type": "code",
   "execution_count": 105,
   "metadata": {
    "colab": {
     "base_uri": "https://localhost:8080/",
     "height": 357
    },
    "id": "Xriaa8XicuoB",
    "outputId": "8a171904-2d66-4d5f-b0e3-3f549f383cdc"
   },
   "outputs": [
    {
     "data": {
      "text/plain": [
       "['Average Packet Size',\n",
       " 'Flow Bytes/s',\n",
       " 'Packet Length Mean',\n",
       " 'Fwd Packet Length Mean',\n",
       " 'Max Packet Length',\n",
       " 'Fwd IAT Min',\n",
       " 'Subflow Fwd Bytes',\n",
       " 'Avg Fwd Segment Size',\n",
       " 'Total Length of Fwd Packets',\n",
       " 'Flow IAT Mean',\n",
       " 'Fwd Packet Length Max',\n",
       " 'Fwd IAT Std',\n",
       " 'Fwd Header Length',\n",
       " 'Flow Packets/s',\n",
       " 'Fwd Packets/s',\n",
       " 'Flow Duration',\n",
       " 'Fwd IAT Mean',\n",
       " 'Flow IAT Max',\n",
       " 'Fwd IAT Total',\n",
       " 'Flow IAT Std']"
      ]
     },
     "execution_count": 105,
     "metadata": {},
     "output_type": "execute_result"
    }
   ],
   "source": [
    "max_features = 20\n",
    "webattack_features = webattack_features[:max_features]\n",
    "webattack_features"
   ]
  },
  {
   "cell_type": "markdown",
   "metadata": {
    "id": "eLikdx9Legm0"
   },
   "source": [
    "## Analysis of selected features"
   ]
  },
  {
   "cell_type": "code",
   "execution_count": 106,
   "metadata": {
    "colab": {
     "base_uri": "https://localhost:8080/",
     "height": 716
    },
    "id": "l4AlTAUme5aJ",
    "outputId": "30c0dea5-f39d-4bf5-dc91-fb1619023a2c"
   },
   "outputs": [
    {
     "data": {
      "image/png": "[encoded data removed]",
      "text/plain": [
       "<Figure size 2000x1200 with 20 Axes>"
      ]
     },
     "metadata": {},
     "output_type": "display_data"
    }
   ],
   "source": [
    "df[webattack_features].hist(figsize=(20,12), bins=10);\n",
    "plt.savefig('features_hist.png', dpi=300)"
   ]
  },
  {
   "cell_type": "markdown",
   "metadata": {
    "id": "qURMpkLBf1ZH"
   },
   "source": [
    "Install Facets Overview\n",
    "\n",
    "https://pair-code.github.io/facets/"
   ]
  },
  {
   "cell_type": "code",
   "execution_count": 107,
   "metadata": {
    "colab": {
     "base_uri": "https://localhost:8080/",
     "height": 153
    },
    "id": "QH4RxYR14jjz",
    "outputId": "bb5e2d44-b5b2-401e-815f-e78c85304ad5"
   },
   "outputs": [
    {
     "name": "stdout",
     "output_type": "stream",
     "text": [
      "Requirement already satisfied: facets-overview in f:\\bharg\\python\\lib\\site-packages (1.1.1)\n",
      "Requirement already satisfied: numpy>=1.16.0 in f:\\bharg\\python\\lib\\site-packages (from facets-overview) (1.26.4)\n",
      "Requirement already satisfied: pandas>=0.22.0 in f:\\bharg\\python\\lib\\site-packages (from facets-overview) (2.2.0)\n",
      "Requirement already satisfied: protobuf>=3.20.0 in f:\\bharg\\python\\lib\\site-packages (from facets-overview) (4.25.3)\n",
      "Requirement already satisfied: python-dateutil>=2.8.2 in f:\\bharg\\python\\lib\\site-packages (from pandas>=0.22.0->facets-overview) (2.8.2)\n",
      "Requirement already satisfied: pytz>=2020.1 in f:\\bharg\\python\\lib\\site-packages (from pandas>=0.22.0->facets-overview) (2022.2.1)\n",
      "Requirement already satisfied: tzdata>=2022.7 in f:\\bharg\\python\\lib\\site-packages (from pandas>=0.22.0->facets-overview) (2023.4)\n",
      "Requirement already satisfied: six>=1.5 in f:\\bharg\\python\\lib\\site-packages (from python-dateutil>=2.8.2->pandas>=0.22.0->facets-overview) (1.16.0)\n"
     ]
    }
   ],
   "source": [
    "!pip install facets-overview"
   ]
  },
  {
   "cell_type": "markdown",
   "metadata": {
    "id": "_A9f2J2tf9eA"
   },
   "source": [
    "Create the feature stats for the datasets and stringify it."
   ]
  },
  {
   "cell_type": "code",
   "execution_count": 108,
   "metadata": {
    "id": "0juU1aJQ44sk"
   },
   "outputs": [
    {
     "name": "stderr",
     "output_type": "stream",
     "text": [
      "f:\\bharg\\Python\\lib\\site-packages\\facets_overview\\base_generic_feature_statistics_generator.py:121: FutureWarning: Series.ravel is deprecated. The underlying array is already 1D, so ravel is not necessary.  Use `to_numpy()` for conversion to a numpy array instead.\n",
      "  flattened = x.ravel()\n"
     ]
    }
   ],
   "source": [
    "import base64\n",
    "from facets_overview.generic_feature_statistics_generator import GenericFeatureStatisticsGenerator\n",
    "\n",
    "gfsg = GenericFeatureStatisticsGenerator()\n",
    "proto = gfsg.ProtoFromDataFrames([{'name': 'train + test', 'table': df[webattack_features]}])\n",
    "protostr = base64.b64encode(proto.SerializeToString()).decode(\"utf-8\")"
   ]
  },
  {
   "cell_type": "markdown",
   "metadata": {
    "id": "9Wqs7qELgBkM"
   },
   "source": [
    "Display the facets overview visualization for this data."
   ]
  },
  {
   "cell_type": "code",
   "execution_count": 109,
   "metadata": {
    "colab": {
     "base_uri": "https://localhost:8080/",
     "height": 1000
    },
    "id": "mYvQDTKH5YRr",
    "outputId": "332a8ae7-e3a6-4c18-983e-be180619ca2e"
   },
   "outputs": [
    {
     "name": "stderr",
     "output_type": "stream",
     "text": [
      "C:\\Users\\bharg\\AppData\\Local\\Temp\\ipykernel_3280\\3688853136.py:1: DeprecationWarning: Importing display from IPython.core.display is deprecated since IPython 7.14, please import from IPython display\n",
      "  from IPython.core.display import display, HTML\n"
     ]
    },
    {
     "data": {
      "text/html": [
       "\n",
       "        <script src=\"https://cdnjs.cloudflare.com/ajax/libs/webcomponentsjs/1.3.3/webcomponents-lite.js\"></script>\n",
       "        <link rel=\"import\" href=\"https://raw.githubusercontent.com/PAIR-code/facets/1.0.0/facets-dist/facets-jupyter.html\" >\n",
       "        <facets-overview id=\"elem\"></facets-overview>\n",
       "        <script>\n",
       "          document.querySelector(\"#elem\").protoInput = \"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\";\n",
       "        </script>"
      ],
      "text/plain": [
       "<IPython.core.display.HTML object>"
      ]
     },
     "metadata": {},
     "output_type": "display_data"
    }
   ],
   "source": [
    "from IPython.core.display import display, HTML\n",
    "\n",
    "HTML_TEMPLATE = \"\"\"\n",
    "        <script src=\"https://cdnjs.cloudflare.com/ajax/libs/webcomponentsjs/1.3.3/webcomponents-lite.js\"></script>\n",
    "        <link rel=\"import\" href=\"https://raw.githubusercontent.com/PAIR-code/facets/1.0.0/facets-dist/facets-jupyter.html\" >\n",
    "        <facets-overview id=\"elem\"></facets-overview>\n",
    "        <script>\n",
    "          document.querySelector(\"#elem\").protoInput = \"{protostr}\";\n",
    "        </script>\"\"\"\n",
    "html = HTML_TEMPLATE.format(protostr=protostr)\n",
    "display(HTML(html))"
   ]
  },
  {
   "cell_type": "code",
   "execution_count": 110,
   "metadata": {
    "colab": {
     "base_uri": "https://localhost:8080/",
     "height": 485
    },
    "id": "IIqD-DjrgbIr",
    "outputId": "745329d3-a08e-43e1-be61-3410b21254ca"
   },
   "outputs": [
    {
     "data": {
      "image/png": "[encoded data removed]",
      "text/plain": [
       "<Figure size 1600x500 with 2 Axes>"
      ]
     },
     "metadata": {},
     "output_type": "display_data"
    }
   ],
   "source": [
    "import seaborn as sns\n",
    "corr_matrix = df[webattack_features].corr()\n",
    "plt.rcParams['figure.figsize'] = (16, 5)\n",
    "g = sns.heatmap(corr_matrix, annot=True, fmt='.1g', cmap='Greys')\n",
    "g.set_xticklabels(g.get_xticklabels(), verticalalignment='top', horizontalalignment='right', rotation=30);\n",
    "plt.savefig('corr_heatmap.png', dpi=300, bbox_inches='tight')"
   ]
  },
  {
   "cell_type": "markdown",
   "metadata": {
    "id": "r2J6Pz0xglza"
   },
   "source": [
    "Remove correlated features."
   ]
  },
  {
   "cell_type": "code",
   "execution_count": 111,
   "metadata": {
    "colab": {
     "base_uri": "https://localhost:8080/",
     "height": 187
    },
    "id": "Nml7xnnqgoMz",
    "outputId": "0aa704e5-a5ce-4234-d88b-e8c30b7fc68c"
   },
   "outputs": [
    {
     "data": {
      "text/plain": [
       "['Average Packet Size',\n",
       " 'Flow Bytes/s',\n",
       " 'Fwd Packet Length Mean',\n",
       " 'Max Packet Length',\n",
       " 'Fwd IAT Min',\n",
       " 'Total Length of Fwd Packets',\n",
       " 'Flow IAT Mean',\n",
       " 'Fwd Packet Length Max',\n",
       " 'Fwd IAT Std',\n",
       " 'Fwd Header Length']"
      ]
     },
     "execution_count": 111,
     "metadata": {},
     "output_type": "execute_result"
    }
   ],
   "source": [
    "to_be_removed = {'Packet Length Mean', 'Avg Fwd Segment Size', 'Subflow Fwd Bytes', \n",
    "                 'Fwd Packets/s', 'Fwd IAT Total', 'Fwd IAT Max'}\n",
    "webattack_features = [item for item in webattack_features if item not in to_be_removed]\n",
    "webattack_features = webattack_features[:10]\n",
    "webattack_features"
   ]
  },
  {
   "cell_type": "code",
   "execution_count": 112,
   "metadata": {
    "colab": {
     "base_uri": "https://localhost:8080/",
     "height": 451
    },
    "id": "vHbm-bkbgDw8",
    "outputId": "446d41d9-78b9-47c8-d99b-7e56a4d0eab8"
   },
   "outputs": [
    {
     "data": {
      "image/png": "[encoded data removed]",
      "text/plain": [
       "<Figure size 600x500 with 2 Axes>"
      ]
     },
     "metadata": {},
     "output_type": "display_data"
    }
   ],
   "source": [
    "corr_matrix = df[webattack_features].corr()\n",
    "plt.rcParams['figure.figsize'] = (6, 5)\n",
    "sns.heatmap(corr_matrix, annot=True, fmt='.1g', cmap='Greys');"
   ]
  },
  {
   "cell_type": "markdown",
   "metadata": {
    "id": "eh-k8KdMhJ_Q"
   },
   "source": [
    "## Hyperparameter selection"
   ]
  },
  {
   "cell_type": "markdown",
   "metadata": {
    "id": "-jMiAnOthSIn"
   },
   "source": [
    "Reopen the dataset."
   ]
  },
  {
   "cell_type": "code",
   "execution_count": 113,
   "metadata": {
    "colab": {
     "base_uri": "https://localhost:8080/",
     "height": 34
    },
    "id": "vrwIysyAhKxI",
    "outputId": "6be7974a-d713-4c89-b147-8b8cebb7fba7"
   },
   "outputs": [
    {
     "name": "stdout",
     "output_type": "stream",
     "text": [
      "(7267, 10) (7267,)\n"
     ]
    }
   ],
   "source": [
    "from sklearn.model_selection import GridSearchCV\n",
    "\n",
    "df = pd.read_csv('web_attacks_balanced.csv')\n",
    "df['Label'] = df['Label'].apply(lambda x: 0 if x == 'BENIGN' else 1)\n",
    "y = df['Label'].values\n",
    "X = df[webattack_features]\n",
    "print(X.shape, y.shape)"
   ]
  },
  {
   "cell_type": "markdown",
   "metadata": {},
   "source": [
    "If necessary, we will work with our own dataset."
   ]
  },
  {
   "cell_type": "code",
   "execution_count": 114,
   "metadata": {},
   "outputs": [],
   "source": [
    "#df = pd.read_csv('mix_labelled.csv')\n",
    "#y = df['Label'].values\n",
    "#X = df[webattack_features]\n",
    "#print(X.shape, y.shape)"
   ]
  },
  {
   "cell_type": "markdown",
   "metadata": {
    "id": "PFYYEqnihZnZ"
   },
   "source": [
    "We get the list of RandomForestClassifier parameters."
   ]
  },
  {
   "cell_type": "code",
   "execution_count": 115,
   "metadata": {
    "colab": {
     "base_uri": "https://localhost:8080/",
     "height": 54
    },
    "id": "wc_IVcRPhU82",
    "outputId": "b246e3ad-4240-460b-f294-3ee8109e8b4e"
   },
   "outputs": [
    {
     "data": {
      "text/plain": [
       "dict_keys(['bootstrap', 'ccp_alpha', 'class_weight', 'criterion', 'max_depth', 'max_features', 'max_leaf_nodes', 'max_samples', 'min_impurity_decrease', 'min_samples_leaf', 'min_samples_split', 'min_weight_fraction_leaf', 'monotonic_cst', 'n_estimators', 'n_jobs', 'oob_score', 'random_state', 'verbose', 'warm_start'])"
      ]
     },
     "execution_count": 115,
     "metadata": {},
     "output_type": "execute_result"
    }
   ],
   "source": [
    "rfc = RandomForestClassifier(random_state=1)\n",
    "rfc.get_params().keys()"
   ]
  },
  {
   "cell_type": "markdown",
   "metadata": {
    "id": "LQ8VThpnheWD"
   },
   "source": [
    "For search of quasi-optimal value of one parameter we fix the others."
   ]
  },
  {
   "cell_type": "code",
   "execution_count": 116,
   "metadata": {
    "colab": {
     "base_uri": "https://localhost:8080/",
     "height": 51
    },
    "id": "4JoxI-axhdD7",
    "outputId": "211fa8fc-2493-48fd-d0d2-a48b6f2e06a4"
   },
   "outputs": [
    {
     "name": "stdout",
     "output_type": "stream",
     "text": [
      "CPU times: total: 17.1 s\n",
      "Wall time: 23.4 s\n"
     ]
    }
   ],
   "source": [
    "parameters = {'n_estimators': [10],\n",
    "              'min_samples_leaf': [3],\n",
    "              'max_features': [3], \n",
    "              'max_depth': [1, 2, 3, 4, 5, 6, 7, 8, 9, 10, 11, 13, 15, 17, 20, 30, 50]}\n",
    "scoring = 'accuracy'\n",
    "gcv = GridSearchCV(rfc, parameters, scoring=scoring, refit='f1', cv=10, return_train_score=True)\n",
    "get_ipython().run_line_magic('time', 'gcv.fit(X, y)')\n",
    "results = gcv.cv_results_"
   ]
  },
  {
   "cell_type": "code",
   "execution_count": 117,
   "metadata": {
    "colab": {
     "base_uri": "https://localhost:8080/",
     "height": 168
    },
    "id": "OOS-7FXchh31",
    "outputId": "b1a993d9-0a3e-4f59-f012-8c37b503c266"
   },
   "outputs": [
    {
     "data": {
      "text/html": [
       "<div>\n",
       "<style scoped>\n",
       "    .dataframe tbody tr th:only-of-type {\n",
       "        vertical-align: middle;\n",
       "    }\n",
       "\n",
       "    .dataframe tbody tr th {\n",
       "        vertical-align: top;\n",
       "    }\n",
       "\n",
       "    .dataframe thead th {\n",
       "        text-align: right;\n",
       "    }\n",
       "</style>\n",
       "<table border=\"1\" class=\"dataframe\">\n",
       "  <thead>\n",
       "    <tr style=\"text-align: right;\">\n",
       "      <th></th>\n",
       "      <th>mean_fit_time</th>\n",
       "      <th>std_fit_time</th>\n",
       "      <th>mean_score_time</th>\n",
       "      <th>std_score_time</th>\n",
       "      <th>param_max_depth</th>\n",
       "      <th>param_max_features</th>\n",
       "      <th>param_min_samples_leaf</th>\n",
       "      <th>param_n_estimators</th>\n",
       "      <th>params</th>\n",
       "      <th>split0_test_score</th>\n",
       "      <th>...</th>\n",
       "      <th>split2_train_score</th>\n",
       "      <th>split3_train_score</th>\n",
       "      <th>split4_train_score</th>\n",
       "      <th>split5_train_score</th>\n",
       "      <th>split6_train_score</th>\n",
       "      <th>split7_train_score</th>\n",
       "      <th>split8_train_score</th>\n",
       "      <th>split9_train_score</th>\n",
       "      <th>mean_train_score</th>\n",
       "      <th>std_train_score</th>\n",
       "    </tr>\n",
       "  </thead>\n",
       "  <tbody>\n",
       "    <tr>\n",
       "      <th>0</th>\n",
       "      <td>0.112297</td>\n",
       "      <td>0.093793</td>\n",
       "      <td>0.005291</td>\n",
       "      <td>0.005720</td>\n",
       "      <td>1</td>\n",
       "      <td>3</td>\n",
       "      <td>3</td>\n",
       "      <td>10</td>\n",
       "      <td>{'max_depth': 1, 'max_features': 3, 'min_sampl...</td>\n",
       "      <td>0.924347</td>\n",
       "      <td>...</td>\n",
       "      <td>0.911009</td>\n",
       "      <td>0.910245</td>\n",
       "      <td>0.909633</td>\n",
       "      <td>0.910550</td>\n",
       "      <td>0.906269</td>\n",
       "      <td>0.909494</td>\n",
       "      <td>0.907048</td>\n",
       "      <td>0.909647</td>\n",
       "      <td>0.909041</td>\n",
       "      <td>0.001520</td>\n",
       "    </tr>\n",
       "    <tr>\n",
       "      <th>1</th>\n",
       "      <td>0.087114</td>\n",
       "      <td>0.015714</td>\n",
       "      <td>0.006706</td>\n",
       "      <td>0.006930</td>\n",
       "      <td>2</td>\n",
       "      <td>3</td>\n",
       "      <td>3</td>\n",
       "      <td>10</td>\n",
       "      <td>{'max_depth': 2, 'max_features': 3, 'min_sampl...</td>\n",
       "      <td>0.938102</td>\n",
       "      <td>...</td>\n",
       "      <td>0.957645</td>\n",
       "      <td>0.956728</td>\n",
       "      <td>0.956728</td>\n",
       "      <td>0.957034</td>\n",
       "      <td>0.956881</td>\n",
       "      <td>0.952912</td>\n",
       "      <td>0.952454</td>\n",
       "      <td>0.957652</td>\n",
       "      <td>0.956363</td>\n",
       "      <td>0.001931</td>\n",
       "    </tr>\n",
       "    <tr>\n",
       "      <th>2</th>\n",
       "      <td>0.076414</td>\n",
       "      <td>0.009363</td>\n",
       "      <td>0.005556</td>\n",
       "      <td>0.007532</td>\n",
       "      <td>3</td>\n",
       "      <td>3</td>\n",
       "      <td>3</td>\n",
       "      <td>10</td>\n",
       "      <td>{'max_depth': 3, 'max_features': 3, 'min_sampl...</td>\n",
       "      <td>0.938102</td>\n",
       "      <td>...</td>\n",
       "      <td>0.959786</td>\n",
       "      <td>0.958869</td>\n",
       "      <td>0.959327</td>\n",
       "      <td>0.959939</td>\n",
       "      <td>0.959480</td>\n",
       "      <td>0.955511</td>\n",
       "      <td>0.955053</td>\n",
       "      <td>0.959639</td>\n",
       "      <td>0.958718</td>\n",
       "      <td>0.001778</td>\n",
       "    </tr>\n",
       "    <tr>\n",
       "      <th>3</th>\n",
       "      <td>0.119851</td>\n",
       "      <td>0.079787</td>\n",
       "      <td>0.002894</td>\n",
       "      <td>0.004823</td>\n",
       "      <td>4</td>\n",
       "      <td>3</td>\n",
       "      <td>3</td>\n",
       "      <td>10</td>\n",
       "      <td>{'max_depth': 4, 'max_features': 3, 'min_sampl...</td>\n",
       "      <td>0.954608</td>\n",
       "      <td>...</td>\n",
       "      <td>0.971560</td>\n",
       "      <td>0.971254</td>\n",
       "      <td>0.971254</td>\n",
       "      <td>0.971254</td>\n",
       "      <td>0.972477</td>\n",
       "      <td>0.973551</td>\n",
       "      <td>0.968965</td>\n",
       "      <td>0.973246</td>\n",
       "      <td>0.971744</td>\n",
       "      <td>0.001266</td>\n",
       "    </tr>\n",
       "    <tr>\n",
       "      <th>4</th>\n",
       "      <td>0.106035</td>\n",
       "      <td>0.017519</td>\n",
       "      <td>0.005230</td>\n",
       "      <td>0.005754</td>\n",
       "      <td>5</td>\n",
       "      <td>3</td>\n",
       "      <td>3</td>\n",
       "      <td>10</td>\n",
       "      <td>{'max_depth': 5, 'max_features': 3, 'min_sampl...</td>\n",
       "      <td>0.961486</td>\n",
       "      <td>...</td>\n",
       "      <td>0.975535</td>\n",
       "      <td>0.976300</td>\n",
       "      <td>0.976911</td>\n",
       "      <td>0.972018</td>\n",
       "      <td>0.977982</td>\n",
       "      <td>0.974927</td>\n",
       "      <td>0.974010</td>\n",
       "      <td>0.974469</td>\n",
       "      <td>0.975475</td>\n",
       "      <td>0.001804</td>\n",
       "    </tr>\n",
       "  </tbody>\n",
       "</table>\n",
       "<p>5 rows × 34 columns</p>\n",
       "</div>"
      ],
      "text/plain": [
       "   mean_fit_time  std_fit_time  mean_score_time  std_score_time  \\\n",
       "0       0.112297      0.093793         0.005291        0.005720   \n",
       "1       0.087114      0.015714         0.006706        0.006930   \n",
       "2       0.076414      0.009363         0.005556        0.007532   \n",
       "3       0.119851      0.079787         0.002894        0.004823   \n",
       "4       0.106035      0.017519         0.005230        0.005754   \n",
       "\n",
       "  param_max_depth param_max_features param_min_samples_leaf  \\\n",
       "0               1                  3                      3   \n",
       "1               2                  3                      3   \n",
       "2               3                  3                      3   \n",
       "3               4                  3                      3   \n",
       "4               5                  3                      3   \n",
       "\n",
       "  param_n_estimators                                             params  \\\n",
       "0                 10  {'max_depth': 1, 'max_features': 3, 'min_sampl...   \n",
       "1                 10  {'max_depth': 2, 'max_features': 3, 'min_sampl...   \n",
       "2                 10  {'max_depth': 3, 'max_features': 3, 'min_sampl...   \n",
       "3                 10  {'max_depth': 4, 'max_features': 3, 'min_sampl...   \n",
       "4                 10  {'max_depth': 5, 'max_features': 3, 'min_sampl...   \n",
       "\n",
       "   split0_test_score  ...  split2_train_score  split3_train_score  \\\n",
       "0           0.924347  ...            0.911009            0.910245   \n",
       "1           0.938102  ...            0.957645            0.956728   \n",
       "2           0.938102  ...            0.959786            0.958869   \n",
       "3           0.954608  ...            0.971560            0.971254   \n",
       "4           0.961486  ...            0.975535            0.976300   \n",
       "\n",
       "   split4_train_score  split5_train_score  split6_train_score  \\\n",
       "0            0.909633            0.910550            0.906269   \n",
       "1            0.956728            0.957034            0.956881   \n",
       "2            0.959327            0.959939            0.959480   \n",
       "3            0.971254            0.971254            0.972477   \n",
       "4            0.976911            0.972018            0.977982   \n",
       "\n",
       "   split7_train_score  split8_train_score  split9_train_score  \\\n",
       "0            0.909494            0.907048            0.909647   \n",
       "1            0.952912            0.952454            0.957652   \n",
       "2            0.955511            0.955053            0.959639   \n",
       "3            0.973551            0.968965            0.973246   \n",
       "4            0.974927            0.974010            0.974469   \n",
       "\n",
       "   mean_train_score  std_train_score  \n",
       "0          0.909041         0.001520  \n",
       "1          0.956363         0.001931  \n",
       "2          0.958718         0.001778  \n",
       "3          0.971744         0.001266  \n",
       "4          0.975475         0.001804  \n",
       "\n",
       "[5 rows x 34 columns]"
      ]
     },
     "execution_count": 117,
     "metadata": {},
     "output_type": "execute_result"
    }
   ],
   "source": [
    "cv_results = pd.DataFrame(gcv.cv_results_)\n",
    "cv_results.head()"
   ]
  },
  {
   "cell_type": "code",
   "execution_count": 118,
   "metadata": {
    "colab": {
     "base_uri": "https://localhost:8080/",
     "height": 406
    },
    "id": "9Y75B_c_hn3b",
    "outputId": "f467bbbc-6fd9-4bb5-ed8e-f68862d6cabd"
   },
   "outputs": [
    {
     "ename": "KeyError",
     "evalue": "'mean_train_score_a'",
     "output_type": "error",
     "traceback": [
      "\u001b[1;31m---------------------------------------------------------------------------\u001b[0m",
      "\u001b[1;31mKeyError\u001b[0m                                  Traceback (most recent call last)",
      "Cell \u001b[1;32mIn[118], line 16\u001b[0m\n\u001b[0;32m     14\u001b[0m \u001b[38;5;28;01mfor\u001b[39;00m scorer, color \u001b[38;5;129;01min\u001b[39;00m \u001b[38;5;28mzip\u001b[39m(\u001b[38;5;28msorted\u001b[39m(scoring), [\u001b[38;5;124m'\u001b[39m\u001b[38;5;124mg\u001b[39m\u001b[38;5;124m'\u001b[39m, \u001b[38;5;124m'\u001b[39m\u001b[38;5;124mk\u001b[39m\u001b[38;5;124m'\u001b[39m]):\n\u001b[0;32m     15\u001b[0m     \u001b[38;5;28;01mfor\u001b[39;00m sample, style \u001b[38;5;129;01min\u001b[39;00m ((\u001b[38;5;124m'\u001b[39m\u001b[38;5;124mtrain_score\u001b[39m\u001b[38;5;124m'\u001b[39m, \u001b[38;5;124m'\u001b[39m\u001b[38;5;124m--\u001b[39m\u001b[38;5;124m'\u001b[39m), (\u001b[38;5;124m'\u001b[39m\u001b[38;5;124mtest_score\u001b[39m\u001b[38;5;124m'\u001b[39m, \u001b[38;5;124m'\u001b[39m\u001b[38;5;124m-\u001b[39m\u001b[38;5;124m'\u001b[39m)):\n\u001b[1;32m---> 16\u001b[0m         sample_score_mean \u001b[38;5;241m=\u001b[39m \u001b[43mresults\u001b[49m\u001b[43m[\u001b[49m\u001b[38;5;124;43m'\u001b[39;49m\u001b[38;5;124;43mmean_\u001b[39;49m\u001b[38;5;132;43;01m%s\u001b[39;49;00m\u001b[38;5;124;43m_\u001b[39;49m\u001b[38;5;132;43;01m%s\u001b[39;49;00m\u001b[38;5;124;43m'\u001b[39;49m\u001b[43m \u001b[49m\u001b[38;5;241;43m%\u001b[39;49m\u001b[43m \u001b[49m\u001b[43m(\u001b[49m\u001b[43msample\u001b[49m\u001b[43m,\u001b[49m\u001b[43m \u001b[49m\u001b[43mscorer\u001b[49m\u001b[43m)\u001b[49m\u001b[43m]\u001b[49m\n\u001b[0;32m     17\u001b[0m         sample_score_std \u001b[38;5;241m=\u001b[39m results[\u001b[38;5;124m'\u001b[39m\u001b[38;5;124mstd_\u001b[39m\u001b[38;5;132;01m%s\u001b[39;00m\u001b[38;5;124m_\u001b[39m\u001b[38;5;132;01m%s\u001b[39;00m\u001b[38;5;124m'\u001b[39m \u001b[38;5;241m%\u001b[39m (sample, scorer)]\n\u001b[0;32m     18\u001b[0m         ax\u001b[38;5;241m.\u001b[39mfill_between(X_axis, sample_score_mean \u001b[38;5;241m-\u001b[39m sample_score_std,\n\u001b[0;32m     19\u001b[0m                         sample_score_mean \u001b[38;5;241m+\u001b[39m sample_score_std,\n\u001b[0;32m     20\u001b[0m                         alpha\u001b[38;5;241m=\u001b[39m\u001b[38;5;241m0.1\u001b[39m \u001b[38;5;28;01mif\u001b[39;00m sample \u001b[38;5;241m==\u001b[39m \u001b[38;5;124m'\u001b[39m\u001b[38;5;124mtest_score\u001b[39m\u001b[38;5;124m'\u001b[39m \u001b[38;5;28;01melse\u001b[39;00m \u001b[38;5;241m0\u001b[39m, color\u001b[38;5;241m=\u001b[39mcolor)\n",
      "\u001b[1;31mKeyError\u001b[0m: 'mean_train_score_a'"
     ]
    },
    {
     "data": {
      "image/png": "[encoded data removed]",
      "text/plain": [
       "<Figure size 800x500 with 1 Axes>"
      ]
     },
     "metadata": {},
     "output_type": "display_data"
    }
   ],
   "source": [
    "# https://scikit-learn.org/dev/auto_examples/model_selection/plot_multi_metric_evaluation.html\n",
    "plt.figure(figsize=(8, 5))\n",
    "plt.title(\"GridSearchCV results\", fontsize=14)\n",
    "\n",
    "plt.xlabel(\"max_depth\")\n",
    "plt.ylabel(\"f1\")\n",
    "\n",
    "ax = plt.gca()\n",
    "ax.set_xlim(1, 30)\n",
    "ax.set_ylim(0.9, 1)\n",
    "\n",
    "X_axis = np.array(results['param_max_depth'].data, dtype=float)\n",
    "\n",
    "for scorer, color in zip(sorted(scoring), ['g', 'k']):\n",
    "    for sample, style in (('train_score', '--'), ('test_score', '-')):\n",
    "        sample_score_mean = results['mean_%s_%s' % (sample, scorer)]\n",
    "        sample_score_std = results['std_%s_%s' % (sample, scorer)]\n",
    "        ax.fill_between(X_axis, sample_score_mean - sample_score_std,\n",
    "                        sample_score_mean + sample_score_std,\n",
    "                        alpha=0.1 if sample == 'test_score' else 0, color=color)\n",
    "        ax.plot(X_axis, sample_score_mean, style, color=color,\n",
    "                alpha=1 if sample == 'test_score' else 0.7,\n",
    "                label=\"%s (%s)\" % (scorer, sample))\n",
    "\n",
    "    best_index = np.nonzero(results['rank_test_%s' % scorer] == 1)[0][0]\n",
    "    best_score = results['mean_test_%s' % scorer][best_index]\n",
    "\n",
    "    # Plot a dotted vertical line at the best score for that scorer marked by x\n",
    "    ax.plot([X_axis[best_index], ] * 2, [0, best_score],\n",
    "            linestyle='-.', color=color, marker='x', markeredgewidth=3, ms=8)\n",
    "\n",
    "    # Annotate the best score for that scorer\n",
    "    ax.annotate(\"%0.2f\" % best_score,\n",
    "                (X_axis[best_index] + 0.3, best_score + 0.005))\n",
    "\n",
    "plt.legend(loc=\"best\")\n",
    "plt.grid(False)\n",
    "plt.savefig('GridSearchCV_results.png', dpi=300)\n",
    "plt.show()"
   ]
  },
  {
   "cell_type": "markdown",
   "metadata": {
    "id": "hZtnTrlNk_Uf"
   },
   "source": [
    "### Grid search"
   ]
  },
  {
   "cell_type": "code",
   "execution_count": 119,
   "metadata": {
    "id": "eaeAf6VRhwJq"
   },
   "outputs": [],
   "source": [
    "parameters = {'n_estimators': [30, 50, 70], \n",
    "              'min_samples_leaf': [3, 5, 7],\n",
    "              'max_features': [3, 5, 7, 10], \n",
    "              'max_depth': [10, 17, 23]}\n",
    "\n",
    "# parameters = {'n_estimators': [250]}"
   ]
  },
  {
   "cell_type": "markdown",
   "metadata": {},
   "source": [
    "The operation may take a long time, 3-5 minutes depending on the computer performance."
   ]
  },
  {
   "cell_type": "code",
   "execution_count": 120,
   "metadata": {
    "colab": {
     "base_uri": "https://localhost:8080/",
     "height": 374
    },
    "id": "O3ziP5BolEss",
    "outputId": "0f09bd77-fa69-472a-c195-b4b1f356fffd"
   },
   "outputs": [
    {
     "name": "stdout",
     "output_type": "stream",
     "text": [
      "CPU times: total: 3min 7s\n",
      "Wall time: 3min 33s\n"
     ]
    },
    {
     "data": {
      "text/html": [
       "<style>#sk-container-id-1 {\n",
       "  /* Definition of color scheme common for light and dark mode */\n",
       "  --sklearn-color-text: black;\n",
       "  --sklearn-color-line: gray;\n",
       "  /* Definition of color scheme for unfitted estimators */\n",
       "  --sklearn-color-unfitted-level-0: #fff5e6;\n",
       "  --sklearn-color-unfitted-level-1: #f6e4d2;\n",
       "  --sklearn-color-unfitted-level-2: #ffe0b3;\n",
       "  --sklearn-color-unfitted-level-3: chocolate;\n",
       "  /* Definition of color scheme for fitted estimators */\n",
       "  --sklearn-color-fitted-level-0: #f0f8ff;\n",
       "  --sklearn-color-fitted-level-1: #d4ebff;\n",
       "  --sklearn-color-fitted-level-2: #b3dbfd;\n",
       "  --sklearn-color-fitted-level-3: cornflowerblue;\n",
       "\n",
       "  /* Specific color for light theme */\n",
       "  --sklearn-color-text-on-default-background: var(--sg-text-color, var(--theme-code-foreground, var(--jp-content-font-color1, black)));\n",
       "  --sklearn-color-background: var(--sg-background-color, var(--theme-background, var(--jp-layout-color0, white)));\n",
       "  --sklearn-color-border-box: var(--sg-text-color, var(--theme-code-foreground, var(--jp-content-font-color1, black)));\n",
       "  --sklearn-color-icon: #696969;\n",
       "\n",
       "  @media (prefers-color-scheme: dark) {\n",
       "    /* Redefinition of color scheme for dark theme */\n",
       "    --sklearn-color-text-on-default-background: var(--sg-text-color, var(--theme-code-foreground, var(--jp-content-font-color1, white)));\n",
       "    --sklearn-color-background: var(--sg-background-color, var(--theme-background, var(--jp-layout-color0, #111)));\n",
       "    --sklearn-color-border-box: var(--sg-text-color, var(--theme-code-foreground, var(--jp-content-font-color1, white)));\n",
       "    --sklearn-color-icon: #878787;\n",
       "  }\n",
       "}\n",
       "\n",
       "#sk-container-id-1 {\n",
       "  color: var(--sklearn-color-text);\n",
       "}\n",
       "\n",
       "#sk-container-id-1 pre {\n",
       "  padding: 0;\n",
       "}\n",
       "\n",
       "#sk-container-id-1 input.sk-hidden--visually {\n",
       "  border: 0;\n",
       "  clip: rect(1px 1px 1px 1px);\n",
       "  clip: rect(1px, 1px, 1px, 1px);\n",
       "  height: 1px;\n",
       "  margin: -1px;\n",
       "  overflow: hidden;\n",
       "  padding: 0;\n",
       "  position: absolute;\n",
       "  width: 1px;\n",
       "}\n",
       "\n",
       "#sk-container-id-1 div.sk-dashed-wrapped {\n",
       "  border: 1px dashed var(--sklearn-color-line);\n",
       "  margin: 0 0.4em 0.5em 0.4em;\n",
       "  box-sizing: border-box;\n",
       "  padding-bottom: 0.4em;\n",
       "  background-color: var(--sklearn-color-background);\n",
       "}\n",
       "\n",
       "#sk-container-id-1 div.sk-container {\n",
       "  /* jupyter's `normalize.less` sets `[hidden] { display: none; }`\n",
       "     but bootstrap.min.css set `[hidden] { display: none !important; }`\n",
       "     so we also need the `!important` here to be able to override the\n",
       "     default hidden behavior on the sphinx rendered scikit-learn.org.\n",
       "     See: https://github.com/scikit-learn/scikit-learn/issues/21755 */\n",
       "  display: inline-block !important;\n",
       "  position: relative;\n",
       "}\n",
       "\n",
       "#sk-container-id-1 div.sk-text-repr-fallback {\n",
       "  display: none;\n",
       "}\n",
       "\n",
       "div.sk-parallel-item,\n",
       "div.sk-serial,\n",
       "div.sk-item {\n",
       "  /* draw centered vertical line to link estimators */\n",
       "  background-image: linear-gradient(var(--sklearn-color-text-on-default-background), var(--sklearn-color-text-on-default-background));\n",
       "  background-size: 2px 100%;\n",
       "  background-repeat: no-repeat;\n",
       "  background-position: center center;\n",
       "}\n",
       "\n",
       "/* Parallel-specific style estimator block */\n",
       "\n",
       "#sk-container-id-1 div.sk-parallel-item::after {\n",
       "  content: \"\";\n",
       "  width: 100%;\n",
       "  border-bottom: 2px solid var(--sklearn-color-text-on-default-background);\n",
       "  flex-grow: 1;\n",
       "}\n",
       "\n",
       "#sk-container-id-1 div.sk-parallel {\n",
       "  display: flex;\n",
       "  align-items: stretch;\n",
       "  justify-content: center;\n",
       "  background-color: var(--sklearn-color-background);\n",
       "  position: relative;\n",
       "}\n",
       "\n",
       "#sk-container-id-1 div.sk-parallel-item {\n",
       "  display: flex;\n",
       "  flex-direction: column;\n",
       "}\n",
       "\n",
       "#sk-container-id-1 div.sk-parallel-item:first-child::after {\n",
       "  align-self: flex-end;\n",
       "  width: 50%;\n",
       "}\n",
       "\n",
       "#sk-container-id-1 div.sk-parallel-item:last-child::after {\n",
       "  align-self: flex-start;\n",
       "  width: 50%;\n",
       "}\n",
       "\n",
       "#sk-container-id-1 div.sk-parallel-item:only-child::after {\n",
       "  width: 0;\n",
       "}\n",
       "\n",
       "/* Serial-specific style estimator block */\n",
       "\n",
       "#sk-container-id-1 div.sk-serial {\n",
       "  display: flex;\n",
       "  flex-direction: column;\n",
       "  align-items: center;\n",
       "  background-color: var(--sklearn-color-background);\n",
       "  padding-right: 1em;\n",
       "  padding-left: 1em;\n",
       "}\n",
       "\n",
       "\n",
       "/* Toggleable style: style used for estimator/Pipeline/ColumnTransformer box that is\n",
       "clickable and can be expanded/collapsed.\n",
       "- Pipeline and ColumnTransformer use this feature and define the default style\n",
       "- Estimators will overwrite some part of the style using the `sk-estimator` class\n",
       "*/\n",
       "\n",
       "/* Pipeline and ColumnTransformer style (default) */\n",
       "\n",
       "#sk-container-id-1 div.sk-toggleable {\n",
       "  /* Default theme specific background. It is overwritten whether we have a\n",
       "  specific estimator or a Pipeline/ColumnTransformer */\n",
       "  background-color: var(--sklearn-color-background);\n",
       "}\n",
       "\n",
       "/* Toggleable label */\n",
       "#sk-container-id-1 label.sk-toggleable__label {\n",
       "  cursor: pointer;\n",
       "  display: block;\n",
       "  width: 100%;\n",
       "  margin-bottom: 0;\n",
       "  padding: 0.5em;\n",
       "  box-sizing: border-box;\n",
       "  text-align: center;\n",
       "}\n",
       "\n",
       "#sk-container-id-1 label.sk-toggleable__label-arrow:before {\n",
       "  /* Arrow on the left of the label */\n",
       "  content: \"▸\";\n",
       "  float: left;\n",
       "  margin-right: 0.25em;\n",
       "  color: var(--sklearn-color-icon);\n",
       "}\n",
       "\n",
       "#sk-container-id-1 label.sk-toggleable__label-arrow:hover:before {\n",
       "  color: var(--sklearn-color-text);\n",
       "}\n",
       "\n",
       "/* Toggleable content - dropdown */\n",
       "\n",
       "#sk-container-id-1 div.sk-toggleable__content {\n",
       "  max-height: 0;\n",
       "  max-width: 0;\n",
       "  overflow: hidden;\n",
       "  text-align: left;\n",
       "  /* unfitted */\n",
       "  background-color: var(--sklearn-color-unfitted-level-0);\n",
       "}\n",
       "\n",
       "#sk-container-id-1 div.sk-toggleable__content.fitted {\n",
       "  /* fitted */\n",
       "  background-color: var(--sklearn-color-fitted-level-0);\n",
       "}\n",
       "\n",
       "#sk-container-id-1 div.sk-toggleable__content pre {\n",
       "  margin: 0.2em;\n",
       "  border-radius: 0.25em;\n",
       "  color: var(--sklearn-color-text);\n",
       "  /* unfitted */\n",
       "  background-color: var(--sklearn-color-unfitted-level-0);\n",
       "}\n",
       "\n",
       "#sk-container-id-1 div.sk-toggleable__content.fitted pre {\n",
       "  /* unfitted */\n",
       "  background-color: var(--sklearn-color-fitted-level-0);\n",
       "}\n",
       "\n",
       "#sk-container-id-1 input.sk-toggleable__control:checked~div.sk-toggleable__content {\n",
       "  /* Expand drop-down */\n",
       "  max-height: 200px;\n",
       "  max-width: 100%;\n",
       "  overflow: auto;\n",
       "}\n",
       "\n",
       "#sk-container-id-1 input.sk-toggleable__control:checked~label.sk-toggleable__label-arrow:before {\n",
       "  content: \"▾\";\n",
       "}\n",
       "\n",
       "/* Pipeline/ColumnTransformer-specific style */\n",
       "\n",
       "#sk-container-id-1 div.sk-label input.sk-toggleable__control:checked~label.sk-toggleable__label {\n",
       "  color: var(--sklearn-color-text);\n",
       "  background-color: var(--sklearn-color-unfitted-level-2);\n",
       "}\n",
       "\n",
       "#sk-container-id-1 div.sk-label.fitted input.sk-toggleable__control:checked~label.sk-toggleable__label {\n",
       "  background-color: var(--sklearn-color-fitted-level-2);\n",
       "}\n",
       "\n",
       "/* Estimator-specific style */\n",
       "\n",
       "/* Colorize estimator box */\n",
       "#sk-container-id-1 div.sk-estimator input.sk-toggleable__control:checked~label.sk-toggleable__label {\n",
       "  /* unfitted */\n",
       "  background-color: var(--sklearn-color-unfitted-level-2);\n",
       "}\n",
       "\n",
       "#sk-container-id-1 div.sk-estimator.fitted input.sk-toggleable__control:checked~label.sk-toggleable__label {\n",
       "  /* fitted */\n",
       "  background-color: var(--sklearn-color-fitted-level-2);\n",
       "}\n",
       "\n",
       "#sk-container-id-1 div.sk-label label.sk-toggleable__label,\n",
       "#sk-container-id-1 div.sk-label label {\n",
       "  /* The background is the default theme color */\n",
       "  color: var(--sklearn-color-text-on-default-background);\n",
       "}\n",
       "\n",
       "/* On hover, darken the color of the background */\n",
       "#sk-container-id-1 div.sk-label:hover label.sk-toggleable__label {\n",
       "  color: var(--sklearn-color-text);\n",
       "  background-color: var(--sklearn-color-unfitted-level-2);\n",
       "}\n",
       "\n",
       "/* Label box, darken color on hover, fitted */\n",
       "#sk-container-id-1 div.sk-label.fitted:hover label.sk-toggleable__label.fitted {\n",
       "  color: var(--sklearn-color-text);\n",
       "  background-color: var(--sklearn-color-fitted-level-2);\n",
       "}\n",
       "\n",
       "/* Estimator label */\n",
       "\n",
       "#sk-container-id-1 div.sk-label label {\n",
       "  font-family: monospace;\n",
       "  font-weight: bold;\n",
       "  display: inline-block;\n",
       "  line-height: 1.2em;\n",
       "}\n",
       "\n",
       "#sk-container-id-1 div.sk-label-container {\n",
       "  text-align: center;\n",
       "}\n",
       "\n",
       "/* Estimator-specific */\n",
       "#sk-container-id-1 div.sk-estimator {\n",
       "  font-family: monospace;\n",
       "  border: 1px dotted var(--sklearn-color-border-box);\n",
       "  border-radius: 0.25em;\n",
       "  box-sizing: border-box;\n",
       "  margin-bottom: 0.5em;\n",
       "  /* unfitted */\n",
       "  background-color: var(--sklearn-color-unfitted-level-0);\n",
       "}\n",
       "\n",
       "#sk-container-id-1 div.sk-estimator.fitted {\n",
       "  /* fitted */\n",
       "  background-color: var(--sklearn-color-fitted-level-0);\n",
       "}\n",
       "\n",
       "/* on hover */\n",
       "#sk-container-id-1 div.sk-estimator:hover {\n",
       "  /* unfitted */\n",
       "  background-color: var(--sklearn-color-unfitted-level-2);\n",
       "}\n",
       "\n",
       "#sk-container-id-1 div.sk-estimator.fitted:hover {\n",
       "  /* fitted */\n",
       "  background-color: var(--sklearn-color-fitted-level-2);\n",
       "}\n",
       "\n",
       "/* Specification for estimator info (e.g. \"i\" and \"?\") */\n",
       "\n",
       "/* Common style for \"i\" and \"?\" */\n",
       "\n",
       ".sk-estimator-doc-link,\n",
       "a:link.sk-estimator-doc-link,\n",
       "a:visited.sk-estimator-doc-link {\n",
       "  float: right;\n",
       "  font-size: smaller;\n",
       "  line-height: 1em;\n",
       "  font-family: monospace;\n",
       "  background-color: var(--sklearn-color-background);\n",
       "  border-radius: 1em;\n",
       "  height: 1em;\n",
       "  width: 1em;\n",
       "  text-decoration: none !important;\n",
       "  margin-left: 1ex;\n",
       "  /* unfitted */\n",
       "  border: var(--sklearn-color-unfitted-level-1) 1pt solid;\n",
       "  color: var(--sklearn-color-unfitted-level-1);\n",
       "}\n",
       "\n",
       ".sk-estimator-doc-link.fitted,\n",
       "a:link.sk-estimator-doc-link.fitted,\n",
       "a:visited.sk-estimator-doc-link.fitted {\n",
       "  /* fitted */\n",
       "  border: var(--sklearn-color-fitted-level-1) 1pt solid;\n",
       "  color: var(--sklearn-color-fitted-level-1);\n",
       "}\n",
       "\n",
       "/* On hover */\n",
       "div.sk-estimator:hover .sk-estimator-doc-link:hover,\n",
       ".sk-estimator-doc-link:hover,\n",
       "div.sk-label-container:hover .sk-estimator-doc-link:hover,\n",
       ".sk-estimator-doc-link:hover {\n",
       "  /* unfitted */\n",
       "  background-color: var(--sklearn-color-unfitted-level-3);\n",
       "  color: var(--sklearn-color-background);\n",
       "  text-decoration: none;\n",
       "}\n",
       "\n",
       "div.sk-estimator.fitted:hover .sk-estimator-doc-link.fitted:hover,\n",
       ".sk-estimator-doc-link.fitted:hover,\n",
       "div.sk-label-container:hover .sk-estimator-doc-link.fitted:hover,\n",
       ".sk-estimator-doc-link.fitted:hover {\n",
       "  /* fitted */\n",
       "  background-color: var(--sklearn-color-fitted-level-3);\n",
       "  color: var(--sklearn-color-background);\n",
       "  text-decoration: none;\n",
       "}\n",
       "\n",
       "/* Span, style for the box shown on hovering the info icon */\n",
       ".sk-estimator-doc-link span {\n",
       "  display: none;\n",
       "  z-index: 9999;\n",
       "  position: relative;\n",
       "  font-weight: normal;\n",
       "  right: .2ex;\n",
       "  padding: .5ex;\n",
       "  margin: .5ex;\n",
       "  width: min-content;\n",
       "  min-width: 20ex;\n",
       "  max-width: 50ex;\n",
       "  color: var(--sklearn-color-text);\n",
       "  box-shadow: 2pt 2pt 4pt #999;\n",
       "  /* unfitted */\n",
       "  background: var(--sklearn-color-unfitted-level-0);\n",
       "  border: .5pt solid var(--sklearn-color-unfitted-level-3);\n",
       "}\n",
       "\n",
       ".sk-estimator-doc-link.fitted span {\n",
       "  /* fitted */\n",
       "  background: var(--sklearn-color-fitted-level-0);\n",
       "  border: var(--sklearn-color-fitted-level-3);\n",
       "}\n",
       "\n",
       ".sk-estimator-doc-link:hover span {\n",
       "  display: block;\n",
       "}\n",
       "\n",
       "/* \"?\"-specific style due to the `<a>` HTML tag */\n",
       "\n",
       "#sk-container-id-1 a.estimator_doc_link {\n",
       "  float: right;\n",
       "  font-size: 1rem;\n",
       "  line-height: 1em;\n",
       "  font-family: monospace;\n",
       "  background-color: var(--sklearn-color-background);\n",
       "  border-radius: 1rem;\n",
       "  height: 1rem;\n",
       "  width: 1rem;\n",
       "  text-decoration: none;\n",
       "  /* unfitted */\n",
       "  color: var(--sklearn-color-unfitted-level-1);\n",
       "  border: var(--sklearn-color-unfitted-level-1) 1pt solid;\n",
       "}\n",
       "\n",
       "#sk-container-id-1 a.estimator_doc_link.fitted {\n",
       "  /* fitted */\n",
       "  border: var(--sklearn-color-fitted-level-1) 1pt solid;\n",
       "  color: var(--sklearn-color-fitted-level-1);\n",
       "}\n",
       "\n",
       "/* On hover */\n",
       "#sk-container-id-1 a.estimator_doc_link:hover {\n",
       "  /* unfitted */\n",
       "  background-color: var(--sklearn-color-unfitted-level-3);\n",
       "  color: var(--sklearn-color-background);\n",
       "  text-decoration: none;\n",
       "}\n",
       "\n",
       "#sk-container-id-1 a.estimator_doc_link.fitted:hover {\n",
       "  /* fitted */\n",
       "  background-color: var(--sklearn-color-fitted-level-3);\n",
       "}\n",
       "</style><div id=\"sk-container-id-1\" class=\"sk-top-container\"><div class=\"sk-text-repr-fallback\"><pre>GridSearchCV(cv=3, estimator=RandomForestClassifier(random_state=1),\n",
       "             param_grid={&#x27;max_depth&#x27;: [10, 17, 23],\n",
       "                         &#x27;max_features&#x27;: [3, 5, 7, 10],\n",
       "                         &#x27;min_samples_leaf&#x27;: [3, 5, 7],\n",
       "                         &#x27;n_estimators&#x27;: [30, 50, 70]},\n",
       "             refit=&#x27;f1&#x27;, return_train_score=True, scoring=&#x27;accuracy&#x27;)</pre><b>In a Jupyter environment, please rerun this cell to show the HTML representation or trust the notebook. <br />On GitHub, the HTML representation is unable to render, please try loading this page with nbviewer.org.</b></div><div class=\"sk-container\" hidden><div class=\"sk-item sk-dashed-wrapped\"><div class=\"sk-label-container\"><div class=\"sk-label fitted sk-toggleable\"><input class=\"sk-toggleable__control sk-hidden--visually\" id=\"sk-estimator-id-1\" type=\"checkbox\" ><label for=\"sk-estimator-id-1\" class=\"sk-toggleable__label fitted sk-toggleable__label-arrow fitted\">&nbsp;&nbsp;GridSearchCV<a class=\"sk-estimator-doc-link fitted\" rel=\"noreferrer\" target=\"_blank\" href=\"https://scikit-learn.org/1.4/modules/generated/sklearn.model_selection.GridSearchCV.html\">?<span>Documentation for GridSearchCV</span></a><span class=\"sk-estimator-doc-link fitted\">i<span>Fitted</span></span></label><div class=\"sk-toggleable__content fitted\"><pre>GridSearchCV(cv=3, estimator=RandomForestClassifier(random_state=1),\n",
       "             param_grid={&#x27;max_depth&#x27;: [10, 17, 23],\n",
       "                         &#x27;max_features&#x27;: [3, 5, 7, 10],\n",
       "                         &#x27;min_samples_leaf&#x27;: [3, 5, 7],\n",
       "                         &#x27;n_estimators&#x27;: [30, 50, 70]},\n",
       "             refit=&#x27;f1&#x27;, return_train_score=True, scoring=&#x27;accuracy&#x27;)</pre></div> </div></div><div class=\"sk-parallel\"><div class=\"sk-parallel-item\"><div class=\"sk-item\"><div class=\"sk-label-container\"><div class=\"sk-label fitted sk-toggleable\"><input class=\"sk-toggleable__control sk-hidden--visually\" id=\"sk-estimator-id-2\" type=\"checkbox\" ><label for=\"sk-estimator-id-2\" class=\"sk-toggleable__label fitted sk-toggleable__label-arrow fitted\">estimator: RandomForestClassifier</label><div class=\"sk-toggleable__content fitted\"><pre>RandomForestClassifier(random_state=1)</pre></div> </div></div><div class=\"sk-serial\"><div class=\"sk-item\"><div class=\"sk-estimator fitted sk-toggleable\"><input class=\"sk-toggleable__control sk-hidden--visually\" id=\"sk-estimator-id-3\" type=\"checkbox\" ><label for=\"sk-estimator-id-3\" class=\"sk-toggleable__label fitted sk-toggleable__label-arrow fitted\">&nbsp;RandomForestClassifier<a class=\"sk-estimator-doc-link fitted\" rel=\"noreferrer\" target=\"_blank\" href=\"https://scikit-learn.org/1.4/modules/generated/sklearn.ensemble.RandomForestClassifier.html\">?<span>Documentation for RandomForestClassifier</span></a></label><div class=\"sk-toggleable__content fitted\"><pre>RandomForestClassifier(random_state=1)</pre></div> </div></div></div></div></div></div></div></div></div>"
      ],
      "text/plain": [
       "GridSearchCV(cv=3, estimator=RandomForestClassifier(random_state=1),\n",
       "             param_grid={'max_depth': [10, 17, 23],\n",
       "                         'max_features': [3, 5, 7, 10],\n",
       "                         'min_samples_leaf': [3, 5, 7],\n",
       "                         'n_estimators': [30, 50, 70]},\n",
       "             refit='f1', return_train_score=True, scoring='accuracy')"
      ]
     },
     "execution_count": 120,
     "metadata": {},
     "output_type": "execute_result"
    }
   ],
   "source": [
    "gcv = GridSearchCV(rfc, parameters, scoring=scoring, refit='f1', cv=3, return_train_score=True)\n",
    "get_ipython().run_line_magic('time', 'gcv.fit(X, y)')"
   ]
  },
  {
   "cell_type": "markdown",
   "metadata": {
    "id": "vwi5Ds61mirz"
   },
   "source": [
    "Let's take a look at the results of the parameter selection."
   ]
  },
  {
   "cell_type": "code",
   "execution_count": 121,
   "metadata": {
    "colab": {
     "base_uri": "https://localhost:8080/",
     "height": 153
    },
    "id": "vi47XwmNmeHT",
    "outputId": "5680d386-af3e-459f-831a-41594fb99765"
   },
   "outputs": [
    {
     "data": {
      "text/html": [
       "<style>#sk-container-id-2 {\n",
       "  /* Definition of color scheme common for light and dark mode */\n",
       "  --sklearn-color-text: black;\n",
       "  --sklearn-color-line: gray;\n",
       "  /* Definition of color scheme for unfitted estimators */\n",
       "  --sklearn-color-unfitted-level-0: #fff5e6;\n",
       "  --sklearn-color-unfitted-level-1: #f6e4d2;\n",
       "  --sklearn-color-unfitted-level-2: #ffe0b3;\n",
       "  --sklearn-color-unfitted-level-3: chocolate;\n",
       "  /* Definition of color scheme for fitted estimators */\n",
       "  --sklearn-color-fitted-level-0: #f0f8ff;\n",
       "  --sklearn-color-fitted-level-1: #d4ebff;\n",
       "  --sklearn-color-fitted-level-2: #b3dbfd;\n",
       "  --sklearn-color-fitted-level-3: cornflowerblue;\n",
       "\n",
       "  /* Specific color for light theme */\n",
       "  --sklearn-color-text-on-default-background: var(--sg-text-color, var(--theme-code-foreground, var(--jp-content-font-color1, black)));\n",
       "  --sklearn-color-background: var(--sg-background-color, var(--theme-background, var(--jp-layout-color0, white)));\n",
       "  --sklearn-color-border-box: var(--sg-text-color, var(--theme-code-foreground, var(--jp-content-font-color1, black)));\n",
       "  --sklearn-color-icon: #696969;\n",
       "\n",
       "  @media (prefers-color-scheme: dark) {\n",
       "    /* Redefinition of color scheme for dark theme */\n",
       "    --sklearn-color-text-on-default-background: var(--sg-text-color, var(--theme-code-foreground, var(--jp-content-font-color1, white)));\n",
       "    --sklearn-color-background: var(--sg-background-color, var(--theme-background, var(--jp-layout-color0, #111)));\n",
       "    --sklearn-color-border-box: var(--sg-text-color, var(--theme-code-foreground, var(--jp-content-font-color1, white)));\n",
       "    --sklearn-color-icon: #878787;\n",
       "  }\n",
       "}\n",
       "\n",
       "#sk-container-id-2 {\n",
       "  color: var(--sklearn-color-text);\n",
       "}\n",
       "\n",
       "#sk-container-id-2 pre {\n",
       "  padding: 0;\n",
       "}\n",
       "\n",
       "#sk-container-id-2 input.sk-hidden--visually {\n",
       "  border: 0;\n",
       "  clip: rect(1px 1px 1px 1px);\n",
       "  clip: rect(1px, 1px, 1px, 1px);\n",
       "  height: 1px;\n",
       "  margin: -1px;\n",
       "  overflow: hidden;\n",
       "  padding: 0;\n",
       "  position: absolute;\n",
       "  width: 1px;\n",
       "}\n",
       "\n",
       "#sk-container-id-2 div.sk-dashed-wrapped {\n",
       "  border: 1px dashed var(--sklearn-color-line);\n",
       "  margin: 0 0.4em 0.5em 0.4em;\n",
       "  box-sizing: border-box;\n",
       "  padding-bottom: 0.4em;\n",
       "  background-color: var(--sklearn-color-background);\n",
       "}\n",
       "\n",
       "#sk-container-id-2 div.sk-container {\n",
       "  /* jupyter's `normalize.less` sets `[hidden] { display: none; }`\n",
       "     but bootstrap.min.css set `[hidden] { display: none !important; }`\n",
       "     so we also need the `!important` here to be able to override the\n",
       "     default hidden behavior on the sphinx rendered scikit-learn.org.\n",
       "     See: https://github.com/scikit-learn/scikit-learn/issues/21755 */\n",
       "  display: inline-block !important;\n",
       "  position: relative;\n",
       "}\n",
       "\n",
       "#sk-container-id-2 div.sk-text-repr-fallback {\n",
       "  display: none;\n",
       "}\n",
       "\n",
       "div.sk-parallel-item,\n",
       "div.sk-serial,\n",
       "div.sk-item {\n",
       "  /* draw centered vertical line to link estimators */\n",
       "  background-image: linear-gradient(var(--sklearn-color-text-on-default-background), var(--sklearn-color-text-on-default-background));\n",
       "  background-size: 2px 100%;\n",
       "  background-repeat: no-repeat;\n",
       "  background-position: center center;\n",
       "}\n",
       "\n",
       "/* Parallel-specific style estimator block */\n",
       "\n",
       "#sk-container-id-2 div.sk-parallel-item::after {\n",
       "  content: \"\";\n",
       "  width: 100%;\n",
       "  border-bottom: 2px solid var(--sklearn-color-text-on-default-background);\n",
       "  flex-grow: 1;\n",
       "}\n",
       "\n",
       "#sk-container-id-2 div.sk-parallel {\n",
       "  display: flex;\n",
       "  align-items: stretch;\n",
       "  justify-content: center;\n",
       "  background-color: var(--sklearn-color-background);\n",
       "  position: relative;\n",
       "}\n",
       "\n",
       "#sk-container-id-2 div.sk-parallel-item {\n",
       "  display: flex;\n",
       "  flex-direction: column;\n",
       "}\n",
       "\n",
       "#sk-container-id-2 div.sk-parallel-item:first-child::after {\n",
       "  align-self: flex-end;\n",
       "  width: 50%;\n",
       "}\n",
       "\n",
       "#sk-container-id-2 div.sk-parallel-item:last-child::after {\n",
       "  align-self: flex-start;\n",
       "  width: 50%;\n",
       "}\n",
       "\n",
       "#sk-container-id-2 div.sk-parallel-item:only-child::after {\n",
       "  width: 0;\n",
       "}\n",
       "\n",
       "/* Serial-specific style estimator block */\n",
       "\n",
       "#sk-container-id-2 div.sk-serial {\n",
       "  display: flex;\n",
       "  flex-direction: column;\n",
       "  align-items: center;\n",
       "  background-color: var(--sklearn-color-background);\n",
       "  padding-right: 1em;\n",
       "  padding-left: 1em;\n",
       "}\n",
       "\n",
       "\n",
       "/* Toggleable style: style used for estimator/Pipeline/ColumnTransformer box that is\n",
       "clickable and can be expanded/collapsed.\n",
       "- Pipeline and ColumnTransformer use this feature and define the default style\n",
       "- Estimators will overwrite some part of the style using the `sk-estimator` class\n",
       "*/\n",
       "\n",
       "/* Pipeline and ColumnTransformer style (default) */\n",
       "\n",
       "#sk-container-id-2 div.sk-toggleable {\n",
       "  /* Default theme specific background. It is overwritten whether we have a\n",
       "  specific estimator or a Pipeline/ColumnTransformer */\n",
       "  background-color: var(--sklearn-color-background);\n",
       "}\n",
       "\n",
       "/* Toggleable label */\n",
       "#sk-container-id-2 label.sk-toggleable__label {\n",
       "  cursor: pointer;\n",
       "  display: block;\n",
       "  width: 100%;\n",
       "  margin-bottom: 0;\n",
       "  padding: 0.5em;\n",
       "  box-sizing: border-box;\n",
       "  text-align: center;\n",
       "}\n",
       "\n",
       "#sk-container-id-2 label.sk-toggleable__label-arrow:before {\n",
       "  /* Arrow on the left of the label */\n",
       "  content: \"▸\";\n",
       "  float: left;\n",
       "  margin-right: 0.25em;\n",
       "  color: var(--sklearn-color-icon);\n",
       "}\n",
       "\n",
       "#sk-container-id-2 label.sk-toggleable__label-arrow:hover:before {\n",
       "  color: var(--sklearn-color-text);\n",
       "}\n",
       "\n",
       "/* Toggleable content - dropdown */\n",
       "\n",
       "#sk-container-id-2 div.sk-toggleable__content {\n",
       "  max-height: 0;\n",
       "  max-width: 0;\n",
       "  overflow: hidden;\n",
       "  text-align: left;\n",
       "  /* unfitted */\n",
       "  background-color: var(--sklearn-color-unfitted-level-0);\n",
       "}\n",
       "\n",
       "#sk-container-id-2 div.sk-toggleable__content.fitted {\n",
       "  /* fitted */\n",
       "  background-color: var(--sklearn-color-fitted-level-0);\n",
       "}\n",
       "\n",
       "#sk-container-id-2 div.sk-toggleable__content pre {\n",
       "  margin: 0.2em;\n",
       "  border-radius: 0.25em;\n",
       "  color: var(--sklearn-color-text);\n",
       "  /* unfitted */\n",
       "  background-color: var(--sklearn-color-unfitted-level-0);\n",
       "}\n",
       "\n",
       "#sk-container-id-2 div.sk-toggleable__content.fitted pre {\n",
       "  /* unfitted */\n",
       "  background-color: var(--sklearn-color-fitted-level-0);\n",
       "}\n",
       "\n",
       "#sk-container-id-2 input.sk-toggleable__control:checked~div.sk-toggleable__content {\n",
       "  /* Expand drop-down */\n",
       "  max-height: 200px;\n",
       "  max-width: 100%;\n",
       "  overflow: auto;\n",
       "}\n",
       "\n",
       "#sk-container-id-2 input.sk-toggleable__control:checked~label.sk-toggleable__label-arrow:before {\n",
       "  content: \"▾\";\n",
       "}\n",
       "\n",
       "/* Pipeline/ColumnTransformer-specific style */\n",
       "\n",
       "#sk-container-id-2 div.sk-label input.sk-toggleable__control:checked~label.sk-toggleable__label {\n",
       "  color: var(--sklearn-color-text);\n",
       "  background-color: var(--sklearn-color-unfitted-level-2);\n",
       "}\n",
       "\n",
       "#sk-container-id-2 div.sk-label.fitted input.sk-toggleable__control:checked~label.sk-toggleable__label {\n",
       "  background-color: var(--sklearn-color-fitted-level-2);\n",
       "}\n",
       "\n",
       "/* Estimator-specific style */\n",
       "\n",
       "/* Colorize estimator box */\n",
       "#sk-container-id-2 div.sk-estimator input.sk-toggleable__control:checked~label.sk-toggleable__label {\n",
       "  /* unfitted */\n",
       "  background-color: var(--sklearn-color-unfitted-level-2);\n",
       "}\n",
       "\n",
       "#sk-container-id-2 div.sk-estimator.fitted input.sk-toggleable__control:checked~label.sk-toggleable__label {\n",
       "  /* fitted */\n",
       "  background-color: var(--sklearn-color-fitted-level-2);\n",
       "}\n",
       "\n",
       "#sk-container-id-2 div.sk-label label.sk-toggleable__label,\n",
       "#sk-container-id-2 div.sk-label label {\n",
       "  /* The background is the default theme color */\n",
       "  color: var(--sklearn-color-text-on-default-background);\n",
       "}\n",
       "\n",
       "/* On hover, darken the color of the background */\n",
       "#sk-container-id-2 div.sk-label:hover label.sk-toggleable__label {\n",
       "  color: var(--sklearn-color-text);\n",
       "  background-color: var(--sklearn-color-unfitted-level-2);\n",
       "}\n",
       "\n",
       "/* Label box, darken color on hover, fitted */\n",
       "#sk-container-id-2 div.sk-label.fitted:hover label.sk-toggleable__label.fitted {\n",
       "  color: var(--sklearn-color-text);\n",
       "  background-color: var(--sklearn-color-fitted-level-2);\n",
       "}\n",
       "\n",
       "/* Estimator label */\n",
       "\n",
       "#sk-container-id-2 div.sk-label label {\n",
       "  font-family: monospace;\n",
       "  font-weight: bold;\n",
       "  display: inline-block;\n",
       "  line-height: 1.2em;\n",
       "}\n",
       "\n",
       "#sk-container-id-2 div.sk-label-container {\n",
       "  text-align: center;\n",
       "}\n",
       "\n",
       "/* Estimator-specific */\n",
       "#sk-container-id-2 div.sk-estimator {\n",
       "  font-family: monospace;\n",
       "  border: 1px dotted var(--sklearn-color-border-box);\n",
       "  border-radius: 0.25em;\n",
       "  box-sizing: border-box;\n",
       "  margin-bottom: 0.5em;\n",
       "  /* unfitted */\n",
       "  background-color: var(--sklearn-color-unfitted-level-0);\n",
       "}\n",
       "\n",
       "#sk-container-id-2 div.sk-estimator.fitted {\n",
       "  /* fitted */\n",
       "  background-color: var(--sklearn-color-fitted-level-0);\n",
       "}\n",
       "\n",
       "/* on hover */\n",
       "#sk-container-id-2 div.sk-estimator:hover {\n",
       "  /* unfitted */\n",
       "  background-color: var(--sklearn-color-unfitted-level-2);\n",
       "}\n",
       "\n",
       "#sk-container-id-2 div.sk-estimator.fitted:hover {\n",
       "  /* fitted */\n",
       "  background-color: var(--sklearn-color-fitted-level-2);\n",
       "}\n",
       "\n",
       "/* Specification for estimator info (e.g. \"i\" and \"?\") */\n",
       "\n",
       "/* Common style for \"i\" and \"?\" */\n",
       "\n",
       ".sk-estimator-doc-link,\n",
       "a:link.sk-estimator-doc-link,\n",
       "a:visited.sk-estimator-doc-link {\n",
       "  float: right;\n",
       "  font-size: smaller;\n",
       "  line-height: 1em;\n",
       "  font-family: monospace;\n",
       "  background-color: var(--sklearn-color-background);\n",
       "  border-radius: 1em;\n",
       "  height: 1em;\n",
       "  width: 1em;\n",
       "  text-decoration: none !important;\n",
       "  margin-left: 1ex;\n",
       "  /* unfitted */\n",
       "  border: var(--sklearn-color-unfitted-level-1) 1pt solid;\n",
       "  color: var(--sklearn-color-unfitted-level-1);\n",
       "}\n",
       "\n",
       ".sk-estimator-doc-link.fitted,\n",
       "a:link.sk-estimator-doc-link.fitted,\n",
       "a:visited.sk-estimator-doc-link.fitted {\n",
       "  /* fitted */\n",
       "  border: var(--sklearn-color-fitted-level-1) 1pt solid;\n",
       "  color: var(--sklearn-color-fitted-level-1);\n",
       "}\n",
       "\n",
       "/* On hover */\n",
       "div.sk-estimator:hover .sk-estimator-doc-link:hover,\n",
       ".sk-estimator-doc-link:hover,\n",
       "div.sk-label-container:hover .sk-estimator-doc-link:hover,\n",
       ".sk-estimator-doc-link:hover {\n",
       "  /* unfitted */\n",
       "  background-color: var(--sklearn-color-unfitted-level-3);\n",
       "  color: var(--sklearn-color-background);\n",
       "  text-decoration: none;\n",
       "}\n",
       "\n",
       "div.sk-estimator.fitted:hover .sk-estimator-doc-link.fitted:hover,\n",
       ".sk-estimator-doc-link.fitted:hover,\n",
       "div.sk-label-container:hover .sk-estimator-doc-link.fitted:hover,\n",
       ".sk-estimator-doc-link.fitted:hover {\n",
       "  /* fitted */\n",
       "  background-color: var(--sklearn-color-fitted-level-3);\n",
       "  color: var(--sklearn-color-background);\n",
       "  text-decoration: none;\n",
       "}\n",
       "\n",
       "/* Span, style for the box shown on hovering the info icon */\n",
       ".sk-estimator-doc-link span {\n",
       "  display: none;\n",
       "  z-index: 9999;\n",
       "  position: relative;\n",
       "  font-weight: normal;\n",
       "  right: .2ex;\n",
       "  padding: .5ex;\n",
       "  margin: .5ex;\n",
       "  width: min-content;\n",
       "  min-width: 20ex;\n",
       "  max-width: 50ex;\n",
       "  color: var(--sklearn-color-text);\n",
       "  box-shadow: 2pt 2pt 4pt #999;\n",
       "  /* unfitted */\n",
       "  background: var(--sklearn-color-unfitted-level-0);\n",
       "  border: .5pt solid var(--sklearn-color-unfitted-level-3);\n",
       "}\n",
       "\n",
       ".sk-estimator-doc-link.fitted span {\n",
       "  /* fitted */\n",
       "  background: var(--sklearn-color-fitted-level-0);\n",
       "  border: var(--sklearn-color-fitted-level-3);\n",
       "}\n",
       "\n",
       ".sk-estimator-doc-link:hover span {\n",
       "  display: block;\n",
       "}\n",
       "\n",
       "/* \"?\"-specific style due to the `<a>` HTML tag */\n",
       "\n",
       "#sk-container-id-2 a.estimator_doc_link {\n",
       "  float: right;\n",
       "  font-size: 1rem;\n",
       "  line-height: 1em;\n",
       "  font-family: monospace;\n",
       "  background-color: var(--sklearn-color-background);\n",
       "  border-radius: 1rem;\n",
       "  height: 1rem;\n",
       "  width: 1rem;\n",
       "  text-decoration: none;\n",
       "  /* unfitted */\n",
       "  color: var(--sklearn-color-unfitted-level-1);\n",
       "  border: var(--sklearn-color-unfitted-level-1) 1pt solid;\n",
       "}\n",
       "\n",
       "#sk-container-id-2 a.estimator_doc_link.fitted {\n",
       "  /* fitted */\n",
       "  border: var(--sklearn-color-fitted-level-1) 1pt solid;\n",
       "  color: var(--sklearn-color-fitted-level-1);\n",
       "}\n",
       "\n",
       "/* On hover */\n",
       "#sk-container-id-2 a.estimator_doc_link:hover {\n",
       "  /* unfitted */\n",
       "  background-color: var(--sklearn-color-unfitted-level-3);\n",
       "  color: var(--sklearn-color-background);\n",
       "  text-decoration: none;\n",
       "}\n",
       "\n",
       "#sk-container-id-2 a.estimator_doc_link.fitted:hover {\n",
       "  /* fitted */\n",
       "  background-color: var(--sklearn-color-fitted-level-3);\n",
       "}\n",
       "</style><div id=\"sk-container-id-2\" class=\"sk-top-container\"><div class=\"sk-text-repr-fallback\"><pre>RandomForestClassifier(max_depth=17, max_features=10, min_samples_leaf=3,\n",
       "                       n_estimators=70, random_state=1)</pre><b>In a Jupyter environment, please rerun this cell to show the HTML representation or trust the notebook. <br />On GitHub, the HTML representation is unable to render, please try loading this page with nbviewer.org.</b></div><div class=\"sk-container\" hidden><div class=\"sk-item\"><div class=\"sk-estimator fitted sk-toggleable\"><input class=\"sk-toggleable__control sk-hidden--visually\" id=\"sk-estimator-id-4\" type=\"checkbox\" checked><label for=\"sk-estimator-id-4\" class=\"sk-toggleable__label fitted sk-toggleable__label-arrow fitted\">&nbsp;&nbsp;RandomForestClassifier<a class=\"sk-estimator-doc-link fitted\" rel=\"noreferrer\" target=\"_blank\" href=\"https://scikit-learn.org/1.4/modules/generated/sklearn.ensemble.RandomForestClassifier.html\">?<span>Documentation for RandomForestClassifier</span></a><span class=\"sk-estimator-doc-link fitted\">i<span>Fitted</span></span></label><div class=\"sk-toggleable__content fitted\"><pre>RandomForestClassifier(max_depth=17, max_features=10, min_samples_leaf=3,\n",
       "                       n_estimators=70, random_state=1)</pre></div> </div></div></div></div>"
      ],
      "text/plain": [
       "RandomForestClassifier(max_depth=17, max_features=10, min_samples_leaf=3,\n",
       "                       n_estimators=70, random_state=1)"
      ]
     },
     "execution_count": 121,
     "metadata": {},
     "output_type": "execute_result"
    }
   ],
   "source": [
    "gcv.best_estimator_ "
   ]
  },
  {
   "cell_type": "code",
   "execution_count": 122,
   "metadata": {
    "colab": {
     "base_uri": "https://localhost:8080/",
     "height": 34
    },
    "id": "PxeUXPHHmk3C",
    "outputId": "54492363-1028-4859-c586-782e67c9ac82"
   },
   "outputs": [
    {
     "data": {
      "text/plain": [
       "{'max_depth': 17,\n",
       " 'max_features': 10,\n",
       " 'min_samples_leaf': 3,\n",
       " 'n_estimators': 70}"
      ]
     },
     "execution_count": 122,
     "metadata": {},
     "output_type": "execute_result"
    }
   ],
   "source": [
    "gcv.best_params_"
   ]
  },
  {
   "cell_type": "code",
   "execution_count": 123,
   "metadata": {
    "colab": {
     "base_uri": "https://localhost:8080/",
     "height": 34
    },
    "id": "4VFX3ERUmlvk",
    "outputId": "5c5f8f0f-674f-4c0c-f646-ce63425d5f7f"
   },
   "outputs": [
    {
     "data": {
      "text/plain": [
       "0.9719277217517827"
      ]
     },
     "execution_count": 123,
     "metadata": {},
     "output_type": "execute_result"
    }
   ],
   "source": [
    "gcv.best_score_"
   ]
  },
  {
   "cell_type": "markdown",
   "metadata": {
    "id": "Iiskwr3VmoL5"
   },
   "source": [
    "## Final model"
   ]
  },
  {
   "cell_type": "code",
   "execution_count": 124,
   "metadata": {},
   "outputs": [
    {
     "name": "stdout",
     "output_type": "stream",
     "text": [
      "(5086, 10) (5086,)\n",
      "(2181, 10) (2181,)\n"
     ]
    }
   ],
   "source": [
    "X_train, X_test, y_train, y_test = train_test_split(X, y, test_size=0.3, random_state=42)\n",
    "print(X_train.shape, y_train.shape)\n",
    "print(X_test.shape, y_test.shape)"
   ]
  },
  {
   "cell_type": "code",
   "execution_count": 125,
   "metadata": {
    "colab": {
     "base_uri": "https://localhost:8080/",
     "height": 153
    },
    "id": "7F8aWhX3mm8B",
    "outputId": "cbb69312-2d41-4eca-93d0-97d194a69604"
   },
   "outputs": [
    {
     "data": {
      "text/html": [
       "<style>#sk-container-id-3 {\n",
       "  /* Definition of color scheme common for light and dark mode */\n",
       "  --sklearn-color-text: black;\n",
       "  --sklearn-color-line: gray;\n",
       "  /* Definition of color scheme for unfitted estimators */\n",
       "  --sklearn-color-unfitted-level-0: #fff5e6;\n",
       "  --sklearn-color-unfitted-level-1: #f6e4d2;\n",
       "  --sklearn-color-unfitted-level-2: #ffe0b3;\n",
       "  --sklearn-color-unfitted-level-3: chocolate;\n",
       "  /* Definition of color scheme for fitted estimators */\n",
       "  --sklearn-color-fitted-level-0: #f0f8ff;\n",
       "  --sklearn-color-fitted-level-1: #d4ebff;\n",
       "  --sklearn-color-fitted-level-2: #b3dbfd;\n",
       "  --sklearn-color-fitted-level-3: cornflowerblue;\n",
       "\n",
       "  /* Specific color for light theme */\n",
       "  --sklearn-color-text-on-default-background: var(--sg-text-color, var(--theme-code-foreground, var(--jp-content-font-color1, black)));\n",
       "  --sklearn-color-background: var(--sg-background-color, var(--theme-background, var(--jp-layout-color0, white)));\n",
       "  --sklearn-color-border-box: var(--sg-text-color, var(--theme-code-foreground, var(--jp-content-font-color1, black)));\n",
       "  --sklearn-color-icon: #696969;\n",
       "\n",
       "  @media (prefers-color-scheme: dark) {\n",
       "    /* Redefinition of color scheme for dark theme */\n",
       "    --sklearn-color-text-on-default-background: var(--sg-text-color, var(--theme-code-foreground, var(--jp-content-font-color1, white)));\n",
       "    --sklearn-color-background: var(--sg-background-color, var(--theme-background, var(--jp-layout-color0, #111)));\n",
       "    --sklearn-color-border-box: var(--sg-text-color, var(--theme-code-foreground, var(--jp-content-font-color1, white)));\n",
       "    --sklearn-color-icon: #878787;\n",
       "  }\n",
       "}\n",
       "\n",
       "#sk-container-id-3 {\n",
       "  color: var(--sklearn-color-text);\n",
       "}\n",
       "\n",
       "#sk-container-id-3 pre {\n",
       "  padding: 0;\n",
       "}\n",
       "\n",
       "#sk-container-id-3 input.sk-hidden--visually {\n",
       "  border: 0;\n",
       "  clip: rect(1px 1px 1px 1px);\n",
       "  clip: rect(1px, 1px, 1px, 1px);\n",
       "  height: 1px;\n",
       "  margin: -1px;\n",
       "  overflow: hidden;\n",
       "  padding: 0;\n",
       "  position: absolute;\n",
       "  width: 1px;\n",
       "}\n",
       "\n",
       "#sk-container-id-3 div.sk-dashed-wrapped {\n",
       "  border: 1px dashed var(--sklearn-color-line);\n",
       "  margin: 0 0.4em 0.5em 0.4em;\n",
       "  box-sizing: border-box;\n",
       "  padding-bottom: 0.4em;\n",
       "  background-color: var(--sklearn-color-background);\n",
       "}\n",
       "\n",
       "#sk-container-id-3 div.sk-container {\n",
       "  /* jupyter's `normalize.less` sets `[hidden] { display: none; }`\n",
       "     but bootstrap.min.css set `[hidden] { display: none !important; }`\n",
       "     so we also need the `!important` here to be able to override the\n",
       "     default hidden behavior on the sphinx rendered scikit-learn.org.\n",
       "     See: https://github.com/scikit-learn/scikit-learn/issues/21755 */\n",
       "  display: inline-block !important;\n",
       "  position: relative;\n",
       "}\n",
       "\n",
       "#sk-container-id-3 div.sk-text-repr-fallback {\n",
       "  display: none;\n",
       "}\n",
       "\n",
       "div.sk-parallel-item,\n",
       "div.sk-serial,\n",
       "div.sk-item {\n",
       "  /* draw centered vertical line to link estimators */\n",
       "  background-image: linear-gradient(var(--sklearn-color-text-on-default-background), var(--sklearn-color-text-on-default-background));\n",
       "  background-size: 2px 100%;\n",
       "  background-repeat: no-repeat;\n",
       "  background-position: center center;\n",
       "}\n",
       "\n",
       "/* Parallel-specific style estimator block */\n",
       "\n",
       "#sk-container-id-3 div.sk-parallel-item::after {\n",
       "  content: \"\";\n",
       "  width: 100%;\n",
       "  border-bottom: 2px solid var(--sklearn-color-text-on-default-background);\n",
       "  flex-grow: 1;\n",
       "}\n",
       "\n",
       "#sk-container-id-3 div.sk-parallel {\n",
       "  display: flex;\n",
       "  align-items: stretch;\n",
       "  justify-content: center;\n",
       "  background-color: var(--sklearn-color-background);\n",
       "  position: relative;\n",
       "}\n",
       "\n",
       "#sk-container-id-3 div.sk-parallel-item {\n",
       "  display: flex;\n",
       "  flex-direction: column;\n",
       "}\n",
       "\n",
       "#sk-container-id-3 div.sk-parallel-item:first-child::after {\n",
       "  align-self: flex-end;\n",
       "  width: 50%;\n",
       "}\n",
       "\n",
       "#sk-container-id-3 div.sk-parallel-item:last-child::after {\n",
       "  align-self: flex-start;\n",
       "  width: 50%;\n",
       "}\n",
       "\n",
       "#sk-container-id-3 div.sk-parallel-item:only-child::after {\n",
       "  width: 0;\n",
       "}\n",
       "\n",
       "/* Serial-specific style estimator block */\n",
       "\n",
       "#sk-container-id-3 div.sk-serial {\n",
       "  display: flex;\n",
       "  flex-direction: column;\n",
       "  align-items: center;\n",
       "  background-color: var(--sklearn-color-background);\n",
       "  padding-right: 1em;\n",
       "  padding-left: 1em;\n",
       "}\n",
       "\n",
       "\n",
       "/* Toggleable style: style used for estimator/Pipeline/ColumnTransformer box that is\n",
       "clickable and can be expanded/collapsed.\n",
       "- Pipeline and ColumnTransformer use this feature and define the default style\n",
       "- Estimators will overwrite some part of the style using the `sk-estimator` class\n",
       "*/\n",
       "\n",
       "/* Pipeline and ColumnTransformer style (default) */\n",
       "\n",
       "#sk-container-id-3 div.sk-toggleable {\n",
       "  /* Default theme specific background. It is overwritten whether we have a\n",
       "  specific estimator or a Pipeline/ColumnTransformer */\n",
       "  background-color: var(--sklearn-color-background);\n",
       "}\n",
       "\n",
       "/* Toggleable label */\n",
       "#sk-container-id-3 label.sk-toggleable__label {\n",
       "  cursor: pointer;\n",
       "  display: block;\n",
       "  width: 100%;\n",
       "  margin-bottom: 0;\n",
       "  padding: 0.5em;\n",
       "  box-sizing: border-box;\n",
       "  text-align: center;\n",
       "}\n",
       "\n",
       "#sk-container-id-3 label.sk-toggleable__label-arrow:before {\n",
       "  /* Arrow on the left of the label */\n",
       "  content: \"▸\";\n",
       "  float: left;\n",
       "  margin-right: 0.25em;\n",
       "  color: var(--sklearn-color-icon);\n",
       "}\n",
       "\n",
       "#sk-container-id-3 label.sk-toggleable__label-arrow:hover:before {\n",
       "  color: var(--sklearn-color-text);\n",
       "}\n",
       "\n",
       "/* Toggleable content - dropdown */\n",
       "\n",
       "#sk-container-id-3 div.sk-toggleable__content {\n",
       "  max-height: 0;\n",
       "  max-width: 0;\n",
       "  overflow: hidden;\n",
       "  text-align: left;\n",
       "  /* unfitted */\n",
       "  background-color: var(--sklearn-color-unfitted-level-0);\n",
       "}\n",
       "\n",
       "#sk-container-id-3 div.sk-toggleable__content.fitted {\n",
       "  /* fitted */\n",
       "  background-color: var(--sklearn-color-fitted-level-0);\n",
       "}\n",
       "\n",
       "#sk-container-id-3 div.sk-toggleable__content pre {\n",
       "  margin: 0.2em;\n",
       "  border-radius: 0.25em;\n",
       "  color: var(--sklearn-color-text);\n",
       "  /* unfitted */\n",
       "  background-color: var(--sklearn-color-unfitted-level-0);\n",
       "}\n",
       "\n",
       "#sk-container-id-3 div.sk-toggleable__content.fitted pre {\n",
       "  /* unfitted */\n",
       "  background-color: var(--sklearn-color-fitted-level-0);\n",
       "}\n",
       "\n",
       "#sk-container-id-3 input.sk-toggleable__control:checked~div.sk-toggleable__content {\n",
       "  /* Expand drop-down */\n",
       "  max-height: 200px;\n",
       "  max-width: 100%;\n",
       "  overflow: auto;\n",
       "}\n",
       "\n",
       "#sk-container-id-3 input.sk-toggleable__control:checked~label.sk-toggleable__label-arrow:before {\n",
       "  content: \"▾\";\n",
       "}\n",
       "\n",
       "/* Pipeline/ColumnTransformer-specific style */\n",
       "\n",
       "#sk-container-id-3 div.sk-label input.sk-toggleable__control:checked~label.sk-toggleable__label {\n",
       "  color: var(--sklearn-color-text);\n",
       "  background-color: var(--sklearn-color-unfitted-level-2);\n",
       "}\n",
       "\n",
       "#sk-container-id-3 div.sk-label.fitted input.sk-toggleable__control:checked~label.sk-toggleable__label {\n",
       "  background-color: var(--sklearn-color-fitted-level-2);\n",
       "}\n",
       "\n",
       "/* Estimator-specific style */\n",
       "\n",
       "/* Colorize estimator box */\n",
       "#sk-container-id-3 div.sk-estimator input.sk-toggleable__control:checked~label.sk-toggleable__label {\n",
       "  /* unfitted */\n",
       "  background-color: var(--sklearn-color-unfitted-level-2);\n",
       "}\n",
       "\n",
       "#sk-container-id-3 div.sk-estimator.fitted input.sk-toggleable__control:checked~label.sk-toggleable__label {\n",
       "  /* fitted */\n",
       "  background-color: var(--sklearn-color-fitted-level-2);\n",
       "}\n",
       "\n",
       "#sk-container-id-3 div.sk-label label.sk-toggleable__label,\n",
       "#sk-container-id-3 div.sk-label label {\n",
       "  /* The background is the default theme color */\n",
       "  color: var(--sklearn-color-text-on-default-background);\n",
       "}\n",
       "\n",
       "/* On hover, darken the color of the background */\n",
       "#sk-container-id-3 div.sk-label:hover label.sk-toggleable__label {\n",
       "  color: var(--sklearn-color-text);\n",
       "  background-color: var(--sklearn-color-unfitted-level-2);\n",
       "}\n",
       "\n",
       "/* Label box, darken color on hover, fitted */\n",
       "#sk-container-id-3 div.sk-label.fitted:hover label.sk-toggleable__label.fitted {\n",
       "  color: var(--sklearn-color-text);\n",
       "  background-color: var(--sklearn-color-fitted-level-2);\n",
       "}\n",
       "\n",
       "/* Estimator label */\n",
       "\n",
       "#sk-container-id-3 div.sk-label label {\n",
       "  font-family: monospace;\n",
       "  font-weight: bold;\n",
       "  display: inline-block;\n",
       "  line-height: 1.2em;\n",
       "}\n",
       "\n",
       "#sk-container-id-3 div.sk-label-container {\n",
       "  text-align: center;\n",
       "}\n",
       "\n",
       "/* Estimator-specific */\n",
       "#sk-container-id-3 div.sk-estimator {\n",
       "  font-family: monospace;\n",
       "  border: 1px dotted var(--sklearn-color-border-box);\n",
       "  border-radius: 0.25em;\n",
       "  box-sizing: border-box;\n",
       "  margin-bottom: 0.5em;\n",
       "  /* unfitted */\n",
       "  background-color: var(--sklearn-color-unfitted-level-0);\n",
       "}\n",
       "\n",
       "#sk-container-id-3 div.sk-estimator.fitted {\n",
       "  /* fitted */\n",
       "  background-color: var(--sklearn-color-fitted-level-0);\n",
       "}\n",
       "\n",
       "/* on hover */\n",
       "#sk-container-id-3 div.sk-estimator:hover {\n",
       "  /* unfitted */\n",
       "  background-color: var(--sklearn-color-unfitted-level-2);\n",
       "}\n",
       "\n",
       "#sk-container-id-3 div.sk-estimator.fitted:hover {\n",
       "  /* fitted */\n",
       "  background-color: var(--sklearn-color-fitted-level-2);\n",
       "}\n",
       "\n",
       "/* Specification for estimator info (e.g. \"i\" and \"?\") */\n",
       "\n",
       "/* Common style for \"i\" and \"?\" */\n",
       "\n",
       ".sk-estimator-doc-link,\n",
       "a:link.sk-estimator-doc-link,\n",
       "a:visited.sk-estimator-doc-link {\n",
       "  float: right;\n",
       "  font-size: smaller;\n",
       "  line-height: 1em;\n",
       "  font-family: monospace;\n",
       "  background-color: var(--sklearn-color-background);\n",
       "  border-radius: 1em;\n",
       "  height: 1em;\n",
       "  width: 1em;\n",
       "  text-decoration: none !important;\n",
       "  margin-left: 1ex;\n",
       "  /* unfitted */\n",
       "  border: var(--sklearn-color-unfitted-level-1) 1pt solid;\n",
       "  color: var(--sklearn-color-unfitted-level-1);\n",
       "}\n",
       "\n",
       ".sk-estimator-doc-link.fitted,\n",
       "a:link.sk-estimator-doc-link.fitted,\n",
       "a:visited.sk-estimator-doc-link.fitted {\n",
       "  /* fitted */\n",
       "  border: var(--sklearn-color-fitted-level-1) 1pt solid;\n",
       "  color: var(--sklearn-color-fitted-level-1);\n",
       "}\n",
       "\n",
       "/* On hover */\n",
       "div.sk-estimator:hover .sk-estimator-doc-link:hover,\n",
       ".sk-estimator-doc-link:hover,\n",
       "div.sk-label-container:hover .sk-estimator-doc-link:hover,\n",
       ".sk-estimator-doc-link:hover {\n",
       "  /* unfitted */\n",
       "  background-color: var(--sklearn-color-unfitted-level-3);\n",
       "  color: var(--sklearn-color-background);\n",
       "  text-decoration: none;\n",
       "}\n",
       "\n",
       "div.sk-estimator.fitted:hover .sk-estimator-doc-link.fitted:hover,\n",
       ".sk-estimator-doc-link.fitted:hover,\n",
       "div.sk-label-container:hover .sk-estimator-doc-link.fitted:hover,\n",
       ".sk-estimator-doc-link.fitted:hover {\n",
       "  /* fitted */\n",
       "  background-color: var(--sklearn-color-fitted-level-3);\n",
       "  color: var(--sklearn-color-background);\n",
       "  text-decoration: none;\n",
       "}\n",
       "\n",
       "/* Span, style for the box shown on hovering the info icon */\n",
       ".sk-estimator-doc-link span {\n",
       "  display: none;\n",
       "  z-index: 9999;\n",
       "  position: relative;\n",
       "  font-weight: normal;\n",
       "  right: .2ex;\n",
       "  padding: .5ex;\n",
       "  margin: .5ex;\n",
       "  width: min-content;\n",
       "  min-width: 20ex;\n",
       "  max-width: 50ex;\n",
       "  color: var(--sklearn-color-text);\n",
       "  box-shadow: 2pt 2pt 4pt #999;\n",
       "  /* unfitted */\n",
       "  background: var(--sklearn-color-unfitted-level-0);\n",
       "  border: .5pt solid var(--sklearn-color-unfitted-level-3);\n",
       "}\n",
       "\n",
       ".sk-estimator-doc-link.fitted span {\n",
       "  /* fitted */\n",
       "  background: var(--sklearn-color-fitted-level-0);\n",
       "  border: var(--sklearn-color-fitted-level-3);\n",
       "}\n",
       "\n",
       ".sk-estimator-doc-link:hover span {\n",
       "  display: block;\n",
       "}\n",
       "\n",
       "/* \"?\"-specific style due to the `<a>` HTML tag */\n",
       "\n",
       "#sk-container-id-3 a.estimator_doc_link {\n",
       "  float: right;\n",
       "  font-size: 1rem;\n",
       "  line-height: 1em;\n",
       "  font-family: monospace;\n",
       "  background-color: var(--sklearn-color-background);\n",
       "  border-radius: 1rem;\n",
       "  height: 1rem;\n",
       "  width: 1rem;\n",
       "  text-decoration: none;\n",
       "  /* unfitted */\n",
       "  color: var(--sklearn-color-unfitted-level-1);\n",
       "  border: var(--sklearn-color-unfitted-level-1) 1pt solid;\n",
       "}\n",
       "\n",
       "#sk-container-id-3 a.estimator_doc_link.fitted {\n",
       "  /* fitted */\n",
       "  border: var(--sklearn-color-fitted-level-1) 1pt solid;\n",
       "  color: var(--sklearn-color-fitted-level-1);\n",
       "}\n",
       "\n",
       "/* On hover */\n",
       "#sk-container-id-3 a.estimator_doc_link:hover {\n",
       "  /* unfitted */\n",
       "  background-color: var(--sklearn-color-unfitted-level-3);\n",
       "  color: var(--sklearn-color-background);\n",
       "  text-decoration: none;\n",
       "}\n",
       "\n",
       "#sk-container-id-3 a.estimator_doc_link.fitted:hover {\n",
       "  /* fitted */\n",
       "  background-color: var(--sklearn-color-fitted-level-3);\n",
       "}\n",
       "</style><div id=\"sk-container-id-3\" class=\"sk-top-container\"><div class=\"sk-text-repr-fallback\"><pre>RandomForestClassifier(max_depth=17, max_features=10, min_samples_leaf=3,\n",
       "                       n_estimators=50, oob_score=True, random_state=42)</pre><b>In a Jupyter environment, please rerun this cell to show the HTML representation or trust the notebook. <br />On GitHub, the HTML representation is unable to render, please try loading this page with nbviewer.org.</b></div><div class=\"sk-container\" hidden><div class=\"sk-item\"><div class=\"sk-estimator fitted sk-toggleable\"><input class=\"sk-toggleable__control sk-hidden--visually\" id=\"sk-estimator-id-5\" type=\"checkbox\" checked><label for=\"sk-estimator-id-5\" class=\"sk-toggleable__label fitted sk-toggleable__label-arrow fitted\">&nbsp;&nbsp;RandomForestClassifier<a class=\"sk-estimator-doc-link fitted\" rel=\"noreferrer\" target=\"_blank\" href=\"https://scikit-learn.org/1.4/modules/generated/sklearn.ensemble.RandomForestClassifier.html\">?<span>Documentation for RandomForestClassifier</span></a><span class=\"sk-estimator-doc-link fitted\">i<span>Fitted</span></span></label><div class=\"sk-toggleable__content fitted\"><pre>RandomForestClassifier(max_depth=17, max_features=10, min_samples_leaf=3,\n",
       "                       n_estimators=50, oob_score=True, random_state=42)</pre></div> </div></div></div></div>"
      ],
      "text/plain": [
       "RandomForestClassifier(max_depth=17, max_features=10, min_samples_leaf=3,\n",
       "                       n_estimators=50, oob_score=True, random_state=42)"
      ]
     },
     "execution_count": 125,
     "metadata": {},
     "output_type": "execute_result"
    }
   ],
   "source": [
    "rfc = RandomForestClassifier(max_depth=17, max_features=10, min_samples_leaf=3, n_estimators=50, random_state=42, oob_score=True)\n",
    "# rfc = RandomForestClassifier(n_estimators=250, random_state=1)\n",
    "rfc.fit(X_train, y_train)"
   ]
  },
  {
   "cell_type": "code",
   "execution_count": 126,
   "metadata": {
    "colab": {
     "base_uri": "https://localhost:8080/",
     "height": 187
    },
    "id": "yULIEGsxmtsQ",
    "outputId": "b9eda3ad-c57b-472d-be97-8fed2161802b"
   },
   "outputs": [
    {
     "name": "stdout",
     "output_type": "stream",
     "text": [
      "1.\t#3\t0.321\tMax Packet Length\n",
      "2.\t#0\t0.274\tAverage Packet Size\n",
      "3.\t#8\t0.125\tFwd IAT Std\n",
      "4.\t#5\t0.072\tTotal Length of Fwd Packets\n",
      "5.\t#4\t0.056\tFwd IAT Min\n",
      "6.\t#9\t0.047\tFwd Header Length\n",
      "7.\t#6\t0.044\tFlow IAT Mean\n",
      "8.\t#2\t0.041\tFwd Packet Length Mean\n",
      "9.\t#7\t0.016\tFwd Packet Length Max\n",
      "10.\t#1\t0.002\tFlow Bytes/s\n"
     ]
    }
   ],
   "source": [
    "features = X.columns\n",
    "importances = rfc.feature_importances_\n",
    "indices = np.argsort(importances)[::-1]\n",
    "    \n",
    "for index, i in enumerate(indices[:10]):\n",
    "    print('{}.\\t#{}\\t{:.3f}\\t{}'.format(index + 1, i, importances[i], features[i]))"
   ]
  },
  {
   "cell_type": "code",
   "execution_count": 127,
   "metadata": {},
   "outputs": [
    {
     "data": {
      "text/plain": [
       "array([[1525,   17],\n",
       "       [  38,  601]], dtype=int64)"
      ]
     },
     "execution_count": 127,
     "metadata": {},
     "output_type": "execute_result"
    }
   ],
   "source": [
    "y_pred = rfc.predict(X_test)\n",
    "confusion_matrix(y_test, y_pred)"
   ]
  },
  {
   "cell_type": "code",
   "execution_count": 128,
   "metadata": {
    "colab": {
     "base_uri": "https://localhost:8080/",
     "height": 85
    },
    "id": "WWgbCOjZoIYX",
    "outputId": "fc94afaf-e952-434b-daf8-d9c898056036"
   },
   "outputs": [
    {
     "name": "stdout",
     "output_type": "stream",
     "text": [
      "Accuracy = 0.974782209995415\n",
      "Precision = 0.9724919093851133\n",
      "Recall = 0.9405320813771518\n",
      "F1 = 0.9562450278440732\n"
     ]
    }
   ],
   "source": [
    "import sklearn.metrics as metrics\n",
    "accuracy = metrics.accuracy_score(y_test, y_pred)\n",
    "precision = metrics.precision_score(y_test, y_pred)\n",
    "recall = metrics.recall_score(y_test, y_pred)\n",
    "f1 = metrics.f1_score(y_test, y_pred)\n",
    "print('Accuracy =', accuracy)\n",
    "print('Precision =', precision)\n",
    "print('Recall =', recall)\n",
    "print('F1 =', f1)"
   ]
  },
  {
   "cell_type": "markdown",
   "metadata": {
    "id": "5PElFLh5oYzU"
   },
   "source": [
    "## Model saving"
   ]
  },
  {
   "cell_type": "code",
   "execution_count": null,
   "metadata": {},
   "outputs": [
    {
     "name": "stdout",
     "output_type": "stream",
     "text": [
      "Requirement already satisfied: pip in f:\\bharg\\python\\lib\\site-packages (24.0)\n",
      "Requirement already satisfied: setuptools in f:\\bharg\\python\\lib\\site-packages (69.1.1)\n",
      "Requirement already satisfied: wheel in f:\\bharg\\python\\lib\\site-packages (0.42.0)\n"
     ]
    }
   ],
   "source": [
    "!pip install --upgrade pip setuptools wheel"
   ]
  },
  {
   "cell_type": "code",
   "execution_count": 129,
   "metadata": {
    "id": "QjZyFNFIoMFK"
   },
   "outputs": [],
   "source": [
    "import pickle\n",
    "with open('webattack_detection_rf_model.pkl', 'wb') as f:\n",
    "    pickle.dump(rfc, f)"
   ]
  },
  {
   "cell_type": "markdown",
   "metadata": {
    "id": "pnHSPBrDodIs"
   },
   "source": [
    "## Model approbation"
   ]
  },
  {
   "cell_type": "markdown",
   "metadata": {
    "id": "98uX2hrvofRR"
   },
   "source": [
    "Open the previously saved model."
   ]
  },
  {
   "cell_type": "code",
   "execution_count": 130,
   "metadata": {
    "colab": {
     "base_uri": "https://localhost:8080/",
     "height": 153
    },
    "id": "hxBtpLABob_z",
    "outputId": "8b0ef6ee-591e-4ed3-bac4-de1067520773"
   },
   "outputs": [
    {
     "data": {
      "text/html": [
       "<style>#sk-container-id-4 {\n",
       "  /* Definition of color scheme common for light and dark mode */\n",
       "  --sklearn-color-text: black;\n",
       "  --sklearn-color-line: gray;\n",
       "  /* Definition of color scheme for unfitted estimators */\n",
       "  --sklearn-color-unfitted-level-0: #fff5e6;\n",
       "  --sklearn-color-unfitted-level-1: #f6e4d2;\n",
       "  --sklearn-color-unfitted-level-2: #ffe0b3;\n",
       "  --sklearn-color-unfitted-level-3: chocolate;\n",
       "  /* Definition of color scheme for fitted estimators */\n",
       "  --sklearn-color-fitted-level-0: #f0f8ff;\n",
       "  --sklearn-color-fitted-level-1: #d4ebff;\n",
       "  --sklearn-color-fitted-level-2: #b3dbfd;\n",
       "  --sklearn-color-fitted-level-3: cornflowerblue;\n",
       "\n",
       "  /* Specific color for light theme */\n",
       "  --sklearn-color-text-on-default-background: var(--sg-text-color, var(--theme-code-foreground, var(--jp-content-font-color1, black)));\n",
       "  --sklearn-color-background: var(--sg-background-color, var(--theme-background, var(--jp-layout-color0, white)));\n",
       "  --sklearn-color-border-box: var(--sg-text-color, var(--theme-code-foreground, var(--jp-content-font-color1, black)));\n",
       "  --sklearn-color-icon: #696969;\n",
       "\n",
       "  @media (prefers-color-scheme: dark) {\n",
       "    /* Redefinition of color scheme for dark theme */\n",
       "    --sklearn-color-text-on-default-background: var(--sg-text-color, var(--theme-code-foreground, var(--jp-content-font-color1, white)));\n",
       "    --sklearn-color-background: var(--sg-background-color, var(--theme-background, var(--jp-layout-color0, #111)));\n",
       "    --sklearn-color-border-box: var(--sg-text-color, var(--theme-code-foreground, var(--jp-content-font-color1, white)));\n",
       "    --sklearn-color-icon: #878787;\n",
       "  }\n",
       "}\n",
       "\n",
       "#sk-container-id-4 {\n",
       "  color: var(--sklearn-color-text);\n",
       "}\n",
       "\n",
       "#sk-container-id-4 pre {\n",
       "  padding: 0;\n",
       "}\n",
       "\n",
       "#sk-container-id-4 input.sk-hidden--visually {\n",
       "  border: 0;\n",
       "  clip: rect(1px 1px 1px 1px);\n",
       "  clip: rect(1px, 1px, 1px, 1px);\n",
       "  height: 1px;\n",
       "  margin: -1px;\n",
       "  overflow: hidden;\n",
       "  padding: 0;\n",
       "  position: absolute;\n",
       "  width: 1px;\n",
       "}\n",
       "\n",
       "#sk-container-id-4 div.sk-dashed-wrapped {\n",
       "  border: 1px dashed var(--sklearn-color-line);\n",
       "  margin: 0 0.4em 0.5em 0.4em;\n",
       "  box-sizing: border-box;\n",
       "  padding-bottom: 0.4em;\n",
       "  background-color: var(--sklearn-color-background);\n",
       "}\n",
       "\n",
       "#sk-container-id-4 div.sk-container {\n",
       "  /* jupyter's `normalize.less` sets `[hidden] { display: none; }`\n",
       "     but bootstrap.min.css set `[hidden] { display: none !important; }`\n",
       "     so we also need the `!important` here to be able to override the\n",
       "     default hidden behavior on the sphinx rendered scikit-learn.org.\n",
       "     See: https://github.com/scikit-learn/scikit-learn/issues/21755 */\n",
       "  display: inline-block !important;\n",
       "  position: relative;\n",
       "}\n",
       "\n",
       "#sk-container-id-4 div.sk-text-repr-fallback {\n",
       "  display: none;\n",
       "}\n",
       "\n",
       "div.sk-parallel-item,\n",
       "div.sk-serial,\n",
       "div.sk-item {\n",
       "  /* draw centered vertical line to link estimators */\n",
       "  background-image: linear-gradient(var(--sklearn-color-text-on-default-background), var(--sklearn-color-text-on-default-background));\n",
       "  background-size: 2px 100%;\n",
       "  background-repeat: no-repeat;\n",
       "  background-position: center center;\n",
       "}\n",
       "\n",
       "/* Parallel-specific style estimator block */\n",
       "\n",
       "#sk-container-id-4 div.sk-parallel-item::after {\n",
       "  content: \"\";\n",
       "  width: 100%;\n",
       "  border-bottom: 2px solid var(--sklearn-color-text-on-default-background);\n",
       "  flex-grow: 1;\n",
       "}\n",
       "\n",
       "#sk-container-id-4 div.sk-parallel {\n",
       "  display: flex;\n",
       "  align-items: stretch;\n",
       "  justify-content: center;\n",
       "  background-color: var(--sklearn-color-background);\n",
       "  position: relative;\n",
       "}\n",
       "\n",
       "#sk-container-id-4 div.sk-parallel-item {\n",
       "  display: flex;\n",
       "  flex-direction: column;\n",
       "}\n",
       "\n",
       "#sk-container-id-4 div.sk-parallel-item:first-child::after {\n",
       "  align-self: flex-end;\n",
       "  width: 50%;\n",
       "}\n",
       "\n",
       "#sk-container-id-4 div.sk-parallel-item:last-child::after {\n",
       "  align-self: flex-start;\n",
       "  width: 50%;\n",
       "}\n",
       "\n",
       "#sk-container-id-4 div.sk-parallel-item:only-child::after {\n",
       "  width: 0;\n",
       "}\n",
       "\n",
       "/* Serial-specific style estimator block */\n",
       "\n",
       "#sk-container-id-4 div.sk-serial {\n",
       "  display: flex;\n",
       "  flex-direction: column;\n",
       "  align-items: center;\n",
       "  background-color: var(--sklearn-color-background);\n",
       "  padding-right: 1em;\n",
       "  padding-left: 1em;\n",
       "}\n",
       "\n",
       "\n",
       "/* Toggleable style: style used for estimator/Pipeline/ColumnTransformer box that is\n",
       "clickable and can be expanded/collapsed.\n",
       "- Pipeline and ColumnTransformer use this feature and define the default style\n",
       "- Estimators will overwrite some part of the style using the `sk-estimator` class\n",
       "*/\n",
       "\n",
       "/* Pipeline and ColumnTransformer style (default) */\n",
       "\n",
       "#sk-container-id-4 div.sk-toggleable {\n",
       "  /* Default theme specific background. It is overwritten whether we have a\n",
       "  specific estimator or a Pipeline/ColumnTransformer */\n",
       "  background-color: var(--sklearn-color-background);\n",
       "}\n",
       "\n",
       "/* Toggleable label */\n",
       "#sk-container-id-4 label.sk-toggleable__label {\n",
       "  cursor: pointer;\n",
       "  display: block;\n",
       "  width: 100%;\n",
       "  margin-bottom: 0;\n",
       "  padding: 0.5em;\n",
       "  box-sizing: border-box;\n",
       "  text-align: center;\n",
       "}\n",
       "\n",
       "#sk-container-id-4 label.sk-toggleable__label-arrow:before {\n",
       "  /* Arrow on the left of the label */\n",
       "  content: \"▸\";\n",
       "  float: left;\n",
       "  margin-right: 0.25em;\n",
       "  color: var(--sklearn-color-icon);\n",
       "}\n",
       "\n",
       "#sk-container-id-4 label.sk-toggleable__label-arrow:hover:before {\n",
       "  color: var(--sklearn-color-text);\n",
       "}\n",
       "\n",
       "/* Toggleable content - dropdown */\n",
       "\n",
       "#sk-container-id-4 div.sk-toggleable__content {\n",
       "  max-height: 0;\n",
       "  max-width: 0;\n",
       "  overflow: hidden;\n",
       "  text-align: left;\n",
       "  /* unfitted */\n",
       "  background-color: var(--sklearn-color-unfitted-level-0);\n",
       "}\n",
       "\n",
       "#sk-container-id-4 div.sk-toggleable__content.fitted {\n",
       "  /* fitted */\n",
       "  background-color: var(--sklearn-color-fitted-level-0);\n",
       "}\n",
       "\n",
       "#sk-container-id-4 div.sk-toggleable__content pre {\n",
       "  margin: 0.2em;\n",
       "  border-radius: 0.25em;\n",
       "  color: var(--sklearn-color-text);\n",
       "  /* unfitted */\n",
       "  background-color: var(--sklearn-color-unfitted-level-0);\n",
       "}\n",
       "\n",
       "#sk-container-id-4 div.sk-toggleable__content.fitted pre {\n",
       "  /* unfitted */\n",
       "  background-color: var(--sklearn-color-fitted-level-0);\n",
       "}\n",
       "\n",
       "#sk-container-id-4 input.sk-toggleable__control:checked~div.sk-toggleable__content {\n",
       "  /* Expand drop-down */\n",
       "  max-height: 200px;\n",
       "  max-width: 100%;\n",
       "  overflow: auto;\n",
       "}\n",
       "\n",
       "#sk-container-id-4 input.sk-toggleable__control:checked~label.sk-toggleable__label-arrow:before {\n",
       "  content: \"▾\";\n",
       "}\n",
       "\n",
       "/* Pipeline/ColumnTransformer-specific style */\n",
       "\n",
       "#sk-container-id-4 div.sk-label input.sk-toggleable__control:checked~label.sk-toggleable__label {\n",
       "  color: var(--sklearn-color-text);\n",
       "  background-color: var(--sklearn-color-unfitted-level-2);\n",
       "}\n",
       "\n",
       "#sk-container-id-4 div.sk-label.fitted input.sk-toggleable__control:checked~label.sk-toggleable__label {\n",
       "  background-color: var(--sklearn-color-fitted-level-2);\n",
       "}\n",
       "\n",
       "/* Estimator-specific style */\n",
       "\n",
       "/* Colorize estimator box */\n",
       "#sk-container-id-4 div.sk-estimator input.sk-toggleable__control:checked~label.sk-toggleable__label {\n",
       "  /* unfitted */\n",
       "  background-color: var(--sklearn-color-unfitted-level-2);\n",
       "}\n",
       "\n",
       "#sk-container-id-4 div.sk-estimator.fitted input.sk-toggleable__control:checked~label.sk-toggleable__label {\n",
       "  /* fitted */\n",
       "  background-color: var(--sklearn-color-fitted-level-2);\n",
       "}\n",
       "\n",
       "#sk-container-id-4 div.sk-label label.sk-toggleable__label,\n",
       "#sk-container-id-4 div.sk-label label {\n",
       "  /* The background is the default theme color */\n",
       "  color: var(--sklearn-color-text-on-default-background);\n",
       "}\n",
       "\n",
       "/* On hover, darken the color of the background */\n",
       "#sk-container-id-4 div.sk-label:hover label.sk-toggleable__label {\n",
       "  color: var(--sklearn-color-text);\n",
       "  background-color: var(--sklearn-color-unfitted-level-2);\n",
       "}\n",
       "\n",
       "/* Label box, darken color on hover, fitted */\n",
       "#sk-container-id-4 div.sk-label.fitted:hover label.sk-toggleable__label.fitted {\n",
       "  color: var(--sklearn-color-text);\n",
       "  background-color: var(--sklearn-color-fitted-level-2);\n",
       "}\n",
       "\n",
       "/* Estimator label */\n",
       "\n",
       "#sk-container-id-4 div.sk-label label {\n",
       "  font-family: monospace;\n",
       "  font-weight: bold;\n",
       "  display: inline-block;\n",
       "  line-height: 1.2em;\n",
       "}\n",
       "\n",
       "#sk-container-id-4 div.sk-label-container {\n",
       "  text-align: center;\n",
       "}\n",
       "\n",
       "/* Estimator-specific */\n",
       "#sk-container-id-4 div.sk-estimator {\n",
       "  font-family: monospace;\n",
       "  border: 1px dotted var(--sklearn-color-border-box);\n",
       "  border-radius: 0.25em;\n",
       "  box-sizing: border-box;\n",
       "  margin-bottom: 0.5em;\n",
       "  /* unfitted */\n",
       "  background-color: var(--sklearn-color-unfitted-level-0);\n",
       "}\n",
       "\n",
       "#sk-container-id-4 div.sk-estimator.fitted {\n",
       "  /* fitted */\n",
       "  background-color: var(--sklearn-color-fitted-level-0);\n",
       "}\n",
       "\n",
       "/* on hover */\n",
       "#sk-container-id-4 div.sk-estimator:hover {\n",
       "  /* unfitted */\n",
       "  background-color: var(--sklearn-color-unfitted-level-2);\n",
       "}\n",
       "\n",
       "#sk-container-id-4 div.sk-estimator.fitted:hover {\n",
       "  /* fitted */\n",
       "  background-color: var(--sklearn-color-fitted-level-2);\n",
       "}\n",
       "\n",
       "/* Specification for estimator info (e.g. \"i\" and \"?\") */\n",
       "\n",
       "/* Common style for \"i\" and \"?\" */\n",
       "\n",
       ".sk-estimator-doc-link,\n",
       "a:link.sk-estimator-doc-link,\n",
       "a:visited.sk-estimator-doc-link {\n",
       "  float: right;\n",
       "  font-size: smaller;\n",
       "  line-height: 1em;\n",
       "  font-family: monospace;\n",
       "  background-color: var(--sklearn-color-background);\n",
       "  border-radius: 1em;\n",
       "  height: 1em;\n",
       "  width: 1em;\n",
       "  text-decoration: none !important;\n",
       "  margin-left: 1ex;\n",
       "  /* unfitted */\n",
       "  border: var(--sklearn-color-unfitted-level-1) 1pt solid;\n",
       "  color: var(--sklearn-color-unfitted-level-1);\n",
       "}\n",
       "\n",
       ".sk-estimator-doc-link.fitted,\n",
       "a:link.sk-estimator-doc-link.fitted,\n",
       "a:visited.sk-estimator-doc-link.fitted {\n",
       "  /* fitted */\n",
       "  border: var(--sklearn-color-fitted-level-1) 1pt solid;\n",
       "  color: var(--sklearn-color-fitted-level-1);\n",
       "}\n",
       "\n",
       "/* On hover */\n",
       "div.sk-estimator:hover .sk-estimator-doc-link:hover,\n",
       ".sk-estimator-doc-link:hover,\n",
       "div.sk-label-container:hover .sk-estimator-doc-link:hover,\n",
       ".sk-estimator-doc-link:hover {\n",
       "  /* unfitted */\n",
       "  background-color: var(--sklearn-color-unfitted-level-3);\n",
       "  color: var(--sklearn-color-background);\n",
       "  text-decoration: none;\n",
       "}\n",
       "\n",
       "div.sk-estimator.fitted:hover .sk-estimator-doc-link.fitted:hover,\n",
       ".sk-estimator-doc-link.fitted:hover,\n",
       "div.sk-label-container:hover .sk-estimator-doc-link.fitted:hover,\n",
       ".sk-estimator-doc-link.fitted:hover {\n",
       "  /* fitted */\n",
       "  background-color: var(--sklearn-color-fitted-level-3);\n",
       "  color: var(--sklearn-color-background);\n",
       "  text-decoration: none;\n",
       "}\n",
       "\n",
       "/* Span, style for the box shown on hovering the info icon */\n",
       ".sk-estimator-doc-link span {\n",
       "  display: none;\n",
       "  z-index: 9999;\n",
       "  position: relative;\n",
       "  font-weight: normal;\n",
       "  right: .2ex;\n",
       "  padding: .5ex;\n",
       "  margin: .5ex;\n",
       "  width: min-content;\n",
       "  min-width: 20ex;\n",
       "  max-width: 50ex;\n",
       "  color: var(--sklearn-color-text);\n",
       "  box-shadow: 2pt 2pt 4pt #999;\n",
       "  /* unfitted */\n",
       "  background: var(--sklearn-color-unfitted-level-0);\n",
       "  border: .5pt solid var(--sklearn-color-unfitted-level-3);\n",
       "}\n",
       "\n",
       ".sk-estimator-doc-link.fitted span {\n",
       "  /* fitted */\n",
       "  background: var(--sklearn-color-fitted-level-0);\n",
       "  border: var(--sklearn-color-fitted-level-3);\n",
       "}\n",
       "\n",
       ".sk-estimator-doc-link:hover span {\n",
       "  display: block;\n",
       "}\n",
       "\n",
       "/* \"?\"-specific style due to the `<a>` HTML tag */\n",
       "\n",
       "#sk-container-id-4 a.estimator_doc_link {\n",
       "  float: right;\n",
       "  font-size: 1rem;\n",
       "  line-height: 1em;\n",
       "  font-family: monospace;\n",
       "  background-color: var(--sklearn-color-background);\n",
       "  border-radius: 1rem;\n",
       "  height: 1rem;\n",
       "  width: 1rem;\n",
       "  text-decoration: none;\n",
       "  /* unfitted */\n",
       "  color: var(--sklearn-color-unfitted-level-1);\n",
       "  border: var(--sklearn-color-unfitted-level-1) 1pt solid;\n",
       "}\n",
       "\n",
       "#sk-container-id-4 a.estimator_doc_link.fitted {\n",
       "  /* fitted */\n",
       "  border: var(--sklearn-color-fitted-level-1) 1pt solid;\n",
       "  color: var(--sklearn-color-fitted-level-1);\n",
       "}\n",
       "\n",
       "/* On hover */\n",
       "#sk-container-id-4 a.estimator_doc_link:hover {\n",
       "  /* unfitted */\n",
       "  background-color: var(--sklearn-color-unfitted-level-3);\n",
       "  color: var(--sklearn-color-background);\n",
       "  text-decoration: none;\n",
       "}\n",
       "\n",
       "#sk-container-id-4 a.estimator_doc_link.fitted:hover {\n",
       "  /* fitted */\n",
       "  background-color: var(--sklearn-color-fitted-level-3);\n",
       "}\n",
       "</style><div id=\"sk-container-id-4\" class=\"sk-top-container\"><div class=\"sk-text-repr-fallback\"><pre>RandomForestClassifier(max_depth=17, max_features=10, min_samples_leaf=3,\n",
       "                       n_estimators=50, oob_score=True, random_state=42)</pre><b>In a Jupyter environment, please rerun this cell to show the HTML representation or trust the notebook. <br />On GitHub, the HTML representation is unable to render, please try loading this page with nbviewer.org.</b></div><div class=\"sk-container\" hidden><div class=\"sk-item\"><div class=\"sk-estimator fitted sk-toggleable\"><input class=\"sk-toggleable__control sk-hidden--visually\" id=\"sk-estimator-id-6\" type=\"checkbox\" checked><label for=\"sk-estimator-id-6\" class=\"sk-toggleable__label fitted sk-toggleable__label-arrow fitted\">&nbsp;&nbsp;RandomForestClassifier<a class=\"sk-estimator-doc-link fitted\" rel=\"noreferrer\" target=\"_blank\" href=\"https://scikit-learn.org/1.4/modules/generated/sklearn.ensemble.RandomForestClassifier.html\">?<span>Documentation for RandomForestClassifier</span></a><span class=\"sk-estimator-doc-link fitted\">i<span>Fitted</span></span></label><div class=\"sk-toggleable__content fitted\"><pre>RandomForestClassifier(max_depth=17, max_features=10, min_samples_leaf=3,\n",
       "                       n_estimators=50, oob_score=True, random_state=42)</pre></div> </div></div></div></div>"
      ],
      "text/plain": [
       "RandomForestClassifier(max_depth=17, max_features=10, min_samples_leaf=3,\n",
       "                       n_estimators=50, oob_score=True, random_state=42)"
      ]
     },
     "execution_count": 130,
     "metadata": {},
     "output_type": "execute_result"
    }
   ],
   "source": [
    "with open('webattack_detection_rf_model.pkl', 'rb') as f:\n",
    "    rfc = pickle.load(f)\n",
    "rfc"
   ]
  },
  {
   "cell_type": "markdown",
   "metadata": {
    "id": "znNcDQd-oh5G"
   },
   "source": [
    "Reopen the dataset."
   ]
  },
  {
   "cell_type": "code",
   "execution_count": 131,
   "metadata": {
    "colab": {
     "base_uri": "https://localhost:8080/",
     "height": 34
    },
    "id": "z_vhT5fcoguX",
    "outputId": "8ce12f85-6c36-4c07-f3af-e78affc90718"
   },
   "outputs": [
    {
     "name": "stdout",
     "output_type": "stream",
     "text": [
      "(7267, 10) (7267,)\n"
     ]
    }
   ],
   "source": [
    "df = pd.read_csv('web_attacks_balanced.csv')\n",
    "df['Label'] = df['Label'].apply(lambda x: 0 if x == 'BENIGN' else 1)\n",
    "y_test = df['Label'].values\n",
    "X_test = df[webattack_features]\n",
    "print(X_test.shape, y_test.shape)"
   ]
  },
  {
   "cell_type": "markdown",
   "metadata": {},
   "source": [
    "If necessary, we will work with our own dataset."
   ]
  },
  {
   "cell_type": "code",
   "execution_count": null,
   "metadata": {},
   "outputs": [],
   "source": [
    "#df = pd.read_csv('mix_labelled.csv')\n",
    "#y_test = df['Label'].values\n",
    "#X_test = df[webattack_features]\n",
    "#print(X_test.shape, y_test.shape)"
   ]
  },
  {
   "cell_type": "code",
   "execution_count": 132,
   "metadata": {
    "colab": {
     "base_uri": "https://localhost:8080/",
     "height": 204
    },
    "id": "wmcv42wHoltz",
    "outputId": "fbbe0e7b-7a01-4b02-c7e3-498334b70a6e"
   },
   "outputs": [
    {
     "data": {
      "text/html": [
       "<div>\n",
       "<style scoped>\n",
       "    .dataframe tbody tr th:only-of-type {\n",
       "        vertical-align: middle;\n",
       "    }\n",
       "\n",
       "    .dataframe tbody tr th {\n",
       "        vertical-align: top;\n",
       "    }\n",
       "\n",
       "    .dataframe thead th {\n",
       "        text-align: right;\n",
       "    }\n",
       "</style>\n",
       "<table border=\"1\" class=\"dataframe\">\n",
       "  <thead>\n",
       "    <tr style=\"text-align: right;\">\n",
       "      <th></th>\n",
       "      <th>Average Packet Size</th>\n",
       "      <th>Flow Bytes/s</th>\n",
       "      <th>Fwd Packet Length Mean</th>\n",
       "      <th>Max Packet Length</th>\n",
       "      <th>Fwd IAT Min</th>\n",
       "      <th>Total Length of Fwd Packets</th>\n",
       "      <th>Flow IAT Mean</th>\n",
       "      <th>Fwd Packet Length Max</th>\n",
       "      <th>Fwd IAT Std</th>\n",
       "      <th>Fwd Header Length</th>\n",
       "    </tr>\n",
       "  </thead>\n",
       "  <tbody>\n",
       "    <tr>\n",
       "      <th>0</th>\n",
       "      <td>58.500000</td>\n",
       "      <td>7.835455e+03</td>\n",
       "      <td>34.0</td>\n",
       "      <td>66.0</td>\n",
       "      <td>4.0</td>\n",
       "      <td>68.0</td>\n",
       "      <td>8508.333333</td>\n",
       "      <td>34.0</td>\n",
       "      <td>0.000000</td>\n",
       "      <td>64.0</td>\n",
       "    </tr>\n",
       "    <tr>\n",
       "      <th>1</th>\n",
       "      <td>80.000000</td>\n",
       "      <td>1.346341e+06</td>\n",
       "      <td>44.0</td>\n",
       "      <td>94.0</td>\n",
       "      <td>49.0</td>\n",
       "      <td>88.0</td>\n",
       "      <td>68.333333</td>\n",
       "      <td>44.0</td>\n",
       "      <td>0.000000</td>\n",
       "      <td>64.0</td>\n",
       "    </tr>\n",
       "    <tr>\n",
       "      <th>2</th>\n",
       "      <td>63.500000</td>\n",
       "      <td>1.370370e+06</td>\n",
       "      <td>32.0</td>\n",
       "      <td>79.0</td>\n",
       "      <td>1.0</td>\n",
       "      <td>64.0</td>\n",
       "      <td>54.000000</td>\n",
       "      <td>32.0</td>\n",
       "      <td>0.000000</td>\n",
       "      <td>64.0</td>\n",
       "    </tr>\n",
       "    <tr>\n",
       "      <th>3</th>\n",
       "      <td>35.071429</td>\n",
       "      <td>1.239899e+06</td>\n",
       "      <td>16.5</td>\n",
       "      <td>163.0</td>\n",
       "      <td>1.0</td>\n",
       "      <td>165.0</td>\n",
       "      <td>30.461538</td>\n",
       "      <td>79.0</td>\n",
       "      <td>49.183331</td>\n",
       "      <td>336.0</td>\n",
       "    </tr>\n",
       "    <tr>\n",
       "      <th>4</th>\n",
       "      <td>102.500000</td>\n",
       "      <td>6.601925e+03</td>\n",
       "      <td>50.0</td>\n",
       "      <td>105.0</td>\n",
       "      <td>0.0</td>\n",
       "      <td>50.0</td>\n",
       "      <td>23478.000000</td>\n",
       "      <td>50.0</td>\n",
       "      <td>0.000000</td>\n",
       "      <td>32.0</td>\n",
       "    </tr>\n",
       "  </tbody>\n",
       "</table>\n",
       "</div>"
      ],
      "text/plain": [
       "   Average Packet Size  Flow Bytes/s  Fwd Packet Length Mean  \\\n",
       "0            58.500000  7.835455e+03                    34.0   \n",
       "1            80.000000  1.346341e+06                    44.0   \n",
       "2            63.500000  1.370370e+06                    32.0   \n",
       "3            35.071429  1.239899e+06                    16.5   \n",
       "4           102.500000  6.601925e+03                    50.0   \n",
       "\n",
       "   Max Packet Length  Fwd IAT Min  Total Length of Fwd Packets  Flow IAT Mean  \\\n",
       "0               66.0          4.0                         68.0    8508.333333   \n",
       "1               94.0         49.0                         88.0      68.333333   \n",
       "2               79.0          1.0                         64.0      54.000000   \n",
       "3              163.0          1.0                        165.0      30.461538   \n",
       "4              105.0          0.0                         50.0   23478.000000   \n",
       "\n",
       "   Fwd Packet Length Max  Fwd IAT Std  Fwd Header Length  \n",
       "0                   34.0     0.000000               64.0  \n",
       "1                   44.0     0.000000               64.0  \n",
       "2                   32.0     0.000000               64.0  \n",
       "3                   79.0    49.183331              336.0  \n",
       "4                   50.0     0.000000               32.0  "
      ]
     },
     "execution_count": 132,
     "metadata": {},
     "output_type": "execute_result"
    }
   ],
   "source": [
    "X_test.head()"
   ]
  },
  {
   "cell_type": "code",
   "execution_count": 133,
   "metadata": {
    "colab": {
     "base_uri": "https://localhost:8080/",
     "height": 68
    },
    "id": "-lSUUhseopZz",
    "outputId": "ef9ad3e0-48ca-43b6-9e64-26e1b8add59a"
   },
   "outputs": [
    {
     "name": "stdout",
     "output_type": "stream",
     "text": [
      "Total operation time: 0.0450739860534668 seconds\n",
      "Benign records detected (0), attacks detected (1):\n"
     ]
    },
    {
     "data": {
      "text/plain": [
       "{0: 5117, 1: 2150}"
      ]
     },
     "execution_count": 133,
     "metadata": {},
     "output_type": "execute_result"
    }
   ],
   "source": [
    "import time\n",
    "seconds = time.time()\n",
    "y_pred = rfc.predict(X_test)\n",
    "print(\"Total operation time:\", time.time() - seconds, \"seconds\")\n",
    "\n",
    "print(\"Benign records detected (0), attacks detected (1):\")\n",
    "unique, counts = np.unique(y_pred, return_counts=True)\n",
    "dict(zip(unique, counts))"
   ]
  },
  {
   "cell_type": "markdown",
   "metadata": {
    "id": "J2czidjro0at"
   },
   "source": [
    "Confusion matrix:\n",
    "\n",
    "      0  1 - predicted value (Wikipedia uses different convention for axes)\n",
    "    0 TN FP\n",
    "    1 FN TP"
   ]
  },
  {
   "cell_type": "code",
   "execution_count": 134,
   "metadata": {
    "colab": {
     "base_uri": "https://localhost:8080/",
     "height": 51
    },
    "id": "-g03Us5potkl",
    "outputId": "502b9a3b-2cb4-4363-ad66-40f879b52186"
   },
   "outputs": [
    {
     "data": {
      "text/plain": [
       "array([[5040,   47],\n",
       "       [  77, 2103]], dtype=int64)"
      ]
     },
     "execution_count": 134,
     "metadata": {},
     "output_type": "execute_result"
    }
   ],
   "source": [
    "confusion_matrix(y_test, y_pred)"
   ]
  },
  {
   "cell_type": "code",
   "execution_count": 135,
   "metadata": {
    "colab": {
     "base_uri": "https://localhost:8080/",
     "height": 85
    },
    "id": "qBDPbUU_o6Pi",
    "outputId": "8ad0fd77-427b-472c-daae-cda92b67ffc2"
   },
   "outputs": [
    {
     "name": "stdout",
     "output_type": "stream",
     "text": [
      "Accuracy = 0.9829365625430027\n",
      "Precision = 0.978139534883721\n",
      "Recall = 0.9646788990825688\n",
      "F1 = 0.9713625866050808\n"
     ]
    }
   ],
   "source": [
    "accuracy = metrics.accuracy_score(y_test, y_pred)\n",
    "precision = metrics.precision_score(y_test, y_pred)\n",
    "recall = metrics.recall_score(y_test, y_pred)\n",
    "f1 = metrics.f1_score(y_test, y_pred)\n",
    "print('Accuracy =', accuracy)\n",
    "print('Precision =', precision)\n",
    "print('Recall =', recall)\n",
    "print('F1 =', f1)"
   ]
  },
  {
   "cell_type": "markdown",
   "metadata": {
    "id": "u4OU8WyZpJdD"
   },
   "source": [
    "Manual calculation of the confusion matrix:\n",
    "    \n",
    "    array([[5075,   12],\n",
    "           [   1, 2179]], dtype=int64)\n",
    "  \n",
    "      0  1 - predicted value (Wikipedia uses different convention for axes)\n",
    "    0 TN FP\n",
    "    1 FN TP\n",
    "\n",
    "    Точность\n",
    "    Precision = TP / (TP + FP) = 2179 / (2179 + 12) = 0.9945230488361478\n",
    "\n",
    "    Полнота\n",
    "    Recall = TP / (TP + FN) = 2179 / (2179 + 1) = 0.9995412844036697\n",
    "\n",
    "    F-мера, параметр = 1, гармоническое среднее точности и полноты, множитель = 2\n",
    "    F1 = 2 * (precision * recall) / (precision + recall) = 0.9970258522077328\n",
    "\n",
    "    Доля правильных ответов\n",
    "    Accuracy = TP + TN / (TP + TN + FP + FN) = (2179 + 5075) / 7267 = 0.998211091234347"
   ]
  },
  {
   "cell_type": "code",
   "execution_count": 136,
   "metadata": {
    "id": "RyyORmRrpDTz"
   },
   "outputs": [],
   "source": [
    "predict = pd.DataFrame({'Predict': rfc.predict(X_test)})\n",
    "label = pd.DataFrame({'Label': y_test})\n",
    "result = X_test.join(label).join(predict)"
   ]
  },
  {
   "cell_type": "code",
   "execution_count": 137,
   "metadata": {
    "colab": {
     "base_uri": "https://localhost:8080/",
     "height": 419
    },
    "id": "Vgpf2SVmpnyp",
    "outputId": "ea5e58a0-f808-45ee-ecdc-4f3e0327cf57"
   },
   "outputs": [
    {
     "data": {
      "text/html": [
       "<div>\n",
       "<style scoped>\n",
       "    .dataframe tbody tr th:only-of-type {\n",
       "        vertical-align: middle;\n",
       "    }\n",
       "\n",
       "    .dataframe tbody tr th {\n",
       "        vertical-align: top;\n",
       "    }\n",
       "\n",
       "    .dataframe thead th {\n",
       "        text-align: right;\n",
       "    }\n",
       "</style>\n",
       "<table border=\"1\" class=\"dataframe\">\n",
       "  <thead>\n",
       "    <tr style=\"text-align: right;\">\n",
       "      <th></th>\n",
       "      <th>Average Packet Size</th>\n",
       "      <th>Flow Bytes/s</th>\n",
       "      <th>Fwd Packet Length Mean</th>\n",
       "      <th>Max Packet Length</th>\n",
       "      <th>Fwd IAT Min</th>\n",
       "      <th>Total Length of Fwd Packets</th>\n",
       "      <th>Flow IAT Mean</th>\n",
       "      <th>Fwd Packet Length Max</th>\n",
       "      <th>Fwd IAT Std</th>\n",
       "      <th>Fwd Header Length</th>\n",
       "      <th>Label</th>\n",
       "      <th>Predict</th>\n",
       "    </tr>\n",
       "  </thead>\n",
       "  <tbody>\n",
       "    <tr>\n",
       "      <th>181</th>\n",
       "      <td>0.000000</td>\n",
       "      <td>0.000</td>\n",
       "      <td>0.000000</td>\n",
       "      <td>0.0</td>\n",
       "      <td>0.0</td>\n",
       "      <td>0.0</td>\n",
       "      <td>66.000000</td>\n",
       "      <td>0.0</td>\n",
       "      <td>0.000000</td>\n",
       "      <td>32.0</td>\n",
       "      <td>0</td>\n",
       "      <td>1</td>\n",
       "    </tr>\n",
       "    <tr>\n",
       "      <th>205</th>\n",
       "      <td>0.000000</td>\n",
       "      <td>0.000</td>\n",
       "      <td>0.000000</td>\n",
       "      <td>0.0</td>\n",
       "      <td>0.0</td>\n",
       "      <td>0.0</td>\n",
       "      <td>73.000000</td>\n",
       "      <td>0.0</td>\n",
       "      <td>0.000000</td>\n",
       "      <td>32.0</td>\n",
       "      <td>0</td>\n",
       "      <td>1</td>\n",
       "    </tr>\n",
       "    <tr>\n",
       "      <th>274</th>\n",
       "      <td>1261.669844</td>\n",
       "      <td>4678893.959</td>\n",
       "      <td>5.968156</td>\n",
       "      <td>7300.0</td>\n",
       "      <td>0.0</td>\n",
       "      <td>1135758.0</td>\n",
       "      <td>269.651206</td>\n",
       "      <td>1460.0</td>\n",
       "      <td>12391.747330</td>\n",
       "      <td>3965448.0</td>\n",
       "      <td>0</td>\n",
       "      <td>1</td>\n",
       "    </tr>\n",
       "    <tr>\n",
       "      <th>283</th>\n",
       "      <td>0.000000</td>\n",
       "      <td>0.000</td>\n",
       "      <td>0.000000</td>\n",
       "      <td>0.0</td>\n",
       "      <td>0.0</td>\n",
       "      <td>0.0</td>\n",
       "      <td>51.000000</td>\n",
       "      <td>0.0</td>\n",
       "      <td>0.000000</td>\n",
       "      <td>32.0</td>\n",
       "      <td>0</td>\n",
       "      <td>1</td>\n",
       "    </tr>\n",
       "    <tr>\n",
       "      <th>319</th>\n",
       "      <td>1255.289209</td>\n",
       "      <td>4931742.515</td>\n",
       "      <td>5.963483</td>\n",
       "      <td>8760.0</td>\n",
       "      <td>0.0</td>\n",
       "      <td>1197199.0</td>\n",
       "      <td>254.532505</td>\n",
       "      <td>1460.0</td>\n",
       "      <td>4818.184068</td>\n",
       "      <td>4173072.0</td>\n",
       "      <td>0</td>\n",
       "      <td>1</td>\n",
       "    </tr>\n",
       "    <tr>\n",
       "      <th>...</th>\n",
       "      <td>...</td>\n",
       "      <td>...</td>\n",
       "      <td>...</td>\n",
       "      <td>...</td>\n",
       "      <td>...</td>\n",
       "      <td>...</td>\n",
       "      <td>...</td>\n",
       "      <td>...</td>\n",
       "      <td>...</td>\n",
       "      <td>...</td>\n",
       "      <td>...</td>\n",
       "      <td>...</td>\n",
       "    </tr>\n",
       "    <tr>\n",
       "      <th>6647</th>\n",
       "      <td>0.000000</td>\n",
       "      <td>0.000</td>\n",
       "      <td>0.000000</td>\n",
       "      <td>0.0</td>\n",
       "      <td>0.0</td>\n",
       "      <td>0.0</td>\n",
       "      <td>81.000000</td>\n",
       "      <td>0.0</td>\n",
       "      <td>0.000000</td>\n",
       "      <td>32.0</td>\n",
       "      <td>0</td>\n",
       "      <td>1</td>\n",
       "    </tr>\n",
       "    <tr>\n",
       "      <th>6651</th>\n",
       "      <td>0.000000</td>\n",
       "      <td>0.000</td>\n",
       "      <td>0.000000</td>\n",
       "      <td>0.0</td>\n",
       "      <td>687.0</td>\n",
       "      <td>0.0</td>\n",
       "      <td>687.000000</td>\n",
       "      <td>0.0</td>\n",
       "      <td>0.000000</td>\n",
       "      <td>64.0</td>\n",
       "      <td>0</td>\n",
       "      <td>1</td>\n",
       "    </tr>\n",
       "    <tr>\n",
       "      <th>6987</th>\n",
       "      <td>0.000000</td>\n",
       "      <td>0.000</td>\n",
       "      <td>0.000000</td>\n",
       "      <td>0.0</td>\n",
       "      <td>0.0</td>\n",
       "      <td>0.0</td>\n",
       "      <td>77.000000</td>\n",
       "      <td>0.0</td>\n",
       "      <td>0.000000</td>\n",
       "      <td>32.0</td>\n",
       "      <td>0</td>\n",
       "      <td>1</td>\n",
       "    </tr>\n",
       "    <tr>\n",
       "      <th>7202</th>\n",
       "      <td>0.000000</td>\n",
       "      <td>0.000</td>\n",
       "      <td>0.000000</td>\n",
       "      <td>0.0</td>\n",
       "      <td>0.0</td>\n",
       "      <td>0.0</td>\n",
       "      <td>20.000000</td>\n",
       "      <td>0.0</td>\n",
       "      <td>0.000000</td>\n",
       "      <td>32.0</td>\n",
       "      <td>0</td>\n",
       "      <td>1</td>\n",
       "    </tr>\n",
       "    <tr>\n",
       "      <th>7263</th>\n",
       "      <td>0.000000</td>\n",
       "      <td>0.000</td>\n",
       "      <td>0.000000</td>\n",
       "      <td>0.0</td>\n",
       "      <td>0.0</td>\n",
       "      <td>0.0</td>\n",
       "      <td>42.000000</td>\n",
       "      <td>0.0</td>\n",
       "      <td>0.000000</td>\n",
       "      <td>32.0</td>\n",
       "      <td>0</td>\n",
       "      <td>1</td>\n",
       "    </tr>\n",
       "  </tbody>\n",
       "</table>\n",
       "<p>2150 rows × 12 columns</p>\n",
       "</div>"
      ],
      "text/plain": [
       "      Average Packet Size  Flow Bytes/s  Fwd Packet Length Mean  \\\n",
       "181              0.000000         0.000                0.000000   \n",
       "205              0.000000         0.000                0.000000   \n",
       "274           1261.669844   4678893.959                5.968156   \n",
       "283              0.000000         0.000                0.000000   \n",
       "319           1255.289209   4931742.515                5.963483   \n",
       "...                   ...           ...                     ...   \n",
       "6647             0.000000         0.000                0.000000   \n",
       "6651             0.000000         0.000                0.000000   \n",
       "6987             0.000000         0.000                0.000000   \n",
       "7202             0.000000         0.000                0.000000   \n",
       "7263             0.000000         0.000                0.000000   \n",
       "\n",
       "      Max Packet Length  Fwd IAT Min  Total Length of Fwd Packets  \\\n",
       "181                 0.0          0.0                          0.0   \n",
       "205                 0.0          0.0                          0.0   \n",
       "274              7300.0          0.0                    1135758.0   \n",
       "283                 0.0          0.0                          0.0   \n",
       "319              8760.0          0.0                    1197199.0   \n",
       "...                 ...          ...                          ...   \n",
       "6647                0.0          0.0                          0.0   \n",
       "6651                0.0        687.0                          0.0   \n",
       "6987                0.0          0.0                          0.0   \n",
       "7202                0.0          0.0                          0.0   \n",
       "7263                0.0          0.0                          0.0   \n",
       "\n",
       "      Flow IAT Mean  Fwd Packet Length Max   Fwd IAT Std  Fwd Header Length  \\\n",
       "181       66.000000                    0.0      0.000000               32.0   \n",
       "205       73.000000                    0.0      0.000000               32.0   \n",
       "274      269.651206                 1460.0  12391.747330          3965448.0   \n",
       "283       51.000000                    0.0      0.000000               32.0   \n",
       "319      254.532505                 1460.0   4818.184068          4173072.0   \n",
       "...             ...                    ...           ...                ...   \n",
       "6647      81.000000                    0.0      0.000000               32.0   \n",
       "6651     687.000000                    0.0      0.000000               64.0   \n",
       "6987      77.000000                    0.0      0.000000               32.0   \n",
       "7202      20.000000                    0.0      0.000000               32.0   \n",
       "7263      42.000000                    0.0      0.000000               32.0   \n",
       "\n",
       "      Label  Predict  \n",
       "181       0        1  \n",
       "205       0        1  \n",
       "274       0        1  \n",
       "283       0        1  \n",
       "319       0        1  \n",
       "...     ...      ...  \n",
       "6647      0        1  \n",
       "6651      0        1  \n",
       "6987      0        1  \n",
       "7202      0        1  \n",
       "7263      0        1  \n",
       "\n",
       "[2150 rows x 12 columns]"
      ]
     },
     "execution_count": 137,
     "metadata": {},
     "output_type": "execute_result"
    }
   ],
   "source": [
    "result[result['Predict'] == 1]"
   ]
  },
  {
   "cell_type": "code",
   "execution_count": 138,
   "metadata": {
    "colab": {
     "base_uri": "https://localhost:8080/",
     "height": 669
    },
    "id": "yD7m3P1lppwu",
    "outputId": "d02e0f4d-e60a-4fc0-d583-f6c709777a3e"
   },
   "outputs": [
    {
     "data": {
      "text/html": [
       "<div>\n",
       "<style scoped>\n",
       "    .dataframe tbody tr th:only-of-type {\n",
       "        vertical-align: middle;\n",
       "    }\n",
       "\n",
       "    .dataframe tbody tr th {\n",
       "        vertical-align: top;\n",
       "    }\n",
       "\n",
       "    .dataframe thead th {\n",
       "        text-align: right;\n",
       "    }\n",
       "</style>\n",
       "<table border=\"1\" class=\"dataframe\">\n",
       "  <thead>\n",
       "    <tr style=\"text-align: right;\">\n",
       "      <th></th>\n",
       "      <th>Average Packet Size</th>\n",
       "      <th>Flow Bytes/s</th>\n",
       "      <th>Fwd Packet Length Mean</th>\n",
       "      <th>Max Packet Length</th>\n",
       "      <th>Fwd IAT Min</th>\n",
       "      <th>Total Length of Fwd Packets</th>\n",
       "      <th>Flow IAT Mean</th>\n",
       "      <th>Fwd Packet Length Max</th>\n",
       "      <th>Fwd IAT Std</th>\n",
       "      <th>Fwd Header Length</th>\n",
       "      <th>Label</th>\n",
       "      <th>Predict</th>\n",
       "    </tr>\n",
       "  </thead>\n",
       "  <tbody>\n",
       "    <tr>\n",
       "      <th>410</th>\n",
       "      <td>95.500000</td>\n",
       "      <td>2.300201e+03</td>\n",
       "      <td>50.000000</td>\n",
       "      <td>91.0</td>\n",
       "      <td>0.0</td>\n",
       "      <td>50.0</td>\n",
       "      <td>6.129900e+04</td>\n",
       "      <td>50.0</td>\n",
       "      <td>0.000000e+00</td>\n",
       "      <td>20.0</td>\n",
       "      <td>0</td>\n",
       "      <td>0</td>\n",
       "    </tr>\n",
       "    <tr>\n",
       "      <th>411</th>\n",
       "      <td>57.750000</td>\n",
       "      <td>1.661017e+06</td>\n",
       "      <td>35.000000</td>\n",
       "      <td>63.0</td>\n",
       "      <td>3.0</td>\n",
       "      <td>70.0</td>\n",
       "      <td>3.933333e+01</td>\n",
       "      <td>35.0</td>\n",
       "      <td>0.000000e+00</td>\n",
       "      <td>40.0</td>\n",
       "      <td>0</td>\n",
       "      <td>0</td>\n",
       "    </tr>\n",
       "    <tr>\n",
       "      <th>412</th>\n",
       "      <td>282.111111</td>\n",
       "      <td>2.635157e+04</td>\n",
       "      <td>54.700000</td>\n",
       "      <td>1430.0</td>\n",
       "      <td>3.0</td>\n",
       "      <td>547.0</td>\n",
       "      <td>1.133541e+04</td>\n",
       "      <td>190.0</td>\n",
       "      <td>2.056015e+04</td>\n",
       "      <td>212.0</td>\n",
       "      <td>0</td>\n",
       "      <td>0</td>\n",
       "    </tr>\n",
       "    <tr>\n",
       "      <th>413</th>\n",
       "      <td>201.931035</td>\n",
       "      <td>4.987631e+01</td>\n",
       "      <td>64.266667</td>\n",
       "      <td>2549.0</td>\n",
       "      <td>46.0</td>\n",
       "      <td>964.0</td>\n",
       "      <td>4.193230e+06</td>\n",
       "      <td>307.0</td>\n",
       "      <td>2.130000e+07</td>\n",
       "      <td>312.0</td>\n",
       "      <td>0</td>\n",
       "      <td>0</td>\n",
       "    </tr>\n",
       "    <tr>\n",
       "      <th>414</th>\n",
       "      <td>112.000000</td>\n",
       "      <td>5.526815e+03</td>\n",
       "      <td>52.000000</td>\n",
       "      <td>120.0</td>\n",
       "      <td>0.0</td>\n",
       "      <td>52.0</td>\n",
       "      <td>3.112100e+04</td>\n",
       "      <td>52.0</td>\n",
       "      <td>0.000000e+00</td>\n",
       "      <td>20.0</td>\n",
       "      <td>0</td>\n",
       "      <td>0</td>\n",
       "    </tr>\n",
       "    <tr>\n",
       "      <th>415</th>\n",
       "      <td>100.000000</td>\n",
       "      <td>4.857868e+03</td>\n",
       "      <td>45.000000</td>\n",
       "      <td>110.0</td>\n",
       "      <td>0.0</td>\n",
       "      <td>45.0</td>\n",
       "      <td>3.190700e+04</td>\n",
       "      <td>45.0</td>\n",
       "      <td>0.000000e+00</td>\n",
       "      <td>20.0</td>\n",
       "      <td>0</td>\n",
       "      <td>0</td>\n",
       "    </tr>\n",
       "    <tr>\n",
       "      <th>416</th>\n",
       "      <td>59.250000</td>\n",
       "      <td>1.076923e+06</td>\n",
       "      <td>41.000000</td>\n",
       "      <td>57.0</td>\n",
       "      <td>47.0</td>\n",
       "      <td>82.0</td>\n",
       "      <td>6.066667e+01</td>\n",
       "      <td>41.0</td>\n",
       "      <td>0.000000e+00</td>\n",
       "      <td>40.0</td>\n",
       "      <td>0</td>\n",
       "      <td>0</td>\n",
       "    </tr>\n",
       "    <tr>\n",
       "      <th>417</th>\n",
       "      <td>74.000000</td>\n",
       "      <td>1.251362e+04</td>\n",
       "      <td>42.000000</td>\n",
       "      <td>117.0</td>\n",
       "      <td>3.0</td>\n",
       "      <td>168.0</td>\n",
       "      <td>6.425000e+03</td>\n",
       "      <td>42.0</td>\n",
       "      <td>1.422216e+04</td>\n",
       "      <td>104.0</td>\n",
       "      <td>0</td>\n",
       "      <td>0</td>\n",
       "    </tr>\n",
       "    <tr>\n",
       "      <th>418</th>\n",
       "      <td>58.000000</td>\n",
       "      <td>1.342657e+06</td>\n",
       "      <td>40.000000</td>\n",
       "      <td>56.0</td>\n",
       "      <td>3.0</td>\n",
       "      <td>80.0</td>\n",
       "      <td>4.766667e+01</td>\n",
       "      <td>40.0</td>\n",
       "      <td>0.000000e+00</td>\n",
       "      <td>40.0</td>\n",
       "      <td>0</td>\n",
       "      <td>0</td>\n",
       "    </tr>\n",
       "    <tr>\n",
       "      <th>419</th>\n",
       "      <td>9.000000</td>\n",
       "      <td>4.000000e+06</td>\n",
       "      <td>6.000000</td>\n",
       "      <td>6.0</td>\n",
       "      <td>3.0</td>\n",
       "      <td>12.0</td>\n",
       "      <td>3.000000e+00</td>\n",
       "      <td>6.0</td>\n",
       "      <td>0.000000e+00</td>\n",
       "      <td>40.0</td>\n",
       "      <td>0</td>\n",
       "      <td>0</td>\n",
       "    </tr>\n",
       "    <tr>\n",
       "      <th>420</th>\n",
       "      <td>246.416667</td>\n",
       "      <td>1.276589e+02</td>\n",
       "      <td>201.550000</td>\n",
       "      <td>404.0</td>\n",
       "      <td>1.0</td>\n",
       "      <td>8062.0</td>\n",
       "      <td>1.909485e+06</td>\n",
       "      <td>404.0</td>\n",
       "      <td>5.819044e+06</td>\n",
       "      <td>1280.0</td>\n",
       "      <td>0</td>\n",
       "      <td>0</td>\n",
       "    </tr>\n",
       "    <tr>\n",
       "      <th>421</th>\n",
       "      <td>0.000000</td>\n",
       "      <td>0.000000e+00</td>\n",
       "      <td>0.000000</td>\n",
       "      <td>0.0</td>\n",
       "      <td>0.0</td>\n",
       "      <td>0.0</td>\n",
       "      <td>5.900000e+01</td>\n",
       "      <td>0.0</td>\n",
       "      <td>0.000000e+00</td>\n",
       "      <td>32.0</td>\n",
       "      <td>0</td>\n",
       "      <td>0</td>\n",
       "    </tr>\n",
       "    <tr>\n",
       "      <th>422</th>\n",
       "      <td>89.000000</td>\n",
       "      <td>8.232190e+05</td>\n",
       "      <td>44.000000</td>\n",
       "      <td>112.0</td>\n",
       "      <td>1.0</td>\n",
       "      <td>88.0</td>\n",
       "      <td>1.263333e+02</td>\n",
       "      <td>44.0</td>\n",
       "      <td>0.000000e+00</td>\n",
       "      <td>40.0</td>\n",
       "      <td>0</td>\n",
       "      <td>0</td>\n",
       "    </tr>\n",
       "    <tr>\n",
       "      <th>423</th>\n",
       "      <td>134.500000</td>\n",
       "      <td>3.138026e+02</td>\n",
       "      <td>43.000000</td>\n",
       "      <td>183.0</td>\n",
       "      <td>0.0</td>\n",
       "      <td>43.0</td>\n",
       "      <td>7.201980e+05</td>\n",
       "      <td>43.0</td>\n",
       "      <td>0.000000e+00</td>\n",
       "      <td>20.0</td>\n",
       "      <td>0</td>\n",
       "      <td>0</td>\n",
       "    </tr>\n",
       "    <tr>\n",
       "      <th>424</th>\n",
       "      <td>149.000000</td>\n",
       "      <td>7.668597e+02</td>\n",
       "      <td>32.000000</td>\n",
       "      <td>250.0</td>\n",
       "      <td>4.0</td>\n",
       "      <td>64.0</td>\n",
       "      <td>2.451557e+05</td>\n",
       "      <td>32.0</td>\n",
       "      <td>0.000000e+00</td>\n",
       "      <td>40.0</td>\n",
       "      <td>0</td>\n",
       "      <td>0</td>\n",
       "    </tr>\n",
       "    <tr>\n",
       "      <th>425</th>\n",
       "      <td>187.240000</td>\n",
       "      <td>3.923971e+01</td>\n",
       "      <td>57.666667</td>\n",
       "      <td>2865.0</td>\n",
       "      <td>3.0</td>\n",
       "      <td>865.0</td>\n",
       "      <td>4.970517e+06</td>\n",
       "      <td>208.0</td>\n",
       "      <td>2.120000e+07</td>\n",
       "      <td>320.0</td>\n",
       "      <td>0</td>\n",
       "      <td>0</td>\n",
       "    </tr>\n",
       "    <tr>\n",
       "      <th>426</th>\n",
       "      <td>9.000000</td>\n",
       "      <td>1.518987e+05</td>\n",
       "      <td>6.000000</td>\n",
       "      <td>6.0</td>\n",
       "      <td>79.0</td>\n",
       "      <td>12.0</td>\n",
       "      <td>7.900000e+01</td>\n",
       "      <td>6.0</td>\n",
       "      <td>0.000000e+00</td>\n",
       "      <td>40.0</td>\n",
       "      <td>0</td>\n",
       "      <td>0</td>\n",
       "    </tr>\n",
       "    <tr>\n",
       "      <th>427</th>\n",
       "      <td>256.500000</td>\n",
       "      <td>3.716166e+02</td>\n",
       "      <td>60.000000</td>\n",
       "      <td>1812.0</td>\n",
       "      <td>152.0</td>\n",
       "      <td>240.0</td>\n",
       "      <td>7.888314e+05</td>\n",
       "      <td>240.0</td>\n",
       "      <td>1.450977e+05</td>\n",
       "      <td>136.0</td>\n",
       "      <td>0</td>\n",
       "      <td>0</td>\n",
       "    </tr>\n",
       "    <tr>\n",
       "      <th>428</th>\n",
       "      <td>117.000000</td>\n",
       "      <td>5.962604e+03</td>\n",
       "      <td>50.000000</td>\n",
       "      <td>134.0</td>\n",
       "      <td>0.0</td>\n",
       "      <td>50.0</td>\n",
       "      <td>3.085900e+04</td>\n",
       "      <td>50.0</td>\n",
       "      <td>0.000000e+00</td>\n",
       "      <td>20.0</td>\n",
       "      <td>0</td>\n",
       "      <td>0</td>\n",
       "    </tr>\n",
       "    <tr>\n",
       "      <th>429</th>\n",
       "      <td>23.666667</td>\n",
       "      <td>3.571429e+05</td>\n",
       "      <td>21.666667</td>\n",
       "      <td>53.0</td>\n",
       "      <td>47.0</td>\n",
       "      <td>65.0</td>\n",
       "      <td>9.100000e+01</td>\n",
       "      <td>53.0</td>\n",
       "      <td>6.222540e+01</td>\n",
       "      <td>60.0</td>\n",
       "      <td>0</td>\n",
       "      <td>0</td>\n",
       "    </tr>\n",
       "  </tbody>\n",
       "</table>\n",
       "</div>"
      ],
      "text/plain": [
       "     Average Packet Size  Flow Bytes/s  Fwd Packet Length Mean  \\\n",
       "410            95.500000  2.300201e+03               50.000000   \n",
       "411            57.750000  1.661017e+06               35.000000   \n",
       "412           282.111111  2.635157e+04               54.700000   \n",
       "413           201.931035  4.987631e+01               64.266667   \n",
       "414           112.000000  5.526815e+03               52.000000   \n",
       "415           100.000000  4.857868e+03               45.000000   \n",
       "416            59.250000  1.076923e+06               41.000000   \n",
       "417            74.000000  1.251362e+04               42.000000   \n",
       "418            58.000000  1.342657e+06               40.000000   \n",
       "419             9.000000  4.000000e+06                6.000000   \n",
       "420           246.416667  1.276589e+02              201.550000   \n",
       "421             0.000000  0.000000e+00                0.000000   \n",
       "422            89.000000  8.232190e+05               44.000000   \n",
       "423           134.500000  3.138026e+02               43.000000   \n",
       "424           149.000000  7.668597e+02               32.000000   \n",
       "425           187.240000  3.923971e+01               57.666667   \n",
       "426             9.000000  1.518987e+05                6.000000   \n",
       "427           256.500000  3.716166e+02               60.000000   \n",
       "428           117.000000  5.962604e+03               50.000000   \n",
       "429            23.666667  3.571429e+05               21.666667   \n",
       "\n",
       "     Max Packet Length  Fwd IAT Min  Total Length of Fwd Packets  \\\n",
       "410               91.0          0.0                         50.0   \n",
       "411               63.0          3.0                         70.0   \n",
       "412             1430.0          3.0                        547.0   \n",
       "413             2549.0         46.0                        964.0   \n",
       "414              120.0          0.0                         52.0   \n",
       "415              110.0          0.0                         45.0   \n",
       "416               57.0         47.0                         82.0   \n",
       "417              117.0          3.0                        168.0   \n",
       "418               56.0          3.0                         80.0   \n",
       "419                6.0          3.0                         12.0   \n",
       "420              404.0          1.0                       8062.0   \n",
       "421                0.0          0.0                          0.0   \n",
       "422              112.0          1.0                         88.0   \n",
       "423              183.0          0.0                         43.0   \n",
       "424              250.0          4.0                         64.0   \n",
       "425             2865.0          3.0                        865.0   \n",
       "426                6.0         79.0                         12.0   \n",
       "427             1812.0        152.0                        240.0   \n",
       "428              134.0          0.0                         50.0   \n",
       "429               53.0         47.0                         65.0   \n",
       "\n",
       "     Flow IAT Mean  Fwd Packet Length Max   Fwd IAT Std  Fwd Header Length  \\\n",
       "410   6.129900e+04                   50.0  0.000000e+00               20.0   \n",
       "411   3.933333e+01                   35.0  0.000000e+00               40.0   \n",
       "412   1.133541e+04                  190.0  2.056015e+04              212.0   \n",
       "413   4.193230e+06                  307.0  2.130000e+07              312.0   \n",
       "414   3.112100e+04                   52.0  0.000000e+00               20.0   \n",
       "415   3.190700e+04                   45.0  0.000000e+00               20.0   \n",
       "416   6.066667e+01                   41.0  0.000000e+00               40.0   \n",
       "417   6.425000e+03                   42.0  1.422216e+04              104.0   \n",
       "418   4.766667e+01                   40.0  0.000000e+00               40.0   \n",
       "419   3.000000e+00                    6.0  0.000000e+00               40.0   \n",
       "420   1.909485e+06                  404.0  5.819044e+06             1280.0   \n",
       "421   5.900000e+01                    0.0  0.000000e+00               32.0   \n",
       "422   1.263333e+02                   44.0  0.000000e+00               40.0   \n",
       "423   7.201980e+05                   43.0  0.000000e+00               20.0   \n",
       "424   2.451557e+05                   32.0  0.000000e+00               40.0   \n",
       "425   4.970517e+06                  208.0  2.120000e+07              320.0   \n",
       "426   7.900000e+01                    6.0  0.000000e+00               40.0   \n",
       "427   7.888314e+05                  240.0  1.450977e+05              136.0   \n",
       "428   3.085900e+04                   50.0  0.000000e+00               20.0   \n",
       "429   9.100000e+01                   53.0  6.222540e+01               60.0   \n",
       "\n",
       "     Label  Predict  \n",
       "410      0        0  \n",
       "411      0        0  \n",
       "412      0        0  \n",
       "413      0        0  \n",
       "414      0        0  \n",
       "415      0        0  \n",
       "416      0        0  \n",
       "417      0        0  \n",
       "418      0        0  \n",
       "419      0        0  \n",
       "420      0        0  \n",
       "421      0        0  \n",
       "422      0        0  \n",
       "423      0        0  \n",
       "424      0        0  \n",
       "425      0        0  \n",
       "426      0        0  \n",
       "427      0        0  \n",
       "428      0        0  \n",
       "429      0        0  "
      ]
     },
     "execution_count": 138,
     "metadata": {},
     "output_type": "execute_result"
    }
   ],
   "source": [
    "result[410:430]"
   ]
  }
 ],
 "metadata": {
  "colab": {
   "collapsed_sections": [
    "SCEkDfpOFPQX",
    "3P69z9kfupES",
    "eLikdx9Legm0",
    "eh-k8KdMhJ_Q",
    "Iiskwr3VmoL5",
    "5PElFLh5oYzU",
    "pnHSPBrDodIs"
   ],
   "name": "Web Attack Detection (ML IDS)",
   "provenance": []
  },
  "kernelspec": {
   "display_name": "Python 3",
   "language": "python",
   "name": "python3"
  },
  "language_info": {
   "codemirror_mode": {
    "name": "ipython",
    "version": 3
   },
   "file_extension": ".py",
   "mimetype": "text/x-python",
   "name": "python",
   "nbconvert_exporter": "python",
   "pygments_lexer": "ipython3",
   "version": "3.10.7"
  }
 },
 "nbformat": 4,
 "nbformat_minor": 1
}
