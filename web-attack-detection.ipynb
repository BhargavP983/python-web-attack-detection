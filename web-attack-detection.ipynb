{
 "cells": [
  {
   "cell_type": "markdown",
   "metadata": {
    "id": "tGLYJuXmFBZI"
   },
   "source": [
    "# Web attack detection using CICIDS2017 dataset"
   ]
  },
  {
   "cell_type": "markdown",
   "metadata": {
    "id": "sNPL1uYLFF1U"
   },
   "source": [
    "Training data: \"Intrusion Detection Evaluation Dataset\" (CICIDS2017). Description page: https://www.unb.ca/cic/datasets/ids-2017.html\n",
    "\n",
    "The data set is public. Download link: http://205.174.165.80/CICDataset/CIC-IDS-2017/Dataset/\n",
    "\n",
    "CICIDS2017 combines 8 files recorded on different days of observation (PCAP + CSV). Used archive: http://205.174.165.80/CICDataset/CIC-IDS-2017/Dataset/GeneratedLabelledFlows.zip\n",
    "\n",
    "In the downloaded archive GeneratedLabelledFlows.zip the file \"Thursday\" Thursday-WorkingHours-Morning-WebAttacks.pcap_ISCX.csv is selected.\n",
    "\n",
    "Sources:\n",
    "\n",
    "* [Sharafaldin2018] Iman Sharafaldin, Arash Habibi Lashkari and Ali A. Ghorbani. Toward Generating a New Intrusion Detection Dataset and Intrusion Traffic Characterization. 2018\n",
    "* [Kostas2018] Kahraman Kostas. Anomaly Detection in Networks Using Machine Learning. 2018 (error was found in assessing the importance of features)\n",
    "* https://github.com/bozbil/Anomaly-Detection-in-Networks-Using-Machine-Learning (error was found in assessing the importance of features)"
   ]
  },
  {
   "cell_type": "markdown",
   "metadata": {
    "id": "SCEkDfpOFPQX"
   },
   "source": [
    "## Data preprocessing\n",
    "\n",
    "Source: https://github.com/bozbil/Anomaly-Detection-in-Networks-Using-Machine-Learning/blob/master/01_preprocessing.ipynb [Kostas2018]."
   ]
  },
  {
   "cell_type": "code",
   "execution_count": 62,
   "metadata": {
    "id": "hJVAToeYFV2Q"
   },
   "outputs": [],
   "source": [
    "import pandas as pd\n",
    "import numpy as np\n",
    "from sklearn import preprocessing\n",
    "import matplotlib.pyplot as plt\n",
    "%matplotlib inline"
   ]
  },
  {
   "cell_type": "markdown",
   "metadata": {
    "id": "i4vnx_OaGAl0"
   },
   "source": [
    "We use \"engine=latin-1\" to avoid the \"UnicodeDecodeError: 'utf-8' codec can't decode byte 0x96 in position 11: invalid start byte\" encoding error."
   ]
  },
  {
   "cell_type": "code",
   "execution_count": null,
   "metadata": {},
   "outputs": [],
   "source": []
  },
  {
   "cell_type": "code",
   "execution_count": 63,
   "metadata": {
    "id": "yIqeKHKYGCoz"
   },
   "outputs": [
    {
     "name": "stderr",
     "output_type": "stream",
     "text": [
      "C:\\Users\\bharg\\AppData\\Local\\Temp\\ipykernel_11112\\3483271027.py:1: DtypeWarning: Columns (0,1,3,6,84) have mixed types. Specify dtype option on import or set low_memory=False.\n",
      "  df = pd.read_csv('datasets\\Thursday-WorkingHour\\Thursday-WorkingHours-Morning-WebAttacks.pcap_ISCX.csv', encoding='latin-1')\n"
     ]
    }
   ],
   "source": [
    "df = pd.read_csv('datasets\\Thursday-WorkingHour\\Thursday-WorkingHours-Morning-WebAttacks.pcap_ISCX.csv', encoding='latin-1')"
   ]
  },
  {
   "cell_type": "markdown",
   "metadata": {
    "id": "3U-gQIAmhamL"
   },
   "source": [
    "Thursday-WorkingHours-Morning-WebAttacks.pcap_ISCX.csv file contains 458968 records, 85 columns."
   ]
  },
  {
   "cell_type": "code",
   "execution_count": 64,
   "metadata": {
    "colab": {
     "base_uri": "https://localhost:8080/",
     "height": 34
    },
    "id": "QMkibc_W4hpQ",
    "outputId": "f8965510-6788-45e3-eda8-1d29ff1dd68a"
   },
   "outputs": [
    {
     "data": {
      "text/plain": [
       "(458968, 85)"
      ]
     },
     "execution_count": 64,
     "metadata": {},
     "output_type": "execute_result"
    }
   ],
   "source": [
    "df.shape"
   ]
  },
  {
   "cell_type": "markdown",
   "metadata": {
    "id": "E5kIR-daheeV"
   },
   "source": [
    "The columns \"Fwd Header Length\" and \"Fwd Header Length.1\" are identical, the second one is removed, 84 columns remain."
   ]
  },
  {
   "cell_type": "code",
   "execution_count": 65,
   "metadata": {
    "colab": {
     "base_uri": "https://localhost:8080/",
     "height": 34
    },
    "id": "83UFLCVlhjKF",
    "outputId": "b0c3baf0-9395-48f9-a829-953fb764f634"
   },
   "outputs": [
    {
     "data": {
      "text/plain": [
       "(458968, 84)"
      ]
     },
     "execution_count": 65,
     "metadata": {},
     "output_type": "execute_result"
    }
   ],
   "source": [
    "df.columns = df.columns.str.strip()\n",
    "df = df.drop(columns=['Fwd Header Length.1'])\n",
    "df.shape"
   ]
  },
  {
   "cell_type": "markdown",
   "metadata": {
    "id": "BIQQvtxZhiTZ"
   },
   "source": [
    "When assessing the distribution of labels, it turns out that out of 458968 records there are many blank records (\"BENIGN\" - benign background traffic)."
   ]
  },
  {
   "cell_type": "code",
   "execution_count": 66,
   "metadata": {
    "colab": {
     "base_uri": "https://localhost:8080/",
     "height": 51
    },
    "id": "HrGLjk5nhrGE",
    "outputId": "b5754c62-bc6c-43b3-8c67-032c07ce20e6"
   },
   "outputs": [
    {
     "data": {
      "text/plain": [
       "array(['BENIGN', 'Web Attack \\x96 Brute Force', 'Web Attack \\x96 XSS',\n",
       "       'Web Attack \\x96 Sql Injection', nan], dtype=object)"
      ]
     },
     "execution_count": 66,
     "metadata": {},
     "output_type": "execute_result"
    }
   ],
   "source": [
    "df['Label'].unique()"
   ]
  },
  {
   "cell_type": "code",
   "execution_count": 67,
   "metadata": {
    "colab": {
     "base_uri": "https://localhost:8080/",
     "height": 102
    },
    "id": "HnpQqQ8fhxwN",
    "outputId": "1875b6bf-6f59-466a-a633-8268a9a8b19d"
   },
   "outputs": [
    {
     "data": {
      "text/plain": [
       "Label\n",
       "BENIGN                        168186\n",
       "Web Attack  Brute Force        1507\n",
       "Web Attack  XSS                 652\n",
       "Web Attack  Sql Injection        21\n",
       "Name: count, dtype: int64"
      ]
     },
     "execution_count": 67,
     "metadata": {},
     "output_type": "execute_result"
    }
   ],
   "source": [
    "df['Label'].value_counts()"
   ]
  },
  {
   "cell_type": "markdown",
   "metadata": {
    "id": "l7lpytF7h6D4"
   },
   "source": [
    "Delete blank records."
   ]
  },
  {
   "cell_type": "code",
   "execution_count": 68,
   "metadata": {
    "colab": {
     "base_uri": "https://localhost:8080/",
     "height": 34
    },
    "id": "7ltfHW8dh7Tw",
    "outputId": "d53015b1-03a4-4d7c-9440-ae0f3fcee7b7"
   },
   "outputs": [
    {
     "data": {
      "text/plain": [
       "(170366, 84)"
      ]
     },
     "execution_count": 68,
     "metadata": {},
     "output_type": "execute_result"
    }
   ],
   "source": [
    "df = df.drop(df[pd.isnull(df['Flow ID'])].index)\n",
    "df.shape"
   ]
  },
  {
   "cell_type": "markdown",
   "metadata": {
    "id": "ZN6DKttXiH7J"
   },
   "source": [
    "The \"Flow Bytes/s\" and \"Flow Packets/s\" columns have non-numerical values, replace them."
   ]
  },
  {
   "cell_type": "code",
   "execution_count": 69,
   "metadata": {
    "id": "mZ2ffToLi02x"
   },
   "outputs": [],
   "source": [
    "df.replace('Infinity', -1, inplace=True)\n",
    "df[[\"Flow Bytes/s\", \"Flow Packets/s\"]] = df[[\"Flow Bytes/s\", \"Flow Packets/s\"]].apply(pd.to_numeric)"
   ]
  },
  {
   "cell_type": "markdown",
   "metadata": {},
   "source": [
    "Replace the NaN values and infinity values with -1."
   ]
  },
  {
   "cell_type": "code",
   "execution_count": 70,
   "metadata": {},
   "outputs": [],
   "source": [
    "df.replace([np.inf, -np.inf, np.nan], -1, inplace=True)"
   ]
  },
  {
   "cell_type": "markdown",
   "metadata": {
    "id": "2JMv7gKfi4nI"
   },
   "source": [
    "Convert string characters to numbers, use LabelEncoder, not OneHotEncoder."
   ]
  },
  {
   "cell_type": "code",
   "execution_count": 71,
   "metadata": {
    "colab": {
     "base_uri": "https://localhost:8080/",
     "height": 34
    },
    "id": "XmYOMG0Ti8Wh",
    "outputId": "bf6ffbc1-8b29-482c-fd6e-0c6a46951be5"
   },
   "outputs": [
    {
     "data": {
      "text/plain": [
       "['Flow ID', 'Source IP', 'Destination IP', 'Timestamp']"
      ]
     },
     "execution_count": 71,
     "metadata": {},
     "output_type": "execute_result"
    }
   ],
   "source": [
    "string_features = list(df.select_dtypes(include=['object']).columns)\n",
    "string_features.remove('Label')\n",
    "string_features"
   ]
  },
  {
   "cell_type": "code",
   "execution_count": 72,
   "metadata": {
    "id": "ySZ2eW_2jCfQ"
   },
   "outputs": [],
   "source": [
    "le = preprocessing.LabelEncoder()\n",
    "df[string_features] = df[string_features].apply(lambda col: le.fit_transform(col))"
   ]
  },
  {
   "cell_type": "markdown",
   "metadata": {
    "id": "K94al8HAjJEN"
   },
   "source": [
    "### Undersampling against unbalance\n",
    "\n",
    "Dataset is unbalanced: total records = 170366, \"BENIGN\" records = 168186, records with attacks much less: 1507 + 652 + 21 = 2180."
   ]
  },
  {
   "cell_type": "code",
   "execution_count": 73,
   "metadata": {
    "colab": {
     "base_uri": "https://localhost:8080/",
     "height": 34
    },
    "id": "7K7iWbNMjWrZ",
    "outputId": "7ce9991a-9f78-4ee3-a190-ad8e6e376fc7"
   },
   "outputs": [
    {
     "data": {
      "text/plain": [
       "168186"
      ]
     },
     "execution_count": 73,
     "metadata": {},
     "output_type": "execute_result"
    }
   ],
   "source": [
    "benign_total = len(df[df['Label'] == \"BENIGN\"])\n",
    "benign_total"
   ]
  },
  {
   "cell_type": "code",
   "execution_count": 74,
   "metadata": {
    "colab": {
     "base_uri": "https://localhost:8080/",
     "height": 34
    },
    "id": "nVs_xEHFjY5q",
    "outputId": "f1c5e3e9-5dba-4061-d578-8089dc63c61f"
   },
   "outputs": [
    {
     "data": {
      "text/plain": [
       "2180"
      ]
     },
     "execution_count": 74,
     "metadata": {},
     "output_type": "execute_result"
    }
   ],
   "source": [
    "attack_total = len(df[df['Label'] != \"BENIGN\"])\n",
    "attack_total"
   ]
  },
  {
   "cell_type": "code",
   "execution_count": 75,
   "metadata": {
    "colab": {
     "base_uri": "https://localhost:8080/",
     "height": 102
    },
    "id": "PFvPOea2jhMt",
    "outputId": "c6ca7662-2455-48de-f3aa-41191655a252"
   },
   "outputs": [
    {
     "data": {
      "text/plain": [
       "Label\n",
       "BENIGN                        168186\n",
       "Web Attack  Brute Force        1507\n",
       "Web Attack  XSS                 652\n",
       "Web Attack  Sql Injection        21\n",
       "Name: count, dtype: int64"
      ]
     },
     "execution_count": 75,
     "metadata": {},
     "output_type": "execute_result"
    }
   ],
   "source": [
    "df.to_csv(\"web_attacks_unbalanced.csv\", index=False)\n",
    "df['Label'].value_counts()"
   ]
  },
  {
   "cell_type": "markdown",
   "metadata": {
    "id": "6A9-rS7OjyFl"
   },
   "source": [
    "We use **undersampling** to correct class imbalances: we remove most of the \"BENIGN\" records.\n",
    "\n",
    "Form a balanced dataset web_attacks_balanced.csv in proportion: 30% attack (2180 records), 70% benign data (2180 / 30 * 70 ~ = 5087 records).\n",
    "\n",
    "Algorithm to form a balanced df_balanced dataset:\n",
    "\n",
    "* All the records with the attacks are copied to the new dataset.\n",
    "* There are two conditions for copying \"BENIGN\" records to the new dataset:\n",
    " \n",
    "     1. The next record is copyied with the benign_inc_probability.\n",
    "     2. The total number of \"BENIGN\" records must not exceed the limit of 5087 records."
   ]
  },
  {
   "cell_type": "markdown",
   "metadata": {
    "id": "aVZutNOZj_N9"
   },
   "source": [
    "Сalculate the probability of copying a \"BENIGN\" record. The enlargement multiplier is used to get exactly 70% benign data (5087 records)."
   ]
  },
  {
   "cell_type": "code",
   "execution_count": 76,
   "metadata": {
    "colab": {
     "base_uri": "https://localhost:8080/",
     "height": 34
    },
    "id": "XaW7sEjHkB3K",
    "outputId": "27e0c165-6226-48a5-cab6-9d94ad80566e"
   },
   "outputs": [
    {
     "name": "stdout",
     "output_type": "stream",
     "text": [
      "5086.666666666667 0.03326872232726466\n"
     ]
    }
   ],
   "source": [
    "enlargement = 1.1\n",
    "benign_included_max = attack_total / 30 * 70\n",
    "benign_inc_probability = (benign_included_max / benign_total) * enlargement\n",
    "print(benign_included_max, benign_inc_probability)"
   ]
  },
  {
   "cell_type": "markdown",
   "metadata": {
    "id": "G3ZXh6fTkFK_"
   },
   "source": [
    "Copy records from df to df_balanced, save dataset **web_attacks_balanced.csv**."
   ]
  },
  {
   "cell_type": "code",
   "execution_count": 77,
   "metadata": {
    "id": "0MdiMPmdkICk"
   },
   "outputs": [],
   "source": [
    "import random\n",
    "indexes = []\n",
    "benign_included_count = 0\n",
    "for index, row in df.iterrows():\n",
    "    if (row['Label'] != \"BENIGN\"):\n",
    "        indexes.append(index)\n",
    "    else:\n",
    "        # Copying with benign_inc_probability\n",
    "        if random.random() > benign_inc_probability: continue\n",
    "        # Have we achieved 70% (5087 records)?\n",
    "        if benign_included_count > benign_included_max: continue\n",
    "        benign_included_count += 1\n",
    "        indexes.append(index)\n",
    "df_balanced = df.loc[indexes]"
   ]
  },
  {
   "cell_type": "code",
   "execution_count": 78,
   "metadata": {
    "colab": {
     "base_uri": "https://localhost:8080/",
     "height": 102
    },
    "id": "cqypBDIdkKN4",
    "outputId": "81585c22-c45e-4c60-b35a-c6272a1c263e"
   },
   "outputs": [
    {
     "data": {
      "text/plain": [
       "Label\n",
       "BENIGN                        5087\n",
       "Web Attack  Brute Force      1507\n",
       "Web Attack  XSS               652\n",
       "Web Attack  Sql Injection      21\n",
       "Name: count, dtype: int64"
      ]
     },
     "execution_count": 78,
     "metadata": {},
     "output_type": "execute_result"
    }
   ],
   "source": [
    "df_balanced['Label'].value_counts()"
   ]
  },
  {
   "cell_type": "markdown",
   "metadata": {
    "id": "hDPCkmutkNYD"
   },
   "source": [
    "If necessary, we can keep a single class of attack for experiments."
   ]
  },
  {
   "cell_type": "code",
   "execution_count": 79,
   "metadata": {
    "id": "1_q52wjdkPZ8"
   },
   "outputs": [],
   "source": [
    "# df_balanced = df_balanced[df_balanced['Label'] != \"Web Attack – Brute Force\"]\n",
    "# df_balanced = df_balanced[df_balanced['Label'] != \"Web Attack – Sql Injection\"]\n",
    "# df_balanced['Label'].value_counts()"
   ]
  },
  {
   "cell_type": "code",
   "execution_count": 80,
   "metadata": {
    "id": "qiYFzlGkkSXe"
   },
   "outputs": [],
   "source": [
    "df_balanced.to_csv(\"web_attacks_balanced.csv\", index=False)"
   ]
  },
  {
   "cell_type": "markdown",
   "metadata": {
    "id": "-IEyQxBDt5sG"
   },
   "source": [
    "### Preparing data for training"
   ]
  },
  {
   "cell_type": "code",
   "execution_count": 81,
   "metadata": {},
   "outputs": [],
   "source": [
    "df = pd.read_csv('web_attacks_balanced.csv')"
   ]
  },
  {
   "cell_type": "markdown",
   "metadata": {},
   "source": [
    "The Label column is encoded as follows: \"BENIGN\" = 0, attack = 1."
   ]
  },
  {
   "cell_type": "code",
   "execution_count": 82,
   "metadata": {},
   "outputs": [],
   "source": [
    "df['Label'] = df['Label'].apply(lambda x: 0 if x == 'BENIGN' else 1)"
   ]
  },
  {
   "cell_type": "markdown",
   "metadata": {},
   "source": [
    "If necessary, we will work with our own dataset."
   ]
  },
  {
   "cell_type": "code",
   "execution_count": 83,
   "metadata": {},
   "outputs": [],
   "source": [
    "#!wget https://raw.githubusercontent.com/infosecdemos/ml-2020/master/ml-ids/datasets/mix_labelled.zip -O mix_labelled.zip\n",
    "#!unzip -u mix_labelled.zip"
   ]
  },
  {
   "cell_type": "code",
   "execution_count": 84,
   "metadata": {},
   "outputs": [],
   "source": [
    "#df = pd.read_csv('mix_labelled.csv')\n",
    "#excluded = ['Flow Key', 'Flow Bytes/s', 'Flow MB/s', 'Fwd IAT Min', \n",
    "#            'Flow IAT Min', 'Packet Length Mean', 'Average Fwd Segment Size', 'Subflow Fwd Bytes',\n",
    "#            'Fwd Packets/s', 'Fwd IAT Total', 'Fwd IAT Max', 'Fwd IAT Mean',\n",
    "#            'Average Bwd Segment Size', 'Bwd Packet Length Mean', 'Packet Length List', 'Total Fwd Packets',\n",
    "#            'Packet Length Std', 'Packet Length Variance', 'Total Backword Packets', 'Fwd Packet Length Std',\n",
    "#            'Total Length of Bwd Packets', 'Bwd Header Length']\n",
    "#df = df.drop(columns=excluded, errors='ignore')"
   ]
  },
  {
   "cell_type": "markdown",
   "metadata": {
    "id": "1k2G5UAEt9cw"
   },
   "source": [
    "7 features (Flow ID, Source IP, Source Port, Destination IP, Destination Port, Protocol, Timestamp) are excluded from the dataset. The hypothesis is that the \"shape\" of the data being transmitted is more important than these attributes. In addition, ports and addresses can be substituted by an attacker, so it is better that the ML algorithm does not take these features into account in training [Kostas2018]."
   ]
  },
  {
   "cell_type": "code",
   "execution_count": 85,
   "metadata": {
    "id": "8yza95R2t_1N"
   },
   "outputs": [],
   "source": [
    "excluded = ['Flow ID', 'Source IP', 'Source Port', 'Destination IP', 'Destination Port', 'Protocol', 'Timestamp']\n",
    "df = df.drop(columns=excluded, errors='ignore')"
   ]
  },
  {
   "cell_type": "markdown",
   "metadata": {
    "id": "eCxptOz2uDIV"
   },
   "source": [
    "Below at the stage of importance estimation the \"Init_Win_bytes_backward\" feature has the maximum value. After viewing the source dataset, it seems that an inaccuracy was made in forming the dataset. \n",
    "\n",
    "It turns out that it is possible to make a fairly accurate classification by one feature.\n",
    "\n",
    "Description of features: http://www.netflowmeter.ca/netflowmeter.html\n",
    "\n",
    "     Init_Win_bytes_backward - The total number of bytes sent in initial window in the backward direction\n",
    "     Init_Win_bytes_forward - The total number of bytes sent in initial window in the forward direction"
   ]
  },
  {
   "cell_type": "code",
   "execution_count": 86,
   "metadata": {
    "colab": {
     "base_uri": "https://localhost:8080/",
     "height": 295
    },
    "id": "lYhtGKqJuUQA",
    "outputId": "aade2290-801b-44a9-d1b8-880b3f40d121"
   },
   "outputs": [
    {
     "data": {
      "image/png": "[encoded data removed]",
      "text/plain": [
       "<Figure size 600x400 with 1 Axes>"
      ]
     },
     "metadata": {},
     "output_type": "display_data"
    }
   ],
   "source": [
    "if 'Init_Win_bytes_backward' in df.columns:\n",
    "    df['Init_Win_bytes_backward'].hist(figsize=(6,4), bins=10);\n",
    "    plt.title(\"Init_Win_bytes_backward\")\n",
    "    plt.xlabel(\"Value bins\")\n",
    "    plt.ylabel(\"Density\")\n",
    "    plt.savefig('Init_Win_bytes_backward.png', dpi=300)"
   ]
  },
  {
   "cell_type": "code",
   "execution_count": 87,
   "metadata": {
    "colab": {
     "base_uri": "https://localhost:8080/",
     "height": 295
    },
    "id": "XPbBcbj_uYMV",
    "outputId": "88d26808-c28b-43d1-91d5-9bc2dc6a9d04"
   },
   "outputs": [
    {
     "data": {
      "image/png": "[encoded data removed]",
      "text/plain": [
       "<Figure size 600x400 with 1 Axes>"
      ]
     },
     "metadata": {},
     "output_type": "display_data"
    }
   ],
   "source": [
    "if 'Init_Win_bytes_forward' in df.columns:\n",
    "    df['Init_Win_bytes_forward'].hist(figsize=(6,4), bins=10);\n",
    "    plt.title(\"Init_Win_bytes_forward\")\n",
    "    plt.xlabel(\"Value bins\")\n",
    "    plt.ylabel(\"Density\")\n",
    "    plt.savefig('Init_Win_bytes_forward.png', dpi=300)"
   ]
  },
  {
   "cell_type": "code",
   "execution_count": 88,
   "metadata": {
    "id": "Uw6liMMducM5"
   },
   "outputs": [],
   "source": [
    "excluded2 = ['Init_Win_bytes_backward', 'Init_Win_bytes_forward']\n",
    "df = df.drop(columns=excluded2, errors='ignore')"
   ]
  },
  {
   "cell_type": "code",
   "execution_count": 89,
   "metadata": {
    "colab": {
     "base_uri": "https://localhost:8080/",
     "height": 34
    },
    "id": "a-FDOBmOufo6",
    "outputId": "8ba70aa2-818b-48d5-a74b-9a5ddf0b76f7"
   },
   "outputs": [
    {
     "name": "stdout",
     "output_type": "stream",
     "text": [
      "(7267, 74) (7267,)\n"
     ]
    }
   ],
   "source": [
    "y = df['Label'].values\n",
    "X = df.drop(columns=['Label'])\n",
    "print(X.shape, y.shape)"
   ]
  },
  {
   "cell_type": "markdown",
   "metadata": {
    "id": "3P69z9kfupES"
   },
   "source": [
    "## Feature importance"
   ]
  },
  {
   "cell_type": "code",
   "execution_count": 90,
   "metadata": {
    "colab": {
     "base_uri": "https://localhost:8080/",
     "height": 34
    },
    "id": "4BbvfnjTuzeX",
    "outputId": "55719ff0-84a0-4568-ebda-df2f479bc71c"
   },
   "outputs": [
    {
     "data": {
      "text/plain": [
       "{0: 3551, 1: 1535}"
      ]
     },
     "execution_count": 90,
     "metadata": {},
     "output_type": "execute_result"
    }
   ],
   "source": [
    "from sklearn.model_selection import train_test_split\n",
    "X_train, X_test, y_train, y_test = train_test_split(X, y, test_size=0.3, random_state=42)\n",
    "\n",
    "unique, counts = np.unique(y_train, return_counts=True)\n",
    "dict(zip(unique, counts))"
   ]
  },
  {
   "cell_type": "markdown",
   "metadata": {
    "id": "wE4AwrX1u6Hj"
   },
   "source": [
    "### Visualization of the decision tree, importance evaluation using a single tree (DecisionTreeClassifier)\n",
    " \n",
    "In the beginning we use one tree - for the convenience of visualization of the classifier. High cross-validation scores even with 5 leaves look suspiciously good, we should look at the data carefully. Parameters for change - test_size in the cell above (train_test_split), max_leaf_nodes in the cell below.\n",
    " \n",
    "By changing the **random_state** parameter, we will get different trees and different features with the highest importance. But the forest will already average individual trees below."
   ]
  },
  {
   "cell_type": "code",
   "execution_count": 91,
   "metadata": {
    "colab": {
     "base_uri": "https://localhost:8080/",
     "height": 51
    },
    "id": "JtVUvneuyAeI",
    "outputId": "582feeb2-a10f-4615-d3a7-74b734cddaf2"
   },
   "outputs": [
    {
     "data": {
      "text/plain": [
       "array([0.95874263, 0.93909627, 0.95874263, 0.956778  , 0.95284872,\n",
       "       0.94695481, 0.94685039, 0.9488189 , 0.9488189 , 0.97440945])"
      ]
     },
     "execution_count": 91,
     "metadata": {},
     "output_type": "execute_result"
    }
   ],
   "source": [
    "from sklearn.model_selection import cross_val_score\n",
    "from sklearn.tree import DecisionTreeClassifier\n",
    "decision_tree = DecisionTreeClassifier(max_leaf_nodes=5, random_state=0)\n",
    "decision_tree = decision_tree.fit(X_train, y_train)\n",
    "cross_val_score(decision_tree, X_train, y_train, cv=10)"
   ]
  },
  {
   "cell_type": "code",
   "execution_count": 92,
   "metadata": {
    "colab": {
     "base_uri": "https://localhost:8080/",
     "height": 255
    },
    "id": "cITpkfwyCqqU",
    "outputId": "d8120dd9-fc45-4746-b25d-cc488863c6e8"
   },
   "outputs": [
    {
     "name": "stdout",
     "output_type": "stream",
     "text": [
      "|--- Packet Length Mean <= 0.75\n",
      "|   |--- Fwd IAT Std <= 3527451.25\n",
      "|   |   |--- class: 0\n",
      "|   |--- Fwd IAT Std >  3527451.25\n",
      "|   |   |--- Fwd IAT Min <= 15046.50\n",
      "|   |   |   |--- class: 1\n",
      "|   |   |--- Fwd IAT Min >  15046.50\n",
      "|   |   |   |--- class: 0\n",
      "|--- Packet Length Mean >  0.75\n",
      "|   |--- Subflow Fwd Bytes <= 34804.00\n",
      "|   |   |--- class: 0\n",
      "|   |--- Subflow Fwd Bytes >  34804.00\n",
      "|   |   |--- class: 1\n",
      "\n"
     ]
    }
   ],
   "source": [
    "from sklearn.tree import export_text\n",
    "r = export_text(decision_tree, feature_names=X_train.columns.to_list())\n",
    "print(r)"
   ]
  },
  {
   "cell_type": "code",
   "execution_count": 93,
   "metadata": {
    "colab": {
     "base_uri": "https://localhost:8080/",
     "height": 518
    },
    "id": "6xpZlcv_-J_W",
    "outputId": "7b256ccd-64c0-4ad4-a34b-14e7275cfeab"
   },
   "outputs": [
    {
     "data": {
      "image/svg+xml": [
       "<?xml version=\"1.0\" encoding=\"UTF-8\" standalone=\"no\"?>\n",
       "<!DOCTYPE svg PUBLIC \"-//W3C//DTD SVG 1.1//EN\"\n",
       " \"http://www.w3.org/Graphics/SVG/1.1/DTD/svg11.dtd\">\n",
       "<!-- Generated by graphviz version 10.0.1 (20240210.2158)\n",
       " -->\n",
       "<!-- Title: Tree Pages: 1 -->\n",
       "<svg width=\"649pt\" height=\"396pt\"\n",
       " viewBox=\"0.00 0.00 648.88 395.50\" xmlns=\"http://www.w3.org/2000/svg\" xmlns:xlink=\"http://www.w3.org/1999/xlink\">\n",
       "<g id=\"graph0\" class=\"graph\" transform=\"scale(1 1) rotate(0) translate(4 391.5)\">\n",
       "<title>Tree</title>\n",
       "<polygon fill=\"white\" stroke=\"none\" points=\"-4,4 -4,-391.5 644.88,-391.5 644.88,4 -4,4\"/>\n",
       "<!-- 0 -->\n",
       "<g id=\"node1\" class=\"node\">\n",
       "<title>0</title>\n",
       "<polygon fill=\"none\" stroke=\"black\" points=\"430.38,-387.5 232.88,-387.5 232.88,-313.5 430.38,-313.5 430.38,-387.5\"/>\n",
       "<text text-anchor=\"middle\" x=\"331.62\" y=\"-370.2\" font-family=\"Helvetica,sans-Serif\" font-size=\"14.00\">Packet Length Mean &lt;= 0.75</text>\n",
       "<text text-anchor=\"middle\" x=\"331.62\" y=\"-353.7\" font-family=\"Helvetica,sans-Serif\" font-size=\"14.00\">gini = 0.421</text>\n",
       "<text text-anchor=\"middle\" x=\"331.62\" y=\"-337.2\" font-family=\"Helvetica,sans-Serif\" font-size=\"14.00\">samples = 5086</text>\n",
       "<text text-anchor=\"middle\" x=\"331.62\" y=\"-320.7\" font-family=\"Helvetica,sans-Serif\" font-size=\"14.00\">value = [3551, 1535]</text>\n",
       "</g>\n",
       "<!-- 1 -->\n",
       "<g id=\"node2\" class=\"node\">\n",
       "<title>1</title>\n",
       "<polygon fill=\"none\" stroke=\"black\" points=\"318.38,-277.5 120.88,-277.5 120.88,-203.5 318.38,-203.5 318.38,-277.5\"/>\n",
       "<text text-anchor=\"middle\" x=\"219.62\" y=\"-260.2\" font-family=\"Helvetica,sans-Serif\" font-size=\"14.00\">Fwd IAT Std &lt;= 3527451.25</text>\n",
       "<text text-anchor=\"middle\" x=\"219.62\" y=\"-243.7\" font-family=\"Helvetica,sans-Serif\" font-size=\"14.00\">gini = 0.308</text>\n",
       "<text text-anchor=\"middle\" x=\"219.62\" y=\"-227.2\" font-family=\"Helvetica,sans-Serif\" font-size=\"14.00\">samples = 1735</text>\n",
       "<text text-anchor=\"middle\" x=\"219.62\" y=\"-210.7\" font-family=\"Helvetica,sans-Serif\" font-size=\"14.00\">value = [330, 1405]</text>\n",
       "</g>\n",
       "<!-- 0&#45;&gt;1 -->\n",
       "<g id=\"edge1\" class=\"edge\">\n",
       "<title>0&#45;&gt;1</title>\n",
       "<path fill=\"none\" stroke=\"black\" d=\"M294.02,-313.24C284.88,-304.42 275,-294.9 265.52,-285.76\"/>\n",
       "<polygon fill=\"black\" stroke=\"black\" points=\"268.04,-283.32 258.41,-278.9 263.18,-288.36 268.04,-283.32\"/>\n",
       "<text text-anchor=\"middle\" x=\"257.78\" y=\"-297.8\" font-family=\"Helvetica,sans-Serif\" font-size=\"14.00\">True</text>\n",
       "</g>\n",
       "<!-- 2 -->\n",
       "<g id=\"node7\" class=\"node\">\n",
       "<title>2</title>\n",
       "<polygon fill=\"none\" stroke=\"black\" points=\"551,-277.5 336.25,-277.5 336.25,-203.5 551,-203.5 551,-277.5\"/>\n",
       "<text text-anchor=\"middle\" x=\"443.62\" y=\"-260.2\" font-family=\"Helvetica,sans-Serif\" font-size=\"14.00\">Subflow Fwd Bytes &lt;= 34804.0</text>\n",
       "<text text-anchor=\"middle\" x=\"443.62\" y=\"-243.7\" font-family=\"Helvetica,sans-Serif\" font-size=\"14.00\">gini = 0.075</text>\n",
       "<text text-anchor=\"middle\" x=\"443.62\" y=\"-227.2\" font-family=\"Helvetica,sans-Serif\" font-size=\"14.00\">samples = 3351</text>\n",
       "<text text-anchor=\"middle\" x=\"443.62\" y=\"-210.7\" font-family=\"Helvetica,sans-Serif\" font-size=\"14.00\">value = [3221, 130]</text>\n",
       "</g>\n",
       "<!-- 0&#45;&gt;2 -->\n",
       "<g id=\"edge6\" class=\"edge\">\n",
       "<title>0&#45;&gt;2</title>\n",
       "<path fill=\"none\" stroke=\"black\" d=\"M369.23,-313.24C378.37,-304.42 388.25,-294.9 397.73,-285.76\"/>\n",
       "<polygon fill=\"black\" stroke=\"black\" points=\"400.07,-288.36 404.84,-278.9 395.21,-283.32 400.07,-288.36\"/>\n",
       "<text text-anchor=\"middle\" x=\"405.47\" y=\"-297.8\" font-family=\"Helvetica,sans-Serif\" font-size=\"14.00\">False</text>\n",
       "</g>\n",
       "<!-- 3 -->\n",
       "<g id=\"node3\" class=\"node\">\n",
       "<title>3</title>\n",
       "<polygon fill=\"none\" stroke=\"black\" points=\"129.25,-159.25 0,-159.25 0,-101.75 129.25,-101.75 129.25,-159.25\"/>\n",
       "<text text-anchor=\"middle\" x=\"64.62\" y=\"-141.95\" font-family=\"Helvetica,sans-Serif\" font-size=\"14.00\">gini = 0.424</text>\n",
       "<text text-anchor=\"middle\" x=\"64.62\" y=\"-125.45\" font-family=\"Helvetica,sans-Serif\" font-size=\"14.00\">samples = 439</text>\n",
       "<text text-anchor=\"middle\" x=\"64.62\" y=\"-108.95\" font-family=\"Helvetica,sans-Serif\" font-size=\"14.00\">value = [305, 134]</text>\n",
       "</g>\n",
       "<!-- 1&#45;&gt;3 -->\n",
       "<g id=\"edge2\" class=\"edge\">\n",
       "<title>1&#45;&gt;3</title>\n",
       "<path fill=\"none\" stroke=\"black\" d=\"M167.58,-203.24C150.37,-191.24 131.26,-177.93 114.24,-166.07\"/>\n",
       "<polygon fill=\"black\" stroke=\"black\" points=\"116.46,-163.35 106.26,-160.51 112.46,-169.1 116.46,-163.35\"/>\n",
       "</g>\n",
       "<!-- 4 -->\n",
       "<g id=\"node4\" class=\"node\">\n",
       "<title>4</title>\n",
       "<polygon fill=\"none\" stroke=\"black\" points=\"320,-167.5 147.25,-167.5 147.25,-93.5 320,-93.5 320,-167.5\"/>\n",
       "<text text-anchor=\"middle\" x=\"233.62\" y=\"-150.2\" font-family=\"Helvetica,sans-Serif\" font-size=\"14.00\">Fwd IAT Min &lt;= 15046.5</text>\n",
       "<text text-anchor=\"middle\" x=\"233.62\" y=\"-133.7\" font-family=\"Helvetica,sans-Serif\" font-size=\"14.00\">gini = 0.038</text>\n",
       "<text text-anchor=\"middle\" x=\"233.62\" y=\"-117.2\" font-family=\"Helvetica,sans-Serif\" font-size=\"14.00\">samples = 1296</text>\n",
       "<text text-anchor=\"middle\" x=\"233.62\" y=\"-100.7\" font-family=\"Helvetica,sans-Serif\" font-size=\"14.00\">value = [25, 1271]</text>\n",
       "</g>\n",
       "<!-- 1&#45;&gt;4 -->\n",
       "<g id=\"edge3\" class=\"edge\">\n",
       "<title>1&#45;&gt;4</title>\n",
       "<path fill=\"none\" stroke=\"black\" d=\"M224.33,-203.24C225.33,-195.49 226.41,-187.2 227.46,-179.1\"/>\n",
       "<polygon fill=\"black\" stroke=\"black\" points=\"230.9,-179.72 228.72,-169.35 223.96,-178.82 230.9,-179.72\"/>\n",
       "</g>\n",
       "<!-- 7 -->\n",
       "<g id=\"node5\" class=\"node\">\n",
       "<title>7</title>\n",
       "<polygon fill=\"none\" stroke=\"black\" points=\"229.12,-57.5 108.12,-57.5 108.12,0 229.12,0 229.12,-57.5\"/>\n",
       "<text text-anchor=\"middle\" x=\"168.62\" y=\"-40.2\" font-family=\"Helvetica,sans-Serif\" font-size=\"14.00\">gini = 0.002</text>\n",
       "<text text-anchor=\"middle\" x=\"168.62\" y=\"-23.7\" font-family=\"Helvetica,sans-Serif\" font-size=\"14.00\">samples = 1272</text>\n",
       "<text text-anchor=\"middle\" x=\"168.62\" y=\"-7.2\" font-family=\"Helvetica,sans-Serif\" font-size=\"14.00\">value = [1, 1271]</text>\n",
       "</g>\n",
       "<!-- 4&#45;&gt;7 -->\n",
       "<g id=\"edge4\" class=\"edge\">\n",
       "<title>4&#45;&gt;7</title>\n",
       "<path fill=\"none\" stroke=\"black\" d=\"M209.97,-93.21C204.5,-84.8 198.65,-75.83 193.14,-67.37\"/>\n",
       "<polygon fill=\"black\" stroke=\"black\" points=\"196.07,-65.46 187.68,-59 190.21,-69.28 196.07,-65.46\"/>\n",
       "</g>\n",
       "<!-- 8 -->\n",
       "<g id=\"node6\" class=\"node\">\n",
       "<title>8</title>\n",
       "<polygon fill=\"none\" stroke=\"black\" points=\"351.88,-57.5 247.38,-57.5 247.38,0 351.88,0 351.88,-57.5\"/>\n",
       "<text text-anchor=\"middle\" x=\"299.62\" y=\"-40.2\" font-family=\"Helvetica,sans-Serif\" font-size=\"14.00\">gini = 0.0</text>\n",
       "<text text-anchor=\"middle\" x=\"299.62\" y=\"-23.7\" font-family=\"Helvetica,sans-Serif\" font-size=\"14.00\">samples = 24</text>\n",
       "<text text-anchor=\"middle\" x=\"299.62\" y=\"-7.2\" font-family=\"Helvetica,sans-Serif\" font-size=\"14.00\">value = [24, 0]</text>\n",
       "</g>\n",
       "<!-- 4&#45;&gt;8 -->\n",
       "<g id=\"edge5\" class=\"edge\">\n",
       "<title>4&#45;&gt;8</title>\n",
       "<path fill=\"none\" stroke=\"black\" d=\"M257.64,-93.21C263.26,-84.71 269.26,-75.64 274.92,-67.09\"/>\n",
       "<polygon fill=\"black\" stroke=\"black\" points=\"277.68,-69.26 280.28,-58.99 271.84,-65.4 277.68,-69.26\"/>\n",
       "</g>\n",
       "<!-- 5 -->\n",
       "<g id=\"node8\" class=\"node\">\n",
       "<title>5</title>\n",
       "<polygon fill=\"none\" stroke=\"black\" points=\"494.25,-159.25 365,-159.25 365,-101.75 494.25,-101.75 494.25,-159.25\"/>\n",
       "<text text-anchor=\"middle\" x=\"429.62\" y=\"-141.95\" font-family=\"Helvetica,sans-Serif\" font-size=\"14.00\">gini = 0.04</text>\n",
       "<text text-anchor=\"middle\" x=\"429.62\" y=\"-125.45\" font-family=\"Helvetica,sans-Serif\" font-size=\"14.00\">samples = 3282</text>\n",
       "<text text-anchor=\"middle\" x=\"429.62\" y=\"-108.95\" font-family=\"Helvetica,sans-Serif\" font-size=\"14.00\">value = [3215, 67]</text>\n",
       "</g>\n",
       "<!-- 2&#45;&gt;5 -->\n",
       "<g id=\"edge7\" class=\"edge\">\n",
       "<title>2&#45;&gt;5</title>\n",
       "<path fill=\"none\" stroke=\"black\" d=\"M438.92,-203.24C437.57,-192.8 436.09,-181.36 434.71,-170.75\"/>\n",
       "<polygon fill=\"black\" stroke=\"black\" points=\"438.22,-170.61 433.47,-161.14 431.28,-171.51 438.22,-170.61\"/>\n",
       "</g>\n",
       "<!-- 6 -->\n",
       "<g id=\"node9\" class=\"node\">\n",
       "<title>6</title>\n",
       "<polygon fill=\"none\" stroke=\"black\" points=\"640.88,-159.25 512.38,-159.25 512.38,-101.75 640.88,-101.75 640.88,-159.25\"/>\n",
       "<text text-anchor=\"middle\" x=\"576.62\" y=\"-141.95\" font-family=\"Helvetica,sans-Serif\" font-size=\"14.00\">gini = 0.159</text>\n",
       "<text text-anchor=\"middle\" x=\"576.62\" y=\"-125.45\" font-family=\"Helvetica,sans-Serif\" font-size=\"14.00\">samples = 69</text>\n",
       "<text text-anchor=\"middle\" x=\"576.62\" y=\"-108.95\" font-family=\"Helvetica,sans-Serif\" font-size=\"14.00\">value = [6.0, 63.0]</text>\n",
       "</g>\n",
       "<!-- 2&#45;&gt;6 -->\n",
       "<g id=\"edge8\" class=\"edge\">\n",
       "<title>2&#45;&gt;6</title>\n",
       "<path fill=\"none\" stroke=\"black\" d=\"M488.28,-203.24C502.78,-191.46 518.84,-178.43 533.24,-166.73\"/>\n",
       "<polygon fill=\"black\" stroke=\"black\" points=\"535.24,-169.62 540.79,-160.6 530.82,-164.18 535.24,-169.62\"/>\n",
       "</g>\n",
       "</g>\n",
       "</svg>\n"
      ],
      "text/plain": [
       "<graphviz.sources.Source at 0x185b4d80df0>"
      ]
     },
     "execution_count": 93,
     "metadata": {},
     "output_type": "execute_result"
    }
   ],
   "source": [
    "from graphviz import Source\n",
    "from sklearn import tree\n",
    "Source(tree.export_graphviz(decision_tree, out_file=None, feature_names=X.columns))"
   ]
  },
  {
   "cell_type": "markdown",
   "metadata": {
    "id": "b99AtZuj-NR8"
   },
   "source": [
    "Analyze the confusion matrix. Which classes are confidently classified by the model?"
   ]
  },
  {
   "cell_type": "code",
   "execution_count": 94,
   "metadata": {
    "colab": {
     "base_uri": "https://localhost:8080/",
     "height": 34
    },
    "id": "-7IrLSAx-PuK",
    "outputId": "e54c7989-2a1b-4054-e384-c42dd3c74d3f"
   },
   "outputs": [
    {
     "data": {
      "text/plain": [
       "{0: 1536, 1: 645}"
      ]
     },
     "execution_count": 94,
     "metadata": {},
     "output_type": "execute_result"
    }
   ],
   "source": [
    "unique, counts = np.unique(y_test, return_counts=True)\n",
    "dict(zip(unique, counts))"
   ]
  },
  {
   "cell_type": "code",
   "execution_count": 95,
   "metadata": {
    "colab": {
     "base_uri": "https://localhost:8080/",
     "height": 51
    },
    "id": "a9iK4zQt-SlP",
    "outputId": "256f6c4d-1123-4a97-dae1-b5a34ca0c29f"
   },
   "outputs": [
    {
     "data": {
      "text/plain": [
       "array([[1536,    0],\n",
       "       [  87,  558]], dtype=int64)"
      ]
     },
     "execution_count": 95,
     "metadata": {},
     "output_type": "execute_result"
    }
   ],
   "source": [
    "from sklearn.metrics import confusion_matrix\n",
    "y_pred = decision_tree.predict(X_test)\n",
    "confusion_matrix(y_test, y_pred)"
   ]
  },
  {
   "cell_type": "markdown",
   "metadata": {
    "id": "suPDWnoYaEPD"
   },
   "source": [
    "### Importance evaluation using SelectFromModel (still one decision tree)\n",
    "\n",
    "Source: https://github.com/oreilly-mlsec/book-resources/blob/master/chapter2/select-from-model-nslkdd.ipynb"
   ]
  },
  {
   "cell_type": "code",
   "execution_count": 96,
   "metadata": {
    "colab": {
     "base_uri": "https://localhost:8080/",
     "height": 272
    },
    "id": "hm7PM7f_aRei",
    "outputId": "c6023813-4233-4b05-d889-98a617b21b55"
   },
   "outputs": [
    {
     "data": {
      "text/plain": [
       "array([0.        , 0.        , 0.        , 0.        , 0.        ,\n",
       "       0.        , 0.        , 0.        , 0.        , 0.        ,\n",
       "       0.        , 0.        , 0.        , 0.        , 0.        ,\n",
       "       0.        , 0.        , 0.        , 0.        , 0.        ,\n",
       "       0.        , 0.16504704, 0.        , 0.02594388, 0.        ,\n",
       "       0.        , 0.        , 0.        , 0.        , 0.        ,\n",
       "       0.        , 0.        , 0.        , 0.        , 0.        ,\n",
       "       0.        , 0.        , 0.        , 0.        , 0.74960996,\n",
       "       0.        , 0.        , 0.        , 0.        , 0.        ,\n",
       "       0.        , 0.        , 0.        , 0.        , 0.        ,\n",
       "       0.        , 0.        , 0.        , 0.        , 0.        ,\n",
       "       0.        , 0.        , 0.        , 0.        , 0.        ,\n",
       "       0.        , 0.05939912, 0.        , 0.        , 0.        ,\n",
       "       0.        , 0.        , 0.        , 0.        , 0.        ,\n",
       "       0.        , 0.        , 0.        , 0.        ])"
      ]
     },
     "execution_count": 96,
     "metadata": {},
     "output_type": "execute_result"
    }
   ],
   "source": [
    "from sklearn.feature_selection import SelectFromModel\n",
    "sfm = SelectFromModel(estimator=decision_tree).fit(X_train, y_train)\n",
    "sfm.estimator_.feature_importances_"
   ]
  },
  {
   "cell_type": "code",
   "execution_count": 97,
   "metadata": {
    "colab": {
     "base_uri": "https://localhost:8080/",
     "height": 34
    },
    "id": "Y0Sx8yJ_aW33",
    "outputId": "3a4f5abf-92b5-429c-e3c5-a28dbe0be19e"
   },
   "outputs": [
    {
     "data": {
      "text/plain": [
       "0.013513513513513514"
      ]
     },
     "execution_count": 97,
     "metadata": {},
     "output_type": "execute_result"
    }
   ],
   "source": [
    "sfm.threshold_"
   ]
  },
  {
   "cell_type": "code",
   "execution_count": 98,
   "metadata": {
    "colab": {
     "base_uri": "https://localhost:8080/",
     "height": 34
    },
    "id": "4iNlo5jIaaaL",
    "outputId": "d3683bfc-289b-414f-acec-eb6a60c1b09e"
   },
   "outputs": [
    {
     "name": "stdout",
     "output_type": "stream",
     "text": [
      "Original num features: 74, selected num features: 4\n"
     ]
    }
   ],
   "source": [
    "X_train_new = sfm.transform(X_train)\n",
    "print(\"Original num features: {}, selected num features: {}\"\n",
    "      .format(X_train.shape[1], X_train_new.shape[1]))"
   ]
  },
  {
   "cell_type": "code",
   "execution_count": 99,
   "metadata": {
    "colab": {
     "base_uri": "https://localhost:8080/",
     "height": 187
    },
    "id": "aBQxtLAwaegL",
    "outputId": "2c75fc3c-35e2-4532-fe8f-69fe909869df"
   },
   "outputs": [
    {
     "name": "stdout",
     "output_type": "stream",
     "text": [
      "0.\tPacket Length Mean - 0.7496099643990195\n",
      "1.\tFwd IAT Std - 0.16504704006388515\n",
      "2.\tSubflow Fwd Bytes - 0.05939911706966618\n",
      "3.\tFwd IAT Min - 0.02594387846742918\n",
      "4.\tIdle Min - 0.0\n",
      "5.\tBwd IAT Std - 0.0\n",
      "6.\tFwd IAT Mean - 0.0\n",
      "7.\tFwd IAT Max - 0.0\n",
      "8.\tBwd IAT Total - 0.0\n",
      "9.\tBwd IAT Mean - 0.0\n"
     ]
    }
   ],
   "source": [
    "indices = np.argsort(decision_tree.feature_importances_)[::-1]\n",
    "for idx, i in enumerate(indices[:10]):\n",
    "    print(\"{}.\\t{} - {}\".format(idx, X_train.columns[i], decision_tree.feature_importances_[i]))"
   ]
  },
  {
   "cell_type": "markdown",
   "metadata": {
    "id": "duGKUsAzal52"
   },
   "source": [
    "### Evaluation of importance using RandomForestClassifier.feature_importances_ (move from one tree to a random forest, classification quality increases)"
   ]
  },
  {
   "cell_type": "code",
   "execution_count": 100,
   "metadata": {
    "colab": {
     "base_uri": "https://localhost:8080/",
     "height": 68
    },
    "id": "xo4E_wFeaqNd",
    "outputId": "1f00d02b-5dc1-47eb-8c5f-47a76b077109"
   },
   "outputs": [
    {
     "name": "stdout",
     "output_type": "stream",
     "text": [
      "R^2 Training Score: 0.99 \n",
      "R^2 Validation Score: 0.98 \n",
      "Out-of-bag Score: 0.98\n"
     ]
    }
   ],
   "source": [
    "from sklearn.ensemble import RandomForestClassifier\n",
    "\n",
    "rf = RandomForestClassifier(n_estimators=250, random_state=42, oob_score=True)\n",
    "rf.fit(X_train, y_train)\n",
    "# Score = mean accuracy on the given test data and labels\n",
    "print('R^2 Training Score: {:.2f} \\nR^2 Validation Score: {:.2f} \\nOut-of-bag Score: {:.2f}'\n",
    "      .format(rf.score(X_train, y_train), rf.score(X_test, y_test), rf.oob_score_))"
   ]
  },
  {
   "cell_type": "code",
   "execution_count": 101,
   "metadata": {
    "colab": {
     "base_uri": "https://localhost:8080/",
     "height": 357
    },
    "id": "byV6krktawE_",
    "outputId": "b43f9da0-593c-4ec1-f993-d61d78a65706"
   },
   "outputs": [
    {
     "name": "stdout",
     "output_type": "stream",
     "text": [
      "1.\t#51\t0.085\tAverage Packet Size\n",
      "2.\t#13\t0.078\tFlow Bytes/s\n",
      "3.\t#38\t0.065\tMax Packet Length\n",
      "4.\t#7\t0.061\tFwd Packet Length Mean\n",
      "5.\t#39\t0.057\tPacket Length Mean\n",
      "6.\t#23\t0.056\tFwd IAT Min\n",
      "7.\t#61\t0.055\tSubflow Fwd Bytes\n",
      "8.\t#52\t0.051\tAvg Fwd Segment Size\n",
      "9.\t#3\t0.045\tTotal Length of Fwd Packets\n",
      "10.\t#15\t0.033\tFlow IAT Mean\n",
      "11.\t#5\t0.030\tFwd Packet Length Max\n",
      "12.\t#21\t0.028\tFwd IAT Std\n",
      "13.\t#33\t0.024\tFwd Header Length\n",
      "14.\t#0\t0.024\tFlow Duration\n",
      "15.\t#14\t0.024\tFlow Packets/s\n",
      "16.\t#16\t0.022\tFlow IAT Std\n",
      "17.\t#35\t0.021\tFwd Packets/s\n",
      "18.\t#19\t0.018\tFwd IAT Total\n",
      "19.\t#20\t0.017\tFwd IAT Mean\n",
      "20.\t#22\t0.016\tFwd IAT Max\n"
     ]
    }
   ],
   "source": [
    "features = X.columns\n",
    "importances = rf.feature_importances_\n",
    "indices = np.argsort(importances)[::-1]\n",
    "webattack_features = []\n",
    "\n",
    "for index, i in enumerate(indices[:20]):\n",
    "    webattack_features.append(features[i])\n",
    "    print('{}.\\t#{}\\t{:.3f}\\t{}'.format(index + 1, i, importances[i], features[i]))"
   ]
  },
  {
   "cell_type": "markdown",
   "metadata": {
    "id": "3RXQUuqHa11b"
   },
   "source": [
    "For comparison, the results of the study [Sharafaldin2018] (compare relatively, without taking into account the multiplier):\n",
    " \n",
    "* Init Win F.Bytes 0.0200\n",
    "* Subflow F.Bytes 0.0145\n",
    "* Init Win B.Bytes 0.0129\n",
    "* Total Len F.Packets 0.0096\n",
    "\n",
    "And incorrect results [Kostas2018] (error was found in assessing the importance of features, line: *impor_bars = pd.DataFrame({'Features':refclasscol[0:20],'importance':importances[0:20]})*, the importances[0:20] sample does not take into account that the values are not sorted in descending order):\n",
    " \n",
    "* Flow Bytes/s 0.313402\n",
    "* Total Length of Fwd Packets 0.304917\n",
    "* Flow Duration 0.000485\n",
    "* Fwd Packet Length Max 0.00013"
   ]
  },
  {
   "cell_type": "code",
   "execution_count": 102,
   "metadata": {
    "colab": {
     "base_uri": "https://localhost:8080/",
     "height": 513
    },
    "id": "TPxzWeP4bHa5",
    "outputId": "5815f66e-3b0e-4c06-a7d6-6c0b1a49b59d"
   },
   "outputs": [
    {
     "data": {
      "image/png": "[encoded data removed]",
      "text/plain": [
       "<Figure size 1000x600 with 1 Axes>"
      ]
     },
     "metadata": {},
     "output_type": "display_data"
    }
   ],
   "source": [
    "indices = np.argsort(importances)[-20:]\n",
    "plt.rcParams['figure.figsize'] = (10, 6)\n",
    "plt.title('Feature Importances')\n",
    "plt.barh(range(len(indices)), importances[indices], color='#cccccc', align='center')\n",
    "plt.yticks(range(len(indices)), [features[i] for i in indices])\n",
    "plt.xlabel('Relative Importance')\n",
    "plt.grid()\n",
    "plt.savefig('feature_importances.png', dpi=300, bbox_inches='tight')\n",
    "plt.show()"
   ]
  },
  {
   "cell_type": "code",
   "execution_count": 103,
   "metadata": {
    "colab": {
     "base_uri": "https://localhost:8080/",
     "height": 51
    },
    "id": "QaYCrMC4cenU",
    "outputId": "da62ba7e-d7af-41e8-d9a9-0fab415eba7e"
   },
   "outputs": [
    {
     "data": {
      "text/plain": [
       "array([[1513,   23],\n",
       "       [  18,  627]], dtype=int64)"
      ]
     },
     "execution_count": 103,
     "metadata": {},
     "output_type": "execute_result"
    }
   ],
   "source": [
    "y_pred = rf.predict(X_test)\n",
    "confusion_matrix(y_test, y_pred)"
   ]
  },
  {
   "cell_type": "markdown",
   "metadata": {
    "id": "ktl5y47rcsiy"
   },
   "source": [
    "Next, for experiments, we keep the first max_features of features with maximum importance."
   ]
  },
  {
   "cell_type": "code",
   "execution_count": 104,
   "metadata": {
    "colab": {
     "base_uri": "https://localhost:8080/",
     "height": 357
    },
    "id": "Xriaa8XicuoB",
    "outputId": "8a171904-2d66-4d5f-b0e3-3f549f383cdc"
   },
   "outputs": [
    {
     "data": {
      "text/plain": [
       "['Average Packet Size',\n",
       " 'Flow Bytes/s',\n",
       " 'Max Packet Length',\n",
       " 'Fwd Packet Length Mean',\n",
       " 'Packet Length Mean',\n",
       " 'Fwd IAT Min',\n",
       " 'Subflow Fwd Bytes',\n",
       " 'Avg Fwd Segment Size',\n",
       " 'Total Length of Fwd Packets',\n",
       " 'Flow IAT Mean',\n",
       " 'Fwd Packet Length Max',\n",
       " 'Fwd IAT Std',\n",
       " 'Fwd Header Length',\n",
       " 'Flow Duration',\n",
       " 'Flow Packets/s',\n",
       " 'Flow IAT Std',\n",
       " 'Fwd Packets/s',\n",
       " 'Fwd IAT Total',\n",
       " 'Fwd IAT Mean',\n",
       " 'Fwd IAT Max']"
      ]
     },
     "execution_count": 104,
     "metadata": {},
     "output_type": "execute_result"
    }
   ],
   "source": [
    "max_features = 20\n",
    "webattack_features = webattack_features[:max_features]\n",
    "webattack_features"
   ]
  },
  {
   "cell_type": "markdown",
   "metadata": {
    "id": "eLikdx9Legm0"
   },
   "source": [
    "## Analysis of selected features"
   ]
  },
  {
   "cell_type": "code",
   "execution_count": 105,
   "metadata": {
    "colab": {
     "base_uri": "https://localhost:8080/",
     "height": 716
    },
    "id": "l4AlTAUme5aJ",
    "outputId": "30c0dea5-f39d-4bf5-dc91-fb1619023a2c"
   },
   "outputs": [
    {
     "data": {
      "image/png": "[encoded data removed]",
      "text/plain": [
       "<Figure size 2000x1200 with 20 Axes>"
      ]
     },
     "metadata": {},
     "output_type": "display_data"
    }
   ],
   "source": [
    "df[webattack_features].hist(figsize=(20,12), bins=10);\n",
    "plt.savefig('features_hist.png', dpi=300)"
   ]
  },
  {
   "cell_type": "markdown",
   "metadata": {
    "id": "qURMpkLBf1ZH"
   },
   "source": [
    "Install Facets Overview\n",
    "\n",
    "https://pair-code.github.io/facets/"
   ]
  },
  {
   "cell_type": "code",
   "execution_count": 106,
   "metadata": {
    "colab": {
     "base_uri": "https://localhost:8080/",
     "height": 153
    },
    "id": "QH4RxYR14jjz",
    "outputId": "bb5e2d44-b5b2-401e-815f-e78c85304ad5"
   },
   "outputs": [
    {
     "name": "stdout",
     "output_type": "stream",
     "text": [
      "Requirement already satisfied: facets-overview in f:\\bharg\\python\\lib\\site-packages (1.1.1)\n",
      "Requirement already satisfied: numpy>=1.16.0 in f:\\bharg\\python\\lib\\site-packages (from facets-overview) (1.26.4)\n",
      "Requirement already satisfied: pandas>=0.22.0 in f:\\bharg\\python\\lib\\site-packages (from facets-overview) (2.2.0)\n",
      "Requirement already satisfied: protobuf>=3.20.0 in f:\\bharg\\python\\lib\\site-packages (from facets-overview) (4.25.3)\n",
      "Requirement already satisfied: python-dateutil>=2.8.2 in f:\\bharg\\python\\lib\\site-packages (from pandas>=0.22.0->facets-overview) (2.8.2)\n",
      "Requirement already satisfied: pytz>=2020.1 in f:\\bharg\\python\\lib\\site-packages (from pandas>=0.22.0->facets-overview) (2022.2.1)\n",
      "Requirement already satisfied: tzdata>=2022.7 in f:\\bharg\\python\\lib\\site-packages (from pandas>=0.22.0->facets-overview) (2023.4)\n",
      "Requirement already satisfied: six>=1.5 in f:\\bharg\\python\\lib\\site-packages (from python-dateutil>=2.8.2->pandas>=0.22.0->facets-overview) (1.16.0)\n"
     ]
    }
   ],
   "source": [
    "!pip install facets-overview"
   ]
  },
  {
   "cell_type": "markdown",
   "metadata": {
    "id": "_A9f2J2tf9eA"
   },
   "source": [
    "Create the feature stats for the datasets and stringify it."
   ]
  },
  {
   "cell_type": "code",
   "execution_count": 107,
   "metadata": {
    "id": "0juU1aJQ44sk"
   },
   "outputs": [
    {
     "name": "stderr",
     "output_type": "stream",
     "text": [
      "f:\\bharg\\Python\\lib\\site-packages\\facets_overview\\base_generic_feature_statistics_generator.py:121: FutureWarning: Series.ravel is deprecated. The underlying array is already 1D, so ravel is not necessary.  Use `to_numpy()` for conversion to a numpy array instead.\n",
      "  flattened = x.ravel()\n"
     ]
    }
   ],
   "source": [
    "import base64\n",
    "from facets_overview.generic_feature_statistics_generator import GenericFeatureStatisticsGenerator\n",
    "\n",
    "gfsg = GenericFeatureStatisticsGenerator()\n",
    "proto = gfsg.ProtoFromDataFrames([{'name': 'train + test', 'table': df[webattack_features]}])\n",
    "protostr = base64.b64encode(proto.SerializeToString()).decode(\"utf-8\")"
   ]
  },
  {
   "cell_type": "markdown",
   "metadata": {
    "id": "9Wqs7qELgBkM"
   },
   "source": [
    "Display the facets overview visualization for this data."
   ]
  },
  {
   "cell_type": "code",
   "execution_count": 108,
   "metadata": {
    "colab": {
     "base_uri": "https://localhost:8080/",
     "height": 1000
    },
    "id": "mYvQDTKH5YRr",
    "outputId": "332a8ae7-e3a6-4c18-983e-be180619ca2e"
   },
   "outputs": [
    {
     "name": "stderr",
     "output_type": "stream",
     "text": [
      "C:\\Users\\bharg\\AppData\\Local\\Temp\\ipykernel_11112\\3688853136.py:1: DeprecationWarning: Importing display from IPython.core.display is deprecated since IPython 7.14, please import from IPython display\n",
      "  from IPython.core.display import display, HTML\n"
     ]
    },
    {
     "data": {
      "text/html": [
       "\n",
       "        <script src=\"https://cdnjs.cloudflare.com/ajax/libs/webcomponentsjs/1.3.3/webcomponents-lite.js\"></script>\n",
       "        <link rel=\"import\" href=\"https://raw.githubusercontent.com/PAIR-code/facets/1.0.0/facets-dist/facets-jupyter.html\" >\n",
       "        <facets-overview id=\"elem\"></facets-overview>\n",
       "        <script>\n",
       "          document.querySelector(\"#elem\").protoInput = \"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\";\n",
       "        </script>"
      ],
      "text/plain": [
       "<IPython.core.display.HTML object>"
      ]
     },
     "metadata": {},
     "output_type": "display_data"
    }
   ],
   "source": [
    "from IPython.core.display import display, HTML\n",
    "\n",
    "HTML_TEMPLATE = \"\"\"\n",
    "        <script src=\"https://cdnjs.cloudflare.com/ajax/libs/webcomponentsjs/1.3.3/webcomponents-lite.js\"></script>\n",
    "        <link rel=\"import\" href=\"https://raw.githubusercontent.com/PAIR-code/facets/1.0.0/facets-dist/facets-jupyter.html\" >\n",
    "        <facets-overview id=\"elem\"></facets-overview>\n",
    "        <script>\n",
    "          document.querySelector(\"#elem\").protoInput = \"{protostr}\";\n",
    "        </script>\"\"\"\n",
    "html = HTML_TEMPLATE.format(protostr=protostr)\n",
    "display(HTML(html))"
   ]
  },
  {
   "cell_type": "code",
   "execution_count": 109,
   "metadata": {
    "colab": {
     "base_uri": "https://localhost:8080/",
     "height": 485
    },
    "id": "IIqD-DjrgbIr",
    "outputId": "745329d3-a08e-43e1-be61-3410b21254ca"
   },
   "outputs": [
    {
     "data": {
      "image/png": "[encoded data removed]",
      "text/plain": [
       "<Figure size 1600x500 with 2 Axes>"
      ]
     },
     "metadata": {},
     "output_type": "display_data"
    }
   ],
   "source": [
    "import seaborn as sns\n",
    "corr_matrix = df[webattack_features].corr()\n",
    "plt.rcParams['figure.figsize'] = (16, 5)\n",
    "g = sns.heatmap(corr_matrix, annot=True, fmt='.1g', cmap='Greys')\n",
    "g.set_xticklabels(g.get_xticklabels(), verticalalignment='top', horizontalalignment='right', rotation=30);\n",
    "plt.savefig('corr_heatmap.png', dpi=300, bbox_inches='tight')"
   ]
  },
  {
   "cell_type": "markdown",
   "metadata": {
    "id": "r2J6Pz0xglza"
   },
   "source": [
    "Remove correlated features."
   ]
  },
  {
   "cell_type": "code",
   "execution_count": 110,
   "metadata": {
    "colab": {
     "base_uri": "https://localhost:8080/",
     "height": 187
    },
    "id": "Nml7xnnqgoMz",
    "outputId": "0aa704e5-a5ce-4234-d88b-e8c30b7fc68c"
   },
   "outputs": [
    {
     "data": {
      "text/plain": [
       "['Average Packet Size',\n",
       " 'Flow Bytes/s',\n",
       " 'Max Packet Length',\n",
       " 'Fwd Packet Length Mean',\n",
       " 'Fwd IAT Min',\n",
       " 'Total Length of Fwd Packets',\n",
       " 'Flow IAT Mean',\n",
       " 'Fwd Packet Length Max',\n",
       " 'Fwd IAT Std',\n",
       " 'Fwd Header Length']"
      ]
     },
     "execution_count": 110,
     "metadata": {},
     "output_type": "execute_result"
    }
   ],
   "source": [
    "to_be_removed = {'Packet Length Mean', 'Avg Fwd Segment Size', 'Subflow Fwd Bytes', \n",
    "                 'Fwd Packets/s', 'Fwd IAT Total', 'Fwd IAT Max'}\n",
    "webattack_features = [item for item in webattack_features if item not in to_be_removed]\n",
    "webattack_features = webattack_features[:10]\n",
    "webattack_features"
   ]
  },
  {
   "cell_type": "code",
   "execution_count": 111,
   "metadata": {
    "colab": {
     "base_uri": "https://localhost:8080/",
     "height": 451
    },
    "id": "vHbm-bkbgDw8",
    "outputId": "446d41d9-78b9-47c8-d99b-7e56a4d0eab8"
   },
   "outputs": [
    {
     "data": {
      "image/png": "[encoded data removed]",
      "text/plain": [
       "<Figure size 600x500 with 2 Axes>"
      ]
     },
     "metadata": {},
     "output_type": "display_data"
    }
   ],
   "source": [
    "corr_matrix = df[webattack_features].corr()\n",
    "plt.rcParams['figure.figsize'] = (6, 5)\n",
    "sns.heatmap(corr_matrix, annot=True, fmt='.1g', cmap='Greys');"
   ]
  },
  {
   "cell_type": "markdown",
   "metadata": {
    "id": "eh-k8KdMhJ_Q"
   },
   "source": [
    "## Hyperparameter selection"
   ]
  },
  {
   "cell_type": "markdown",
   "metadata": {
    "id": "-jMiAnOthSIn"
   },
   "source": [
    "Reopen the dataset."
   ]
  },
  {
   "cell_type": "code",
   "execution_count": 112,
   "metadata": {
    "colab": {
     "base_uri": "https://localhost:8080/",
     "height": 34
    },
    "id": "vrwIysyAhKxI",
    "outputId": "6be7974a-d713-4c89-b147-8b8cebb7fba7"
   },
   "outputs": [
    {
     "name": "stdout",
     "output_type": "stream",
     "text": [
      "(7267, 10) (7267,)\n"
     ]
    }
   ],
   "source": [
    "from sklearn.model_selection import GridSearchCV\n",
    "\n",
    "df = pd.read_csv('web_attacks_balanced.csv')\n",
    "df['Label'] = df['Label'].apply(lambda x: 0 if x == 'BENIGN' else 1)\n",
    "y = df['Label'].values\n",
    "X = df[webattack_features]\n",
    "print(X.shape, y.shape)"
   ]
  },
  {
   "cell_type": "markdown",
   "metadata": {},
   "source": [
    "If necessary, we will work with our own dataset."
   ]
  },
  {
   "cell_type": "code",
   "execution_count": 113,
   "metadata": {},
   "outputs": [],
   "source": [
    "#df = pd.read_csv('mix_labelled.csv')\n",
    "#y = df['Label'].values\n",
    "#X = df[webattack_features]\n",
    "#print(X.shape, y.shape)"
   ]
  },
  {
   "cell_type": "markdown",
   "metadata": {
    "id": "PFYYEqnihZnZ"
   },
   "source": [
    "We get the list of RandomForestClassifier parameters."
   ]
  },
  {
   "cell_type": "code",
   "execution_count": 114,
   "metadata": {
    "colab": {
     "base_uri": "https://localhost:8080/",
     "height": 54
    },
    "id": "wc_IVcRPhU82",
    "outputId": "b246e3ad-4240-460b-f294-3ee8109e8b4e"
   },
   "outputs": [
    {
     "data": {
      "text/plain": [
       "dict_keys(['bootstrap', 'ccp_alpha', 'class_weight', 'criterion', 'max_depth', 'max_features', 'max_leaf_nodes', 'max_samples', 'min_impurity_decrease', 'min_samples_leaf', 'min_samples_split', 'min_weight_fraction_leaf', 'monotonic_cst', 'n_estimators', 'n_jobs', 'oob_score', 'random_state', 'verbose', 'warm_start'])"
      ]
     },
     "execution_count": 114,
     "metadata": {},
     "output_type": "execute_result"
    }
   ],
   "source": [
    "rfc = RandomForestClassifier(random_state=1)\n",
    "rfc.get_params().keys()"
   ]
  },
  {
   "cell_type": "markdown",
   "metadata": {
    "id": "LQ8VThpnheWD"
   },
   "source": [
    "For search of quasi-optimal value of one parameter we fix the others."
   ]
  },
  {
   "cell_type": "code",
   "execution_count": 115,
   "metadata": {
    "colab": {
     "base_uri": "https://localhost:8080/",
     "height": 51
    },
    "id": "4JoxI-axhdD7",
    "outputId": "211fa8fc-2493-48fd-d0d2-a48b6f2e06a4"
   },
   "outputs": [
    {
     "name": "stdout",
     "output_type": "stream",
     "text": [
      "CPU times: total: 24 s\n",
      "Wall time: 38 s\n"
     ]
    }
   ],
   "source": [
    "parameters = {'n_estimators': [10],\n",
    "              'min_samples_leaf': [3],\n",
    "              'max_features': [3], \n",
    "              'max_depth': [1, 2, 3, 4, 5, 6, 7, 8, 9, 10, 11, 13, 15, 17, 20, 30, 50]}\n",
    "scoring = 'accuracy'\n",
    "gcv = GridSearchCV(rfc, parameters, scoring=scoring, refit='f1', cv=10, return_train_score=True)\n",
    "get_ipython().run_line_magic('time', 'gcv.fit(X, y)')\n",
    "results = gcv.cv_results_"
   ]
  },
  {
   "cell_type": "code",
   "execution_count": 116,
   "metadata": {
    "colab": {
     "base_uri": "https://localhost:8080/",
     "height": 168
    },
    "id": "OOS-7FXchh31",
    "outputId": "b1a993d9-0a3e-4f59-f012-8c37b503c266"
   },
   "outputs": [
    {
     "data": {
      "text/html": [
       "<div>\n",
       "<style scoped>\n",
       "    .dataframe tbody tr th:only-of-type {\n",
       "        vertical-align: middle;\n",
       "    }\n",
       "\n",
       "    .dataframe tbody tr th {\n",
       "        vertical-align: top;\n",
       "    }\n",
       "\n",
       "    .dataframe thead th {\n",
       "        text-align: right;\n",
       "    }\n",
       "</style>\n",
       "<table border=\"1\" class=\"dataframe\">\n",
       "  <thead>\n",
       "    <tr style=\"text-align: right;\">\n",
       "      <th></th>\n",
       "      <th>mean_fit_time</th>\n",
       "      <th>std_fit_time</th>\n",
       "      <th>mean_score_time</th>\n",
       "      <th>std_score_time</th>\n",
       "      <th>param_max_depth</th>\n",
       "      <th>param_max_features</th>\n",
       "      <th>param_min_samples_leaf</th>\n",
       "      <th>param_n_estimators</th>\n",
       "      <th>params</th>\n",
       "      <th>split0_test_score</th>\n",
       "      <th>...</th>\n",
       "      <th>split2_train_score</th>\n",
       "      <th>split3_train_score</th>\n",
       "      <th>split4_train_score</th>\n",
       "      <th>split5_train_score</th>\n",
       "      <th>split6_train_score</th>\n",
       "      <th>split7_train_score</th>\n",
       "      <th>split8_train_score</th>\n",
       "      <th>split9_train_score</th>\n",
       "      <th>mean_train_score</th>\n",
       "      <th>std_train_score</th>\n",
       "    </tr>\n",
       "  </thead>\n",
       "  <tbody>\n",
       "    <tr>\n",
       "      <th>0</th>\n",
       "      <td>0.303057</td>\n",
       "      <td>0.226285</td>\n",
       "      <td>0.029715</td>\n",
       "      <td>0.017457</td>\n",
       "      <td>1</td>\n",
       "      <td>3</td>\n",
       "      <td>3</td>\n",
       "      <td>10</td>\n",
       "      <td>{'max_depth': 1, 'max_features': 3, 'min_sampl...</td>\n",
       "      <td>0.929849</td>\n",
       "      <td>...</td>\n",
       "      <td>0.913150</td>\n",
       "      <td>0.912691</td>\n",
       "      <td>0.911621</td>\n",
       "      <td>0.914220</td>\n",
       "      <td>0.909174</td>\n",
       "      <td>0.908730</td>\n",
       "      <td>0.908271</td>\n",
       "      <td>0.913163</td>\n",
       "      <td>0.911243</td>\n",
       "      <td>0.002076</td>\n",
       "    </tr>\n",
       "    <tr>\n",
       "      <th>1</th>\n",
       "      <td>0.141777</td>\n",
       "      <td>0.047979</td>\n",
       "      <td>0.020604</td>\n",
       "      <td>0.009296</td>\n",
       "      <td>2</td>\n",
       "      <td>3</td>\n",
       "      <td>3</td>\n",
       "      <td>10</td>\n",
       "      <td>{'max_depth': 2, 'max_features': 3, 'min_sampl...</td>\n",
       "      <td>0.942228</td>\n",
       "      <td>...</td>\n",
       "      <td>0.955046</td>\n",
       "      <td>0.955046</td>\n",
       "      <td>0.954587</td>\n",
       "      <td>0.955199</td>\n",
       "      <td>0.955352</td>\n",
       "      <td>0.951384</td>\n",
       "      <td>0.951231</td>\n",
       "      <td>0.955206</td>\n",
       "      <td>0.954391</td>\n",
       "      <td>0.001563</td>\n",
       "    </tr>\n",
       "    <tr>\n",
       "      <th>2</th>\n",
       "      <td>0.341690</td>\n",
       "      <td>0.378505</td>\n",
       "      <td>0.036137</td>\n",
       "      <td>0.077368</td>\n",
       "      <td>3</td>\n",
       "      <td>3</td>\n",
       "      <td>3</td>\n",
       "      <td>10</td>\n",
       "      <td>{'max_depth': 3, 'max_features': 3, 'min_sampl...</td>\n",
       "      <td>0.935351</td>\n",
       "      <td>...</td>\n",
       "      <td>0.957492</td>\n",
       "      <td>0.957187</td>\n",
       "      <td>0.956881</td>\n",
       "      <td>0.957951</td>\n",
       "      <td>0.957492</td>\n",
       "      <td>0.953677</td>\n",
       "      <td>0.953677</td>\n",
       "      <td>0.957652</td>\n",
       "      <td>0.956684</td>\n",
       "      <td>0.001545</td>\n",
       "    </tr>\n",
       "    <tr>\n",
       "      <th>3</th>\n",
       "      <td>0.183878</td>\n",
       "      <td>0.073501</td>\n",
       "      <td>0.025610</td>\n",
       "      <td>0.028868</td>\n",
       "      <td>4</td>\n",
       "      <td>3</td>\n",
       "      <td>3</td>\n",
       "      <td>10</td>\n",
       "      <td>{'max_depth': 4, 'max_features': 3, 'min_sampl...</td>\n",
       "      <td>0.946355</td>\n",
       "      <td>...</td>\n",
       "      <td>0.967278</td>\n",
       "      <td>0.970948</td>\n",
       "      <td>0.966361</td>\n",
       "      <td>0.966667</td>\n",
       "      <td>0.967125</td>\n",
       "      <td>0.968353</td>\n",
       "      <td>0.964073</td>\n",
       "      <td>0.972940</td>\n",
       "      <td>0.967494</td>\n",
       "      <td>0.002592</td>\n",
       "    </tr>\n",
       "    <tr>\n",
       "      <th>4</th>\n",
       "      <td>0.148501</td>\n",
       "      <td>0.034083</td>\n",
       "      <td>0.009186</td>\n",
       "      <td>0.008507</td>\n",
       "      <td>5</td>\n",
       "      <td>3</td>\n",
       "      <td>3</td>\n",
       "      <td>10</td>\n",
       "      <td>{'max_depth': 5, 'max_features': 3, 'min_sampl...</td>\n",
       "      <td>0.957359</td>\n",
       "      <td>...</td>\n",
       "      <td>0.976911</td>\n",
       "      <td>0.977064</td>\n",
       "      <td>0.975688</td>\n",
       "      <td>0.977676</td>\n",
       "      <td>0.972324</td>\n",
       "      <td>0.975845</td>\n",
       "      <td>0.975998</td>\n",
       "      <td>0.980125</td>\n",
       "      <td>0.975674</td>\n",
       "      <td>0.002440</td>\n",
       "    </tr>\n",
       "  </tbody>\n",
       "</table>\n",
       "<p>5 rows × 34 columns</p>\n",
       "</div>"
      ],
      "text/plain": [
       "   mean_fit_time  std_fit_time  mean_score_time  std_score_time  \\\n",
       "0       0.303057      0.226285         0.029715        0.017457   \n",
       "1       0.141777      0.047979         0.020604        0.009296   \n",
       "2       0.341690      0.378505         0.036137        0.077368   \n",
       "3       0.183878      0.073501         0.025610        0.028868   \n",
       "4       0.148501      0.034083         0.009186        0.008507   \n",
       "\n",
       "  param_max_depth param_max_features param_min_samples_leaf  \\\n",
       "0               1                  3                      3   \n",
       "1               2                  3                      3   \n",
       "2               3                  3                      3   \n",
       "3               4                  3                      3   \n",
       "4               5                  3                      3   \n",
       "\n",
       "  param_n_estimators                                             params  \\\n",
       "0                 10  {'max_depth': 1, 'max_features': 3, 'min_sampl...   \n",
       "1                 10  {'max_depth': 2, 'max_features': 3, 'min_sampl...   \n",
       "2                 10  {'max_depth': 3, 'max_features': 3, 'min_sampl...   \n",
       "3                 10  {'max_depth': 4, 'max_features': 3, 'min_sampl...   \n",
       "4                 10  {'max_depth': 5, 'max_features': 3, 'min_sampl...   \n",
       "\n",
       "   split0_test_score  ...  split2_train_score  split3_train_score  \\\n",
       "0           0.929849  ...            0.913150            0.912691   \n",
       "1           0.942228  ...            0.955046            0.955046   \n",
       "2           0.935351  ...            0.957492            0.957187   \n",
       "3           0.946355  ...            0.967278            0.970948   \n",
       "4           0.957359  ...            0.976911            0.977064   \n",
       "\n",
       "   split4_train_score  split5_train_score  split6_train_score  \\\n",
       "0            0.911621            0.914220            0.909174   \n",
       "1            0.954587            0.955199            0.955352   \n",
       "2            0.956881            0.957951            0.957492   \n",
       "3            0.966361            0.966667            0.967125   \n",
       "4            0.975688            0.977676            0.972324   \n",
       "\n",
       "   split7_train_score  split8_train_score  split9_train_score  \\\n",
       "0            0.908730            0.908271            0.913163   \n",
       "1            0.951384            0.951231            0.955206   \n",
       "2            0.953677            0.953677            0.957652   \n",
       "3            0.968353            0.964073            0.972940   \n",
       "4            0.975845            0.975998            0.980125   \n",
       "\n",
       "   mean_train_score  std_train_score  \n",
       "0          0.911243         0.002076  \n",
       "1          0.954391         0.001563  \n",
       "2          0.956684         0.001545  \n",
       "3          0.967494         0.002592  \n",
       "4          0.975674         0.002440  \n",
       "\n",
       "[5 rows x 34 columns]"
      ]
     },
     "execution_count": 116,
     "metadata": {},
     "output_type": "execute_result"
    }
   ],
   "source": [
    "cv_results = pd.DataFrame(gcv.cv_results_)\n",
    "cv_results.head()"
   ]
  },
  {
   "cell_type": "code",
   "execution_count": null,
   "metadata": {},
   "outputs": [],
   "source": []
  },
  {
   "cell_type": "markdown",
   "metadata": {
    "id": "hZtnTrlNk_Uf"
   },
   "source": [
    "### Grid search"
   ]
  },
  {
   "cell_type": "code",
   "execution_count": 121,
   "metadata": {
    "id": "eaeAf6VRhwJq"
   },
   "outputs": [],
   "source": [
    "parameters = {'n_estimators': [30, 50, 70], \n",
    "              'min_samples_leaf': [3, 5, 7],\n",
    "              'max_features': [3, 5, 7, 10], \n",
    "              'max_depth': [10, 17, 23]}\n",
    "\n",
    "# parameters = {'n_estimators': [250]}"
   ]
  },
  {
   "cell_type": "markdown",
   "metadata": {},
   "source": [
    "The operation may take a long time, 3-5 minutes depending on the computer performance."
   ]
  },
  {
   "cell_type": "code",
   "execution_count": 122,
   "metadata": {
    "colab": {
     "base_uri": "https://localhost:8080/",
     "height": 374
    },
    "id": "O3ziP5BolEss",
    "outputId": "0f09bd77-fa69-472a-c195-b4b1f356fffd"
   },
   "outputs": [
    {
     "name": "stdout",
     "output_type": "stream",
     "text": [
      "CPU times: total: 4min 4s\n",
      "Wall time: 6min 38s\n"
     ]
    },
    {
     "data": {
      "text/html": [
       "<style>#sk-container-id-1 {\n",
       "  /* Definition of color scheme common for light and dark mode */\n",
       "  --sklearn-color-text: black;\n",
       "  --sklearn-color-line: gray;\n",
       "  /* Definition of color scheme for unfitted estimators */\n",
       "  --sklearn-color-unfitted-level-0: #fff5e6;\n",
       "  --sklearn-color-unfitted-level-1: #f6e4d2;\n",
       "  --sklearn-color-unfitted-level-2: #ffe0b3;\n",
       "  --sklearn-color-unfitted-level-3: chocolate;\n",
       "  /* Definition of color scheme for fitted estimators */\n",
       "  --sklearn-color-fitted-level-0: #f0f8ff;\n",
       "  --sklearn-color-fitted-level-1: #d4ebff;\n",
       "  --sklearn-color-fitted-level-2: #b3dbfd;\n",
       "  --sklearn-color-fitted-level-3: cornflowerblue;\n",
       "\n",
       "  /* Specific color for light theme */\n",
       "  --sklearn-color-text-on-default-background: var(--sg-text-color, var(--theme-code-foreground, var(--jp-content-font-color1, black)));\n",
       "  --sklearn-color-background: var(--sg-background-color, var(--theme-background, var(--jp-layout-color0, white)));\n",
       "  --sklearn-color-border-box: var(--sg-text-color, var(--theme-code-foreground, var(--jp-content-font-color1, black)));\n",
       "  --sklearn-color-icon: #696969;\n",
       "\n",
       "  @media (prefers-color-scheme: dark) {\n",
       "    /* Redefinition of color scheme for dark theme */\n",
       "    --sklearn-color-text-on-default-background: var(--sg-text-color, var(--theme-code-foreground, var(--jp-content-font-color1, white)));\n",
       "    --sklearn-color-background: var(--sg-background-color, var(--theme-background, var(--jp-layout-color0, #111)));\n",
       "    --sklearn-color-border-box: var(--sg-text-color, var(--theme-code-foreground, var(--jp-content-font-color1, white)));\n",
       "    --sklearn-color-icon: #878787;\n",
       "  }\n",
       "}\n",
       "\n",
       "#sk-container-id-1 {\n",
       "  color: var(--sklearn-color-text);\n",
       "}\n",
       "\n",
       "#sk-container-id-1 pre {\n",
       "  padding: 0;\n",
       "}\n",
       "\n",
       "#sk-container-id-1 input.sk-hidden--visually {\n",
       "  border: 0;\n",
       "  clip: rect(1px 1px 1px 1px);\n",
       "  clip: rect(1px, 1px, 1px, 1px);\n",
       "  height: 1px;\n",
       "  margin: -1px;\n",
       "  overflow: hidden;\n",
       "  padding: 0;\n",
       "  position: absolute;\n",
       "  width: 1px;\n",
       "}\n",
       "\n",
       "#sk-container-id-1 div.sk-dashed-wrapped {\n",
       "  border: 1px dashed var(--sklearn-color-line);\n",
       "  margin: 0 0.4em 0.5em 0.4em;\n",
       "  box-sizing: border-box;\n",
       "  padding-bottom: 0.4em;\n",
       "  background-color: var(--sklearn-color-background);\n",
       "}\n",
       "\n",
       "#sk-container-id-1 div.sk-container {\n",
       "  /* jupyter's `normalize.less` sets `[hidden] { display: none; }`\n",
       "     but bootstrap.min.css set `[hidden] { display: none !important; }`\n",
       "     so we also need the `!important` here to be able to override the\n",
       "     default hidden behavior on the sphinx rendered scikit-learn.org.\n",
       "     See: https://github.com/scikit-learn/scikit-learn/issues/21755 */\n",
       "  display: inline-block !important;\n",
       "  position: relative;\n",
       "}\n",
       "\n",
       "#sk-container-id-1 div.sk-text-repr-fallback {\n",
       "  display: none;\n",
       "}\n",
       "\n",
       "div.sk-parallel-item,\n",
       "div.sk-serial,\n",
       "div.sk-item {\n",
       "  /* draw centered vertical line to link estimators */\n",
       "  background-image: linear-gradient(var(--sklearn-color-text-on-default-background), var(--sklearn-color-text-on-default-background));\n",
       "  background-size: 2px 100%;\n",
       "  background-repeat: no-repeat;\n",
       "  background-position: center center;\n",
       "}\n",
       "\n",
       "/* Parallel-specific style estimator block */\n",
       "\n",
       "#sk-container-id-1 div.sk-parallel-item::after {\n",
       "  content: \"\";\n",
       "  width: 100%;\n",
       "  border-bottom: 2px solid var(--sklearn-color-text-on-default-background);\n",
       "  flex-grow: 1;\n",
       "}\n",
       "\n",
       "#sk-container-id-1 div.sk-parallel {\n",
       "  display: flex;\n",
       "  align-items: stretch;\n",
       "  justify-content: center;\n",
       "  background-color: var(--sklearn-color-background);\n",
       "  position: relative;\n",
       "}\n",
       "\n",
       "#sk-container-id-1 div.sk-parallel-item {\n",
       "  display: flex;\n",
       "  flex-direction: column;\n",
       "}\n",
       "\n",
       "#sk-container-id-1 div.sk-parallel-item:first-child::after {\n",
       "  align-self: flex-end;\n",
       "  width: 50%;\n",
       "}\n",
       "\n",
       "#sk-container-id-1 div.sk-parallel-item:last-child::after {\n",
       "  align-self: flex-start;\n",
       "  width: 50%;\n",
       "}\n",
       "\n",
       "#sk-container-id-1 div.sk-parallel-item:only-child::after {\n",
       "  width: 0;\n",
       "}\n",
       "\n",
       "/* Serial-specific style estimator block */\n",
       "\n",
       "#sk-container-id-1 div.sk-serial {\n",
       "  display: flex;\n",
       "  flex-direction: column;\n",
       "  align-items: center;\n",
       "  background-color: var(--sklearn-color-background);\n",
       "  padding-right: 1em;\n",
       "  padding-left: 1em;\n",
       "}\n",
       "\n",
       "\n",
       "/* Toggleable style: style used for estimator/Pipeline/ColumnTransformer box that is\n",
       "clickable and can be expanded/collapsed.\n",
       "- Pipeline and ColumnTransformer use this feature and define the default style\n",
       "- Estimators will overwrite some part of the style using the `sk-estimator` class\n",
       "*/\n",
       "\n",
       "/* Pipeline and ColumnTransformer style (default) */\n",
       "\n",
       "#sk-container-id-1 div.sk-toggleable {\n",
       "  /* Default theme specific background. It is overwritten whether we have a\n",
       "  specific estimator or a Pipeline/ColumnTransformer */\n",
       "  background-color: var(--sklearn-color-background);\n",
       "}\n",
       "\n",
       "/* Toggleable label */\n",
       "#sk-container-id-1 label.sk-toggleable__label {\n",
       "  cursor: pointer;\n",
       "  display: block;\n",
       "  width: 100%;\n",
       "  margin-bottom: 0;\n",
       "  padding: 0.5em;\n",
       "  box-sizing: border-box;\n",
       "  text-align: center;\n",
       "}\n",
       "\n",
       "#sk-container-id-1 label.sk-toggleable__label-arrow:before {\n",
       "  /* Arrow on the left of the label */\n",
       "  content: \"▸\";\n",
       "  float: left;\n",
       "  margin-right: 0.25em;\n",
       "  color: var(--sklearn-color-icon);\n",
       "}\n",
       "\n",
       "#sk-container-id-1 label.sk-toggleable__label-arrow:hover:before {\n",
       "  color: var(--sklearn-color-text);\n",
       "}\n",
       "\n",
       "/* Toggleable content - dropdown */\n",
       "\n",
       "#sk-container-id-1 div.sk-toggleable__content {\n",
       "  max-height: 0;\n",
       "  max-width: 0;\n",
       "  overflow: hidden;\n",
       "  text-align: left;\n",
       "  /* unfitted */\n",
       "  background-color: var(--sklearn-color-unfitted-level-0);\n",
       "}\n",
       "\n",
       "#sk-container-id-1 div.sk-toggleable__content.fitted {\n",
       "  /* fitted */\n",
       "  background-color: var(--sklearn-color-fitted-level-0);\n",
       "}\n",
       "\n",
       "#sk-container-id-1 div.sk-toggleable__content pre {\n",
       "  margin: 0.2em;\n",
       "  border-radius: 0.25em;\n",
       "  color: var(--sklearn-color-text);\n",
       "  /* unfitted */\n",
       "  background-color: var(--sklearn-color-unfitted-level-0);\n",
       "}\n",
       "\n",
       "#sk-container-id-1 div.sk-toggleable__content.fitted pre {\n",
       "  /* unfitted */\n",
       "  background-color: var(--sklearn-color-fitted-level-0);\n",
       "}\n",
       "\n",
       "#sk-container-id-1 input.sk-toggleable__control:checked~div.sk-toggleable__content {\n",
       "  /* Expand drop-down */\n",
       "  max-height: 200px;\n",
       "  max-width: 100%;\n",
       "  overflow: auto;\n",
       "}\n",
       "\n",
       "#sk-container-id-1 input.sk-toggleable__control:checked~label.sk-toggleable__label-arrow:before {\n",
       "  content: \"▾\";\n",
       "}\n",
       "\n",
       "/* Pipeline/ColumnTransformer-specific style */\n",
       "\n",
       "#sk-container-id-1 div.sk-label input.sk-toggleable__control:checked~label.sk-toggleable__label {\n",
       "  color: var(--sklearn-color-text);\n",
       "  background-color: var(--sklearn-color-unfitted-level-2);\n",
       "}\n",
       "\n",
       "#sk-container-id-1 div.sk-label.fitted input.sk-toggleable__control:checked~label.sk-toggleable__label {\n",
       "  background-color: var(--sklearn-color-fitted-level-2);\n",
       "}\n",
       "\n",
       "/* Estimator-specific style */\n",
       "\n",
       "/* Colorize estimator box */\n",
       "#sk-container-id-1 div.sk-estimator input.sk-toggleable__control:checked~label.sk-toggleable__label {\n",
       "  /* unfitted */\n",
       "  background-color: var(--sklearn-color-unfitted-level-2);\n",
       "}\n",
       "\n",
       "#sk-container-id-1 div.sk-estimator.fitted input.sk-toggleable__control:checked~label.sk-toggleable__label {\n",
       "  /* fitted */\n",
       "  background-color: var(--sklearn-color-fitted-level-2);\n",
       "}\n",
       "\n",
       "#sk-container-id-1 div.sk-label label.sk-toggleable__label,\n",
       "#sk-container-id-1 div.sk-label label {\n",
       "  /* The background is the default theme color */\n",
       "  color: var(--sklearn-color-text-on-default-background);\n",
       "}\n",
       "\n",
       "/* On hover, darken the color of the background */\n",
       "#sk-container-id-1 div.sk-label:hover label.sk-toggleable__label {\n",
       "  color: var(--sklearn-color-text);\n",
       "  background-color: var(--sklearn-color-unfitted-level-2);\n",
       "}\n",
       "\n",
       "/* Label box, darken color on hover, fitted */\n",
       "#sk-container-id-1 div.sk-label.fitted:hover label.sk-toggleable__label.fitted {\n",
       "  color: var(--sklearn-color-text);\n",
       "  background-color: var(--sklearn-color-fitted-level-2);\n",
       "}\n",
       "\n",
       "/* Estimator label */\n",
       "\n",
       "#sk-container-id-1 div.sk-label label {\n",
       "  font-family: monospace;\n",
       "  font-weight: bold;\n",
       "  display: inline-block;\n",
       "  line-height: 1.2em;\n",
       "}\n",
       "\n",
       "#sk-container-id-1 div.sk-label-container {\n",
       "  text-align: center;\n",
       "}\n",
       "\n",
       "/* Estimator-specific */\n",
       "#sk-container-id-1 div.sk-estimator {\n",
       "  font-family: monospace;\n",
       "  border: 1px dotted var(--sklearn-color-border-box);\n",
       "  border-radius: 0.25em;\n",
       "  box-sizing: border-box;\n",
       "  margin-bottom: 0.5em;\n",
       "  /* unfitted */\n",
       "  background-color: var(--sklearn-color-unfitted-level-0);\n",
       "}\n",
       "\n",
       "#sk-container-id-1 div.sk-estimator.fitted {\n",
       "  /* fitted */\n",
       "  background-color: var(--sklearn-color-fitted-level-0);\n",
       "}\n",
       "\n",
       "/* on hover */\n",
       "#sk-container-id-1 div.sk-estimator:hover {\n",
       "  /* unfitted */\n",
       "  background-color: var(--sklearn-color-unfitted-level-2);\n",
       "}\n",
       "\n",
       "#sk-container-id-1 div.sk-estimator.fitted:hover {\n",
       "  /* fitted */\n",
       "  background-color: var(--sklearn-color-fitted-level-2);\n",
       "}\n",
       "\n",
       "/* Specification for estimator info (e.g. \"i\" and \"?\") */\n",
       "\n",
       "/* Common style for \"i\" and \"?\" */\n",
       "\n",
       ".sk-estimator-doc-link,\n",
       "a:link.sk-estimator-doc-link,\n",
       "a:visited.sk-estimator-doc-link {\n",
       "  float: right;\n",
       "  font-size: smaller;\n",
       "  line-height: 1em;\n",
       "  font-family: monospace;\n",
       "  background-color: var(--sklearn-color-background);\n",
       "  border-radius: 1em;\n",
       "  height: 1em;\n",
       "  width: 1em;\n",
       "  text-decoration: none !important;\n",
       "  margin-left: 1ex;\n",
       "  /* unfitted */\n",
       "  border: var(--sklearn-color-unfitted-level-1) 1pt solid;\n",
       "  color: var(--sklearn-color-unfitted-level-1);\n",
       "}\n",
       "\n",
       ".sk-estimator-doc-link.fitted,\n",
       "a:link.sk-estimator-doc-link.fitted,\n",
       "a:visited.sk-estimator-doc-link.fitted {\n",
       "  /* fitted */\n",
       "  border: var(--sklearn-color-fitted-level-1) 1pt solid;\n",
       "  color: var(--sklearn-color-fitted-level-1);\n",
       "}\n",
       "\n",
       "/* On hover */\n",
       "div.sk-estimator:hover .sk-estimator-doc-link:hover,\n",
       ".sk-estimator-doc-link:hover,\n",
       "div.sk-label-container:hover .sk-estimator-doc-link:hover,\n",
       ".sk-estimator-doc-link:hover {\n",
       "  /* unfitted */\n",
       "  background-color: var(--sklearn-color-unfitted-level-3);\n",
       "  color: var(--sklearn-color-background);\n",
       "  text-decoration: none;\n",
       "}\n",
       "\n",
       "div.sk-estimator.fitted:hover .sk-estimator-doc-link.fitted:hover,\n",
       ".sk-estimator-doc-link.fitted:hover,\n",
       "div.sk-label-container:hover .sk-estimator-doc-link.fitted:hover,\n",
       ".sk-estimator-doc-link.fitted:hover {\n",
       "  /* fitted */\n",
       "  background-color: var(--sklearn-color-fitted-level-3);\n",
       "  color: var(--sklearn-color-background);\n",
       "  text-decoration: none;\n",
       "}\n",
       "\n",
       "/* Span, style for the box shown on hovering the info icon */\n",
       ".sk-estimator-doc-link span {\n",
       "  display: none;\n",
       "  z-index: 9999;\n",
       "  position: relative;\n",
       "  font-weight: normal;\n",
       "  right: .2ex;\n",
       "  padding: .5ex;\n",
       "  margin: .5ex;\n",
       "  width: min-content;\n",
       "  min-width: 20ex;\n",
       "  max-width: 50ex;\n",
       "  color: var(--sklearn-color-text);\n",
       "  box-shadow: 2pt 2pt 4pt #999;\n",
       "  /* unfitted */\n",
       "  background: var(--sklearn-color-unfitted-level-0);\n",
       "  border: .5pt solid var(--sklearn-color-unfitted-level-3);\n",
       "}\n",
       "\n",
       ".sk-estimator-doc-link.fitted span {\n",
       "  /* fitted */\n",
       "  background: var(--sklearn-color-fitted-level-0);\n",
       "  border: var(--sklearn-color-fitted-level-3);\n",
       "}\n",
       "\n",
       ".sk-estimator-doc-link:hover span {\n",
       "  display: block;\n",
       "}\n",
       "\n",
       "/* \"?\"-specific style due to the `<a>` HTML tag */\n",
       "\n",
       "#sk-container-id-1 a.estimator_doc_link {\n",
       "  float: right;\n",
       "  font-size: 1rem;\n",
       "  line-height: 1em;\n",
       "  font-family: monospace;\n",
       "  background-color: var(--sklearn-color-background);\n",
       "  border-radius: 1rem;\n",
       "  height: 1rem;\n",
       "  width: 1rem;\n",
       "  text-decoration: none;\n",
       "  /* unfitted */\n",
       "  color: var(--sklearn-color-unfitted-level-1);\n",
       "  border: var(--sklearn-color-unfitted-level-1) 1pt solid;\n",
       "}\n",
       "\n",
       "#sk-container-id-1 a.estimator_doc_link.fitted {\n",
       "  /* fitted */\n",
       "  border: var(--sklearn-color-fitted-level-1) 1pt solid;\n",
       "  color: var(--sklearn-color-fitted-level-1);\n",
       "}\n",
       "\n",
       "/* On hover */\n",
       "#sk-container-id-1 a.estimator_doc_link:hover {\n",
       "  /* unfitted */\n",
       "  background-color: var(--sklearn-color-unfitted-level-3);\n",
       "  color: var(--sklearn-color-background);\n",
       "  text-decoration: none;\n",
       "}\n",
       "\n",
       "#sk-container-id-1 a.estimator_doc_link.fitted:hover {\n",
       "  /* fitted */\n",
       "  background-color: var(--sklearn-color-fitted-level-3);\n",
       "}\n",
       "</style><div id=\"sk-container-id-1\" class=\"sk-top-container\"><div class=\"sk-text-repr-fallback\"><pre>GridSearchCV(cv=3, estimator=RandomForestClassifier(random_state=1),\n",
       "             param_grid={&#x27;max_depth&#x27;: [10, 17, 23],\n",
       "                         &#x27;max_features&#x27;: [3, 5, 7, 10],\n",
       "                         &#x27;min_samples_leaf&#x27;: [3, 5, 7],\n",
       "                         &#x27;n_estimators&#x27;: [30, 50, 70]},\n",
       "             refit=&#x27;f1&#x27;, return_train_score=True, scoring=&#x27;accuracy&#x27;)</pre><b>In a Jupyter environment, please rerun this cell to show the HTML representation or trust the notebook. <br />On GitHub, the HTML representation is unable to render, please try loading this page with nbviewer.org.</b></div><div class=\"sk-container\" hidden><div class=\"sk-item sk-dashed-wrapped\"><div class=\"sk-label-container\"><div class=\"sk-label fitted sk-toggleable\"><input class=\"sk-toggleable__control sk-hidden--visually\" id=\"sk-estimator-id-1\" type=\"checkbox\" ><label for=\"sk-estimator-id-1\" class=\"sk-toggleable__label fitted sk-toggleable__label-arrow fitted\">&nbsp;&nbsp;GridSearchCV<a class=\"sk-estimator-doc-link fitted\" rel=\"noreferrer\" target=\"_blank\" href=\"https://scikit-learn.org/1.4/modules/generated/sklearn.model_selection.GridSearchCV.html\">?<span>Documentation for GridSearchCV</span></a><span class=\"sk-estimator-doc-link fitted\">i<span>Fitted</span></span></label><div class=\"sk-toggleable__content fitted\"><pre>GridSearchCV(cv=3, estimator=RandomForestClassifier(random_state=1),\n",
       "             param_grid={&#x27;max_depth&#x27;: [10, 17, 23],\n",
       "                         &#x27;max_features&#x27;: [3, 5, 7, 10],\n",
       "                         &#x27;min_samples_leaf&#x27;: [3, 5, 7],\n",
       "                         &#x27;n_estimators&#x27;: [30, 50, 70]},\n",
       "             refit=&#x27;f1&#x27;, return_train_score=True, scoring=&#x27;accuracy&#x27;)</pre></div> </div></div><div class=\"sk-parallel\"><div class=\"sk-parallel-item\"><div class=\"sk-item\"><div class=\"sk-label-container\"><div class=\"sk-label fitted sk-toggleable\"><input class=\"sk-toggleable__control sk-hidden--visually\" id=\"sk-estimator-id-2\" type=\"checkbox\" ><label for=\"sk-estimator-id-2\" class=\"sk-toggleable__label fitted sk-toggleable__label-arrow fitted\">estimator: RandomForestClassifier</label><div class=\"sk-toggleable__content fitted\"><pre>RandomForestClassifier(random_state=1)</pre></div> </div></div><div class=\"sk-serial\"><div class=\"sk-item\"><div class=\"sk-estimator fitted sk-toggleable\"><input class=\"sk-toggleable__control sk-hidden--visually\" id=\"sk-estimator-id-3\" type=\"checkbox\" ><label for=\"sk-estimator-id-3\" class=\"sk-toggleable__label fitted sk-toggleable__label-arrow fitted\">&nbsp;RandomForestClassifier<a class=\"sk-estimator-doc-link fitted\" rel=\"noreferrer\" target=\"_blank\" href=\"https://scikit-learn.org/1.4/modules/generated/sklearn.ensemble.RandomForestClassifier.html\">?<span>Documentation for RandomForestClassifier</span></a></label><div class=\"sk-toggleable__content fitted\"><pre>RandomForestClassifier(random_state=1)</pre></div> </div></div></div></div></div></div></div></div></div>"
      ],
      "text/plain": [
       "GridSearchCV(cv=3, estimator=RandomForestClassifier(random_state=1),\n",
       "             param_grid={'max_depth': [10, 17, 23],\n",
       "                         'max_features': [3, 5, 7, 10],\n",
       "                         'min_samples_leaf': [3, 5, 7],\n",
       "                         'n_estimators': [30, 50, 70]},\n",
       "             refit='f1', return_train_score=True, scoring='accuracy')"
      ]
     },
     "execution_count": 122,
     "metadata": {},
     "output_type": "execute_result"
    }
   ],
   "source": [
    "gcv = GridSearchCV(rfc, parameters, scoring=scoring, refit='f1', cv=3, return_train_score=True)\n",
    "get_ipython().run_line_magic('time', 'gcv.fit(X, y)')"
   ]
  },
  {
   "cell_type": "markdown",
   "metadata": {
    "id": "vwi5Ds61mirz"
   },
   "source": [
    "Let's take a look at the results of the parameter selection."
   ]
  },
  {
   "cell_type": "code",
   "execution_count": 123,
   "metadata": {
    "colab": {
     "base_uri": "https://localhost:8080/",
     "height": 153
    },
    "id": "vi47XwmNmeHT",
    "outputId": "5680d386-af3e-459f-831a-41594fb99765"
   },
   "outputs": [
    {
     "data": {
      "text/html": [
       "<style>#sk-container-id-2 {\n",
       "  /* Definition of color scheme common for light and dark mode */\n",
       "  --sklearn-color-text: black;\n",
       "  --sklearn-color-line: gray;\n",
       "  /* Definition of color scheme for unfitted estimators */\n",
       "  --sklearn-color-unfitted-level-0: #fff5e6;\n",
       "  --sklearn-color-unfitted-level-1: #f6e4d2;\n",
       "  --sklearn-color-unfitted-level-2: #ffe0b3;\n",
       "  --sklearn-color-unfitted-level-3: chocolate;\n",
       "  /* Definition of color scheme for fitted estimators */\n",
       "  --sklearn-color-fitted-level-0: #f0f8ff;\n",
       "  --sklearn-color-fitted-level-1: #d4ebff;\n",
       "  --sklearn-color-fitted-level-2: #b3dbfd;\n",
       "  --sklearn-color-fitted-level-3: cornflowerblue;\n",
       "\n",
       "  /* Specific color for light theme */\n",
       "  --sklearn-color-text-on-default-background: var(--sg-text-color, var(--theme-code-foreground, var(--jp-content-font-color1, black)));\n",
       "  --sklearn-color-background: var(--sg-background-color, var(--theme-background, var(--jp-layout-color0, white)));\n",
       "  --sklearn-color-border-box: var(--sg-text-color, var(--theme-code-foreground, var(--jp-content-font-color1, black)));\n",
       "  --sklearn-color-icon: #696969;\n",
       "\n",
       "  @media (prefers-color-scheme: dark) {\n",
       "    /* Redefinition of color scheme for dark theme */\n",
       "    --sklearn-color-text-on-default-background: var(--sg-text-color, var(--theme-code-foreground, var(--jp-content-font-color1, white)));\n",
       "    --sklearn-color-background: var(--sg-background-color, var(--theme-background, var(--jp-layout-color0, #111)));\n",
       "    --sklearn-color-border-box: var(--sg-text-color, var(--theme-code-foreground, var(--jp-content-font-color1, white)));\n",
       "    --sklearn-color-icon: #878787;\n",
       "  }\n",
       "}\n",
       "\n",
       "#sk-container-id-2 {\n",
       "  color: var(--sklearn-color-text);\n",
       "}\n",
       "\n",
       "#sk-container-id-2 pre {\n",
       "  padding: 0;\n",
       "}\n",
       "\n",
       "#sk-container-id-2 input.sk-hidden--visually {\n",
       "  border: 0;\n",
       "  clip: rect(1px 1px 1px 1px);\n",
       "  clip: rect(1px, 1px, 1px, 1px);\n",
       "  height: 1px;\n",
       "  margin: -1px;\n",
       "  overflow: hidden;\n",
       "  padding: 0;\n",
       "  position: absolute;\n",
       "  width: 1px;\n",
       "}\n",
       "\n",
       "#sk-container-id-2 div.sk-dashed-wrapped {\n",
       "  border: 1px dashed var(--sklearn-color-line);\n",
       "  margin: 0 0.4em 0.5em 0.4em;\n",
       "  box-sizing: border-box;\n",
       "  padding-bottom: 0.4em;\n",
       "  background-color: var(--sklearn-color-background);\n",
       "}\n",
       "\n",
       "#sk-container-id-2 div.sk-container {\n",
       "  /* jupyter's `normalize.less` sets `[hidden] { display: none; }`\n",
       "     but bootstrap.min.css set `[hidden] { display: none !important; }`\n",
       "     so we also need the `!important` here to be able to override the\n",
       "     default hidden behavior on the sphinx rendered scikit-learn.org.\n",
       "     See: https://github.com/scikit-learn/scikit-learn/issues/21755 */\n",
       "  display: inline-block !important;\n",
       "  position: relative;\n",
       "}\n",
       "\n",
       "#sk-container-id-2 div.sk-text-repr-fallback {\n",
       "  display: none;\n",
       "}\n",
       "\n",
       "div.sk-parallel-item,\n",
       "div.sk-serial,\n",
       "div.sk-item {\n",
       "  /* draw centered vertical line to link estimators */\n",
       "  background-image: linear-gradient(var(--sklearn-color-text-on-default-background), var(--sklearn-color-text-on-default-background));\n",
       "  background-size: 2px 100%;\n",
       "  background-repeat: no-repeat;\n",
       "  background-position: center center;\n",
       "}\n",
       "\n",
       "/* Parallel-specific style estimator block */\n",
       "\n",
       "#sk-container-id-2 div.sk-parallel-item::after {\n",
       "  content: \"\";\n",
       "  width: 100%;\n",
       "  border-bottom: 2px solid var(--sklearn-color-text-on-default-background);\n",
       "  flex-grow: 1;\n",
       "}\n",
       "\n",
       "#sk-container-id-2 div.sk-parallel {\n",
       "  display: flex;\n",
       "  align-items: stretch;\n",
       "  justify-content: center;\n",
       "  background-color: var(--sklearn-color-background);\n",
       "  position: relative;\n",
       "}\n",
       "\n",
       "#sk-container-id-2 div.sk-parallel-item {\n",
       "  display: flex;\n",
       "  flex-direction: column;\n",
       "}\n",
       "\n",
       "#sk-container-id-2 div.sk-parallel-item:first-child::after {\n",
       "  align-self: flex-end;\n",
       "  width: 50%;\n",
       "}\n",
       "\n",
       "#sk-container-id-2 div.sk-parallel-item:last-child::after {\n",
       "  align-self: flex-start;\n",
       "  width: 50%;\n",
       "}\n",
       "\n",
       "#sk-container-id-2 div.sk-parallel-item:only-child::after {\n",
       "  width: 0;\n",
       "}\n",
       "\n",
       "/* Serial-specific style estimator block */\n",
       "\n",
       "#sk-container-id-2 div.sk-serial {\n",
       "  display: flex;\n",
       "  flex-direction: column;\n",
       "  align-items: center;\n",
       "  background-color: var(--sklearn-color-background);\n",
       "  padding-right: 1em;\n",
       "  padding-left: 1em;\n",
       "}\n",
       "\n",
       "\n",
       "/* Toggleable style: style used for estimator/Pipeline/ColumnTransformer box that is\n",
       "clickable and can be expanded/collapsed.\n",
       "- Pipeline and ColumnTransformer use this feature and define the default style\n",
       "- Estimators will overwrite some part of the style using the `sk-estimator` class\n",
       "*/\n",
       "\n",
       "/* Pipeline and ColumnTransformer style (default) */\n",
       "\n",
       "#sk-container-id-2 div.sk-toggleable {\n",
       "  /* Default theme specific background. It is overwritten whether we have a\n",
       "  specific estimator or a Pipeline/ColumnTransformer */\n",
       "  background-color: var(--sklearn-color-background);\n",
       "}\n",
       "\n",
       "/* Toggleable label */\n",
       "#sk-container-id-2 label.sk-toggleable__label {\n",
       "  cursor: pointer;\n",
       "  display: block;\n",
       "  width: 100%;\n",
       "  margin-bottom: 0;\n",
       "  padding: 0.5em;\n",
       "  box-sizing: border-box;\n",
       "  text-align: center;\n",
       "}\n",
       "\n",
       "#sk-container-id-2 label.sk-toggleable__label-arrow:before {\n",
       "  /* Arrow on the left of the label */\n",
       "  content: \"▸\";\n",
       "  float: left;\n",
       "  margin-right: 0.25em;\n",
       "  color: var(--sklearn-color-icon);\n",
       "}\n",
       "\n",
       "#sk-container-id-2 label.sk-toggleable__label-arrow:hover:before {\n",
       "  color: var(--sklearn-color-text);\n",
       "}\n",
       "\n",
       "/* Toggleable content - dropdown */\n",
       "\n",
       "#sk-container-id-2 div.sk-toggleable__content {\n",
       "  max-height: 0;\n",
       "  max-width: 0;\n",
       "  overflow: hidden;\n",
       "  text-align: left;\n",
       "  /* unfitted */\n",
       "  background-color: var(--sklearn-color-unfitted-level-0);\n",
       "}\n",
       "\n",
       "#sk-container-id-2 div.sk-toggleable__content.fitted {\n",
       "  /* fitted */\n",
       "  background-color: var(--sklearn-color-fitted-level-0);\n",
       "}\n",
       "\n",
       "#sk-container-id-2 div.sk-toggleable__content pre {\n",
       "  margin: 0.2em;\n",
       "  border-radius: 0.25em;\n",
       "  color: var(--sklearn-color-text);\n",
       "  /* unfitted */\n",
       "  background-color: var(--sklearn-color-unfitted-level-0);\n",
       "}\n",
       "\n",
       "#sk-container-id-2 div.sk-toggleable__content.fitted pre {\n",
       "  /* unfitted */\n",
       "  background-color: var(--sklearn-color-fitted-level-0);\n",
       "}\n",
       "\n",
       "#sk-container-id-2 input.sk-toggleable__control:checked~div.sk-toggleable__content {\n",
       "  /* Expand drop-down */\n",
       "  max-height: 200px;\n",
       "  max-width: 100%;\n",
       "  overflow: auto;\n",
       "}\n",
       "\n",
       "#sk-container-id-2 input.sk-toggleable__control:checked~label.sk-toggleable__label-arrow:before {\n",
       "  content: \"▾\";\n",
       "}\n",
       "\n",
       "/* Pipeline/ColumnTransformer-specific style */\n",
       "\n",
       "#sk-container-id-2 div.sk-label input.sk-toggleable__control:checked~label.sk-toggleable__label {\n",
       "  color: var(--sklearn-color-text);\n",
       "  background-color: var(--sklearn-color-unfitted-level-2);\n",
       "}\n",
       "\n",
       "#sk-container-id-2 div.sk-label.fitted input.sk-toggleable__control:checked~label.sk-toggleable__label {\n",
       "  background-color: var(--sklearn-color-fitted-level-2);\n",
       "}\n",
       "\n",
       "/* Estimator-specific style */\n",
       "\n",
       "/* Colorize estimator box */\n",
       "#sk-container-id-2 div.sk-estimator input.sk-toggleable__control:checked~label.sk-toggleable__label {\n",
       "  /* unfitted */\n",
       "  background-color: var(--sklearn-color-unfitted-level-2);\n",
       "}\n",
       "\n",
       "#sk-container-id-2 div.sk-estimator.fitted input.sk-toggleable__control:checked~label.sk-toggleable__label {\n",
       "  /* fitted */\n",
       "  background-color: var(--sklearn-color-fitted-level-2);\n",
       "}\n",
       "\n",
       "#sk-container-id-2 div.sk-label label.sk-toggleable__label,\n",
       "#sk-container-id-2 div.sk-label label {\n",
       "  /* The background is the default theme color */\n",
       "  color: var(--sklearn-color-text-on-default-background);\n",
       "}\n",
       "\n",
       "/* On hover, darken the color of the background */\n",
       "#sk-container-id-2 div.sk-label:hover label.sk-toggleable__label {\n",
       "  color: var(--sklearn-color-text);\n",
       "  background-color: var(--sklearn-color-unfitted-level-2);\n",
       "}\n",
       "\n",
       "/* Label box, darken color on hover, fitted */\n",
       "#sk-container-id-2 div.sk-label.fitted:hover label.sk-toggleable__label.fitted {\n",
       "  color: var(--sklearn-color-text);\n",
       "  background-color: var(--sklearn-color-fitted-level-2);\n",
       "}\n",
       "\n",
       "/* Estimator label */\n",
       "\n",
       "#sk-container-id-2 div.sk-label label {\n",
       "  font-family: monospace;\n",
       "  font-weight: bold;\n",
       "  display: inline-block;\n",
       "  line-height: 1.2em;\n",
       "}\n",
       "\n",
       "#sk-container-id-2 div.sk-label-container {\n",
       "  text-align: center;\n",
       "}\n",
       "\n",
       "/* Estimator-specific */\n",
       "#sk-container-id-2 div.sk-estimator {\n",
       "  font-family: monospace;\n",
       "  border: 1px dotted var(--sklearn-color-border-box);\n",
       "  border-radius: 0.25em;\n",
       "  box-sizing: border-box;\n",
       "  margin-bottom: 0.5em;\n",
       "  /* unfitted */\n",
       "  background-color: var(--sklearn-color-unfitted-level-0);\n",
       "}\n",
       "\n",
       "#sk-container-id-2 div.sk-estimator.fitted {\n",
       "  /* fitted */\n",
       "  background-color: var(--sklearn-color-fitted-level-0);\n",
       "}\n",
       "\n",
       "/* on hover */\n",
       "#sk-container-id-2 div.sk-estimator:hover {\n",
       "  /* unfitted */\n",
       "  background-color: var(--sklearn-color-unfitted-level-2);\n",
       "}\n",
       "\n",
       "#sk-container-id-2 div.sk-estimator.fitted:hover {\n",
       "  /* fitted */\n",
       "  background-color: var(--sklearn-color-fitted-level-2);\n",
       "}\n",
       "\n",
       "/* Specification for estimator info (e.g. \"i\" and \"?\") */\n",
       "\n",
       "/* Common style for \"i\" and \"?\" */\n",
       "\n",
       ".sk-estimator-doc-link,\n",
       "a:link.sk-estimator-doc-link,\n",
       "a:visited.sk-estimator-doc-link {\n",
       "  float: right;\n",
       "  font-size: smaller;\n",
       "  line-height: 1em;\n",
       "  font-family: monospace;\n",
       "  background-color: var(--sklearn-color-background);\n",
       "  border-radius: 1em;\n",
       "  height: 1em;\n",
       "  width: 1em;\n",
       "  text-decoration: none !important;\n",
       "  margin-left: 1ex;\n",
       "  /* unfitted */\n",
       "  border: var(--sklearn-color-unfitted-level-1) 1pt solid;\n",
       "  color: var(--sklearn-color-unfitted-level-1);\n",
       "}\n",
       "\n",
       ".sk-estimator-doc-link.fitted,\n",
       "a:link.sk-estimator-doc-link.fitted,\n",
       "a:visited.sk-estimator-doc-link.fitted {\n",
       "  /* fitted */\n",
       "  border: var(--sklearn-color-fitted-level-1) 1pt solid;\n",
       "  color: var(--sklearn-color-fitted-level-1);\n",
       "}\n",
       "\n",
       "/* On hover */\n",
       "div.sk-estimator:hover .sk-estimator-doc-link:hover,\n",
       ".sk-estimator-doc-link:hover,\n",
       "div.sk-label-container:hover .sk-estimator-doc-link:hover,\n",
       ".sk-estimator-doc-link:hover {\n",
       "  /* unfitted */\n",
       "  background-color: var(--sklearn-color-unfitted-level-3);\n",
       "  color: var(--sklearn-color-background);\n",
       "  text-decoration: none;\n",
       "}\n",
       "\n",
       "div.sk-estimator.fitted:hover .sk-estimator-doc-link.fitted:hover,\n",
       ".sk-estimator-doc-link.fitted:hover,\n",
       "div.sk-label-container:hover .sk-estimator-doc-link.fitted:hover,\n",
       ".sk-estimator-doc-link.fitted:hover {\n",
       "  /* fitted */\n",
       "  background-color: var(--sklearn-color-fitted-level-3);\n",
       "  color: var(--sklearn-color-background);\n",
       "  text-decoration: none;\n",
       "}\n",
       "\n",
       "/* Span, style for the box shown on hovering the info icon */\n",
       ".sk-estimator-doc-link span {\n",
       "  display: none;\n",
       "  z-index: 9999;\n",
       "  position: relative;\n",
       "  font-weight: normal;\n",
       "  right: .2ex;\n",
       "  padding: .5ex;\n",
       "  margin: .5ex;\n",
       "  width: min-content;\n",
       "  min-width: 20ex;\n",
       "  max-width: 50ex;\n",
       "  color: var(--sklearn-color-text);\n",
       "  box-shadow: 2pt 2pt 4pt #999;\n",
       "  /* unfitted */\n",
       "  background: var(--sklearn-color-unfitted-level-0);\n",
       "  border: .5pt solid var(--sklearn-color-unfitted-level-3);\n",
       "}\n",
       "\n",
       ".sk-estimator-doc-link.fitted span {\n",
       "  /* fitted */\n",
       "  background: var(--sklearn-color-fitted-level-0);\n",
       "  border: var(--sklearn-color-fitted-level-3);\n",
       "}\n",
       "\n",
       ".sk-estimator-doc-link:hover span {\n",
       "  display: block;\n",
       "}\n",
       "\n",
       "/* \"?\"-specific style due to the `<a>` HTML tag */\n",
       "\n",
       "#sk-container-id-2 a.estimator_doc_link {\n",
       "  float: right;\n",
       "  font-size: 1rem;\n",
       "  line-height: 1em;\n",
       "  font-family: monospace;\n",
       "  background-color: var(--sklearn-color-background);\n",
       "  border-radius: 1rem;\n",
       "  height: 1rem;\n",
       "  width: 1rem;\n",
       "  text-decoration: none;\n",
       "  /* unfitted */\n",
       "  color: var(--sklearn-color-unfitted-level-1);\n",
       "  border: var(--sklearn-color-unfitted-level-1) 1pt solid;\n",
       "}\n",
       "\n",
       "#sk-container-id-2 a.estimator_doc_link.fitted {\n",
       "  /* fitted */\n",
       "  border: var(--sklearn-color-fitted-level-1) 1pt solid;\n",
       "  color: var(--sklearn-color-fitted-level-1);\n",
       "}\n",
       "\n",
       "/* On hover */\n",
       "#sk-container-id-2 a.estimator_doc_link:hover {\n",
       "  /* unfitted */\n",
       "  background-color: var(--sklearn-color-unfitted-level-3);\n",
       "  color: var(--sklearn-color-background);\n",
       "  text-decoration: none;\n",
       "}\n",
       "\n",
       "#sk-container-id-2 a.estimator_doc_link.fitted:hover {\n",
       "  /* fitted */\n",
       "  background-color: var(--sklearn-color-fitted-level-3);\n",
       "}\n",
       "</style><div id=\"sk-container-id-2\" class=\"sk-top-container\"><div class=\"sk-text-repr-fallback\"><pre>RandomForestClassifier(max_depth=23, max_features=3, min_samples_leaf=3,\n",
       "                       n_estimators=30, random_state=1)</pre><b>In a Jupyter environment, please rerun this cell to show the HTML representation or trust the notebook. <br />On GitHub, the HTML representation is unable to render, please try loading this page with nbviewer.org.</b></div><div class=\"sk-container\" hidden><div class=\"sk-item\"><div class=\"sk-estimator fitted sk-toggleable\"><input class=\"sk-toggleable__control sk-hidden--visually\" id=\"sk-estimator-id-4\" type=\"checkbox\" checked><label for=\"sk-estimator-id-4\" class=\"sk-toggleable__label fitted sk-toggleable__label-arrow fitted\">&nbsp;&nbsp;RandomForestClassifier<a class=\"sk-estimator-doc-link fitted\" rel=\"noreferrer\" target=\"_blank\" href=\"https://scikit-learn.org/1.4/modules/generated/sklearn.ensemble.RandomForestClassifier.html\">?<span>Documentation for RandomForestClassifier</span></a><span class=\"sk-estimator-doc-link fitted\">i<span>Fitted</span></span></label><div class=\"sk-toggleable__content fitted\"><pre>RandomForestClassifier(max_depth=23, max_features=3, min_samples_leaf=3,\n",
       "                       n_estimators=30, random_state=1)</pre></div> </div></div></div></div>"
      ],
      "text/plain": [
       "RandomForestClassifier(max_depth=23, max_features=3, min_samples_leaf=3,\n",
       "                       n_estimators=30, random_state=1)"
      ]
     },
     "execution_count": 123,
     "metadata": {},
     "output_type": "execute_result"
    }
   ],
   "source": [
    "gcv.best_estimator_ "
   ]
  },
  {
   "cell_type": "code",
   "execution_count": 124,
   "metadata": {
    "colab": {
     "base_uri": "https://localhost:8080/",
     "height": 34
    },
    "id": "PxeUXPHHmk3C",
    "outputId": "54492363-1028-4859-c586-782e67c9ac82"
   },
   "outputs": [
    {
     "data": {
      "text/plain": [
       "{'max_depth': 23, 'max_features': 3, 'min_samples_leaf': 3, 'n_estimators': 30}"
      ]
     },
     "execution_count": 124,
     "metadata": {},
     "output_type": "execute_result"
    }
   ],
   "source": [
    "gcv.best_params_"
   ]
  },
  {
   "cell_type": "code",
   "execution_count": 125,
   "metadata": {
    "colab": {
     "base_uri": "https://localhost:8080/",
     "height": 34
    },
    "id": "4VFX3ERUmlvk",
    "outputId": "5c5f8f0f-674f-4c0c-f646-ce63425d5f7f"
   },
   "outputs": [
    {
     "data": {
      "text/plain": [
       "0.9782576689876435"
      ]
     },
     "execution_count": 125,
     "metadata": {},
     "output_type": "execute_result"
    }
   ],
   "source": [
    "gcv.best_score_"
   ]
  },
  {
   "cell_type": "markdown",
   "metadata": {
    "id": "Iiskwr3VmoL5"
   },
   "source": [
    "## Final model"
   ]
  },
  {
   "cell_type": "code",
   "execution_count": 126,
   "metadata": {},
   "outputs": [
    {
     "name": "stdout",
     "output_type": "stream",
     "text": [
      "(5086, 10) (5086,)\n",
      "(2181, 10) (2181,)\n"
     ]
    }
   ],
   "source": [
    "X_train, X_test, y_train, y_test = train_test_split(X, y, test_size=0.3, random_state=42)\n",
    "print(X_train.shape, y_train.shape)\n",
    "print(X_test.shape, y_test.shape)"
   ]
  },
  {
   "cell_type": "code",
   "execution_count": 127,
   "metadata": {
    "colab": {
     "base_uri": "https://localhost:8080/",
     "height": 153
    },
    "id": "7F8aWhX3mm8B",
    "outputId": "cbb69312-2d41-4eca-93d0-97d194a69604"
   },
   "outputs": [
    {
     "data": {
      "text/html": [
       "<style>#sk-container-id-3 {\n",
       "  /* Definition of color scheme common for light and dark mode */\n",
       "  --sklearn-color-text: black;\n",
       "  --sklearn-color-line: gray;\n",
       "  /* Definition of color scheme for unfitted estimators */\n",
       "  --sklearn-color-unfitted-level-0: #fff5e6;\n",
       "  --sklearn-color-unfitted-level-1: #f6e4d2;\n",
       "  --sklearn-color-unfitted-level-2: #ffe0b3;\n",
       "  --sklearn-color-unfitted-level-3: chocolate;\n",
       "  /* Definition of color scheme for fitted estimators */\n",
       "  --sklearn-color-fitted-level-0: #f0f8ff;\n",
       "  --sklearn-color-fitted-level-1: #d4ebff;\n",
       "  --sklearn-color-fitted-level-2: #b3dbfd;\n",
       "  --sklearn-color-fitted-level-3: cornflowerblue;\n",
       "\n",
       "  /* Specific color for light theme */\n",
       "  --sklearn-color-text-on-default-background: var(--sg-text-color, var(--theme-code-foreground, var(--jp-content-font-color1, black)));\n",
       "  --sklearn-color-background: var(--sg-background-color, var(--theme-background, var(--jp-layout-color0, white)));\n",
       "  --sklearn-color-border-box: var(--sg-text-color, var(--theme-code-foreground, var(--jp-content-font-color1, black)));\n",
       "  --sklearn-color-icon: #696969;\n",
       "\n",
       "  @media (prefers-color-scheme: dark) {\n",
       "    /* Redefinition of color scheme for dark theme */\n",
       "    --sklearn-color-text-on-default-background: var(--sg-text-color, var(--theme-code-foreground, var(--jp-content-font-color1, white)));\n",
       "    --sklearn-color-background: var(--sg-background-color, var(--theme-background, var(--jp-layout-color0, #111)));\n",
       "    --sklearn-color-border-box: var(--sg-text-color, var(--theme-code-foreground, var(--jp-content-font-color1, white)));\n",
       "    --sklearn-color-icon: #878787;\n",
       "  }\n",
       "}\n",
       "\n",
       "#sk-container-id-3 {\n",
       "  color: var(--sklearn-color-text);\n",
       "}\n",
       "\n",
       "#sk-container-id-3 pre {\n",
       "  padding: 0;\n",
       "}\n",
       "\n",
       "#sk-container-id-3 input.sk-hidden--visually {\n",
       "  border: 0;\n",
       "  clip: rect(1px 1px 1px 1px);\n",
       "  clip: rect(1px, 1px, 1px, 1px);\n",
       "  height: 1px;\n",
       "  margin: -1px;\n",
       "  overflow: hidden;\n",
       "  padding: 0;\n",
       "  position: absolute;\n",
       "  width: 1px;\n",
       "}\n",
       "\n",
       "#sk-container-id-3 div.sk-dashed-wrapped {\n",
       "  border: 1px dashed var(--sklearn-color-line);\n",
       "  margin: 0 0.4em 0.5em 0.4em;\n",
       "  box-sizing: border-box;\n",
       "  padding-bottom: 0.4em;\n",
       "  background-color: var(--sklearn-color-background);\n",
       "}\n",
       "\n",
       "#sk-container-id-3 div.sk-container {\n",
       "  /* jupyter's `normalize.less` sets `[hidden] { display: none; }`\n",
       "     but bootstrap.min.css set `[hidden] { display: none !important; }`\n",
       "     so we also need the `!important` here to be able to override the\n",
       "     default hidden behavior on the sphinx rendered scikit-learn.org.\n",
       "     See: https://github.com/scikit-learn/scikit-learn/issues/21755 */\n",
       "  display: inline-block !important;\n",
       "  position: relative;\n",
       "}\n",
       "\n",
       "#sk-container-id-3 div.sk-text-repr-fallback {\n",
       "  display: none;\n",
       "}\n",
       "\n",
       "div.sk-parallel-item,\n",
       "div.sk-serial,\n",
       "div.sk-item {\n",
       "  /* draw centered vertical line to link estimators */\n",
       "  background-image: linear-gradient(var(--sklearn-color-text-on-default-background), var(--sklearn-color-text-on-default-background));\n",
       "  background-size: 2px 100%;\n",
       "  background-repeat: no-repeat;\n",
       "  background-position: center center;\n",
       "}\n",
       "\n",
       "/* Parallel-specific style estimator block */\n",
       "\n",
       "#sk-container-id-3 div.sk-parallel-item::after {\n",
       "  content: \"\";\n",
       "  width: 100%;\n",
       "  border-bottom: 2px solid var(--sklearn-color-text-on-default-background);\n",
       "  flex-grow: 1;\n",
       "}\n",
       "\n",
       "#sk-container-id-3 div.sk-parallel {\n",
       "  display: flex;\n",
       "  align-items: stretch;\n",
       "  justify-content: center;\n",
       "  background-color: var(--sklearn-color-background);\n",
       "  position: relative;\n",
       "}\n",
       "\n",
       "#sk-container-id-3 div.sk-parallel-item {\n",
       "  display: flex;\n",
       "  flex-direction: column;\n",
       "}\n",
       "\n",
       "#sk-container-id-3 div.sk-parallel-item:first-child::after {\n",
       "  align-self: flex-end;\n",
       "  width: 50%;\n",
       "}\n",
       "\n",
       "#sk-container-id-3 div.sk-parallel-item:last-child::after {\n",
       "  align-self: flex-start;\n",
       "  width: 50%;\n",
       "}\n",
       "\n",
       "#sk-container-id-3 div.sk-parallel-item:only-child::after {\n",
       "  width: 0;\n",
       "}\n",
       "\n",
       "/* Serial-specific style estimator block */\n",
       "\n",
       "#sk-container-id-3 div.sk-serial {\n",
       "  display: flex;\n",
       "  flex-direction: column;\n",
       "  align-items: center;\n",
       "  background-color: var(--sklearn-color-background);\n",
       "  padding-right: 1em;\n",
       "  padding-left: 1em;\n",
       "}\n",
       "\n",
       "\n",
       "/* Toggleable style: style used for estimator/Pipeline/ColumnTransformer box that is\n",
       "clickable and can be expanded/collapsed.\n",
       "- Pipeline and ColumnTransformer use this feature and define the default style\n",
       "- Estimators will overwrite some part of the style using the `sk-estimator` class\n",
       "*/\n",
       "\n",
       "/* Pipeline and ColumnTransformer style (default) */\n",
       "\n",
       "#sk-container-id-3 div.sk-toggleable {\n",
       "  /* Default theme specific background. It is overwritten whether we have a\n",
       "  specific estimator or a Pipeline/ColumnTransformer */\n",
       "  background-color: var(--sklearn-color-background);\n",
       "}\n",
       "\n",
       "/* Toggleable label */\n",
       "#sk-container-id-3 label.sk-toggleable__label {\n",
       "  cursor: pointer;\n",
       "  display: block;\n",
       "  width: 100%;\n",
       "  margin-bottom: 0;\n",
       "  padding: 0.5em;\n",
       "  box-sizing: border-box;\n",
       "  text-align: center;\n",
       "}\n",
       "\n",
       "#sk-container-id-3 label.sk-toggleable__label-arrow:before {\n",
       "  /* Arrow on the left of the label */\n",
       "  content: \"▸\";\n",
       "  float: left;\n",
       "  margin-right: 0.25em;\n",
       "  color: var(--sklearn-color-icon);\n",
       "}\n",
       "\n",
       "#sk-container-id-3 label.sk-toggleable__label-arrow:hover:before {\n",
       "  color: var(--sklearn-color-text);\n",
       "}\n",
       "\n",
       "/* Toggleable content - dropdown */\n",
       "\n",
       "#sk-container-id-3 div.sk-toggleable__content {\n",
       "  max-height: 0;\n",
       "  max-width: 0;\n",
       "  overflow: hidden;\n",
       "  text-align: left;\n",
       "  /* unfitted */\n",
       "  background-color: var(--sklearn-color-unfitted-level-0);\n",
       "}\n",
       "\n",
       "#sk-container-id-3 div.sk-toggleable__content.fitted {\n",
       "  /* fitted */\n",
       "  background-color: var(--sklearn-color-fitted-level-0);\n",
       "}\n",
       "\n",
       "#sk-container-id-3 div.sk-toggleable__content pre {\n",
       "  margin: 0.2em;\n",
       "  border-radius: 0.25em;\n",
       "  color: var(--sklearn-color-text);\n",
       "  /* unfitted */\n",
       "  background-color: var(--sklearn-color-unfitted-level-0);\n",
       "}\n",
       "\n",
       "#sk-container-id-3 div.sk-toggleable__content.fitted pre {\n",
       "  /* unfitted */\n",
       "  background-color: var(--sklearn-color-fitted-level-0);\n",
       "}\n",
       "\n",
       "#sk-container-id-3 input.sk-toggleable__control:checked~div.sk-toggleable__content {\n",
       "  /* Expand drop-down */\n",
       "  max-height: 200px;\n",
       "  max-width: 100%;\n",
       "  overflow: auto;\n",
       "}\n",
       "\n",
       "#sk-container-id-3 input.sk-toggleable__control:checked~label.sk-toggleable__label-arrow:before {\n",
       "  content: \"▾\";\n",
       "}\n",
       "\n",
       "/* Pipeline/ColumnTransformer-specific style */\n",
       "\n",
       "#sk-container-id-3 div.sk-label input.sk-toggleable__control:checked~label.sk-toggleable__label {\n",
       "  color: var(--sklearn-color-text);\n",
       "  background-color: var(--sklearn-color-unfitted-level-2);\n",
       "}\n",
       "\n",
       "#sk-container-id-3 div.sk-label.fitted input.sk-toggleable__control:checked~label.sk-toggleable__label {\n",
       "  background-color: var(--sklearn-color-fitted-level-2);\n",
       "}\n",
       "\n",
       "/* Estimator-specific style */\n",
       "\n",
       "/* Colorize estimator box */\n",
       "#sk-container-id-3 div.sk-estimator input.sk-toggleable__control:checked~label.sk-toggleable__label {\n",
       "  /* unfitted */\n",
       "  background-color: var(--sklearn-color-unfitted-level-2);\n",
       "}\n",
       "\n",
       "#sk-container-id-3 div.sk-estimator.fitted input.sk-toggleable__control:checked~label.sk-toggleable__label {\n",
       "  /* fitted */\n",
       "  background-color: var(--sklearn-color-fitted-level-2);\n",
       "}\n",
       "\n",
       "#sk-container-id-3 div.sk-label label.sk-toggleable__label,\n",
       "#sk-container-id-3 div.sk-label label {\n",
       "  /* The background is the default theme color */\n",
       "  color: var(--sklearn-color-text-on-default-background);\n",
       "}\n",
       "\n",
       "/* On hover, darken the color of the background */\n",
       "#sk-container-id-3 div.sk-label:hover label.sk-toggleable__label {\n",
       "  color: var(--sklearn-color-text);\n",
       "  background-color: var(--sklearn-color-unfitted-level-2);\n",
       "}\n",
       "\n",
       "/* Label box, darken color on hover, fitted */\n",
       "#sk-container-id-3 div.sk-label.fitted:hover label.sk-toggleable__label.fitted {\n",
       "  color: var(--sklearn-color-text);\n",
       "  background-color: var(--sklearn-color-fitted-level-2);\n",
       "}\n",
       "\n",
       "/* Estimator label */\n",
       "\n",
       "#sk-container-id-3 div.sk-label label {\n",
       "  font-family: monospace;\n",
       "  font-weight: bold;\n",
       "  display: inline-block;\n",
       "  line-height: 1.2em;\n",
       "}\n",
       "\n",
       "#sk-container-id-3 div.sk-label-container {\n",
       "  text-align: center;\n",
       "}\n",
       "\n",
       "/* Estimator-specific */\n",
       "#sk-container-id-3 div.sk-estimator {\n",
       "  font-family: monospace;\n",
       "  border: 1px dotted var(--sklearn-color-border-box);\n",
       "  border-radius: 0.25em;\n",
       "  box-sizing: border-box;\n",
       "  margin-bottom: 0.5em;\n",
       "  /* unfitted */\n",
       "  background-color: var(--sklearn-color-unfitted-level-0);\n",
       "}\n",
       "\n",
       "#sk-container-id-3 div.sk-estimator.fitted {\n",
       "  /* fitted */\n",
       "  background-color: var(--sklearn-color-fitted-level-0);\n",
       "}\n",
       "\n",
       "/* on hover */\n",
       "#sk-container-id-3 div.sk-estimator:hover {\n",
       "  /* unfitted */\n",
       "  background-color: var(--sklearn-color-unfitted-level-2);\n",
       "}\n",
       "\n",
       "#sk-container-id-3 div.sk-estimator.fitted:hover {\n",
       "  /* fitted */\n",
       "  background-color: var(--sklearn-color-fitted-level-2);\n",
       "}\n",
       "\n",
       "/* Specification for estimator info (e.g. \"i\" and \"?\") */\n",
       "\n",
       "/* Common style for \"i\" and \"?\" */\n",
       "\n",
       ".sk-estimator-doc-link,\n",
       "a:link.sk-estimator-doc-link,\n",
       "a:visited.sk-estimator-doc-link {\n",
       "  float: right;\n",
       "  font-size: smaller;\n",
       "  line-height: 1em;\n",
       "  font-family: monospace;\n",
       "  background-color: var(--sklearn-color-background);\n",
       "  border-radius: 1em;\n",
       "  height: 1em;\n",
       "  width: 1em;\n",
       "  text-decoration: none !important;\n",
       "  margin-left: 1ex;\n",
       "  /* unfitted */\n",
       "  border: var(--sklearn-color-unfitted-level-1) 1pt solid;\n",
       "  color: var(--sklearn-color-unfitted-level-1);\n",
       "}\n",
       "\n",
       ".sk-estimator-doc-link.fitted,\n",
       "a:link.sk-estimator-doc-link.fitted,\n",
       "a:visited.sk-estimator-doc-link.fitted {\n",
       "  /* fitted */\n",
       "  border: var(--sklearn-color-fitted-level-1) 1pt solid;\n",
       "  color: var(--sklearn-color-fitted-level-1);\n",
       "}\n",
       "\n",
       "/* On hover */\n",
       "div.sk-estimator:hover .sk-estimator-doc-link:hover,\n",
       ".sk-estimator-doc-link:hover,\n",
       "div.sk-label-container:hover .sk-estimator-doc-link:hover,\n",
       ".sk-estimator-doc-link:hover {\n",
       "  /* unfitted */\n",
       "  background-color: var(--sklearn-color-unfitted-level-3);\n",
       "  color: var(--sklearn-color-background);\n",
       "  text-decoration: none;\n",
       "}\n",
       "\n",
       "div.sk-estimator.fitted:hover .sk-estimator-doc-link.fitted:hover,\n",
       ".sk-estimator-doc-link.fitted:hover,\n",
       "div.sk-label-container:hover .sk-estimator-doc-link.fitted:hover,\n",
       ".sk-estimator-doc-link.fitted:hover {\n",
       "  /* fitted */\n",
       "  background-color: var(--sklearn-color-fitted-level-3);\n",
       "  color: var(--sklearn-color-background);\n",
       "  text-decoration: none;\n",
       "}\n",
       "\n",
       "/* Span, style for the box shown on hovering the info icon */\n",
       ".sk-estimator-doc-link span {\n",
       "  display: none;\n",
       "  z-index: 9999;\n",
       "  position: relative;\n",
       "  font-weight: normal;\n",
       "  right: .2ex;\n",
       "  padding: .5ex;\n",
       "  margin: .5ex;\n",
       "  width: min-content;\n",
       "  min-width: 20ex;\n",
       "  max-width: 50ex;\n",
       "  color: var(--sklearn-color-text);\n",
       "  box-shadow: 2pt 2pt 4pt #999;\n",
       "  /* unfitted */\n",
       "  background: var(--sklearn-color-unfitted-level-0);\n",
       "  border: .5pt solid var(--sklearn-color-unfitted-level-3);\n",
       "}\n",
       "\n",
       ".sk-estimator-doc-link.fitted span {\n",
       "  /* fitted */\n",
       "  background: var(--sklearn-color-fitted-level-0);\n",
       "  border: var(--sklearn-color-fitted-level-3);\n",
       "}\n",
       "\n",
       ".sk-estimator-doc-link:hover span {\n",
       "  display: block;\n",
       "}\n",
       "\n",
       "/* \"?\"-specific style due to the `<a>` HTML tag */\n",
       "\n",
       "#sk-container-id-3 a.estimator_doc_link {\n",
       "  float: right;\n",
       "  font-size: 1rem;\n",
       "  line-height: 1em;\n",
       "  font-family: monospace;\n",
       "  background-color: var(--sklearn-color-background);\n",
       "  border-radius: 1rem;\n",
       "  height: 1rem;\n",
       "  width: 1rem;\n",
       "  text-decoration: none;\n",
       "  /* unfitted */\n",
       "  color: var(--sklearn-color-unfitted-level-1);\n",
       "  border: var(--sklearn-color-unfitted-level-1) 1pt solid;\n",
       "}\n",
       "\n",
       "#sk-container-id-3 a.estimator_doc_link.fitted {\n",
       "  /* fitted */\n",
       "  border: var(--sklearn-color-fitted-level-1) 1pt solid;\n",
       "  color: var(--sklearn-color-fitted-level-1);\n",
       "}\n",
       "\n",
       "/* On hover */\n",
       "#sk-container-id-3 a.estimator_doc_link:hover {\n",
       "  /* unfitted */\n",
       "  background-color: var(--sklearn-color-unfitted-level-3);\n",
       "  color: var(--sklearn-color-background);\n",
       "  text-decoration: none;\n",
       "}\n",
       "\n",
       "#sk-container-id-3 a.estimator_doc_link.fitted:hover {\n",
       "  /* fitted */\n",
       "  background-color: var(--sklearn-color-fitted-level-3);\n",
       "}\n",
       "</style><div id=\"sk-container-id-3\" class=\"sk-top-container\"><div class=\"sk-text-repr-fallback\"><pre>RandomForestClassifier(max_depth=17, max_features=10, min_samples_leaf=3,\n",
       "                       n_estimators=50, oob_score=True, random_state=42)</pre><b>In a Jupyter environment, please rerun this cell to show the HTML representation or trust the notebook. <br />On GitHub, the HTML representation is unable to render, please try loading this page with nbviewer.org.</b></div><div class=\"sk-container\" hidden><div class=\"sk-item\"><div class=\"sk-estimator fitted sk-toggleable\"><input class=\"sk-toggleable__control sk-hidden--visually\" id=\"sk-estimator-id-5\" type=\"checkbox\" checked><label for=\"sk-estimator-id-5\" class=\"sk-toggleable__label fitted sk-toggleable__label-arrow fitted\">&nbsp;&nbsp;RandomForestClassifier<a class=\"sk-estimator-doc-link fitted\" rel=\"noreferrer\" target=\"_blank\" href=\"https://scikit-learn.org/1.4/modules/generated/sklearn.ensemble.RandomForestClassifier.html\">?<span>Documentation for RandomForestClassifier</span></a><span class=\"sk-estimator-doc-link fitted\">i<span>Fitted</span></span></label><div class=\"sk-toggleable__content fitted\"><pre>RandomForestClassifier(max_depth=17, max_features=10, min_samples_leaf=3,\n",
       "                       n_estimators=50, oob_score=True, random_state=42)</pre></div> </div></div></div></div>"
      ],
      "text/plain": [
       "RandomForestClassifier(max_depth=17, max_features=10, min_samples_leaf=3,\n",
       "                       n_estimators=50, oob_score=True, random_state=42)"
      ]
     },
     "execution_count": 127,
     "metadata": {},
     "output_type": "execute_result"
    }
   ],
   "source": [
    "rfc = RandomForestClassifier(max_depth=17, max_features=10, min_samples_leaf=3, n_estimators=50, random_state=42, oob_score=True)\n",
    "# rfc = RandomForestClassifier(n_estimators=250, random_state=1)\n",
    "rfc.fit(X_train, y_train)"
   ]
  },
  {
   "cell_type": "code",
   "execution_count": 128,
   "metadata": {
    "colab": {
     "base_uri": "https://localhost:8080/",
     "height": 187
    },
    "id": "yULIEGsxmtsQ",
    "outputId": "b9eda3ad-c57b-472d-be97-8fed2161802b"
   },
   "outputs": [
    {
     "name": "stdout",
     "output_type": "stream",
     "text": [
      "1.\t#2\t0.410\tMax Packet Length\n",
      "2.\t#0\t0.257\tAverage Packet Size\n",
      "3.\t#8\t0.139\tFwd IAT Std\n",
      "4.\t#5\t0.051\tTotal Length of Fwd Packets\n",
      "5.\t#6\t0.048\tFlow IAT Mean\n",
      "6.\t#4\t0.034\tFwd IAT Min\n",
      "7.\t#9\t0.027\tFwd Header Length\n",
      "8.\t#3\t0.024\tFwd Packet Length Mean\n",
      "9.\t#7\t0.007\tFwd Packet Length Max\n",
      "10.\t#1\t0.004\tFlow Bytes/s\n"
     ]
    }
   ],
   "source": [
    "features = X.columns\n",
    "importances = rfc.feature_importances_\n",
    "indices = np.argsort(importances)[::-1]\n",
    "    \n",
    "for index, i in enumerate(indices[:10]):\n",
    "    print('{}.\\t#{}\\t{:.3f}\\t{}'.format(index + 1, i, importances[i], features[i]))"
   ]
  },
  {
   "cell_type": "code",
   "execution_count": 129,
   "metadata": {},
   "outputs": [
    {
     "data": {
      "text/plain": [
       "array([[1512,   24],\n",
       "       [  25,  620]], dtype=int64)"
      ]
     },
     "execution_count": 129,
     "metadata": {},
     "output_type": "execute_result"
    }
   ],
   "source": [
    "y_pred = rfc.predict(X_test)\n",
    "confusion_matrix(y_test, y_pred)"
   ]
  },
  {
   "cell_type": "code",
   "execution_count": 130,
   "metadata": {
    "colab": {
     "base_uri": "https://localhost:8080/",
     "height": 85
    },
    "id": "WWgbCOjZoIYX",
    "outputId": "fc94afaf-e952-434b-daf8-d9c898056036"
   },
   "outputs": [
    {
     "name": "stdout",
     "output_type": "stream",
     "text": [
      "Accuracy = 0.9775332416322787\n",
      "Precision = 0.9627329192546584\n",
      "Recall = 0.9612403100775194\n",
      "F1 = 0.9619860356865787\n"
     ]
    }
   ],
   "source": [
    "import sklearn.metrics as metrics\n",
    "accuracy = metrics.accuracy_score(y_test, y_pred)\n",
    "precision = metrics.precision_score(y_test, y_pred)\n",
    "recall = metrics.recall_score(y_test, y_pred)\n",
    "f1 = metrics.f1_score(y_test, y_pred)\n",
    "print('Accuracy =', accuracy)\n",
    "print('Precision =', precision)\n",
    "print('Recall =', recall)\n",
    "print('F1 =', f1)"
   ]
  },
  {
   "cell_type": "markdown",
   "metadata": {
    "id": "5PElFLh5oYzU"
   },
   "source": [
    "## Model saving"
   ]
  },
  {
   "cell_type": "code",
   "execution_count": 131,
   "metadata": {},
   "outputs": [
    {
     "name": "stdout",
     "output_type": "stream",
     "text": [
      "Requirement already satisfied: pip in f:\\bharg\\python\\lib\\site-packages (24.0)\n",
      "Requirement already satisfied: setuptools in f:\\bharg\\python\\lib\\site-packages (69.1.1)\n",
      "Requirement already satisfied: wheel in f:\\bharg\\python\\lib\\site-packages (0.42.0)\n"
     ]
    }
   ],
   "source": [
    "!pip install --upgrade pip setuptools wheel"
   ]
  },
  {
   "cell_type": "code",
   "execution_count": 132,
   "metadata": {
    "id": "QjZyFNFIoMFK"
   },
   "outputs": [],
   "source": [
    "import pickle\n",
    "with open('webattack_detection_rf_model.pkl', 'wb') as f:\n",
    "    pickle.dump(rfc, f)"
   ]
  },
  {
   "cell_type": "markdown",
   "metadata": {
    "id": "pnHSPBrDodIs"
   },
   "source": [
    "## Model approbation"
   ]
  },
  {
   "cell_type": "markdown",
   "metadata": {
    "id": "98uX2hrvofRR"
   },
   "source": [
    "Open the previously saved model."
   ]
  },
  {
   "cell_type": "code",
   "execution_count": 133,
   "metadata": {
    "colab": {
     "base_uri": "https://localhost:8080/",
     "height": 153
    },
    "id": "hxBtpLABob_z",
    "outputId": "8b0ef6ee-591e-4ed3-bac4-de1067520773"
   },
   "outputs": [
    {
     "data": {
      "text/html": [
       "<style>#sk-container-id-4 {\n",
       "  /* Definition of color scheme common for light and dark mode */\n",
       "  --sklearn-color-text: black;\n",
       "  --sklearn-color-line: gray;\n",
       "  /* Definition of color scheme for unfitted estimators */\n",
       "  --sklearn-color-unfitted-level-0: #fff5e6;\n",
       "  --sklearn-color-unfitted-level-1: #f6e4d2;\n",
       "  --sklearn-color-unfitted-level-2: #ffe0b3;\n",
       "  --sklearn-color-unfitted-level-3: chocolate;\n",
       "  /* Definition of color scheme for fitted estimators */\n",
       "  --sklearn-color-fitted-level-0: #f0f8ff;\n",
       "  --sklearn-color-fitted-level-1: #d4ebff;\n",
       "  --sklearn-color-fitted-level-2: #b3dbfd;\n",
       "  --sklearn-color-fitted-level-3: cornflowerblue;\n",
       "\n",
       "  /* Specific color for light theme */\n",
       "  --sklearn-color-text-on-default-background: var(--sg-text-color, var(--theme-code-foreground, var(--jp-content-font-color1, black)));\n",
       "  --sklearn-color-background: var(--sg-background-color, var(--theme-background, var(--jp-layout-color0, white)));\n",
       "  --sklearn-color-border-box: var(--sg-text-color, var(--theme-code-foreground, var(--jp-content-font-color1, black)));\n",
       "  --sklearn-color-icon: #696969;\n",
       "\n",
       "  @media (prefers-color-scheme: dark) {\n",
       "    /* Redefinition of color scheme for dark theme */\n",
       "    --sklearn-color-text-on-default-background: var(--sg-text-color, var(--theme-code-foreground, var(--jp-content-font-color1, white)));\n",
       "    --sklearn-color-background: var(--sg-background-color, var(--theme-background, var(--jp-layout-color0, #111)));\n",
       "    --sklearn-color-border-box: var(--sg-text-color, var(--theme-code-foreground, var(--jp-content-font-color1, white)));\n",
       "    --sklearn-color-icon: #878787;\n",
       "  }\n",
       "}\n",
       "\n",
       "#sk-container-id-4 {\n",
       "  color: var(--sklearn-color-text);\n",
       "}\n",
       "\n",
       "#sk-container-id-4 pre {\n",
       "  padding: 0;\n",
       "}\n",
       "\n",
       "#sk-container-id-4 input.sk-hidden--visually {\n",
       "  border: 0;\n",
       "  clip: rect(1px 1px 1px 1px);\n",
       "  clip: rect(1px, 1px, 1px, 1px);\n",
       "  height: 1px;\n",
       "  margin: -1px;\n",
       "  overflow: hidden;\n",
       "  padding: 0;\n",
       "  position: absolute;\n",
       "  width: 1px;\n",
       "}\n",
       "\n",
       "#sk-container-id-4 div.sk-dashed-wrapped {\n",
       "  border: 1px dashed var(--sklearn-color-line);\n",
       "  margin: 0 0.4em 0.5em 0.4em;\n",
       "  box-sizing: border-box;\n",
       "  padding-bottom: 0.4em;\n",
       "  background-color: var(--sklearn-color-background);\n",
       "}\n",
       "\n",
       "#sk-container-id-4 div.sk-container {\n",
       "  /* jupyter's `normalize.less` sets `[hidden] { display: none; }`\n",
       "     but bootstrap.min.css set `[hidden] { display: none !important; }`\n",
       "     so we also need the `!important` here to be able to override the\n",
       "     default hidden behavior on the sphinx rendered scikit-learn.org.\n",
       "     See: https://github.com/scikit-learn/scikit-learn/issues/21755 */\n",
       "  display: inline-block !important;\n",
       "  position: relative;\n",
       "}\n",
       "\n",
       "#sk-container-id-4 div.sk-text-repr-fallback {\n",
       "  display: none;\n",
       "}\n",
       "\n",
       "div.sk-parallel-item,\n",
       "div.sk-serial,\n",
       "div.sk-item {\n",
       "  /* draw centered vertical line to link estimators */\n",
       "  background-image: linear-gradient(var(--sklearn-color-text-on-default-background), var(--sklearn-color-text-on-default-background));\n",
       "  background-size: 2px 100%;\n",
       "  background-repeat: no-repeat;\n",
       "  background-position: center center;\n",
       "}\n",
       "\n",
       "/* Parallel-specific style estimator block */\n",
       "\n",
       "#sk-container-id-4 div.sk-parallel-item::after {\n",
       "  content: \"\";\n",
       "  width: 100%;\n",
       "  border-bottom: 2px solid var(--sklearn-color-text-on-default-background);\n",
       "  flex-grow: 1;\n",
       "}\n",
       "\n",
       "#sk-container-id-4 div.sk-parallel {\n",
       "  display: flex;\n",
       "  align-items: stretch;\n",
       "  justify-content: center;\n",
       "  background-color: var(--sklearn-color-background);\n",
       "  position: relative;\n",
       "}\n",
       "\n",
       "#sk-container-id-4 div.sk-parallel-item {\n",
       "  display: flex;\n",
       "  flex-direction: column;\n",
       "}\n",
       "\n",
       "#sk-container-id-4 div.sk-parallel-item:first-child::after {\n",
       "  align-self: flex-end;\n",
       "  width: 50%;\n",
       "}\n",
       "\n",
       "#sk-container-id-4 div.sk-parallel-item:last-child::after {\n",
       "  align-self: flex-start;\n",
       "  width: 50%;\n",
       "}\n",
       "\n",
       "#sk-container-id-4 div.sk-parallel-item:only-child::after {\n",
       "  width: 0;\n",
       "}\n",
       "\n",
       "/* Serial-specific style estimator block */\n",
       "\n",
       "#sk-container-id-4 div.sk-serial {\n",
       "  display: flex;\n",
       "  flex-direction: column;\n",
       "  align-items: center;\n",
       "  background-color: var(--sklearn-color-background);\n",
       "  padding-right: 1em;\n",
       "  padding-left: 1em;\n",
       "}\n",
       "\n",
       "\n",
       "/* Toggleable style: style used for estimator/Pipeline/ColumnTransformer box that is\n",
       "clickable and can be expanded/collapsed.\n",
       "- Pipeline and ColumnTransformer use this feature and define the default style\n",
       "- Estimators will overwrite some part of the style using the `sk-estimator` class\n",
       "*/\n",
       "\n",
       "/* Pipeline and ColumnTransformer style (default) */\n",
       "\n",
       "#sk-container-id-4 div.sk-toggleable {\n",
       "  /* Default theme specific background. It is overwritten whether we have a\n",
       "  specific estimator or a Pipeline/ColumnTransformer */\n",
       "  background-color: var(--sklearn-color-background);\n",
       "}\n",
       "\n",
       "/* Toggleable label */\n",
       "#sk-container-id-4 label.sk-toggleable__label {\n",
       "  cursor: pointer;\n",
       "  display: block;\n",
       "  width: 100%;\n",
       "  margin-bottom: 0;\n",
       "  padding: 0.5em;\n",
       "  box-sizing: border-box;\n",
       "  text-align: center;\n",
       "}\n",
       "\n",
       "#sk-container-id-4 label.sk-toggleable__label-arrow:before {\n",
       "  /* Arrow on the left of the label */\n",
       "  content: \"▸\";\n",
       "  float: left;\n",
       "  margin-right: 0.25em;\n",
       "  color: var(--sklearn-color-icon);\n",
       "}\n",
       "\n",
       "#sk-container-id-4 label.sk-toggleable__label-arrow:hover:before {\n",
       "  color: var(--sklearn-color-text);\n",
       "}\n",
       "\n",
       "/* Toggleable content - dropdown */\n",
       "\n",
       "#sk-container-id-4 div.sk-toggleable__content {\n",
       "  max-height: 0;\n",
       "  max-width: 0;\n",
       "  overflow: hidden;\n",
       "  text-align: left;\n",
       "  /* unfitted */\n",
       "  background-color: var(--sklearn-color-unfitted-level-0);\n",
       "}\n",
       "\n",
       "#sk-container-id-4 div.sk-toggleable__content.fitted {\n",
       "  /* fitted */\n",
       "  background-color: var(--sklearn-color-fitted-level-0);\n",
       "}\n",
       "\n",
       "#sk-container-id-4 div.sk-toggleable__content pre {\n",
       "  margin: 0.2em;\n",
       "  border-radius: 0.25em;\n",
       "  color: var(--sklearn-color-text);\n",
       "  /* unfitted */\n",
       "  background-color: var(--sklearn-color-unfitted-level-0);\n",
       "}\n",
       "\n",
       "#sk-container-id-4 div.sk-toggleable__content.fitted pre {\n",
       "  /* unfitted */\n",
       "  background-color: var(--sklearn-color-fitted-level-0);\n",
       "}\n",
       "\n",
       "#sk-container-id-4 input.sk-toggleable__control:checked~div.sk-toggleable__content {\n",
       "  /* Expand drop-down */\n",
       "  max-height: 200px;\n",
       "  max-width: 100%;\n",
       "  overflow: auto;\n",
       "}\n",
       "\n",
       "#sk-container-id-4 input.sk-toggleable__control:checked~label.sk-toggleable__label-arrow:before {\n",
       "  content: \"▾\";\n",
       "}\n",
       "\n",
       "/* Pipeline/ColumnTransformer-specific style */\n",
       "\n",
       "#sk-container-id-4 div.sk-label input.sk-toggleable__control:checked~label.sk-toggleable__label {\n",
       "  color: var(--sklearn-color-text);\n",
       "  background-color: var(--sklearn-color-unfitted-level-2);\n",
       "}\n",
       "\n",
       "#sk-container-id-4 div.sk-label.fitted input.sk-toggleable__control:checked~label.sk-toggleable__label {\n",
       "  background-color: var(--sklearn-color-fitted-level-2);\n",
       "}\n",
       "\n",
       "/* Estimator-specific style */\n",
       "\n",
       "/* Colorize estimator box */\n",
       "#sk-container-id-4 div.sk-estimator input.sk-toggleable__control:checked~label.sk-toggleable__label {\n",
       "  /* unfitted */\n",
       "  background-color: var(--sklearn-color-unfitted-level-2);\n",
       "}\n",
       "\n",
       "#sk-container-id-4 div.sk-estimator.fitted input.sk-toggleable__control:checked~label.sk-toggleable__label {\n",
       "  /* fitted */\n",
       "  background-color: var(--sklearn-color-fitted-level-2);\n",
       "}\n",
       "\n",
       "#sk-container-id-4 div.sk-label label.sk-toggleable__label,\n",
       "#sk-container-id-4 div.sk-label label {\n",
       "  /* The background is the default theme color */\n",
       "  color: var(--sklearn-color-text-on-default-background);\n",
       "}\n",
       "\n",
       "/* On hover, darken the color of the background */\n",
       "#sk-container-id-4 div.sk-label:hover label.sk-toggleable__label {\n",
       "  color: var(--sklearn-color-text);\n",
       "  background-color: var(--sklearn-color-unfitted-level-2);\n",
       "}\n",
       "\n",
       "/* Label box, darken color on hover, fitted */\n",
       "#sk-container-id-4 div.sk-label.fitted:hover label.sk-toggleable__label.fitted {\n",
       "  color: var(--sklearn-color-text);\n",
       "  background-color: var(--sklearn-color-fitted-level-2);\n",
       "}\n",
       "\n",
       "/* Estimator label */\n",
       "\n",
       "#sk-container-id-4 div.sk-label label {\n",
       "  font-family: monospace;\n",
       "  font-weight: bold;\n",
       "  display: inline-block;\n",
       "  line-height: 1.2em;\n",
       "}\n",
       "\n",
       "#sk-container-id-4 div.sk-label-container {\n",
       "  text-align: center;\n",
       "}\n",
       "\n",
       "/* Estimator-specific */\n",
       "#sk-container-id-4 div.sk-estimator {\n",
       "  font-family: monospace;\n",
       "  border: 1px dotted var(--sklearn-color-border-box);\n",
       "  border-radius: 0.25em;\n",
       "  box-sizing: border-box;\n",
       "  margin-bottom: 0.5em;\n",
       "  /* unfitted */\n",
       "  background-color: var(--sklearn-color-unfitted-level-0);\n",
       "}\n",
       "\n",
       "#sk-container-id-4 div.sk-estimator.fitted {\n",
       "  /* fitted */\n",
       "  background-color: var(--sklearn-color-fitted-level-0);\n",
       "}\n",
       "\n",
       "/* on hover */\n",
       "#sk-container-id-4 div.sk-estimator:hover {\n",
       "  /* unfitted */\n",
       "  background-color: var(--sklearn-color-unfitted-level-2);\n",
       "}\n",
       "\n",
       "#sk-container-id-4 div.sk-estimator.fitted:hover {\n",
       "  /* fitted */\n",
       "  background-color: var(--sklearn-color-fitted-level-2);\n",
       "}\n",
       "\n",
       "/* Specification for estimator info (e.g. \"i\" and \"?\") */\n",
       "\n",
       "/* Common style for \"i\" and \"?\" */\n",
       "\n",
       ".sk-estimator-doc-link,\n",
       "a:link.sk-estimator-doc-link,\n",
       "a:visited.sk-estimator-doc-link {\n",
       "  float: right;\n",
       "  font-size: smaller;\n",
       "  line-height: 1em;\n",
       "  font-family: monospace;\n",
       "  background-color: var(--sklearn-color-background);\n",
       "  border-radius: 1em;\n",
       "  height: 1em;\n",
       "  width: 1em;\n",
       "  text-decoration: none !important;\n",
       "  margin-left: 1ex;\n",
       "  /* unfitted */\n",
       "  border: var(--sklearn-color-unfitted-level-1) 1pt solid;\n",
       "  color: var(--sklearn-color-unfitted-level-1);\n",
       "}\n",
       "\n",
       ".sk-estimator-doc-link.fitted,\n",
       "a:link.sk-estimator-doc-link.fitted,\n",
       "a:visited.sk-estimator-doc-link.fitted {\n",
       "  /* fitted */\n",
       "  border: var(--sklearn-color-fitted-level-1) 1pt solid;\n",
       "  color: var(--sklearn-color-fitted-level-1);\n",
       "}\n",
       "\n",
       "/* On hover */\n",
       "div.sk-estimator:hover .sk-estimator-doc-link:hover,\n",
       ".sk-estimator-doc-link:hover,\n",
       "div.sk-label-container:hover .sk-estimator-doc-link:hover,\n",
       ".sk-estimator-doc-link:hover {\n",
       "  /* unfitted */\n",
       "  background-color: var(--sklearn-color-unfitted-level-3);\n",
       "  color: var(--sklearn-color-background);\n",
       "  text-decoration: none;\n",
       "}\n",
       "\n",
       "div.sk-estimator.fitted:hover .sk-estimator-doc-link.fitted:hover,\n",
       ".sk-estimator-doc-link.fitted:hover,\n",
       "div.sk-label-container:hover .sk-estimator-doc-link.fitted:hover,\n",
       ".sk-estimator-doc-link.fitted:hover {\n",
       "  /* fitted */\n",
       "  background-color: var(--sklearn-color-fitted-level-3);\n",
       "  color: var(--sklearn-color-background);\n",
       "  text-decoration: none;\n",
       "}\n",
       "\n",
       "/* Span, style for the box shown on hovering the info icon */\n",
       ".sk-estimator-doc-link span {\n",
       "  display: none;\n",
       "  z-index: 9999;\n",
       "  position: relative;\n",
       "  font-weight: normal;\n",
       "  right: .2ex;\n",
       "  padding: .5ex;\n",
       "  margin: .5ex;\n",
       "  width: min-content;\n",
       "  min-width: 20ex;\n",
       "  max-width: 50ex;\n",
       "  color: var(--sklearn-color-text);\n",
       "  box-shadow: 2pt 2pt 4pt #999;\n",
       "  /* unfitted */\n",
       "  background: var(--sklearn-color-unfitted-level-0);\n",
       "  border: .5pt solid var(--sklearn-color-unfitted-level-3);\n",
       "}\n",
       "\n",
       ".sk-estimator-doc-link.fitted span {\n",
       "  /* fitted */\n",
       "  background: var(--sklearn-color-fitted-level-0);\n",
       "  border: var(--sklearn-color-fitted-level-3);\n",
       "}\n",
       "\n",
       ".sk-estimator-doc-link:hover span {\n",
       "  display: block;\n",
       "}\n",
       "\n",
       "/* \"?\"-specific style due to the `<a>` HTML tag */\n",
       "\n",
       "#sk-container-id-4 a.estimator_doc_link {\n",
       "  float: right;\n",
       "  font-size: 1rem;\n",
       "  line-height: 1em;\n",
       "  font-family: monospace;\n",
       "  background-color: var(--sklearn-color-background);\n",
       "  border-radius: 1rem;\n",
       "  height: 1rem;\n",
       "  width: 1rem;\n",
       "  text-decoration: none;\n",
       "  /* unfitted */\n",
       "  color: var(--sklearn-color-unfitted-level-1);\n",
       "  border: var(--sklearn-color-unfitted-level-1) 1pt solid;\n",
       "}\n",
       "\n",
       "#sk-container-id-4 a.estimator_doc_link.fitted {\n",
       "  /* fitted */\n",
       "  border: var(--sklearn-color-fitted-level-1) 1pt solid;\n",
       "  color: var(--sklearn-color-fitted-level-1);\n",
       "}\n",
       "\n",
       "/* On hover */\n",
       "#sk-container-id-4 a.estimator_doc_link:hover {\n",
       "  /* unfitted */\n",
       "  background-color: var(--sklearn-color-unfitted-level-3);\n",
       "  color: var(--sklearn-color-background);\n",
       "  text-decoration: none;\n",
       "}\n",
       "\n",
       "#sk-container-id-4 a.estimator_doc_link.fitted:hover {\n",
       "  /* fitted */\n",
       "  background-color: var(--sklearn-color-fitted-level-3);\n",
       "}\n",
       "</style><div id=\"sk-container-id-4\" class=\"sk-top-container\"><div class=\"sk-text-repr-fallback\"><pre>RandomForestClassifier(max_depth=17, max_features=10, min_samples_leaf=3,\n",
       "                       n_estimators=50, oob_score=True, random_state=42)</pre><b>In a Jupyter environment, please rerun this cell to show the HTML representation or trust the notebook. <br />On GitHub, the HTML representation is unable to render, please try loading this page with nbviewer.org.</b></div><div class=\"sk-container\" hidden><div class=\"sk-item\"><div class=\"sk-estimator fitted sk-toggleable\"><input class=\"sk-toggleable__control sk-hidden--visually\" id=\"sk-estimator-id-6\" type=\"checkbox\" checked><label for=\"sk-estimator-id-6\" class=\"sk-toggleable__label fitted sk-toggleable__label-arrow fitted\">&nbsp;&nbsp;RandomForestClassifier<a class=\"sk-estimator-doc-link fitted\" rel=\"noreferrer\" target=\"_blank\" href=\"https://scikit-learn.org/1.4/modules/generated/sklearn.ensemble.RandomForestClassifier.html\">?<span>Documentation for RandomForestClassifier</span></a><span class=\"sk-estimator-doc-link fitted\">i<span>Fitted</span></span></label><div class=\"sk-toggleable__content fitted\"><pre>RandomForestClassifier(max_depth=17, max_features=10, min_samples_leaf=3,\n",
       "                       n_estimators=50, oob_score=True, random_state=42)</pre></div> </div></div></div></div>"
      ],
      "text/plain": [
       "RandomForestClassifier(max_depth=17, max_features=10, min_samples_leaf=3,\n",
       "                       n_estimators=50, oob_score=True, random_state=42)"
      ]
     },
     "execution_count": 133,
     "metadata": {},
     "output_type": "execute_result"
    }
   ],
   "source": [
    "with open('webattack_detection_rf_model.pkl', 'rb') as f:\n",
    "    rfc = pickle.load(f)\n",
    "rfc"
   ]
  },
  {
   "cell_type": "markdown",
   "metadata": {
    "id": "znNcDQd-oh5G"
   },
   "source": [
    "Reopen the dataset."
   ]
  },
  {
   "cell_type": "code",
   "execution_count": 134,
   "metadata": {
    "colab": {
     "base_uri": "https://localhost:8080/",
     "height": 34
    },
    "id": "z_vhT5fcoguX",
    "outputId": "8ce12f85-6c36-4c07-f3af-e78affc90718"
   },
   "outputs": [
    {
     "name": "stdout",
     "output_type": "stream",
     "text": [
      "(7267, 10) (7267,)\n"
     ]
    }
   ],
   "source": [
    "df = pd.read_csv('web_attacks_balanced.csv')\n",
    "df['Label'] = df['Label'].apply(lambda x: 0 if x == 'BENIGN' else 1)\n",
    "y_test = df['Label'].values\n",
    "X_test = df[webattack_features]\n",
    "print(X_test.shape, y_test.shape)"
   ]
  },
  {
   "cell_type": "markdown",
   "metadata": {},
   "source": [
    "If necessary, we will work with our own dataset."
   ]
  },
  {
   "cell_type": "code",
   "execution_count": 135,
   "metadata": {},
   "outputs": [],
   "source": [
    "#df = pd.read_csv('mix_labelled.csv')\n",
    "#y_test = df['Label'].values\n",
    "#X_test = df[webattack_features]\n",
    "#print(X_test.shape, y_test.shape)"
   ]
  },
  {
   "cell_type": "code",
   "execution_count": 136,
   "metadata": {
    "colab": {
     "base_uri": "https://localhost:8080/",
     "height": 204
    },
    "id": "wmcv42wHoltz",
    "outputId": "fbbe0e7b-7a01-4b02-c7e3-498334b70a6e"
   },
   "outputs": [
    {
     "data": {
      "text/html": [
       "<div>\n",
       "<style scoped>\n",
       "    .dataframe tbody tr th:only-of-type {\n",
       "        vertical-align: middle;\n",
       "    }\n",
       "\n",
       "    .dataframe tbody tr th {\n",
       "        vertical-align: top;\n",
       "    }\n",
       "\n",
       "    .dataframe thead th {\n",
       "        text-align: right;\n",
       "    }\n",
       "</style>\n",
       "<table border=\"1\" class=\"dataframe\">\n",
       "  <thead>\n",
       "    <tr style=\"text-align: right;\">\n",
       "      <th></th>\n",
       "      <th>Average Packet Size</th>\n",
       "      <th>Flow Bytes/s</th>\n",
       "      <th>Max Packet Length</th>\n",
       "      <th>Fwd Packet Length Mean</th>\n",
       "      <th>Fwd IAT Min</th>\n",
       "      <th>Total Length of Fwd Packets</th>\n",
       "      <th>Flow IAT Mean</th>\n",
       "      <th>Fwd Packet Length Max</th>\n",
       "      <th>Fwd IAT Std</th>\n",
       "      <th>Fwd Header Length</th>\n",
       "    </tr>\n",
       "  </thead>\n",
       "  <tbody>\n",
       "    <tr>\n",
       "      <th>0</th>\n",
       "      <td>63.500000</td>\n",
       "      <td>1.361963e+06</td>\n",
       "      <td>79.0</td>\n",
       "      <td>32.000000</td>\n",
       "      <td>1.0</td>\n",
       "      <td>64.0</td>\n",
       "      <td>54.333333</td>\n",
       "      <td>32.0</td>\n",
       "      <td>0.000</td>\n",
       "      <td>64.0</td>\n",
       "    </tr>\n",
       "    <tr>\n",
       "      <th>1</th>\n",
       "      <td>221.500000</td>\n",
       "      <td>1.727494e+06</td>\n",
       "      <td>179.0</td>\n",
       "      <td>176.000000</td>\n",
       "      <td>49.0</td>\n",
       "      <td>352.0</td>\n",
       "      <td>137.000000</td>\n",
       "      <td>176.0</td>\n",
       "      <td>0.000</td>\n",
       "      <td>64.0</td>\n",
       "    </tr>\n",
       "    <tr>\n",
       "      <th>2</th>\n",
       "      <td>240.957983</td>\n",
       "      <td>2.462418e+02</td>\n",
       "      <td>3069.0</td>\n",
       "      <td>185.833333</td>\n",
       "      <td>1.0</td>\n",
       "      <td>13380.0</td>\n",
       "      <td>986834.771200</td>\n",
       "      <td>1313.0</td>\n",
       "      <td>7324638.435</td>\n",
       "      <td>2320.0</td>\n",
       "    </tr>\n",
       "    <tr>\n",
       "      <th>3</th>\n",
       "      <td>80.000000</td>\n",
       "      <td>1.408163e+06</td>\n",
       "      <td>94.0</td>\n",
       "      <td>44.000000</td>\n",
       "      <td>49.0</td>\n",
       "      <td>88.0</td>\n",
       "      <td>65.333333</td>\n",
       "      <td>44.0</td>\n",
       "      <td>0.000</td>\n",
       "      <td>64.0</td>\n",
       "    </tr>\n",
       "    <tr>\n",
       "      <th>4</th>\n",
       "      <td>30.000000</td>\n",
       "      <td>5.393258e+05</td>\n",
       "      <td>24.0</td>\n",
       "      <td>24.000000</td>\n",
       "      <td>1.0</td>\n",
       "      <td>48.0</td>\n",
       "      <td>59.333333</td>\n",
       "      <td>24.0</td>\n",
       "      <td>0.000</td>\n",
       "      <td>64.0</td>\n",
       "    </tr>\n",
       "  </tbody>\n",
       "</table>\n",
       "</div>"
      ],
      "text/plain": [
       "   Average Packet Size  Flow Bytes/s  Max Packet Length  \\\n",
       "0            63.500000  1.361963e+06               79.0   \n",
       "1           221.500000  1.727494e+06              179.0   \n",
       "2           240.957983  2.462418e+02             3069.0   \n",
       "3            80.000000  1.408163e+06               94.0   \n",
       "4            30.000000  5.393258e+05               24.0   \n",
       "\n",
       "   Fwd Packet Length Mean  Fwd IAT Min  Total Length of Fwd Packets  \\\n",
       "0               32.000000          1.0                         64.0   \n",
       "1              176.000000         49.0                        352.0   \n",
       "2              185.833333          1.0                      13380.0   \n",
       "3               44.000000         49.0                         88.0   \n",
       "4               24.000000          1.0                         48.0   \n",
       "\n",
       "   Flow IAT Mean  Fwd Packet Length Max  Fwd IAT Std  Fwd Header Length  \n",
       "0      54.333333                   32.0        0.000               64.0  \n",
       "1     137.000000                  176.0        0.000               64.0  \n",
       "2  986834.771200                 1313.0  7324638.435             2320.0  \n",
       "3      65.333333                   44.0        0.000               64.0  \n",
       "4      59.333333                   24.0        0.000               64.0  "
      ]
     },
     "execution_count": 136,
     "metadata": {},
     "output_type": "execute_result"
    }
   ],
   "source": [
    "X_test.head()"
   ]
  },
  {
   "cell_type": "code",
   "execution_count": 137,
   "metadata": {
    "colab": {
     "base_uri": "https://localhost:8080/",
     "height": 68
    },
    "id": "-lSUUhseopZz",
    "outputId": "ef9ad3e0-48ca-43b6-9e64-26e1b8add59a"
   },
   "outputs": [
    {
     "name": "stdout",
     "output_type": "stream",
     "text": [
      "Total operation time: 0.06659865379333496 seconds\n",
      "Benign records detected (0), attacks detected (1):\n"
     ]
    },
    {
     "data": {
      "text/plain": [
       "{0: 5091, 1: 2176}"
      ]
     },
     "execution_count": 137,
     "metadata": {},
     "output_type": "execute_result"
    }
   ],
   "source": [
    "import time\n",
    "seconds = time.time()\n",
    "y_pred = rfc.predict(X_test)\n",
    "print(\"Total operation time:\", time.time() - seconds, \"seconds\")\n",
    "\n",
    "print(\"Benign records detected (0), attacks detected (1):\")\n",
    "unique, counts = np.unique(y_pred, return_counts=True)\n",
    "dict(zip(unique, counts))"
   ]
  },
  {
   "cell_type": "markdown",
   "metadata": {
    "id": "J2czidjro0at"
   },
   "source": [
    "Confusion matrix:\n",
    "\n",
    "      0  1 - predicted value (Wikipedia uses different convention for axes)\n",
    "    0 TN FP\n",
    "    1 FN TP"
   ]
  },
  {
   "cell_type": "code",
   "execution_count": 138,
   "metadata": {
    "colab": {
     "base_uri": "https://localhost:8080/",
     "height": 51
    },
    "id": "-g03Us5potkl",
    "outputId": "502b9a3b-2cb4-4363-ad66-40f879b52186"
   },
   "outputs": [
    {
     "data": {
      "text/plain": [
       "array([[5033,   54],\n",
       "       [  58, 2122]], dtype=int64)"
      ]
     },
     "execution_count": 138,
     "metadata": {},
     "output_type": "execute_result"
    }
   ],
   "source": [
    "confusion_matrix(y_test, y_pred)"
   ]
  },
  {
   "cell_type": "code",
   "execution_count": 139,
   "metadata": {
    "colab": {
     "base_uri": "https://localhost:8080/",
     "height": 85
    },
    "id": "qBDPbUU_o6Pi",
    "outputId": "8ad0fd77-427b-472c-daae-cda92b67ffc2"
   },
   "outputs": [
    {
     "name": "stdout",
     "output_type": "stream",
     "text": [
      "Accuracy = 0.9845878629420669\n",
      "Precision = 0.9751838235294118\n",
      "Recall = 0.9733944954128441\n",
      "F1 = 0.9742883379247016\n"
     ]
    }
   ],
   "source": [
    "accuracy = metrics.accuracy_score(y_test, y_pred)\n",
    "precision = metrics.precision_score(y_test, y_pred)\n",
    "recall = metrics.recall_score(y_test, y_pred)\n",
    "f1 = metrics.f1_score(y_test, y_pred)\n",
    "print('Accuracy =', accuracy)\n",
    "print('Precision =', precision)\n",
    "print('Recall =', recall)\n",
    "print('F1 =', f1)"
   ]
  },
  {
   "cell_type": "markdown",
   "metadata": {
    "id": "u4OU8WyZpJdD"
   },
   "source": [
    "Manual calculation of the confusion matrix:\n",
    "    \n",
    "    array([[5075,   12],\n",
    "           [   1, 2179]], dtype=int64)\n",
    "  \n",
    "      0  1 - predicted value (Wikipedia uses different convention for axes)\n",
    "    0 TN FP\n",
    "    1 FN TP\n",
    "\n",
    "    Точность\n",
    "    Precision = TP / (TP + FP) = 2179 / (2179 + 12) = 0.9945230488361478\n",
    "\n",
    "    Полнота\n",
    "    Recall = TP / (TP + FN) = 2179 / (2179 + 1) = 0.9995412844036697\n",
    "\n",
    "    F-мера, параметр = 1, гармоническое среднее точности и полноты, множитель = 2\n",
    "    F1 = 2 * (precision * recall) / (precision + recall) = 0.9970258522077328\n",
    "\n",
    "    Доля правильных ответов\n",
    "    Accuracy = TP + TN / (TP + TN + FP + FN) = (2179 + 5075) / 7267 = 0.998211091234347"
   ]
  },
  {
   "cell_type": "code",
   "execution_count": 140,
   "metadata": {
    "id": "RyyORmRrpDTz"
   },
   "outputs": [],
   "source": [
    "predict = pd.DataFrame({'Predict': rfc.predict(X_test)})\n",
    "label = pd.DataFrame({'Label': y_test})\n",
    "result = X_test.join(label).join(predict)"
   ]
  },
  {
   "cell_type": "code",
   "execution_count": 141,
   "metadata": {
    "colab": {
     "base_uri": "https://localhost:8080/",
     "height": 419
    },
    "id": "Vgpf2SVmpnyp",
    "outputId": "ea5e58a0-f808-45ee-ecdc-4f3e0327cf57"
   },
   "outputs": [
    {
     "data": {
      "text/html": [
       "<div>\n",
       "<style scoped>\n",
       "    .dataframe tbody tr th:only-of-type {\n",
       "        vertical-align: middle;\n",
       "    }\n",
       "\n",
       "    .dataframe tbody tr th {\n",
       "        vertical-align: top;\n",
       "    }\n",
       "\n",
       "    .dataframe thead th {\n",
       "        text-align: right;\n",
       "    }\n",
       "</style>\n",
       "<table border=\"1\" class=\"dataframe\">\n",
       "  <thead>\n",
       "    <tr style=\"text-align: right;\">\n",
       "      <th></th>\n",
       "      <th>Average Packet Size</th>\n",
       "      <th>Flow Bytes/s</th>\n",
       "      <th>Max Packet Length</th>\n",
       "      <th>Fwd Packet Length Mean</th>\n",
       "      <th>Fwd IAT Min</th>\n",
       "      <th>Total Length of Fwd Packets</th>\n",
       "      <th>Flow IAT Mean</th>\n",
       "      <th>Fwd Packet Length Max</th>\n",
       "      <th>Fwd IAT Std</th>\n",
       "      <th>Fwd Header Length</th>\n",
       "      <th>Label</th>\n",
       "      <th>Predict</th>\n",
       "    </tr>\n",
       "  </thead>\n",
       "  <tbody>\n",
       "    <tr>\n",
       "      <th>345</th>\n",
       "      <td>0.000000</td>\n",
       "      <td>0.000000</td>\n",
       "      <td>0.0</td>\n",
       "      <td>0.000000</td>\n",
       "      <td>365.0</td>\n",
       "      <td>0.0</td>\n",
       "      <td>365.0000</td>\n",
       "      <td>0.0</td>\n",
       "      <td>0.000</td>\n",
       "      <td>64.0</td>\n",
       "      <td>0</td>\n",
       "      <td>1</td>\n",
       "    </tr>\n",
       "    <tr>\n",
       "      <th>435</th>\n",
       "      <td>0.000000</td>\n",
       "      <td>0.000000</td>\n",
       "      <td>0.0</td>\n",
       "      <td>0.000000</td>\n",
       "      <td>0.0</td>\n",
       "      <td>0.0</td>\n",
       "      <td>81.0000</td>\n",
       "      <td>0.0</td>\n",
       "      <td>0.000</td>\n",
       "      <td>32.0</td>\n",
       "      <td>1</td>\n",
       "      <td>1</td>\n",
       "    </tr>\n",
       "    <tr>\n",
       "      <th>438</th>\n",
       "      <td>0.000000</td>\n",
       "      <td>0.000000</td>\n",
       "      <td>0.0</td>\n",
       "      <td>0.000000</td>\n",
       "      <td>0.0</td>\n",
       "      <td>0.0</td>\n",
       "      <td>84.0000</td>\n",
       "      <td>0.0</td>\n",
       "      <td>0.000</td>\n",
       "      <td>32.0</td>\n",
       "      <td>0</td>\n",
       "      <td>1</td>\n",
       "    </tr>\n",
       "    <tr>\n",
       "      <th>503</th>\n",
       "      <td>0.000000</td>\n",
       "      <td>0.000000</td>\n",
       "      <td>0.0</td>\n",
       "      <td>0.000000</td>\n",
       "      <td>0.0</td>\n",
       "      <td>0.0</td>\n",
       "      <td>21.0000</td>\n",
       "      <td>0.0</td>\n",
       "      <td>0.000</td>\n",
       "      <td>32.0</td>\n",
       "      <td>0</td>\n",
       "      <td>1</td>\n",
       "    </tr>\n",
       "    <tr>\n",
       "      <th>545</th>\n",
       "      <td>549.319149</td>\n",
       "      <td>1206.155288</td>\n",
       "      <td>2896.0</td>\n",
       "      <td>211.678571</td>\n",
       "      <td>705.0</td>\n",
       "      <td>5927.0</td>\n",
       "      <td>465330.5217</td>\n",
       "      <td>561.0</td>\n",
       "      <td>1474704.318</td>\n",
       "      <td>904.0</td>\n",
       "      <td>1</td>\n",
       "      <td>1</td>\n",
       "    </tr>\n",
       "    <tr>\n",
       "      <th>...</th>\n",
       "      <td>...</td>\n",
       "      <td>...</td>\n",
       "      <td>...</td>\n",
       "      <td>...</td>\n",
       "      <td>...</td>\n",
       "      <td>...</td>\n",
       "      <td>...</td>\n",
       "      <td>...</td>\n",
       "      <td>...</td>\n",
       "      <td>...</td>\n",
       "      <td>...</td>\n",
       "      <td>...</td>\n",
       "    </tr>\n",
       "    <tr>\n",
       "      <th>6919</th>\n",
       "      <td>0.000000</td>\n",
       "      <td>0.000000</td>\n",
       "      <td>0.0</td>\n",
       "      <td>0.000000</td>\n",
       "      <td>0.0</td>\n",
       "      <td>0.0</td>\n",
       "      <td>88.0000</td>\n",
       "      <td>0.0</td>\n",
       "      <td>0.000</td>\n",
       "      <td>32.0</td>\n",
       "      <td>0</td>\n",
       "      <td>1</td>\n",
       "    </tr>\n",
       "    <tr>\n",
       "      <th>6955</th>\n",
       "      <td>0.000000</td>\n",
       "      <td>0.000000</td>\n",
       "      <td>0.0</td>\n",
       "      <td>0.000000</td>\n",
       "      <td>0.0</td>\n",
       "      <td>0.0</td>\n",
       "      <td>67.0000</td>\n",
       "      <td>0.0</td>\n",
       "      <td>0.000</td>\n",
       "      <td>32.0</td>\n",
       "      <td>0</td>\n",
       "      <td>1</td>\n",
       "    </tr>\n",
       "    <tr>\n",
       "      <th>7171</th>\n",
       "      <td>0.000000</td>\n",
       "      <td>0.000000</td>\n",
       "      <td>0.0</td>\n",
       "      <td>0.000000</td>\n",
       "      <td>0.0</td>\n",
       "      <td>0.0</td>\n",
       "      <td>99.0000</td>\n",
       "      <td>0.0</td>\n",
       "      <td>0.000</td>\n",
       "      <td>32.0</td>\n",
       "      <td>0</td>\n",
       "      <td>1</td>\n",
       "    </tr>\n",
       "    <tr>\n",
       "      <th>7178</th>\n",
       "      <td>0.000000</td>\n",
       "      <td>0.000000</td>\n",
       "      <td>0.0</td>\n",
       "      <td>0.000000</td>\n",
       "      <td>283.0</td>\n",
       "      <td>0.0</td>\n",
       "      <td>283.0000</td>\n",
       "      <td>0.0</td>\n",
       "      <td>0.000</td>\n",
       "      <td>64.0</td>\n",
       "      <td>0</td>\n",
       "      <td>1</td>\n",
       "    </tr>\n",
       "    <tr>\n",
       "      <th>7249</th>\n",
       "      <td>0.000000</td>\n",
       "      <td>0.000000</td>\n",
       "      <td>0.0</td>\n",
       "      <td>0.000000</td>\n",
       "      <td>0.0</td>\n",
       "      <td>0.0</td>\n",
       "      <td>93.0000</td>\n",
       "      <td>0.0</td>\n",
       "      <td>0.000</td>\n",
       "      <td>32.0</td>\n",
       "      <td>0</td>\n",
       "      <td>1</td>\n",
       "    </tr>\n",
       "  </tbody>\n",
       "</table>\n",
       "<p>2176 rows × 12 columns</p>\n",
       "</div>"
      ],
      "text/plain": [
       "      Average Packet Size  Flow Bytes/s  Max Packet Length  \\\n",
       "345              0.000000      0.000000                0.0   \n",
       "435              0.000000      0.000000                0.0   \n",
       "438              0.000000      0.000000                0.0   \n",
       "503              0.000000      0.000000                0.0   \n",
       "545            549.319149   1206.155288             2896.0   \n",
       "...                   ...           ...                ...   \n",
       "6919             0.000000      0.000000                0.0   \n",
       "6955             0.000000      0.000000                0.0   \n",
       "7171             0.000000      0.000000                0.0   \n",
       "7178             0.000000      0.000000                0.0   \n",
       "7249             0.000000      0.000000                0.0   \n",
       "\n",
       "      Fwd Packet Length Mean  Fwd IAT Min  Total Length of Fwd Packets  \\\n",
       "345                 0.000000        365.0                          0.0   \n",
       "435                 0.000000          0.0                          0.0   \n",
       "438                 0.000000          0.0                          0.0   \n",
       "503                 0.000000          0.0                          0.0   \n",
       "545               211.678571        705.0                       5927.0   \n",
       "...                      ...          ...                          ...   \n",
       "6919                0.000000          0.0                          0.0   \n",
       "6955                0.000000          0.0                          0.0   \n",
       "7171                0.000000          0.0                          0.0   \n",
       "7178                0.000000        283.0                          0.0   \n",
       "7249                0.000000          0.0                          0.0   \n",
       "\n",
       "      Flow IAT Mean  Fwd Packet Length Max  Fwd IAT Std  Fwd Header Length  \\\n",
       "345        365.0000                    0.0        0.000               64.0   \n",
       "435         81.0000                    0.0        0.000               32.0   \n",
       "438         84.0000                    0.0        0.000               32.0   \n",
       "503         21.0000                    0.0        0.000               32.0   \n",
       "545     465330.5217                  561.0  1474704.318              904.0   \n",
       "...             ...                    ...          ...                ...   \n",
       "6919        88.0000                    0.0        0.000               32.0   \n",
       "6955        67.0000                    0.0        0.000               32.0   \n",
       "7171        99.0000                    0.0        0.000               32.0   \n",
       "7178       283.0000                    0.0        0.000               64.0   \n",
       "7249        93.0000                    0.0        0.000               32.0   \n",
       "\n",
       "      Label  Predict  \n",
       "345       0        1  \n",
       "435       1        1  \n",
       "438       0        1  \n",
       "503       0        1  \n",
       "545       1        1  \n",
       "...     ...      ...  \n",
       "6919      0        1  \n",
       "6955      0        1  \n",
       "7171      0        1  \n",
       "7178      0        1  \n",
       "7249      0        1  \n",
       "\n",
       "[2176 rows x 12 columns]"
      ]
     },
     "execution_count": 141,
     "metadata": {},
     "output_type": "execute_result"
    }
   ],
   "source": [
    "result[result['Predict'] == 1]"
   ]
  },
  {
   "cell_type": "code",
   "execution_count": 142,
   "metadata": {
    "colab": {
     "base_uri": "https://localhost:8080/",
     "height": 669
    },
    "id": "yD7m3P1lppwu",
    "outputId": "d02e0f4d-e60a-4fc0-d583-f6c709777a3e"
   },
   "outputs": [
    {
     "data": {
      "text/html": [
       "<div>\n",
       "<style scoped>\n",
       "    .dataframe tbody tr th:only-of-type {\n",
       "        vertical-align: middle;\n",
       "    }\n",
       "\n",
       "    .dataframe tbody tr th {\n",
       "        vertical-align: top;\n",
       "    }\n",
       "\n",
       "    .dataframe thead th {\n",
       "        text-align: right;\n",
       "    }\n",
       "</style>\n",
       "<table border=\"1\" class=\"dataframe\">\n",
       "  <thead>\n",
       "    <tr style=\"text-align: right;\">\n",
       "      <th></th>\n",
       "      <th>Average Packet Size</th>\n",
       "      <th>Flow Bytes/s</th>\n",
       "      <th>Max Packet Length</th>\n",
       "      <th>Fwd Packet Length Mean</th>\n",
       "      <th>Fwd IAT Min</th>\n",
       "      <th>Total Length of Fwd Packets</th>\n",
       "      <th>Flow IAT Mean</th>\n",
       "      <th>Fwd Packet Length Max</th>\n",
       "      <th>Fwd IAT Std</th>\n",
       "      <th>Fwd Header Length</th>\n",
       "      <th>Label</th>\n",
       "      <th>Predict</th>\n",
       "    </tr>\n",
       "  </thead>\n",
       "  <tbody>\n",
       "    <tr>\n",
       "      <th>410</th>\n",
       "      <td>9.000000</td>\n",
       "      <td>1.690141e+05</td>\n",
       "      <td>6.0</td>\n",
       "      <td>6.000000</td>\n",
       "      <td>71.0</td>\n",
       "      <td>12.0</td>\n",
       "      <td>7.100000e+01</td>\n",
       "      <td>6.0</td>\n",
       "      <td>0.000000e+00</td>\n",
       "      <td>40.0</td>\n",
       "      <td>0</td>\n",
       "      <td>0</td>\n",
       "    </tr>\n",
       "    <tr>\n",
       "      <th>411</th>\n",
       "      <td>550.757576</td>\n",
       "      <td>1.316797e+04</td>\n",
       "      <td>1460.0</td>\n",
       "      <td>66.000000</td>\n",
       "      <td>107.0</td>\n",
       "      <td>792.0</td>\n",
       "      <td>4.313259e+04</td>\n",
       "      <td>405.0</td>\n",
       "      <td>3.554310e+04</td>\n",
       "      <td>252.0</td>\n",
       "      <td>0</td>\n",
       "      <td>0</td>\n",
       "    </tr>\n",
       "    <tr>\n",
       "      <th>412</th>\n",
       "      <td>110.500000</td>\n",
       "      <td>5.341055e+03</td>\n",
       "      <td>111.0</td>\n",
       "      <td>55.000000</td>\n",
       "      <td>0.0</td>\n",
       "      <td>55.0</td>\n",
       "      <td>3.108000e+04</td>\n",
       "      <td>55.0</td>\n",
       "      <td>0.000000e+00</td>\n",
       "      <td>20.0</td>\n",
       "      <td>0</td>\n",
       "      <td>0</td>\n",
       "    </tr>\n",
       "    <tr>\n",
       "      <th>413</th>\n",
       "      <td>86.250000</td>\n",
       "      <td>3.472222e+05</td>\n",
       "      <td>105.0</td>\n",
       "      <td>45.000000</td>\n",
       "      <td>4.0</td>\n",
       "      <td>90.0</td>\n",
       "      <td>2.880000e+02</td>\n",
       "      <td>45.0</td>\n",
       "      <td>0.000000e+00</td>\n",
       "      <td>40.0</td>\n",
       "      <td>0</td>\n",
       "      <td>0</td>\n",
       "    </tr>\n",
       "    <tr>\n",
       "      <th>414</th>\n",
       "      <td>81.750000</td>\n",
       "      <td>1.510638e+06</td>\n",
       "      <td>99.0</td>\n",
       "      <td>43.000000</td>\n",
       "      <td>48.0</td>\n",
       "      <td>86.0</td>\n",
       "      <td>6.266667e+01</td>\n",
       "      <td>43.0</td>\n",
       "      <td>0.000000e+00</td>\n",
       "      <td>64.0</td>\n",
       "      <td>0</td>\n",
       "      <td>0</td>\n",
       "    </tr>\n",
       "    <tr>\n",
       "      <th>415</th>\n",
       "      <td>247.863636</td>\n",
       "      <td>1.144437e+04</td>\n",
       "      <td>1430.0</td>\n",
       "      <td>75.230769</td>\n",
       "      <td>2.0</td>\n",
       "      <td>978.0</td>\n",
       "      <td>2.268948e+04</td>\n",
       "      <td>386.0</td>\n",
       "      <td>8.375482e+04</td>\n",
       "      <td>272.0</td>\n",
       "      <td>0</td>\n",
       "      <td>0</td>\n",
       "    </tr>\n",
       "    <tr>\n",
       "      <th>416</th>\n",
       "      <td>15.250000</td>\n",
       "      <td>2.180982e+03</td>\n",
       "      <td>37.0</td>\n",
       "      <td>16.333333</td>\n",
       "      <td>192.0</td>\n",
       "      <td>49.0</td>\n",
       "      <td>8.406000e+03</td>\n",
       "      <td>37.0</td>\n",
       "      <td>6.385174e+02</td>\n",
       "      <td>60.0</td>\n",
       "      <td>0</td>\n",
       "      <td>0</td>\n",
       "    </tr>\n",
       "    <tr>\n",
       "      <th>417</th>\n",
       "      <td>16.333333</td>\n",
       "      <td>2.377004e+04</td>\n",
       "      <td>31.0</td>\n",
       "      <td>14.333333</td>\n",
       "      <td>4.0</td>\n",
       "      <td>43.0</td>\n",
       "      <td>9.045000e+02</td>\n",
       "      <td>31.0</td>\n",
       "      <td>1.273499e+03</td>\n",
       "      <td>60.0</td>\n",
       "      <td>0</td>\n",
       "      <td>0</td>\n",
       "    </tr>\n",
       "    <tr>\n",
       "      <th>418</th>\n",
       "      <td>95.750000</td>\n",
       "      <td>4.127360e+00</td>\n",
       "      <td>114.0</td>\n",
       "      <td>54.000000</td>\n",
       "      <td>80700000.0</td>\n",
       "      <td>108.0</td>\n",
       "      <td>2.690000e+07</td>\n",
       "      <td>58.0</td>\n",
       "      <td>0.000000e+00</td>\n",
       "      <td>40.0</td>\n",
       "      <td>0</td>\n",
       "      <td>0</td>\n",
       "    </tr>\n",
       "    <tr>\n",
       "      <th>419</th>\n",
       "      <td>342.052632</td>\n",
       "      <td>6.322107e+04</td>\n",
       "      <td>1460.0</td>\n",
       "      <td>166.875000</td>\n",
       "      <td>3.0</td>\n",
       "      <td>1335.0</td>\n",
       "      <td>5.711000e+03</td>\n",
       "      <td>789.0</td>\n",
       "      <td>1.343151e+04</td>\n",
       "      <td>172.0</td>\n",
       "      <td>0</td>\n",
       "      <td>0</td>\n",
       "    </tr>\n",
       "    <tr>\n",
       "      <th>420</th>\n",
       "      <td>66.666667</td>\n",
       "      <td>1.163392e+04</td>\n",
       "      <td>100.0</td>\n",
       "      <td>40.000000</td>\n",
       "      <td>3.0</td>\n",
       "      <td>160.0</td>\n",
       "      <td>6.188800e+03</td>\n",
       "      <td>40.0</td>\n",
       "      <td>1.500735e+04</td>\n",
       "      <td>80.0</td>\n",
       "      <td>0</td>\n",
       "      <td>0</td>\n",
       "    </tr>\n",
       "    <tr>\n",
       "      <th>421</th>\n",
       "      <td>67.000000</td>\n",
       "      <td>4.978355e+05</td>\n",
       "      <td>77.0</td>\n",
       "      <td>38.000000</td>\n",
       "      <td>49.0</td>\n",
       "      <td>76.0</td>\n",
       "      <td>1.540000e+02</td>\n",
       "      <td>38.0</td>\n",
       "      <td>0.000000e+00</td>\n",
       "      <td>40.0</td>\n",
       "      <td>0</td>\n",
       "      <td>0</td>\n",
       "    </tr>\n",
       "    <tr>\n",
       "      <th>422</th>\n",
       "      <td>70.500000</td>\n",
       "      <td>1.213084e+04</td>\n",
       "      <td>109.0</td>\n",
       "      <td>41.000000</td>\n",
       "      <td>4.0</td>\n",
       "      <td>164.0</td>\n",
       "      <td>6.298000e+03</td>\n",
       "      <td>41.0</td>\n",
       "      <td>1.452326e+04</td>\n",
       "      <td>80.0</td>\n",
       "      <td>0</td>\n",
       "      <td>0</td>\n",
       "    </tr>\n",
       "    <tr>\n",
       "      <th>423</th>\n",
       "      <td>9.000000</td>\n",
       "      <td>2.352941e+05</td>\n",
       "      <td>6.0</td>\n",
       "      <td>6.000000</td>\n",
       "      <td>0.0</td>\n",
       "      <td>6.0</td>\n",
       "      <td>5.100000e+01</td>\n",
       "      <td>6.0</td>\n",
       "      <td>0.000000e+00</td>\n",
       "      <td>20.0</td>\n",
       "      <td>0</td>\n",
       "      <td>0</td>\n",
       "    </tr>\n",
       "    <tr>\n",
       "      <th>424</th>\n",
       "      <td>9.000000</td>\n",
       "      <td>7.257772e+02</td>\n",
       "      <td>6.0</td>\n",
       "      <td>6.000000</td>\n",
       "      <td>0.0</td>\n",
       "      <td>6.0</td>\n",
       "      <td>1.653400e+04</td>\n",
       "      <td>6.0</td>\n",
       "      <td>0.000000e+00</td>\n",
       "      <td>20.0</td>\n",
       "      <td>0</td>\n",
       "      <td>0</td>\n",
       "    </tr>\n",
       "    <tr>\n",
       "      <th>425</th>\n",
       "      <td>69.750000</td>\n",
       "      <td>7.752923e+03</td>\n",
       "      <td>87.0</td>\n",
       "      <td>35.000000</td>\n",
       "      <td>2.0</td>\n",
       "      <td>70.0</td>\n",
       "      <td>1.049067e+04</td>\n",
       "      <td>35.0</td>\n",
       "      <td>0.000000e+00</td>\n",
       "      <td>40.0</td>\n",
       "      <td>0</td>\n",
       "      <td>0</td>\n",
       "    </tr>\n",
       "    <tr>\n",
       "      <th>426</th>\n",
       "      <td>173.500000</td>\n",
       "      <td>4.175279e+02</td>\n",
       "      <td>261.0</td>\n",
       "      <td>43.000000</td>\n",
       "      <td>0.0</td>\n",
       "      <td>43.0</td>\n",
       "      <td>7.280950e+05</td>\n",
       "      <td>43.0</td>\n",
       "      <td>0.000000e+00</td>\n",
       "      <td>20.0</td>\n",
       "      <td>0</td>\n",
       "      <td>0</td>\n",
       "    </tr>\n",
       "    <tr>\n",
       "      <th>427</th>\n",
       "      <td>173.500000</td>\n",
       "      <td>4.136161e+02</td>\n",
       "      <td>261.0</td>\n",
       "      <td>43.000000</td>\n",
       "      <td>0.0</td>\n",
       "      <td>43.0</td>\n",
       "      <td>7.349810e+05</td>\n",
       "      <td>43.0</td>\n",
       "      <td>0.000000e+00</td>\n",
       "      <td>20.0</td>\n",
       "      <td>0</td>\n",
       "      <td>0</td>\n",
       "    </tr>\n",
       "    <tr>\n",
       "      <th>428</th>\n",
       "      <td>256.500000</td>\n",
       "      <td>3.716166e+02</td>\n",
       "      <td>1812.0</td>\n",
       "      <td>60.000000</td>\n",
       "      <td>152.0</td>\n",
       "      <td>240.0</td>\n",
       "      <td>7.888314e+05</td>\n",
       "      <td>240.0</td>\n",
       "      <td>1.450977e+05</td>\n",
       "      <td>136.0</td>\n",
       "      <td>0</td>\n",
       "      <td>0</td>\n",
       "    </tr>\n",
       "    <tr>\n",
       "      <th>429</th>\n",
       "      <td>291.692308</td>\n",
       "      <td>7.189214e+02</td>\n",
       "      <td>3344.0</td>\n",
       "      <td>48.125000</td>\n",
       "      <td>4.0</td>\n",
       "      <td>385.0</td>\n",
       "      <td>4.395473e+05</td>\n",
       "      <td>204.0</td>\n",
       "      <td>1.910625e+06</td>\n",
       "      <td>172.0</td>\n",
       "      <td>0</td>\n",
       "      <td>0</td>\n",
       "    </tr>\n",
       "  </tbody>\n",
       "</table>\n",
       "</div>"
      ],
      "text/plain": [
       "     Average Packet Size  Flow Bytes/s  Max Packet Length  \\\n",
       "410             9.000000  1.690141e+05                6.0   \n",
       "411           550.757576  1.316797e+04             1460.0   \n",
       "412           110.500000  5.341055e+03              111.0   \n",
       "413            86.250000  3.472222e+05              105.0   \n",
       "414            81.750000  1.510638e+06               99.0   \n",
       "415           247.863636  1.144437e+04             1430.0   \n",
       "416            15.250000  2.180982e+03               37.0   \n",
       "417            16.333333  2.377004e+04               31.0   \n",
       "418            95.750000  4.127360e+00              114.0   \n",
       "419           342.052632  6.322107e+04             1460.0   \n",
       "420            66.666667  1.163392e+04              100.0   \n",
       "421            67.000000  4.978355e+05               77.0   \n",
       "422            70.500000  1.213084e+04              109.0   \n",
       "423             9.000000  2.352941e+05                6.0   \n",
       "424             9.000000  7.257772e+02                6.0   \n",
       "425            69.750000  7.752923e+03               87.0   \n",
       "426           173.500000  4.175279e+02              261.0   \n",
       "427           173.500000  4.136161e+02              261.0   \n",
       "428           256.500000  3.716166e+02             1812.0   \n",
       "429           291.692308  7.189214e+02             3344.0   \n",
       "\n",
       "     Fwd Packet Length Mean  Fwd IAT Min  Total Length of Fwd Packets  \\\n",
       "410                6.000000         71.0                         12.0   \n",
       "411               66.000000        107.0                        792.0   \n",
       "412               55.000000          0.0                         55.0   \n",
       "413               45.000000          4.0                         90.0   \n",
       "414               43.000000         48.0                         86.0   \n",
       "415               75.230769          2.0                        978.0   \n",
       "416               16.333333        192.0                         49.0   \n",
       "417               14.333333          4.0                         43.0   \n",
       "418               54.000000   80700000.0                        108.0   \n",
       "419              166.875000          3.0                       1335.0   \n",
       "420               40.000000          3.0                        160.0   \n",
       "421               38.000000         49.0                         76.0   \n",
       "422               41.000000          4.0                        164.0   \n",
       "423                6.000000          0.0                          6.0   \n",
       "424                6.000000          0.0                          6.0   \n",
       "425               35.000000          2.0                         70.0   \n",
       "426               43.000000          0.0                         43.0   \n",
       "427               43.000000          0.0                         43.0   \n",
       "428               60.000000        152.0                        240.0   \n",
       "429               48.125000          4.0                        385.0   \n",
       "\n",
       "     Flow IAT Mean  Fwd Packet Length Max   Fwd IAT Std  Fwd Header Length  \\\n",
       "410   7.100000e+01                    6.0  0.000000e+00               40.0   \n",
       "411   4.313259e+04                  405.0  3.554310e+04              252.0   \n",
       "412   3.108000e+04                   55.0  0.000000e+00               20.0   \n",
       "413   2.880000e+02                   45.0  0.000000e+00               40.0   \n",
       "414   6.266667e+01                   43.0  0.000000e+00               64.0   \n",
       "415   2.268948e+04                  386.0  8.375482e+04              272.0   \n",
       "416   8.406000e+03                   37.0  6.385174e+02               60.0   \n",
       "417   9.045000e+02                   31.0  1.273499e+03               60.0   \n",
       "418   2.690000e+07                   58.0  0.000000e+00               40.0   \n",
       "419   5.711000e+03                  789.0  1.343151e+04              172.0   \n",
       "420   6.188800e+03                   40.0  1.500735e+04               80.0   \n",
       "421   1.540000e+02                   38.0  0.000000e+00               40.0   \n",
       "422   6.298000e+03                   41.0  1.452326e+04               80.0   \n",
       "423   5.100000e+01                    6.0  0.000000e+00               20.0   \n",
       "424   1.653400e+04                    6.0  0.000000e+00               20.0   \n",
       "425   1.049067e+04                   35.0  0.000000e+00               40.0   \n",
       "426   7.280950e+05                   43.0  0.000000e+00               20.0   \n",
       "427   7.349810e+05                   43.0  0.000000e+00               20.0   \n",
       "428   7.888314e+05                  240.0  1.450977e+05              136.0   \n",
       "429   4.395473e+05                  204.0  1.910625e+06              172.0   \n",
       "\n",
       "     Label  Predict  \n",
       "410      0        0  \n",
       "411      0        0  \n",
       "412      0        0  \n",
       "413      0        0  \n",
       "414      0        0  \n",
       "415      0        0  \n",
       "416      0        0  \n",
       "417      0        0  \n",
       "418      0        0  \n",
       "419      0        0  \n",
       "420      0        0  \n",
       "421      0        0  \n",
       "422      0        0  \n",
       "423      0        0  \n",
       "424      0        0  \n",
       "425      0        0  \n",
       "426      0        0  \n",
       "427      0        0  \n",
       "428      0        0  \n",
       "429      0        0  "
      ]
     },
     "execution_count": 142,
     "metadata": {},
     "output_type": "execute_result"
    }
   ],
   "source": [
    "result[410:430]"
   ]
  },
  {
   "cell_type": "code",
   "execution_count": null,
   "metadata": {},
   "outputs": [],
   "source": []
  }
 ],
 "metadata": {
  "colab": {
   "collapsed_sections": [
    "SCEkDfpOFPQX",
    "3P69z9kfupES",
    "eLikdx9Legm0",
    "eh-k8KdMhJ_Q",
    "Iiskwr3VmoL5",
    "5PElFLh5oYzU",
    "pnHSPBrDodIs"
   ],
   "name": "Web Attack Detection (ML IDS)",
   "provenance": []
  },
  "kernelspec": {
   "display_name": "Python 3",
   "language": "python",
   "name": "python3"
  },
  "language_info": {
   "codemirror_mode": {
    "name": "ipython",
    "version": 3
   },
   "file_extension": ".py",
   "mimetype": "text/x-python",
   "name": "python",
   "nbconvert_exporter": "python",
   "pygments_lexer": "ipython3",
   "version": "3.10.7"
  }
 },
 "nbformat": 4,
 "nbformat_minor": 1
}
